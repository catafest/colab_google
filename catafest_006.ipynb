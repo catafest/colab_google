{
  "nbformat": 4,
  "nbformat_minor": 0,
  "metadata": {
    "colab": {
      "name": "catafest_006.ipynb",
      "provenance": [],
      "collapsed_sections": [],
      "authorship_tag": "ABX9TyO5a35s7w136jRWWNO/PNn0",
      "include_colab_link": true
    },
    "kernelspec": {
      "name": "python3",
      "display_name": "Python 3"
    }
  },
  "cells": [
    {
      "cell_type": "markdown",
      "metadata": {
        "id": "view-in-github",
        "colab_type": "text"
      },
      "source": [
        "<a href=\"https://colab.research.google.com/github/catafest/colab_google/blob/master/catafest_006.ipynb\" target=\"_parent\"><img src=\"https://colab.research.google.com/assets/colab-badge.svg\" alt=\"Open In Colab\"/></a>"
      ]
    },
    {
      "cell_type": "markdown",
      "metadata": {
        "id": "9slTruD8EnOT",
        "colab_type": "text"
      },
      "source": [
        "Today I tested google colab python features with google authentification and google.colab drive and files\n"
      ]
    },
    {
      "cell_type": "code",
      "metadata": {
        "id": "lNbnn137E_SU",
        "colab_type": "code",
        "colab": {}
      },
      "source": [
        "\n",
        "from pydrive.auth import GoogleAuth\n",
        "from pydrive.drive import GoogleDrive\n",
        "from google.colab import auth\n",
        "from oauth2client.client import GoogleCredentials\n",
        "\n",
        "# authenticate and create the PyDrive client.\n",
        "auth.authenticate_user()\n",
        "gauth = GoogleAuth()\n",
        "gauth.credentials = GoogleCredentials.get_application_default()\n",
        "drive = GoogleDrive(gauth)\n",
        "print(dir(gauth))\n",
        "\n",
        "# you should see a screen with \"Google Cloud SDK wants to access your Google Account\"\n",
        "# you allow permission, copy the given verification code and paste it in the box in Colab."
      ],
      "execution_count": null,
      "outputs": []
    },
    {
      "cell_type": "markdown",
      "metadata": {
        "id": "hjMlbcPET01H",
        "colab_type": "text"
      },
      "source": [
        "use files\n",
        "get all information about files with extensions .txt\n"
      ]
    },
    {
      "cell_type": "code",
      "metadata": {
        "id": "s313go6KT9m0",
        "colab_type": "code",
        "colab": {}
      },
      "source": [
        "from google.colab import files\n",
        "print(dir(files))\n",
        "\n",
        "listed = drive.ListFile({'q': \"title contains '.txt' and 'root' in parents\"}).GetList()\n",
        "print(listed)"
      ],
      "execution_count": null,
      "outputs": []
    },
    {
      "cell_type": "markdown",
      "metadata": {
        "id": "1ZsX_z5-T_IU",
        "colab_type": "text"
      },
      "source": [
        "list all files from drive"
      ]
    },
    {
      "cell_type": "code",
      "metadata": {
        "id": "cjF64hyKUECU",
        "colab_type": "code",
        "colab": {}
      },
      "source": [
        "file_list = drive.ListFile({'q': \"'root' in parents and trashed=false\"}).GetList()\n",
        "for file1 in file_list:\n",
        "  print('title: %s, id: %s' % (file1['title'], file1['id']))"
      ],
      "execution_count": null,
      "outputs": []
    },
    {
      "cell_type": "markdown",
      "metadata": {
        "id": "ROY1cUaKUFwj",
        "colab_type": "text"
      },
      "source": [
        "find a file named *calling_conventions.pdf*"
      ]
    },
    {
      "cell_type": "code",
      "metadata": {
        "id": "oLzDMV9jUGVb",
        "colab_type": "code",
        "colab": {}
      },
      "source": [
        "file_list = drive.ListFile({'q': \"name='calling_conventions.pdf' and trashed=false\"}).GetList()\n",
        "for file in file_list:\n",
        "  print('%s' % (file['id']))"
      ],
      "execution_count": null,
      "outputs": []
    },
    {
      "cell_type": "markdown",
      "metadata": {
        "id": "ykuhngK0UKxU",
        "colab_type": "text"
      },
      "source": [
        "upload a file"
      ]
    },
    {
      "cell_type": "code",
      "metadata": {
        "id": "cvjfrj8AULHa",
        "colab_type": "code",
        "colab": {}
      },
      "source": [
        "uploaded = files.upload()\n",
        "# print the upload proces of filename and size\n",
        "for my_file in uploaded.keys():\n",
        "  print('User uploaded file \"{name}\" with length {length} bytes'.format(\n",
        "      name=my_file, length=len(uploaded[my_file])))"
      ],
      "execution_count": null,
      "outputs": []
    },
    {
      "cell_type": "markdown",
      "metadata": {
        "id": "Yr96LkrWUpfb",
        "colab_type": "text"
      },
      "source": [
        "mount local drive"
      ]
    },
    {
      "cell_type": "code",
      "metadata": {
        "id": "2Q48yms5Ua1U",
        "colab_type": "code",
        "colab": {}
      },
      "source": [
        "# same step with use mount drive verification code\n",
        "#Enter your authorization code:\n",
        "#··········\n",
        "#Mounted at /content/drive\n",
        "\n",
        "from google.colab import drive\n",
        "print(dir(drive))\n",
        "drive.mount('/content/drive')\n",
        "# list all files using ls command\n",
        "#!ls \"/content/drive/My Drive\""
      ],
      "execution_count": null,
      "outputs": []
    },
    {
      "cell_type": "markdown",
      "metadata": {
        "id": "Rk-Uws72UbtD",
        "colab_type": "text"
      },
      "source": [
        "flush and unmount drive"
      ]
    },
    {
      "cell_type": "code",
      "metadata": {
        "id": "UaXH3kR4UcHL",
        "colab_type": "code",
        "colab": {}
      },
      "source": [
        "drive.flush_and_unmount()"
      ],
      "execution_count": null,
      "outputs": []
    }
  ]
}