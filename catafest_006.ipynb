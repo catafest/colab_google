{
  "nbformat": 4,
  "nbformat_minor": 0,
  "metadata": {
    "colab": {
      "name": "catafest_006.ipynb",
      "provenance": [],
      "collapsed_sections": [],
      "authorship_tag": "ABX9TyO5a35s7w136jRWWNO/PNn0",
      "include_colab_link": true
    },
    "kernelspec": {
      "name": "python3",
      "display_name": "Python 3"
    }
  },
  "cells": [
    {
      "cell_type": "markdown",
      "metadata": {
        "id": "view-in-github",
        "colab_type": "text"
      },
      "source": [
        "<a href=\"https://colab.research.google.com/github/catafest/colab_google/blob/master/catafest_006.ipynb\" target=\"_parent\"><img src=\"https://colab.research.google.com/assets/colab-badge.svg\" alt=\"Open In Colab\"/></a>"
      ]
    },
    {
      "cell_type": "markdown",
      "metadata": {
        "id": "9slTruD8EnOT",
        "colab_type": "text"
      },
      "source": [
        "Today I tested google colab python features with google authentification and google.colab drive and files\n"
      ]
    },
    {
      "cell_type": "code",
      "metadata": {
        "id": "lNbnn137E_SU",
        "colab_type": "code",
        "colab": {
          "base_uri": "https://localhost:8080/",
          "height": 166
        },
        "outputId": "b094950f-dbf7-42cc-b2bd-6de18b8c1c5a"
      },
      "source": [
        "\n",
        "from pydrive.auth import GoogleAuth\n",
        "from pydrive.drive import GoogleDrive\n",
        "from google.colab import auth\n",
        "from oauth2client.client import GoogleCredentials\n",
        "\n",
        "# authenticate and create the PyDrive client.\n",
        "auth.authenticate_user()\n",
        "gauth = GoogleAuth()\n",
        "gauth.credentials = GoogleCredentials.get_application_default()\n",
        "drive = GoogleDrive(gauth)\n",
        "print(dir(gauth))\n",
        "\n",
        "# you should see a screen with \"Google Cloud SDK wants to access your Google Account\"\n",
        "# you allow permission, copy the given verification code and paste it in the box in Colab."
      ],
      "execution_count": null,
      "outputs": [
        {
          "output_type": "stream",
          "text": [
            "['Auth', 'Authenticate', 'Authorize', 'CLIENT_CONFIGS_LIST', 'CommandLineAuth', 'DEFAULT_SETTINGS', 'GetAuthUrl', 'GetFlow', 'Get_Http_Object', 'LoadClientConfig', 'LoadClientConfigFile', 'LoadClientConfigSettings', 'LoadCredentials', 'LoadCredentialsFile', 'LoadServiceConfigSettings', 'LocalWebserverAuth', 'Refresh', 'SERVICE_CONFIGS_LIST', 'SaveCredentials', 'SaveCredentialsFile', 'ServiceAuth', '__class__', '__delattr__', '__dict__', '__dir__', '__doc__', '__eq__', '__format__', '__ge__', '__getattribute__', '__gt__', '__hash__', '__init__', '__init_subclass__', '__le__', '__lt__', '__module__', '__ne__', '__new__', '__reduce__', '__reduce_ex__', '__repr__', '__setattr__', '__sizeof__', '__str__', '__subclasshook__', '__weakref__', 'access_token_expired', 'attr', 'auth_method', 'client_config', 'credentials', 'dirty', 'flow', 'http', 'http_timeout', 'service', 'settings']\n",
            "['_', '_FileHandler', '_IPython', '_SimpleHTTPServer', '_V6Server', '__all__', '__builtins__', '__cached__', '__doc__', '__file__', '__loader__', '__name__', '__package__', '__spec__', '_base64', '_collections', '_download_with_comms', '_get_unique_filename', '_json', '_os', '_output', '_portpicker', '_six', '_socket', '_socketserver', '_threading', '_urllib', '_use_chunked_download', '_uuid', 'download', 'upload']\n",
            "[GoogleDriveFile({'kind': 'drive#file', 'id': '1AtHREoQvifoyeW_N0igTve290QJRhKwZ', 'etag': '\"MTU2MjY5NzI0ODI0OQ\"', 'selfLink': 'https://www.googleapis.com/drive/v2/files/1AtHREoQvifoyeW_N0igTve290QJRhKwZ', 'webContentLink': 'https://drive.google.com/uc?id=1AtHREoQvifoyeW_N0igTve290QJRhKwZ&export=download', 'alternateLink': 'https://drive.google.com/file/d/1AtHREoQvifoyeW_N0igTve290QJRhKwZ/view?usp=drivesdk', 'embedLink': 'https://drive.google.com/file/d/1AtHREoQvifoyeW_N0igTve290QJRhKwZ/preview?usp=drivesdk', 'iconLink': 'https://drive-thirdparty.googleusercontent.com/16/type/text/plain', 'thumbnailLink': 'https://lh3.googleusercontent.com/SHufLftpIGqd6I_R5ZNpOR8udK5eE1YBVDulM8rySBQEo5elJ1uqUa6Q3xiZNYW-B_bpDC7h4cM=s220', 'title': 'python373_install_wagtail.txt', 'mimeType': 'text/plain', 'labels': {'starred': False, 'hidden': False, 'trashed': False, 'restricted': False, 'viewed': True}, 'copyRequiresWriterPermission': False, 'createdDate': '2019-07-09T18:34:08.249Z', 'modifiedDate': '2019-07-09T18:34:08.249Z', 'modifiedByMeDate': '2019-07-09T18:34:08.249Z', 'lastViewedByMeDate': '2019-07-09T18:34:08.249Z', 'markedViewedByMeDate': '1970-01-01T00:00:00.000Z', 'version': '3', 'parents': [{'kind': 'drive#parentReference', 'id': '0AEMyL4Ggi-m0Uk9PVA', 'selfLink': 'https://www.googleapis.com/drive/v2/files/1AtHREoQvifoyeW_N0igTve290QJRhKwZ/parents/0AEMyL4Ggi-m0Uk9PVA', 'parentLink': 'https://www.googleapis.com/drive/v2/files/0AEMyL4Ggi-m0Uk9PVA', 'isRoot': True}], 'downloadUrl': 'https://www.googleapis.com/drive/v2/files/1AtHREoQvifoyeW_N0igTve290QJRhKwZ?alt=media&source=downloadUrl', 'userPermission': {'kind': 'drive#permission', 'etag': '\"dIy6iAKIHsSdrtwu_IPfHVVEAb8\"', 'id': 'me', 'selfLink': 'https://www.googleapis.com/drive/v2/files/1AtHREoQvifoyeW_N0igTve290QJRhKwZ/permissions/me', 'role': 'owner', 'type': 'user'}, 'originalFilename': 'python373_install_wagtail.txt', 'fileExtension': 'txt', 'md5Checksum': '808e5c40c1d6070aee646307c0235722', 'fileSize': '1999', 'quotaBytesUsed': '1999', 'ownerNames': ['Cătălin George Feștilă'], 'owners': [{'kind': 'drive#user', 'displayName': 'Cătălin George Feștilă', 'picture': {'url': 'https://lh3.googleusercontent.com/a-/AOh14GiuGn9Ot3lu2eer3fgMptdm9gOUsS5thd45UEbHQXc=s64'}, 'isAuthenticatedUser': True, 'permissionId': '12318427189329053691', 'emailAddress': 'catalinfest@gmail.com'}], 'lastModifyingUserName': 'Cătălin George Feștilă', 'lastModifyingUser': {'kind': 'drive#user', 'displayName': 'Cătălin George Feștilă', 'picture': {'url': 'https://lh3.googleusercontent.com/a-/AOh14GiuGn9Ot3lu2eer3fgMptdm9gOUsS5thd45UEbHQXc=s64'}, 'isAuthenticatedUser': True, 'permissionId': '12318427189329053691', 'emailAddress': 'catalinfest@gmail.com'}, 'capabilities': {'canCopy': True, 'canEdit': True}, 'editable': True, 'copyable': True, 'writersCanShare': True, 'shared': False, 'explicitlyTrashed': False, 'appDataContents': False, 'headRevisionId': '0B0MyL4Ggi-m0YzJ2VEl2Sk9kallXTWRaR3pjVUh3UHQ0WTlVPQ', 'spaces': ['drive']}), GoogleDriveFile({'kind': 'drive#file', 'id': '1yjW-g808yUNRZgRwv4ayOvx4y2VDbghg', 'etag': '\"MTU2MjY2MjE2NjMzNg\"', 'selfLink': 'https://www.googleapis.com/drive/v2/files/1yjW-g808yUNRZgRwv4ayOvx4y2VDbghg', 'webContentLink': 'https://drive.google.com/uc?id=1yjW-g808yUNRZgRwv4ayOvx4y2VDbghg&export=download', 'alternateLink': 'https://drive.google.com/file/d/1yjW-g808yUNRZgRwv4ayOvx4y2VDbghg/view?usp=drivesdk', 'embedLink': 'https://drive.google.com/file/d/1yjW-g808yUNRZgRwv4ayOvx4y2VDbghg/preview?usp=drivesdk', 'iconLink': 'https://drive-thirdparty.googleusercontent.com/16/type/text/plain', 'thumbnailLink': 'https://lh3.googleusercontent.com/BzvEt0rv06X6DcxEFoH9BKMCgVUzeRNQowfyASH4FtO4pspU6LvwIinMr6ogfAFJGk-ZyfDbydM=s220', 'title': 'django_tut.txt', 'mimeType': 'text/plain', 'labels': {'starred': False, 'hidden': False, 'trashed': False, 'restricted': False, 'viewed': True}, 'copyRequiresWriterPermission': False, 'createdDate': '2019-07-09T08:49:26.336Z', 'modifiedDate': '2019-07-09T08:49:26.336Z', 'modifiedByMeDate': '2019-07-09T08:49:26.336Z', 'lastViewedByMeDate': '2019-07-09T18:08:55.581Z', 'markedViewedByMeDate': '1970-01-01T00:00:00.000Z', 'version': '4', 'parents': [{'kind': 'drive#parentReference', 'id': '0AEMyL4Ggi-m0Uk9PVA', 'selfLink': 'https://www.googleapis.com/drive/v2/files/1yjW-g808yUNRZgRwv4ayOvx4y2VDbghg/parents/0AEMyL4Ggi-m0Uk9PVA', 'parentLink': 'https://www.googleapis.com/drive/v2/files/0AEMyL4Ggi-m0Uk9PVA', 'isRoot': True}], 'downloadUrl': 'https://www.googleapis.com/drive/v2/files/1yjW-g808yUNRZgRwv4ayOvx4y2VDbghg?alt=media&source=downloadUrl', 'userPermission': {'kind': 'drive#permission', 'etag': '\"UjFjQu3FGwK7z9WKHG70I6R6kDY\"', 'id': 'me', 'selfLink': 'https://www.googleapis.com/drive/v2/files/1yjW-g808yUNRZgRwv4ayOvx4y2VDbghg/permissions/me', 'role': 'owner', 'type': 'user'}, 'originalFilename': 'django_tut.txt', 'fileExtension': 'txt', 'md5Checksum': '779ec8b802da9dbc1684cb73a871cae6', 'fileSize': '2947', 'quotaBytesUsed': '2947', 'ownerNames': ['Cătălin George Feștilă'], 'owners': [{'kind': 'drive#user', 'displayName': 'Cătălin George Feștilă', 'picture': {'url': 'https://lh3.googleusercontent.com/a-/AOh14GiuGn9Ot3lu2eer3fgMptdm9gOUsS5thd45UEbHQXc=s64'}, 'isAuthenticatedUser': True, 'permissionId': '12318427189329053691', 'emailAddress': 'catalinfest@gmail.com'}], 'lastModifyingUserName': 'Cătălin George Feștilă', 'lastModifyingUser': {'kind': 'drive#user', 'displayName': 'Cătălin George Feștilă', 'picture': {'url': 'https://lh3.googleusercontent.com/a-/AOh14GiuGn9Ot3lu2eer3fgMptdm9gOUsS5thd45UEbHQXc=s64'}, 'isAuthenticatedUser': True, 'permissionId': '12318427189329053691', 'emailAddress': 'catalinfest@gmail.com'}, 'capabilities': {'canCopy': True, 'canEdit': True}, 'editable': True, 'copyable': True, 'writersCanShare': True, 'shared': False, 'explicitlyTrashed': False, 'appDataContents': False, 'headRevisionId': '0B0MyL4Ggi-m0czIybVkrSnJrUiszcXgyQ284WVFJQVM0NVZNPQ', 'spaces': ['drive']}), GoogleDriveFile({'kind': 'drive#file', 'id': '0B0MyL4Ggi-m0UDIyazNEaWpZYVU', 'etag': '\"MTM1ODcwOTI1ODQ2OA\"', 'selfLink': 'https://www.googleapis.com/drive/v2/files/0B0MyL4Ggi-m0UDIyazNEaWpZYVU', 'webContentLink': 'https://drive.google.com/uc?id=0B0MyL4Ggi-m0UDIyazNEaWpZYVU&export=download', 'alternateLink': 'https://drive.google.com/file/d/0B0MyL4Ggi-m0UDIyazNEaWpZYVU/view?usp=drivesdk', 'embedLink': 'https://drive.google.com/file/d/0B0MyL4Ggi-m0UDIyazNEaWpZYVU/preview?usp=drivesdk', 'iconLink': 'https://drive-thirdparty.googleusercontent.com/16/type/text/plain', 'thumbnailLink': 'https://lh3.googleusercontent.com/oGVa7B45MDNLrTKYWyrcNz-o2qOgNdWdZBjhjO_On-0G4KkEjHPuvgffHJeLSemPJijUWg=s220', 'title': 'tableta.txt', 'mimeType': 'text/plain', 'labels': {'starred': False, 'hidden': False, 'trashed': False, 'restricted': False, 'viewed': True}, 'copyRequiresWriterPermission': False, 'createdDate': '2013-01-20T19:14:18.468Z', 'modifiedDate': '2013-01-20T19:14:18.468Z', 'modifiedByMeDate': '2013-01-20T19:14:18.453Z', 'lastViewedByMeDate': '2018-01-18T21:24:32.468Z', 'markedViewedByMeDate': '1970-01-01T00:00:00.000Z', 'version': '67557', 'parents': [{'kind': 'drive#parentReference', 'id': '0AEMyL4Ggi-m0Uk9PVA', 'selfLink': 'https://www.googleapis.com/drive/v2/files/0B0MyL4Ggi-m0UDIyazNEaWpZYVU/parents/0AEMyL4Ggi-m0Uk9PVA', 'parentLink': 'https://www.googleapis.com/drive/v2/files/0AEMyL4Ggi-m0Uk9PVA', 'isRoot': True}], 'downloadUrl': 'https://www.googleapis.com/drive/v2/files/0B0MyL4Ggi-m0UDIyazNEaWpZYVU?alt=media&source=downloadUrl', 'userPermission': {'kind': 'drive#permission', 'etag': '\"iogm7ggrCUhJ8kUqVCwWQ-rOxeU\"', 'id': 'me', 'selfLink': 'https://www.googleapis.com/drive/v2/files/0B0MyL4Ggi-m0UDIyazNEaWpZYVU/permissions/me', 'role': 'owner', 'type': 'user'}, 'originalFilename': 'tableta.txt', 'fileExtension': 'txt', 'md5Checksum': '37a468016b136ba7e7caedf119b711fd', 'fileSize': '966', 'quotaBytesUsed': '966', 'ownerNames': ['Cătălin George Feștilă'], 'owners': [{'kind': 'drive#user', 'displayName': 'Cătălin George Feștilă', 'picture': {'url': 'https://lh3.googleusercontent.com/a-/AOh14GiuGn9Ot3lu2eer3fgMptdm9gOUsS5thd45UEbHQXc=s64'}, 'isAuthenticatedUser': True, 'permissionId': '12318427189329053691', 'emailAddress': 'catalinfest@gmail.com'}], 'lastModifyingUserName': 'Cătălin George Feștilă', 'lastModifyingUser': {'kind': 'drive#user', 'displayName': 'Cătălin George Feștilă', 'picture': {'url': 'https://lh3.googleusercontent.com/a-/AOh14GiuGn9Ot3lu2eer3fgMptdm9gOUsS5thd45UEbHQXc=s64'}, 'isAuthenticatedUser': True, 'permissionId': '12318427189329053691', 'emailAddress': 'catalinfest@gmail.com'}, 'capabilities': {'canCopy': True, 'canEdit': True}, 'editable': True, 'copyable': True, 'writersCanShare': True, 'shared': False, 'explicitlyTrashed': False, 'appDataContents': False, 'headRevisionId': '0B0MyL4Ggi-m0RFRTcGJGV0dpbUt3bEZQZ2ZwTVZGdlRVRXZJPQ', 'spaces': ['drive']}), GoogleDriveFile({'kind': 'drive#file', 'id': '0B0MyL4Ggi-m0c2puUFhsS0s4M0U', 'etag': '\"MTM1Nzk4ODk1OTE0OA\"', 'selfLink': 'https://www.googleapis.com/drive/v2/files/0B0MyL4Ggi-m0c2puUFhsS0s4M0U', 'webContentLink': 'https://drive.google.com/uc?id=0B0MyL4Ggi-m0c2puUFhsS0s4M0U&export=download', 'alternateLink': 'https://drive.google.com/file/d/0B0MyL4Ggi-m0c2puUFhsS0s4M0U/view?usp=drivesdk', 'embedLink': 'https://drive.google.com/file/d/0B0MyL4Ggi-m0c2puUFhsS0s4M0U/preview?usp=drivesdk', 'iconLink': 'https://drive-thirdparty.googleusercontent.com/16/type/text/plain', 'thumbnailLink': 'https://lh3.googleusercontent.com/WrZWFLec3cl8rVpHdJtSjYk71yvPjJxNQDkEtjqlgMZ7RsKxuQ2NmQT5pmH4BAhCXicCxg=s220', 'title': 'iptable-script.txt', 'mimeType': 'text/plain', 'labels': {'starred': False, 'hidden': False, 'trashed': False, 'restricted': False, 'viewed': False}, 'copyRequiresWriterPermission': False, 'createdDate': '2013-01-12T11:09:19.148Z', 'modifiedDate': '2013-01-12T11:09:19.148Z', 'modifiedByMeDate': '2013-01-12T11:09:19.124Z', 'markedViewedByMeDate': '1970-01-01T00:00:00.000Z', 'version': '16174', 'parents': [{'kind': 'drive#parentReference', 'id': '0AEMyL4Ggi-m0Uk9PVA', 'selfLink': 'https://www.googleapis.com/drive/v2/files/0B0MyL4Ggi-m0c2puUFhsS0s4M0U/parents/0AEMyL4Ggi-m0Uk9PVA', 'parentLink': 'https://www.googleapis.com/drive/v2/files/0AEMyL4Ggi-m0Uk9PVA', 'isRoot': True}], 'downloadUrl': 'https://www.googleapis.com/drive/v2/files/0B0MyL4Ggi-m0c2puUFhsS0s4M0U?alt=media&source=downloadUrl', 'userPermission': {'kind': 'drive#permission', 'etag': '\"gZSNNEZe0T4Dj3661FoYJVh7wAs\"', 'id': 'me', 'selfLink': 'https://www.googleapis.com/drive/v2/files/0B0MyL4Ggi-m0c2puUFhsS0s4M0U/permissions/me', 'role': 'owner', 'type': 'user'}, 'originalFilename': 'iptable-script.txt', 'fileExtension': 'txt', 'md5Checksum': 'dba0b572d14d0454038c2f96dc028794', 'fileSize': '16746', 'quotaBytesUsed': '16746', 'ownerNames': ['Cătălin George Feștilă'], 'owners': [{'kind': 'drive#user', 'displayName': 'Cătălin George Feștilă', 'picture': {'url': 'https://lh3.googleusercontent.com/a-/AOh14GiuGn9Ot3lu2eer3fgMptdm9gOUsS5thd45UEbHQXc=s64'}, 'isAuthenticatedUser': True, 'permissionId': '12318427189329053691', 'emailAddress': 'catalinfest@gmail.com'}], 'lastModifyingUserName': 'Cătălin George Feștilă', 'lastModifyingUser': {'kind': 'drive#user', 'displayName': 'Cătălin George Feștilă', 'picture': {'url': 'https://lh3.googleusercontent.com/a-/AOh14GiuGn9Ot3lu2eer3fgMptdm9gOUsS5thd45UEbHQXc=s64'}, 'isAuthenticatedUser': True, 'permissionId': '12318427189329053691', 'emailAddress': 'catalinfest@gmail.com'}, 'capabilities': {'canCopy': True, 'canEdit': True}, 'editable': True, 'copyable': True, 'writersCanShare': True, 'shared': False, 'explicitlyTrashed': False, 'appDataContents': False, 'headRevisionId': '0B0MyL4Ggi-m0bmZMUXpyOXRmS25kclVLc1ZWUWppbDB5RGNZPQ', 'spaces': ['drive']}), GoogleDriveFile({'kind': 'drive#file', 'id': '0B0MyL4Ggi-m0aGRGOVBQMUZXOFU', 'etag': '\"MTM0NjA5NjE2OTMzNQ\"', 'selfLink': 'https://www.googleapis.com/drive/v2/files/0B0MyL4Ggi-m0aGRGOVBQMUZXOFU', 'webContentLink': 'https://drive.google.com/uc?id=0B0MyL4Ggi-m0aGRGOVBQMUZXOFU&export=download', 'alternateLink': 'https://drive.google.com/file/d/0B0MyL4Ggi-m0aGRGOVBQMUZXOFU/view?usp=drivesdk', 'embedLink': 'https://drive.google.com/file/d/0B0MyL4Ggi-m0aGRGOVBQMUZXOFU/preview?usp=drivesdk', 'iconLink': 'https://drive-thirdparty.googleusercontent.com/16/type/text/plain', 'thumbnailLink': 'https://lh3.googleusercontent.com/txwrd7V5UqrTWOzoYIg6aJYRJc_4YJ43ZFVYdPW0ekDL62iMhSn6JP9dfRce-6rSOEqutA=s220', 'title': 'dum.txt', 'mimeType': 'text/plain', 'labels': {'starred': False, 'hidden': False, 'trashed': False, 'restricted': False, 'viewed': True}, 'copyRequiresWriterPermission': False, 'createdDate': '2012-08-27T19:36:09.335Z', 'modifiedDate': '2012-08-27T19:36:09.335Z', 'modifiedByMeDate': '2012-08-27T19:36:09.314Z', 'lastViewedByMeDate': '2013-01-20T19:31:09.030Z', 'markedViewedByMeDate': '2013-01-20T19:31:08.664Z', 'version': '16199', 'parents': [{'kind': 'drive#parentReference', 'id': '0AEMyL4Ggi-m0Uk9PVA', 'selfLink': 'https://www.googleapis.com/drive/v2/files/0B0MyL4Ggi-m0aGRGOVBQMUZXOFU/parents/0AEMyL4Ggi-m0Uk9PVA', 'parentLink': 'https://www.googleapis.com/drive/v2/files/0AEMyL4Ggi-m0Uk9PVA', 'isRoot': True}], 'downloadUrl': 'https://www.googleapis.com/drive/v2/files/0B0MyL4Ggi-m0aGRGOVBQMUZXOFU?alt=media&source=downloadUrl', 'userPermission': {'kind': 'drive#permission', 'etag': '\"0gLP7KAcM385CAPMBsxOnRvsZM8\"', 'id': 'me', 'selfLink': 'https://www.googleapis.com/drive/v2/files/0B0MyL4Ggi-m0aGRGOVBQMUZXOFU/permissions/me', 'role': 'owner', 'type': 'user'}, 'originalFilename': 'dum.txt', 'fileExtension': 'txt', 'md5Checksum': 'e547f2e23990f416f696b32f10888991', 'fileSize': '840', 'quotaBytesUsed': '840', 'ownerNames': ['Cătălin George Feștilă'], 'owners': [{'kind': 'drive#user', 'displayName': 'Cătălin George Feștilă', 'picture': {'url': 'https://lh3.googleusercontent.com/a-/AOh14GiuGn9Ot3lu2eer3fgMptdm9gOUsS5thd45UEbHQXc=s64'}, 'isAuthenticatedUser': True, 'permissionId': '12318427189329053691', 'emailAddress': 'catalinfest@gmail.com'}], 'lastModifyingUserName': 'Cătălin George Feștilă', 'lastModifyingUser': {'kind': 'drive#user', 'displayName': 'Cătălin George Feștilă', 'picture': {'url': 'https://lh3.googleusercontent.com/a-/AOh14GiuGn9Ot3lu2eer3fgMptdm9gOUsS5thd45UEbHQXc=s64'}, 'isAuthenticatedUser': True, 'permissionId': '12318427189329053691', 'emailAddress': 'catalinfest@gmail.com'}, 'capabilities': {'canCopy': True, 'canEdit': True}, 'editable': True, 'copyable': True, 'writersCanShare': True, 'shared': False, 'explicitlyTrashed': False, 'appDataContents': False, 'headRevisionId': '0B0MyL4Ggi-m0dG81VCtvd1QwRlQvL3V5cFA3OS9XcFBlNnZBPQ', 'spaces': ['drive']})]\n",
            "['_', '_Environment', '__all__', '__builtins__', '__cached__', '__doc__', '__file__', '__loader__', '__name__', '__package__', '__spec__', '_collections', '_env', '_getpass', '_logs_dir', '_os', '_popen_spawn', '_signal', '_socket', '_subprocess', '_sys', '_tempfile', '_timeouts_path', '_uuid', 'flush_and_unmount', 'mount']\n",
            "Mounted at /content/drive\n"
          ],
          "name": "stdout"
        },
        {
          "output_type": "execute_result",
          "data": {
            "application/vnd.google.colaboratory.intrinsic": {
              "type": "string"
            },
            "text/plain": [
              "'\\nuploaded = files.upload()\\n# print the upload proces of filename and size\\nfor my_file in uploaded.keys():\\n  print(\\'User uploaded file \"{name}\" with length {length} bytes\\'.format(\\n      name=my_file, length=len(uploaded[my_file])))\\n'"
            ]
          },
          "metadata": {
            "tags": []
          },
          "execution_count": 45
        }
      ]
    },
    {
      "cell_type": "markdown",
      "metadata": {
        "id": "hjMlbcPET01H",
        "colab_type": "text"
      },
      "source": [
        "use files\n",
        "get all information about files with extensions .txt\n"
      ]
    },
    {
      "cell_type": "code",
      "metadata": {
        "id": "s313go6KT9m0",
        "colab_type": "code",
        "colab": {}
      },
      "source": [
        "from google.colab import files\n",
        "print(dir(files))\n",
        "\n",
        "listed = drive.ListFile({'q': \"title contains '.txt' and 'root' in parents\"}).GetList()\n",
        "print(listed)"
      ],
      "execution_count": null,
      "outputs": []
    },
    {
      "cell_type": "markdown",
      "metadata": {
        "id": "1ZsX_z5-T_IU",
        "colab_type": "text"
      },
      "source": [
        "list all files from drive"
      ]
    },
    {
      "cell_type": "code",
      "metadata": {
        "id": "cjF64hyKUECU",
        "colab_type": "code",
        "colab": {}
      },
      "source": [
        "file_list = drive.ListFile({'q': \"'root' in parents and trashed=false\"}).GetList()\n",
        "for file1 in file_list:\n",
        "  print('title: %s, id: %s' % (file1['title'], file1['id']))"
      ],
      "execution_count": null,
      "outputs": []
    },
    {
      "cell_type": "markdown",
      "metadata": {
        "id": "ROY1cUaKUFwj",
        "colab_type": "text"
      },
      "source": [
        "find a file named *calling_conventions.pdf*"
      ]
    },
    {
      "cell_type": "code",
      "metadata": {
        "id": "oLzDMV9jUGVb",
        "colab_type": "code",
        "colab": {}
      },
      "source": [
        "file_list = drive.ListFile({'q': \"name='calling_conventions.pdf' and trashed=false\"}).GetList()\n",
        "for file in file_list:\n",
        "  print('%s' % (file['id']))"
      ],
      "execution_count": null,
      "outputs": []
    },
    {
      "cell_type": "markdown",
      "metadata": {
        "id": "ykuhngK0UKxU",
        "colab_type": "text"
      },
      "source": [
        "upload a file"
      ]
    },
    {
      "cell_type": "code",
      "metadata": {
        "id": "cvjfrj8AULHa",
        "colab_type": "code",
        "colab": {}
      },
      "source": [
        "uploaded = files.upload()\n",
        "# print the upload proces of filename and size\n",
        "for my_file in uploaded.keys():\n",
        "  print('User uploaded file \"{name}\" with length {length} bytes'.format(\n",
        "      name=my_file, length=len(uploaded[my_file])))"
      ],
      "execution_count": null,
      "outputs": []
    },
    {
      "cell_type": "markdown",
      "metadata": {
        "id": "Yr96LkrWUpfb",
        "colab_type": "text"
      },
      "source": [
        "mount local drive"
      ]
    },
    {
      "cell_type": "code",
      "metadata": {
        "id": "2Q48yms5Ua1U",
        "colab_type": "code",
        "colab": {}
      },
      "source": [
        "# same step with use mount drive verification code\n",
        "#Enter your authorization code:\n",
        "#··········\n",
        "#Mounted at /content/drive\n",
        "\n",
        "from google.colab import drive\n",
        "print(dir(drive))\n",
        "drive.mount('/content/drive')\n",
        "# list all files using ls command\n",
        "#!ls \"/content/drive/My Drive\""
      ],
      "execution_count": null,
      "outputs": []
    },
    {
      "cell_type": "markdown",
      "metadata": {
        "id": "Rk-Uws72UbtD",
        "colab_type": "text"
      },
      "source": [
        "flush and unmount drive"
      ]
    },
    {
      "cell_type": "code",
      "metadata": {
        "id": "UaXH3kR4UcHL",
        "colab_type": "code",
        "colab": {}
      },
      "source": [
        "drive.flush_and_unmount()"
      ],
      "execution_count": null,
      "outputs": []
    }
  ]
}