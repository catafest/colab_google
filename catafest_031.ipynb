{
  "nbformat": 4,
  "nbformat_minor": 0,
  "metadata": {
    "colab": {
      "name": "catafest_031.ipynb",
      "provenance": [],
      "collapsed_sections": [],
      "authorship_tag": "ABX9TyPA+O0ASC2PIr+ipiyoPLv+",
      "include_colab_link": true
    },
    "kernelspec": {
      "name": "python3",
      "display_name": "Python 3"
    },
    "language_info": {
      "name": "python"
    },
    "gpuClass": "standard"
  },
  "cells": [
    {
      "cell_type": "markdown",
      "metadata": {
        "id": "view-in-github",
        "colab_type": "text"
      },
      "source": [
        "<a href=\"https://colab.research.google.com/github/catafest/colab_google/blob/master/catafest_031.ipynb\" target=\"_parent\"><img src=\"https://colab.research.google.com/assets/colab-badge.svg\" alt=\"Open In Colab\"/></a>"
      ]
    },
    {
      "cell_type": "markdown",
      "source": [
        "These source code will install the python packages: [youtube_transcript_api](https://pypi.org/project/youtube-transcript-api/) and [googletrans](https://pypi.org/project/googletrans/)"
      ],
      "metadata": {
        "id": "OSI7TEfx6G6S"
      }
    },
    {
      "cell_type": "code",
      "execution_count": 29,
      "metadata": {
        "id": "avmc6-U02ETS"
      },
      "outputs": [],
      "source": [
        "try: import youtube_transcript_api\n",
        "except:\n",
        "    !pip install youtube_transcript_api"
      ]
    },
    {
      "cell_type": "markdown",
      "source": [
        ""
      ],
      "metadata": {
        "id": "umKcVL7Q6HnO"
      }
    },
    {
      "cell_type": "code",
      "source": [
        "try: import googletrans\n",
        "except:\n",
        "    !pip install googletrans==4.0.0-rc1"
      ],
      "metadata": {
        "id": "2TwRGkBk4fnz"
      },
      "execution_count": 30,
      "outputs": []
    },
    {
      "cell_type": "markdown",
      "source": [
        "Remove all result text file from the last running ..."
      ],
      "metadata": {
        "id": "ojneKFeW6jsA"
      }
    },
    {
      "cell_type": "code",
      "source": [
        "!rm *.txt"
      ],
      "metadata": {
        "id": "uoeJFAmP5irZ"
      },
      "execution_count": 31,
      "outputs": []
    },
    {
      "cell_type": "markdown",
      "source": [
        "Get the video Id from URL.\n",
        "\n",
        "Use this to get the subtitle in the english language.\n",
        "\n",
        "Create a filename subtitle_en.txt and add the subtitle."
      ],
      "metadata": {
        "id": "kzEvxTRf6IsX"
      }
    },
    {
      "cell_type": "code",
      "source": [
        "from youtube_transcript_api import YouTubeTranscriptApi\n",
        "#from googletrans import translator\n",
        "from google.colab import files\n",
        "#import time\n",
        "import sys\n",
        "from urllib.parse import urlparse, parse_qs\n",
        "# set the video youtube URL\n",
        "urltext ='https://www.youtube.com/watch?v=Uef2aOo4_gk' \n",
        "args = [urltext]\n",
        "video_id = ''\n",
        "\n",
        "def extract_video_id(url):\n",
        "    query = urlparse(url)\n",
        "    if query.hostname == 'youtu.be': return query.path[1:]\n",
        "    # set both host for the youtube website \n",
        "    if query.hostname in {'www.youtube.com', 'youtube.com'}:\n",
        "        if query.path == '/watch': return parse_qs(query.query)['v'][0]\n",
        "        if query.path[:7] == '/embed/': return query.path.split('/')[2]\n",
        "        if query.path[:3] == '/v/': return query.path.split('/')[2]\n",
        "    # if fail return None\n",
        "    return None\n",
        "\n",
        "for url in args:\n",
        "    video_id = (extract_video_id(url))\n",
        "    print('the youtube has video_Id:',video_id)\n",
        "\n",
        "## youtube video_id\n",
        "\n",
        "line =[]\n",
        "line[:] = YouTubeTranscriptApi.get_transcript(video_id,languages=['en']) ## if YouTube subtitle is English\n",
        "\n",
        "text_list = [] # subtitle text lines\n",
        "for l in line:\n",
        "    # parse and clean the subtitle by chop and cut the characters \n",
        "    l['text']=l['text'].strip() # chop empty charactor\n",
        "    l['text']=l['text'].rstrip('\\n') # chop charactor\n",
        "    l['text']=l['text'].rstrip('\\r') # chop charactor\n",
        "    l['text']=l['text'].replace('\\r','') # cut charactor \n",
        "    l['text']=l['text'].replace('\\n',' ') # cut charactor\n",
        "    text_list.append(l['text'])\n",
        "\n",
        "#Note: Don’t use del keywords to delete lines from a list and write the same list to file. \n",
        "#Because when you delete a line from the list, the item’s index gets changed. \n",
        "#So you will no longer be able to delete the correct line.\n",
        "# In this case works well\n",
        "del line\n",
        "\n",
        "# stdout backup\n",
        "original_stdout = sys.stdout \n",
        "\n",
        "# set the name of the filename \n",
        "filename = 'subtitle_en.txt' \n",
        "\n",
        "# print subtitle text to this file\n",
        "with open(filename, 'w') as f:\n",
        "    sys.stdout = f # stdout to file\n",
        "    print('youtube video_id:',video_id)\n",
        "    line = YouTubeTranscriptApi.list_transcripts(video_id)    \n",
        "    # select English subtitle for the video\n",
        "    transcript = line.find_transcript(['en']) \n",
        "\n",
        "    def line_edit2(textlines): ##2 lines to 1 line same as line_edit1(textlines)\n",
        "        text_compo = []\n",
        "        txt = ''\n",
        "        for count,l in enumerate(textlines):\n",
        "          if (count+1)%2 == 0:\n",
        "            txt = text_compo.pop()\n",
        "            txt += ' ' +l\n",
        "            text_compo.append(txt)\n",
        "          else :\n",
        "            txt = l\n",
        "            text_compo.append(txt)\n",
        "        return text_compo\n",
        "\n",
        "    def line_edit3(textlines): ##3 lines to 1 line\n",
        "        text_compo = []\n",
        "        txt = ''\n",
        "        i = 0\n",
        "        for count,l in enumerate(textlines):\n",
        "          if i == 0:\n",
        "            txt += l\n",
        "            i = i + 1\n",
        "            text_compo.append(txt)\n",
        "          elif i == 1:\n",
        "            txt = text_compo.pop()\n",
        "            txt += ' ' + l\n",
        "            i = i + 1\n",
        "            text_compo.append(txt)\n",
        "          elif i == 2:\n",
        "            txt = text_compo.pop()\n",
        "            txt += ' ' + l\n",
        "            text_compo.append(txt)\n",
        "            txt = ''\n",
        "            i = 0\n",
        "        return text_compo\n",
        "\n",
        "    def line_edit1(textlines): ##2 lines to 1 line\n",
        "        text_compo = []\n",
        "        i = 0\n",
        "        txt = ''\n",
        "        for count,l in enumerate(textlines):\n",
        "          if i == 0:\n",
        "            txt += l\n",
        "            i = i + 1\n",
        "            text_compo.append(txt)\n",
        "          elif i == 1:\n",
        "            txt += ' ' +l\n",
        "            text_compo.pop()\n",
        "            text_compo.append(txt)\n",
        "            i = 0\n",
        "            txt = ''\n",
        "        return text_compo\n",
        "\n",
        "    text_compo = (line_edit3(text_list))\n",
        "    text_compo[:] = (line_edit2(text_compo))\n",
        "    text_compo2 = (line_edit2(text_compo))\n",
        "    text_compo2[:] = (line_edit2(text_compo2))\n",
        "    for count, l in enumerate(text_compo2):\n",
        "        print(l)\n",
        "\n",
        "# stdout back        \n",
        "sys.stdout = original_stdout \n",
        "# if you want to download file\n",
        "#files.download(filename) "
      ],
      "metadata": {
        "colab": {
          "base_uri": "https://localhost:8080/"
        },
        "id": "MmtvK2zu2lge",
        "outputId": "503718ed-4559-4816-8b14-acb411f4a565"
      },
      "execution_count": 32,
      "outputs": [
        {
          "output_type": "stream",
          "name": "stdout",
          "text": [
            "the youtube has video_Id: Uef2aOo4_gk\n"
          ]
        }
      ]
    },
    {
      "cell_type": "code",
      "source": [
        "!ls\n",
        "!pip install --upgrade 'jedi<0.18.0'"
      ],
      "metadata": {
        "colab": {
          "base_uri": "https://localhost:8080/"
        },
        "id": "4xPy0xZU4L1E",
        "outputId": "a61cc012-f5d2-42c7-d972-9ecacecf893b"
      },
      "execution_count": 33,
      "outputs": [
        {
          "output_type": "stream",
          "name": "stdout",
          "text": [
            "sample_data  subtitle_en.txt\n",
            "Looking in indexes: https://pypi.org/simple, https://us-python.pkg.dev/colab-wheels/public/simple/\n",
            "Collecting jedi<0.18.0\n",
            "  Downloading jedi-0.17.2-py2.py3-none-any.whl (1.4 MB)\n",
            "\u001b[K     |████████████████████████████████| 1.4 MB 5.0 MB/s \n",
            "\u001b[?25hCollecting parso<0.8.0,>=0.7.0\n",
            "  Downloading parso-0.7.1-py2.py3-none-any.whl (109 kB)\n",
            "\u001b[K     |████████████████████████████████| 109 kB 41.5 MB/s \n",
            "\u001b[?25hInstalling collected packages: parso, jedi\n",
            "  Attempting uninstall: parso\n",
            "    Found existing installation: parso 0.8.3\n",
            "    Uninstalling parso-0.8.3:\n",
            "      Successfully uninstalled parso-0.8.3\n",
            "  Attempting uninstall: jedi\n",
            "    Found existing installation: jedi 0.18.1\n",
            "    Uninstalling jedi-0.18.1:\n",
            "      Successfully uninstalled jedi-0.18.1\n",
            "Successfully installed jedi-0.17.2 parso-0.7.1\n"
          ]
        }
      ]
    },
    {
      "cell_type": "code",
      "source": [
        "file_translate = open('subtitle_en.txt', \"r\")\n",
        "output_subtitle = file_translate.read()\n",
        "print(output_subtitle)"
      ],
      "metadata": {
        "colab": {
          "base_uri": "https://localhost:8080/"
        },
        "id": "7t9OcZX6Ahnl",
        "outputId": "874ace06-3610-41d7-81b8-4cbefdacea76"
      },
      "execution_count": 34,
      "outputs": [
        {
          "output_type": "stream",
          "name": "stdout",
          "text": [
            "youtube video_id: Uef2aOo4_gk\n",
            "HARLEY QUINN:  Hey, bozos! It's your favorite bat-swinging,  skull-crushing, fun-loving, Harley Quinn. Oh! Now I've got \"smashing\" blue balls. You think we're afraid of the Joker's girlfriend? QUINN: I'm currently living  my best life, but a ton has happened  to get here. So listen up, 'cause we've got a lot to cover. You don't ever break up with me! QUINN: Okay, so I broke up with Mr. J, and I decided to take over  Gotham with my own crew. (CACKLING) I am glad that someone finally stood up to that clown. Oh! Hey, Joker. I was just telling Harley how uncool she wa-- Duh-duh-duh Oh! Ah! Eeh! QUINN:  Lots of crazy stuff happened, like when we scored  our first gig. -It's even more restricted. -You're a psycho! QUINN: Got my own lair,  joined the Legion of Doom... I thought it was Legion of Dildo. QUINN: ...and almost destroyed  Gotham for fun. Oh, so many good times. Like this one, and this one.  Aww... and this one.\n",
            "Oh, shit! Goodbye, Harley Quinn. Oh... fuck. QUINN: And the best part is, I met the love of my life, Ivy. And like all good romances,  it was fucking messy. Ah, shit! Fuck! Oh, fuck. We cannot do this again. I'm marrying Kite Man. QUINN: I'm in love with you.  I wanna be with you. Aw! We're so perfect.  Anyway, you get the point. Now, where was I? Oh, yeah... Watch Harley Quinn, season three, comin' to HBO Max. Yeow!\n",
            "\n"
          ]
        }
      ]
    },
    {
      "cell_type": "code",
      "source": [
        "import googletrans\n",
        "from googletrans import Translator\n",
        "# create translator \n",
        "translator = Translator()\n",
        "print(googletrans.LANGUAGES)"
      ],
      "metadata": {
        "id": "E6BGlzu4Isc_",
        "colab": {
          "base_uri": "https://localhost:8080/"
        },
        "outputId": "862c5fbe-0795-4391-acc2-b86e63beca91"
      },
      "execution_count": 35,
      "outputs": [
        {
          "output_type": "stream",
          "name": "stdout",
          "text": [
            "{'af': 'afrikaans', 'sq': 'albanian', 'am': 'amharic', 'ar': 'arabic', 'hy': 'armenian', 'az': 'azerbaijani', 'eu': 'basque', 'be': 'belarusian', 'bn': 'bengali', 'bs': 'bosnian', 'bg': 'bulgarian', 'ca': 'catalan', 'ceb': 'cebuano', 'ny': 'chichewa', 'zh-cn': 'chinese (simplified)', 'zh-tw': 'chinese (traditional)', 'co': 'corsican', 'hr': 'croatian', 'cs': 'czech', 'da': 'danish', 'nl': 'dutch', 'en': 'english', 'eo': 'esperanto', 'et': 'estonian', 'tl': 'filipino', 'fi': 'finnish', 'fr': 'french', 'fy': 'frisian', 'gl': 'galician', 'ka': 'georgian', 'de': 'german', 'el': 'greek', 'gu': 'gujarati', 'ht': 'haitian creole', 'ha': 'hausa', 'haw': 'hawaiian', 'iw': 'hebrew', 'he': 'hebrew', 'hi': 'hindi', 'hmn': 'hmong', 'hu': 'hungarian', 'is': 'icelandic', 'ig': 'igbo', 'id': 'indonesian', 'ga': 'irish', 'it': 'italian', 'ja': 'japanese', 'jw': 'javanese', 'kn': 'kannada', 'kk': 'kazakh', 'km': 'khmer', 'ko': 'korean', 'ku': 'kurdish (kurmanji)', 'ky': 'kyrgyz', 'lo': 'lao', 'la': 'latin', 'lv': 'latvian', 'lt': 'lithuanian', 'lb': 'luxembourgish', 'mk': 'macedonian', 'mg': 'malagasy', 'ms': 'malay', 'ml': 'malayalam', 'mt': 'maltese', 'mi': 'maori', 'mr': 'marathi', 'mn': 'mongolian', 'my': 'myanmar (burmese)', 'ne': 'nepali', 'no': 'norwegian', 'or': 'odia', 'ps': 'pashto', 'fa': 'persian', 'pl': 'polish', 'pt': 'portuguese', 'pa': 'punjabi', 'ro': 'romanian', 'ru': 'russian', 'sm': 'samoan', 'gd': 'scots gaelic', 'sr': 'serbian', 'st': 'sesotho', 'sn': 'shona', 'sd': 'sindhi', 'si': 'sinhala', 'sk': 'slovak', 'sl': 'slovenian', 'so': 'somali', 'es': 'spanish', 'su': 'sundanese', 'sw': 'swahili', 'sv': 'swedish', 'tg': 'tajik', 'ta': 'tamil', 'te': 'telugu', 'th': 'thai', 'tr': 'turkish', 'uk': 'ukrainian', 'ur': 'urdu', 'ug': 'uyghur', 'uz': 'uzbek', 'vi': 'vietnamese', 'cy': 'welsh', 'xh': 'xhosa', 'yi': 'yiddish', 'yo': 'yoruba', 'zu': 'zulu'}\n"
          ]
        }
      ]
    },
    {
      "cell_type": "code",
      "source": [
        "#set translator for this part \n",
        "import googletrans\n",
        "from googletrans import Translator\n",
        "# create translator \n",
        "translator = Translator()\n",
        "#get the subtitle \n",
        "filename = 'subtitle_en.txt'\n",
        "with open(filename) as f: \n",
        "  # read all lines of text from subtitle\n",
        "  line = f.readlines() \n",
        "f.close()\n",
        "# parse these line of text \n",
        "line[:] = [l.strip() for l in line]\n",
        "line[:] = [l.rstrip('\\n') for l in line]\n",
        "line[:] = [a for a in line if a != '']\n",
        "line[:] = [l.replace('\\n',' ') for l in line]\n",
        "line[:] = [l.replace('\\r',' ') for l in line]\n",
        "\n",
        "#set a size for rows \n",
        "num = 20\n",
        "#set the filename \n",
        "filename = 'translated.txt'\n",
        "# translating area \n",
        "with open(filename,'w') as f:\n",
        "    for count, l in enumerate(line):\n",
        "        if count +1< num:\n",
        "            translated = translator.translate(l, dest='ro')\n",
        "            print(translated.text)\n",
        "        else:\n",
        "            translated = translator.translate(l, dest='fr')\n",
        "            print(translated.text)        \n",
        "            del translator\n",
        "            num = num + 20\n",
        "            translator = Translator()        \n",
        "    f.write(translated.text)\n",
        "del translator\n",
        "\n",
        "#files.download(filename) # translated.txt"
      ],
      "metadata": {
        "colab": {
          "base_uri": "https://localhost:8080/"
        },
        "id": "pbvkYirN4Re0",
        "outputId": "fe0ea126-63ca-429e-f2eb-d88b5cd7061c"
      },
      "execution_count": 36,
      "outputs": [
        {
          "output_type": "stream",
          "name": "stdout",
          "text": [
            "YouTube VIDEO_ID: UEF2AOO4_GK\n",
            "Harley Quinn: Hei, Bozos!Este o swinging-ul tău preferat, zdrobirea craniului, iubitor de distracție, Harley Quinn.Oh!Acum am „zdrobiți” bile albastre.Crezi că ne este frică de iubita Jokerului?Quinn: În prezent, trăiesc cea mai bună viață, dar s -a întâmplat o tonă aici.Așa că ascultați, pentru că avem multe de acoperit.Nu te despărți niciodată de mine!QUINN: Bine, așa că m -am despărțit de domnul J și am decis să preiau Gotham cu propriul meu echipaj.(Cackling) Mă bucur că cineva s -a ridicat în cele din urmă la acel clovn.Oh!Hei, Joker.Îi spuneam doar lui Harley cât de necompletat-duh-duh-duh oh!Ah!!QUINN: S -au întâmplat multe lucruri nebunești, ca atunci când am marcat primul nostru concert.-A este și mai restrânsă.-A ești un psiho!Quinn: Mi -am luat propria bârlog, s -a alăturat Legiunii Doomului ... Am crezut că este Legion of Dildo.Quinn: ... și aproape distrus Gotham pentru distracție.Oh, atât de multe momente bune.Ca acesta, și acesta.Aww ... și acesta.\n",
            "Oh, la naiba!La revedere, Harley Quinn.Oh ... dracu.Quinn: Și cea mai bună parte este că am întâlnit dragostea vieții mele, Ivy.Și ca toate romanțele bune, a fost dracului dezordonat.Ah, rahat!La dracu '!Oh, dracu.Nu putem face acest lucru din nou.Mă căsătoresc cu Kite Man.QUINN: Sunt îndrăgostit de tine.Vreau să fiu cu tine.Ada!Suntem atât de perfecți.Oricum, primești ideea.Acum, unde eram?Oh, da ... Urmărește -l pe Harley Quinn, sezonul trei, comin 'la HBO Max.Ura!\n"
          ]
        }
      ]
    },
    {
      "cell_type": "code",
      "source": [
        "!ls -l"
      ],
      "metadata": {
        "id": "ejy6PXX85Rpq",
        "colab": {
          "base_uri": "https://localhost:8080/"
        },
        "outputId": "1a0a4db8-e944-43f9-edec-817e397dcc07"
      },
      "execution_count": 37,
      "outputs": [
        {
          "output_type": "stream",
          "name": "stdout",
          "text": [
            "total 12\n",
            "drwxr-xr-x 1 root root 4096 Jul 13 13:43 sample_data\n",
            "-rw-r--r-- 1 root root 1380 Jul 19 20:59 subtitle_en.txt\n",
            "-rw-r--r-- 1 root root  490 Jul 19 20:59 translated.txt\n"
          ]
        }
      ]
    },
    {
      "cell_type": "code",
      "source": [
        "file_translate = open('translated.txt', \"r\")\n",
        "output_translated = file_translate.read()\n",
        "print(output_translated)"
      ],
      "metadata": {
        "id": "b2JJ_Y_U9Ker",
        "colab": {
          "base_uri": "https://localhost:8080/"
        },
        "outputId": "c34da239-357f-410f-88c7-73f47584bbda"
      },
      "execution_count": 38,
      "outputs": [
        {
          "output_type": "stream",
          "name": "stdout",
          "text": [
            "Oh, la naiba!La revedere, Harley Quinn.Oh ... dracu.Quinn: Și cea mai bună parte este că am întâlnit dragostea vieții mele, Ivy.Și ca toate romanțele bune, a fost dracului dezordonat.Ah, rahat!La dracu '!Oh, dracu.Nu putem face acest lucru din nou.Mă căsătoresc cu Kite Man.QUINN: Sunt îndrăgostit de tine.Vreau să fiu cu tine.Ada!Suntem atât de perfecți.Oricum, primești ideea.Acum, unde eram?Oh, da ... Urmărește -l pe Harley Quinn, sezonul trei, comin 'la HBO Max.Ura!\n"
          ]
        }
      ]
    }
  ]
}