{
  "nbformat": 4,
  "nbformat_minor": 0,
  "metadata": {
    "colab": {
      "name": "catafest_004.ipynb",
      "provenance": [],
      "collapsed_sections": [],
      "include_colab_link": true
    },
    "kernelspec": {
      "name": "python3",
      "display_name": "Python 3"
    }
  },
  "cells": [
    {
      "cell_type": "markdown",
      "metadata": {
        "id": "view-in-github",
        "colab_type": "text"
      },
      "source": [
        "<a href=\"https://colab.research.google.com/github/catafest/colab_google/blob/master/catafest_004.ipynb\" target=\"_parent\"><img src=\"https://colab.research.google.com/assets/colab-badge.svg\" alt=\"Open In Colab\"/></a>"
      ]
    },
    {
      "cell_type": "code",
      "metadata": {
        "id": "45wexOjdQLDm",
        "colab_type": "code",
        "outputId": "52c8a4ae-e0e9-477f-8983-b28376d50f41",
        "colab": {
          "base_uri": "https://localhost:8080/",
          "height": 1000
        }
      },
      "source": [
        "!pip3 install cirq"
      ],
      "execution_count": 1,
      "outputs": [
        {
          "output_type": "stream",
          "text": [
            "Collecting cirq\n",
            "\u001b[?25l  Downloading https://files.pythonhosted.org/packages/53/29/a66c4c28306dae359745e37c4c10120e477da44cb050d06d8ceb1117a22a/cirq-0.7.0-py3-none-any.whl (1.2MB)\n",
            "\u001b[K     |████████████████████████████████| 1.2MB 2.8MB/s \n",
            "\u001b[?25hRequirement already satisfied: dataclasses; python_version < \"3.7\" in /usr/local/lib/python3.6/dist-packages (from cirq) (0.7)\n",
            "Collecting networkx==2.3\n",
            "\u001b[?25l  Downloading https://files.pythonhosted.org/packages/85/08/f20aef11d4c343b557e5de6b9548761811eb16e438cee3d32b1c66c8566b/networkx-2.3.zip (1.7MB)\n",
            "\u001b[K     |████████████████████████████████| 1.8MB 54.1MB/s \n",
            "\u001b[?25hRequirement already satisfied: requests~=2.18 in /usr/local/lib/python3.6/dist-packages (from cirq) (2.21.0)\n",
            "Requirement already satisfied: typing-extensions in /usr/local/lib/python3.6/dist-packages (from cirq) (3.6.6)\n",
            "Requirement already satisfied: pandas in /usr/local/lib/python3.6/dist-packages (from cirq) (0.25.3)\n",
            "Requirement already satisfied: matplotlib~=3.0 in /usr/local/lib/python3.6/dist-packages (from cirq) (3.2.0)\n",
            "Collecting protobuf==3.8.0\n",
            "\u001b[?25l  Downloading https://files.pythonhosted.org/packages/d2/fb/29de8d08967f0cce1bb10b39846d836b0f3bf6776ddc36aed7c73498ca7e/protobuf-3.8.0-cp36-cp36m-manylinux1_x86_64.whl (1.2MB)\n",
            "\u001b[K     |████████████████████████████████| 1.2MB 43.2MB/s \n",
            "\u001b[?25hCollecting sympy==1.4\n",
            "\u001b[?25l  Downloading https://files.pythonhosted.org/packages/21/21/f4105795ca7f35c541d82c5b06be684dd2f5cb4f508fb487cd7aea4de776/sympy-1.4-py2.py3-none-any.whl (5.3MB)\n",
            "\u001b[K     |████████████████████████████████| 5.3MB 25.7MB/s \n",
            "\u001b[?25hRequirement already satisfied: numpy~=1.16 in /usr/local/lib/python3.6/dist-packages (from cirq) (1.18.1)\n",
            "Requirement already satisfied: sortedcontainers~=2.0 in /usr/local/lib/python3.6/dist-packages (from cirq) (2.1.0)\n",
            "Requirement already satisfied: scipy in /usr/local/lib/python3.6/dist-packages (from cirq) (1.4.1)\n",
            "Requirement already satisfied: google-api-python-client~=1.6 in /usr/local/lib/python3.6/dist-packages (from cirq) (1.7.11)\n",
            "Requirement already satisfied: decorator>=4.3.0 in /usr/local/lib/python3.6/dist-packages (from networkx==2.3->cirq) (4.4.2)\n",
            "Requirement already satisfied: idna<2.9,>=2.5 in /usr/local/lib/python3.6/dist-packages (from requests~=2.18->cirq) (2.8)\n",
            "Requirement already satisfied: urllib3<1.25,>=1.21.1 in /usr/local/lib/python3.6/dist-packages (from requests~=2.18->cirq) (1.24.3)\n",
            "Requirement already satisfied: certifi>=2017.4.17 in /usr/local/lib/python3.6/dist-packages (from requests~=2.18->cirq) (2019.11.28)\n",
            "Requirement already satisfied: chardet<3.1.0,>=3.0.2 in /usr/local/lib/python3.6/dist-packages (from requests~=2.18->cirq) (3.0.4)\n",
            "Requirement already satisfied: python-dateutil>=2.6.1 in /usr/local/lib/python3.6/dist-packages (from pandas->cirq) (2.8.1)\n",
            "Requirement already satisfied: pytz>=2017.2 in /usr/local/lib/python3.6/dist-packages (from pandas->cirq) (2018.9)\n",
            "Requirement already satisfied: pyparsing!=2.0.4,!=2.1.2,!=2.1.6,>=2.0.1 in /usr/local/lib/python3.6/dist-packages (from matplotlib~=3.0->cirq) (2.4.6)\n",
            "Requirement already satisfied: kiwisolver>=1.0.1 in /usr/local/lib/python3.6/dist-packages (from matplotlib~=3.0->cirq) (1.1.0)\n",
            "Requirement already satisfied: cycler>=0.10 in /usr/local/lib/python3.6/dist-packages (from matplotlib~=3.0->cirq) (0.10.0)\n",
            "Requirement already satisfied: six>=1.9 in /usr/local/lib/python3.6/dist-packages (from protobuf==3.8.0->cirq) (1.12.0)\n",
            "Requirement already satisfied: setuptools in /usr/local/lib/python3.6/dist-packages (from protobuf==3.8.0->cirq) (45.2.0)\n",
            "Requirement already satisfied: mpmath>=0.19 in /usr/local/lib/python3.6/dist-packages (from sympy==1.4->cirq) (1.1.0)\n",
            "Requirement already satisfied: uritemplate<4dev,>=3.0.0 in /usr/local/lib/python3.6/dist-packages (from google-api-python-client~=1.6->cirq) (3.0.1)\n",
            "Requirement already satisfied: httplib2<1dev,>=0.9.2 in /usr/local/lib/python3.6/dist-packages (from google-api-python-client~=1.6->cirq) (0.11.3)\n",
            "Requirement already satisfied: google-auth>=1.4.1 in /usr/local/lib/python3.6/dist-packages (from google-api-python-client~=1.6->cirq) (1.7.2)\n",
            "Requirement already satisfied: google-auth-httplib2>=0.0.3 in /usr/local/lib/python3.6/dist-packages (from google-api-python-client~=1.6->cirq) (0.0.3)\n",
            "Requirement already satisfied: rsa<4.1,>=3.1.4 in /usr/local/lib/python3.6/dist-packages (from google-auth>=1.4.1->google-api-python-client~=1.6->cirq) (4.0)\n",
            "Requirement already satisfied: pyasn1-modules>=0.2.1 in /usr/local/lib/python3.6/dist-packages (from google-auth>=1.4.1->google-api-python-client~=1.6->cirq) (0.2.8)\n",
            "Requirement already satisfied: cachetools<3.2,>=2.0.0 in /usr/local/lib/python3.6/dist-packages (from google-auth>=1.4.1->google-api-python-client~=1.6->cirq) (3.1.1)\n",
            "Requirement already satisfied: pyasn1>=0.1.3 in /usr/local/lib/python3.6/dist-packages (from rsa<4.1,>=3.1.4->google-auth>=1.4.1->google-api-python-client~=1.6->cirq) (0.4.8)\n",
            "Building wheels for collected packages: networkx\n",
            "  Building wheel for networkx (setup.py) ... \u001b[?25l\u001b[?25hdone\n",
            "  Created wheel for networkx: filename=networkx-2.3-py2.py3-none-any.whl size=1556408 sha256=16b806c6ca56f29740633111a548ea030b66b8ae7fbe37e28cef4ec5e22dfb98\n",
            "  Stored in directory: /root/.cache/pip/wheels/de/63/64/3699be2a9d0ccdb37c7f16329acf3863fd76eda58c39c737af\n",
            "Successfully built networkx\n",
            "\u001b[31mERROR: tensorflow-federated 0.12.0 has requirement tensorflow~=2.1.0, but you'll have tensorflow 1.15.0 which is incompatible.\u001b[0m\n",
            "\u001b[31mERROR: tensorflow-federated 0.12.0 has requirement tensorflow-addons~=0.7.0, but you'll have tensorflow-addons 0.8.3 which is incompatible.\u001b[0m\n",
            "\u001b[31mERROR: albumentations 0.1.12 has requirement imgaug<0.2.7,>=0.2.5, but you'll have imgaug 0.2.9 which is incompatible.\u001b[0m\n",
            "Installing collected packages: networkx, protobuf, sympy, cirq\n",
            "  Found existing installation: networkx 2.4\n",
            "    Uninstalling networkx-2.4:\n",
            "      Successfully uninstalled networkx-2.4\n",
            "  Found existing installation: protobuf 3.10.0\n",
            "    Uninstalling protobuf-3.10.0:\n",
            "      Successfully uninstalled protobuf-3.10.0\n",
            "  Found existing installation: sympy 1.1.1\n",
            "    Uninstalling sympy-1.1.1:\n",
            "      Successfully uninstalled sympy-1.1.1\n",
            "Successfully installed cirq-0.7.0 networkx-2.3 protobuf-3.8.0 sympy-1.4\n"
          ],
          "name": "stdout"
        },
        {
          "output_type": "display_data",
          "data": {
            "application/vnd.colab-display-data+json": {
              "pip_warning": {
                "packages": [
                  "google"
                ]
              }
            }
          },
          "metadata": {
            "tags": []
          }
        }
      ]
    },
    {
      "cell_type": "markdown",
      "metadata": {
        "id": "eVLic5UuVqk4",
        "colab_type": "text"
      },
      "source": [
        "**Some basic information about quantum computing**\n",
        "\n",
        "A **bit** is **a binary unit** of information used in classical computation.\n",
        "\n",
        "A qubit has infinite allowed states can exist in superpositions define by represented by a column vector of two elements (𝛼,𝛽)𝑇, where 𝛼 stands for 0 and 𝛽 for 1, see the function:\n",
        "\n",
        "∣𝜓⟩=𝛼∣0⟩+𝛽∣1⟩ \n",
        "\n",
        "A **Circuit** is a collection of **Moments**\n",
        "\n",
        "A **Moment** is a collection of **Operations**\n",
        "\n",
        "An **Operation** is a an effect that operates on a specific subset of **Qubits**\n",
        "\n",
        "*In quantum computing, **a qubit** (/ˈkjuːbɪt/) or quantum bit (sometimes qbit) is the basic unit of quantum information—the quantum version of the classical binary bit physically realized with a two-state device. A qubit is a two-state (or two-level) quantum-mechanical system, one of the simplest quantum systems displaying the peculiarity of quantum mechanics. Examples include: the spin of the electron in which the two levels can be taken as spin up and spin down; or the polarization of a single photon in which the two states can be taken to be the vertical polarization and the horizontal polarization.* [wikipedia Qubit](https://en.wikipedia.org/wiki/Qubit)\n",
        "\n",
        "The most **common type of Operation** is **a Gate** applied to several **qubits**\n",
        "Let's see some examples from [the official website](https://cirq.readthedocs.io/en/stable/examples.html#).\n",
        "\n",
        "For more math you can read [this document: General-purpose quantum circuit simulator with Projected Entangled-Pair States and the quantum supremacy frontier](https://arxiv.org/pdf/1905.08394.pdf)\n",
        "\n",
        "Let's test the default example and see how this working :\n",
        "\n"
      ]
    },
    {
      "cell_type": "code",
      "metadata": {
        "id": "ObCP0KiBQUGM",
        "colab_type": "code",
        "outputId": "07b850a6-45d4-47c4-cd6e-6d10e0e2bf31",
        "colab": {
          "base_uri": "https://localhost:8080/",
          "height": 86
        }
      },
      "source": [
        "import cirq\n",
        "\n",
        "# Pick a qubit.\n",
        "qubit = cirq.GridQubit(0, 0)\n",
        "\n",
        "# Create a circuit\n",
        "circuit = cirq.Circuit(\n",
        "    cirq.X(qubit)**0.5,  # Square root of NOT.\n",
        "    cirq.measure(qubit, key='m')  # Measurement.\n",
        ")\n",
        "print(\"Circuit:\")\n",
        "print(circuit)\n",
        "\n",
        "# Simulate the circuit several times.\n",
        "simulator = cirq.Simulator()\n",
        "result = simulator.run(circuit, repetitions=20)\n",
        "print(\"Results:\")\n",
        "print(result)"
      ],
      "execution_count": 2,
      "outputs": [
        {
          "output_type": "stream",
          "text": [
            "Circuit:\n",
            "(0, 0): ───X^0.5───M('m')───\n",
            "Results:\n",
            "m=10011110100110000001\n"
          ],
          "name": "stdout"
        }
      ]
    },
    {
      "cell_type": "markdown",
      "metadata": {
        "id": "XBlJsW9qdqDO",
        "colab_type": "text"
      },
      "source": [
        "Let's see how this python module can help us:"
      ]
    },
    {
      "cell_type": "code",
      "metadata": {
        "id": "Dg8vb3xPUo09",
        "colab_type": "code",
        "outputId": "c8d3348a-74ab-4116-9d32-4b12c727d7ad",
        "colab": {
          "base_uri": "https://localhost:8080/",
          "height": 54
        }
      },
      "source": [
        "import cirq\n",
        "print(dir(cirq))\n"
      ],
      "execution_count": 3,
      "outputs": [
        {
          "output_type": "stream",
          "text": [
            "['ABCMetaImplementAnyOneOf', 'AmplitudeDampingChannel', 'ApplyChannelArgs', 'ApplyMixtureArgs', 'ApplyUnitaryArgs', 'ArithmeticOperation', 'AsymmetricDepolarizingChannel', 'AxisAngleDecomposition', 'BaseDensePauliString', 'BitFlipChannel', 'CCNOT', 'CCX', 'CCXPowGate', 'CCZ', 'CCZPowGate', 'CNOT', 'CNotPowGate', 'CONTROL_TAG', 'CSWAP', 'CSwapGate', 'CX', 'CZ', 'CZPowGate', 'Circuit', 'CircuitDag', 'CircuitDiagramInfo', 'CircuitDiagramInfoArgs', 'CircuitSampleJob', 'CliffordSimulator', 'CliffordSimulatorStepResult', 'CliffordState', 'CliffordTableau', 'CliffordTrialResult', 'Collector', 'ConstantQubitNoiseModel', 'ControlledGate', 'ControlledOperation', 'ConvertToCzAndSingleGates', 'ConvertToIonGates', 'ConvertToNeutralAtomGates', 'DURATION_LIKE', 'DensePauliString', 'DensityMatrixSimulator', 'DensityMatrixSimulatorState', 'DensityMatrixStepResult', 'DensityMatrixTrialResult', 'DepolarizingChannel', 'Device', 'DropEmptyMoments', 'DropNegligible', 'Duration', 'EigenGate', 'EjectPhasedPaulis', 'EjectZ', 'ExpandComposite', 'ExpressionMap', 'FREDKIN', 'FSimGate', 'Gate', 'GateOperation', 'GeneralizedAmplitudeDampingChannel', 'GivensRotation', 'GlobalPhaseOperation', 'GridQubit', 'H', 'HPowGate', 'Heatmap', 'I', 'ISWAP', 'ISwapPowGate', 'ISwapRotation', 'IdentityGate', 'IdentityOperation', 'InsertStrategy', 'InterchangeableQubitsGate', 'IonDevice', 'KakDecomposition', 'LineQid', 'LineQubit', 'LinearCombinationOfGates', 'LinearCombinationOfOperations', 'LinearDict', 'Linspace', 'ListSweep', 'MS', 'MatrixGate', 'MeasurementGate', 'MergeInteractions', 'MergeSingleQubitGates', 'Moment', 'MutableDensePauliString', 'NOISE_MODEL_LIKE', 'NO_NOISE', 'NamedQubit', 'NeutralAtomDevice', 'NoiseModel', 'OP_TREE', 'Operation', 'PAULI_BASIS', 'PAULI_GATE_LIKE', 'PAULI_STRING_LIKE', 'ParallelGateOperation', 'ParamDictType', 'ParamResolver', 'ParamResolverOrSimilarType', 'Pauli', 'PauliInteractionGate', 'PauliString', 'PauliStringGateOperation', 'PauliStringPhasor', 'PauliSum', 'PauliSumCollector', 'PauliSumLike', 'PauliTransform', 'PeriodicValue', 'PhaseDampingChannel', 'PhaseFlipChannel', 'PhaseGradientGate', 'PhasedISwapPowGate', 'PhasedXPowGate', 'PhasedXZGate', 'PointOptimizationSummary', 'PointOptimizer', 'Points', 'Product', 'QFT', 'QasmArgs', 'QasmOutput', 'Qid', 'QuantumFourierTransformGate', 'QubitOrder', 'QubitOrderOrList', 'ResetChannel', 'Rx', 'Ry', 'Rz', 'S', 'STATE_VECTOR_LIKE', 'SWAP', 'Sampler', 'SimulatesAmplitudes', 'SimulatesFinalState', 'SimulatesIntermediateState', 'SimulatesIntermediateWaveFunction', 'SimulatesSamples', 'SimulationTrialResult', 'Simulator', 'SingleQubitCliffordGate', 'SingleQubitGate', 'SingleQubitMatrixGate', 'SingleQubitPauliStringGateOperation', 'SparseSimulatorStep', 'StabilizerStateChForm', 'StateVectorMixin', 'StepResult', 'SupportsApplyChannel', 'SupportsApplyMixture', 'SupportsApproximateEquality', 'SupportsChannel', 'SupportsCircuitDiagramInfo', 'SupportsConsistentApplyUnitary', 'SupportsDecompose', 'SupportsDecomposeWithQubits', 'SupportsEqualUpToGlobalPhase', 'SupportsExplicitHasUnitary', 'SupportsExplicitNumQubits', 'SupportsExplicitQidShape', 'SupportsJSON', 'SupportsMeasurementKey', 'SupportsMixture', 'SupportsParameterization', 'SupportsPhase', 'SupportsQasm', 'SupportsQasmWithArgs', 'SupportsQasmWithArgsAndQubits', 'SupportsTraceDistanceBound', 'SupportsUnitary', 'SwapPowGate', 'Sweep', 'Sweepable', 'SynchronizeTerminalMeasurements', 'T', 'TOFFOLI', 'TParamVal', 'TextDiagramDrawer', 'ThreeQubitDiagonalGate', 'ThreeQubitGate', 'Timestamp', 'TrialResult', 'TwoQubitGate', 'TwoQubitMatrixGate', 'UNCONSTRAINED_DEVICE', 'Unique', 'UnitSweep', 'WaitGate', 'WaveFunctionSimulatorState', 'WaveFunctionStepResult', 'WaveFunctionTrialResult', 'X', 'XPowGate', 'XX', 'XXPowGate', 'Y', 'YPowGate', 'YY', 'YYPowGate', 'Z', 'ZPowGate', 'ZZ', 'ZZPowGate', 'Zip', '__builtins__', '__cached__', '__doc__', '__file__', '__loader__', '__name__', '__package__', '__path__', '__spec__', '__version__', '_compat', '_doc', '_import', '_version', 'all_near_zero', 'all_near_zero_mod', 'allclose_up_to_global_phase', 'alternative', 'amplitude_damp', 'apply_channel', 'apply_matrix_to_slices', 'apply_mixture', 'apply_unitaries', 'apply_unitary', 'approx_eq', 'asymmetric_depolarize', 'axis_angle', 'bidiagonalize_real_matrix_pair_with_symmetric_products', 'bidiagonalize_unitary_with_special_orthogonals', 'big_endian_bits_to_int', 'big_endian_digits_to_int', 'big_endian_int_to_bits', 'big_endian_int_to_digits', 'bit_flip', 'bloch_vector_from_state_vector', 'block_diag', 'canonicalize_half_turns', 'channel', 'chosen_angle_to_canonical_half_turns', 'chosen_angle_to_half_turns', 'circuit_diagram_info', 'circuits', 'commutes', 'contrib', 'decompose', 'decompose_once', 'decompose_once_with_qubits', 'decompose_two_qubit_interaction_into_four_fsim_gates_via_b', 'definitely_commutes', 'density_matrix_from_state_vector', 'depolarize', 'devices', 'diagonalize_real_symmetric_and_sorted_diagonal_matrices', 'diagonalize_real_symmetric_matrix', 'dirac_notation', 'dot', 'equal_up_to_global_phase', 'estimate_single_qubit_readout_errors', 'expand_matrix_in_orthogonal_basis', 'experiments', 'eye_tensor', 'final_wavefunction', 'flatten', 'flatten_op_tree', 'flatten_to_ops', 'flatten_to_ops_or_moments', 'flatten_with_params', 'flatten_with_sweep', 'freeze_op_tree', 'generalized_amplitude_damp', 'generate_boixo_2018_supremacy_circuits_v2', 'generate_boixo_2018_supremacy_circuits_v2_bristlecone', 'generate_boixo_2018_supremacy_circuits_v2_grid', 'givens', 'google', 'has_channel', 'has_mixture', 'has_mixture_channel', 'has_unitary', 'hilbert_schmidt_inner_product', 'hog_score_xeb_fidelity_from_probabilities', 'identity_each', 'interop', 'inverse', 'ion', 'is_diagonal', 'is_hermitian', 'is_measurement', 'is_native_neutral_atom_gate', 'is_native_neutral_atom_op', 'is_negligible_turn', 'is_orthogonal', 'is_parameterized', 'is_special_orthogonal', 'is_special_unitary', 'is_unitary', 'kak_canonicalize_vector', 'kak_decomposition', 'kak_vector', 'kron', 'kron_bases', 'kron_factor_4x4_to_2x2s', 'kron_with_controls', 'linalg', 'linear_xeb_fidelity', 'linear_xeb_fidelity_from_probabilities', 'log_xeb_fidelity', 'log_xeb_fidelity_from_probabilities', 'map_eigenvalues', 'match_global_phase', 'matrix_from_basis_coefficients', 'measure', 'measure_density_matrix', 'measure_each', 'measure_state_vector', 'measurement_key', 'merge_single_qubit_gates_into_phased_x_z', 'mixture', 'mixture_channel', 'ms', 'mul', 'neutral_atoms', 'num_qubits', 'obj_to_dict_helper', 'one_hot', 'op_gate_of_type', 'ops', 'optimizers', 'partial_trace', 'pauli_expansion', 'phase_by', 'phase_damp', 'phase_flip', 'plot_state_histogram', 'pow', 'pow_pauli_combination', 'protocols', 'qasm', 'qid_shape', 'quirk_json_to_circuit', 'quirk_url_to_circuit', 'read_json', 'reflection_matrix_pow', 'reset', 'resolve_parameters', 'riswap', 'rx', 'ry', 'rz', 'sample', 'sample_density_matrix', 'sample_state_vector', 'sample_sweep', 'scatter_plot_normalized_kak_interaction_coefficients', 'sim', 'single_qubit_matrix_to_gates', 'single_qubit_matrix_to_pauli_rotations', 'single_qubit_matrix_to_phased_x_z', 'single_qubit_op_to_framed_phase_form', 'slice_for_qubits_equal_to', 'so4_to_magic_su2s', 'study', 'subwavefunction', 'targeted_conjugate_about', 'targeted_left_multiply', 'testing', 'to_json', 'to_resolvers', 'to_sweep', 'to_valid_density_matrix', 'to_valid_state_vector', 'trace_distance_bound', 'transform_op_tree', 'two_qubit_matrix_to_ion_operations', 'two_qubit_matrix_to_operations', 'type_workarounds', 'unitary', 'validate_mixture', 'validate_normalized_state', 'validate_probability', 'value', 'value_equality', 'vis', 'von_neumann_entropy', 'wavefunction_partial_trace_as_mixture', 'work', 'xeb_fidelity']\n"
          ],
          "name": "stdout"
        }
      ]
    },
    {
      "cell_type": "code",
      "metadata": {
        "id": "smfeGGfJU38D",
        "colab_type": "code",
        "outputId": "4ac2d53f-2610-4898-a4db-4b4c782ad273",
        "colab": {
          "base_uri": "https://localhost:8080/",
          "height": 54
        }
      },
      "source": [
        "print(dir(cirq.google))"
      ],
      "execution_count": 4,
      "outputs": [
        {
          "output_type": "stream",
          "text": [
            "['AnnealSequenceSearchStrategy', 'Bristlecone', 'Calibration', 'ConvertToSqrtIswapGates', 'ConvertToSycamoreGates', 'ConvertToXmonGates', 'DeserializingArg', 'Engine', 'EngineJob', 'EngineProgram', 'Foxtail', 'GateOpDeserializer', 'GateOpSerializer', 'GreedySequenceSearchStrategy', 'JobConfig', 'LinePlacementStrategy', 'ProtoVersion', 'QuantumEngineSampler', 'SQRT_ISWAP_GATESET', 'SYC', 'SYC_GATESET', 'SerializableDevice', 'SerializableGateSet', 'SerializingArg', 'Sycamore', 'Sycamore23', 'SycamoreGate', 'XMON', 'XmonDevice', '__builtins__', '__cached__', '__doc__', '__file__', '__loader__', '__name__', '__package__', '__path__', '__spec__', 'api', 'arg_func_langs', 'circuit_as_schedule_to_proto_dicts', 'circuit_from_schedule_from_proto_dicts', 'common_serializers', 'devices', 'engine', 'engine_from_environment', 'gate_sets', 'gate_to_proto_dict', 'is_native_xmon_gate', 'is_native_xmon_op', 'line', 'line_on_device', 'op_deserializer', 'op_serializer', 'ops', 'optimized_for_sycamore', 'optimized_for_xmon', 'optimizers', 'pack_results', 'serializable_gate_set', 'sweep_from_proto_dict', 'sweep_to_proto_dict', 'unpack_results', 'xmon_op_from_proto_dict']\n"
          ],
          "name": "stdout"
        }
      ]
    },
    {
      "cell_type": "markdown",
      "metadata": {
        "id": "wDNexeThej-k",
        "colab_type": "text"
      },
      "source": [
        "Let's test one from google named Bristlecone.\n",
        "\n",
        "This is the representation of the quantum state as well as thegate operations are implemeted exactly in the same way as for the rectangular lattice case for Google Bristlecone QPU.\n",
        "\n",
        "Bristlecone's native operation is the CZ\n",
        "\n",
        "Bristlecone can perform a CZ between any adjacent pair of qubits on a grid. \n",
        "\n",
        "The 12×6 lattice is partitioned into four sub-lattices with size 6×3. \n",
        "\n",
        "You can see the grid uing the print function:\n"
      ]
    },
    {
      "cell_type": "code",
      "metadata": {
        "id": "QScD4HC9U92K",
        "colab_type": "code",
        "outputId": "8c501f32-89f6-4f5c-f3b5-77b66c14ad7b",
        "colab": {
          "base_uri": "https://localhost:8080/",
          "height": 555
        }
      },
      "source": [
        "print(cirq.google.Bristlecone)"
      ],
      "execution_count": 5,
      "outputs": [
        {
          "output_type": "stream",
          "text": [
            "                                             (0, 5)────(0, 6)\n",
            "                                             │         │\n",
            "                                             │         │\n",
            "                                    (1, 4)───(1, 5)────(1, 6)────(1, 7)\n",
            "                                    │        │         │         │\n",
            "                                    │        │         │         │\n",
            "                           (2, 3)───(2, 4)───(2, 5)────(2, 6)────(2, 7)───(2, 8)\n",
            "                           │        │        │         │         │        │\n",
            "                           │        │        │         │         │        │\n",
            "                  (3, 2)───(3, 3)───(3, 4)───(3, 5)────(3, 6)────(3, 7)───(3, 8)───(3, 9)\n",
            "                  │        │        │        │         │         │        │        │\n",
            "                  │        │        │        │         │         │        │        │\n",
            "         (4, 1)───(4, 2)───(4, 3)───(4, 4)───(4, 5)────(4, 6)────(4, 7)───(4, 8)───(4, 9)───(4, 10)\n",
            "         │        │        │        │        │         │         │        │        │        │\n",
            "         │        │        │        │        │         │         │        │        │        │\n",
            "(5, 0)───(5, 1)───(5, 2)───(5, 3)───(5, 4)───(5, 5)────(5, 6)────(5, 7)───(5, 8)───(5, 9)───(5, 10)───(5, 11)\n",
            "         │        │        │        │        │         │         │        │        │        │\n",
            "         │        │        │        │        │         │         │        │        │        │\n",
            "         (6, 1)───(6, 2)───(6, 3)───(6, 4)───(6, 5)────(6, 6)────(6, 7)───(6, 8)───(6, 9)───(6, 10)\n",
            "                  │        │        │        │         │         │        │        │\n",
            "                  │        │        │        │         │         │        │        │\n",
            "                  (7, 2)───(7, 3)───(7, 4)───(7, 5)────(7, 6)────(7, 7)───(7, 8)───(7, 9)\n",
            "                           │        │        │         │         │        │\n",
            "                           │        │        │         │         │        │\n",
            "                           (8, 3)───(8, 4)───(8, 5)────(8, 6)────(8, 7)───(8, 8)\n",
            "                                    │        │         │         │\n",
            "                                    │        │         │         │\n",
            "                                    (9, 4)───(9, 5)────(9, 6)────(9, 7)\n",
            "                                             │         │\n",
            "                                             │         │\n",
            "                                             (10, 5)───(10, 6)\n"
          ],
          "name": "stdout"
        }
      ]
    },
    {
      "cell_type": "markdown",
      "metadata": {
        "id": "5DeA5NIM1CpO",
        "colab_type": "text"
      },
      "source": [
        "The next code show how to set containing the allowed CZ random operations whether you get CZ(x, y) or CZ(y, x) in the set\n",
        "\n",
        "The size is 121 elements "
      ]
    },
    {
      "cell_type": "code",
      "metadata": {
        "id": "J1j1k8re0t7m",
        "colab_type": "code",
        "outputId": "c4995dde-38c8-4330-9f1e-46e4ce463e21",
        "colab": {
          "base_uri": "https://localhost:8080/",
          "height": 72
        }
      },
      "source": [
        "qubits = cirq.google.Bristlecone.qubits\n",
        "allowed = {cirq.CZ(a, b)\n",
        "           for a in qubits\n",
        "           for b in qubits\n",
        "           if a.is_adjacent(b)}\n",
        "print(allowed)\n",
        "print(len(allowed))"
      ],
      "execution_count": 6,
      "outputs": [
        {
          "output_type": "stream",
          "text": [
            "{cirq.CZ.on(cirq.GridQubit(7, 4), cirq.GridQubit(8, 4)), cirq.CZ.on(cirq.GridQubit(7, 3), cirq.GridQubit(7, 4)), cirq.CZ.on(cirq.GridQubit(1, 7), cirq.GridQubit(1, 6)), cirq.CZ.on(cirq.GridQubit(1, 7), cirq.GridQubit(2, 7)), cirq.CZ.on(cirq.GridQubit(6, 10), cirq.GridQubit(6, 9)), cirq.CZ.on(cirq.GridQubit(8, 6), cirq.GridQubit(8, 7)), cirq.CZ.on(cirq.GridQubit(6, 6), cirq.GridQubit(6, 5)), cirq.CZ.on(cirq.GridQubit(4, 3), cirq.GridQubit(4, 4)), cirq.CZ.on(cirq.GridQubit(3, 9), cirq.GridQubit(4, 9)), cirq.CZ.on(cirq.GridQubit(5, 9), cirq.GridQubit(5, 10)), cirq.CZ.on(cirq.GridQubit(8, 6), cirq.GridQubit(8, 5)), cirq.CZ.on(cirq.GridQubit(5, 5), cirq.GridQubit(6, 5)), cirq.CZ.on(cirq.GridQubit(5, 7), cirq.GridQubit(4, 7)), cirq.CZ.on(cirq.GridQubit(8, 7), cirq.GridQubit(9, 7)), cirq.CZ.on(cirq.GridQubit(3, 9), cirq.GridQubit(3, 8)), cirq.CZ.on(cirq.GridQubit(3, 5), cirq.GridQubit(3, 6)), cirq.CZ.on(cirq.GridQubit(5, 7), cirq.GridQubit(5, 6)), cirq.CZ.on(cirq.GridQubit(7, 8), cirq.GridQubit(6, 8)), cirq.CZ.on(cirq.GridQubit(3, 7), cirq.GridQubit(3, 8)), cirq.CZ.on(cirq.GridQubit(7, 3), cirq.GridQubit(7, 2)), cirq.CZ.on(cirq.GridQubit(4, 6), cirq.GridQubit(5, 6)), cirq.CZ.on(cirq.GridQubit(7, 5), cirq.GridQubit(8, 5)), cirq.CZ.on(cirq.GridQubit(7, 8), cirq.GridQubit(7, 9)), cirq.CZ.on(cirq.GridQubit(7, 3), cirq.GridQubit(6, 3)), cirq.CZ.on(cirq.GridQubit(5, 9), cirq.GridQubit(4, 9)), cirq.CZ.on(cirq.GridQubit(2, 5), cirq.GridQubit(2, 4)), cirq.CZ.on(cirq.GridQubit(9, 6), cirq.GridQubit(8, 6)), cirq.CZ.on(cirq.GridQubit(5, 10), cirq.GridQubit(4, 10)), cirq.CZ.on(cirq.GridQubit(5, 2), cirq.GridQubit(5, 3)), cirq.CZ.on(cirq.GridQubit(4, 5), cirq.GridQubit(5, 5)), cirq.CZ.on(cirq.GridQubit(3, 4), cirq.GridQubit(2, 4)), cirq.CZ.on(cirq.GridQubit(5, 9), cirq.GridQubit(5, 8)), cirq.CZ.on(cirq.GridQubit(6, 2), cirq.GridQubit(5, 2)), cirq.CZ.on(cirq.GridQubit(4, 2), cirq.GridQubit(3, 2)), cirq.CZ.on(cirq.GridQubit(4, 6), cirq.GridQubit(3, 6)), cirq.CZ.on(cirq.GridQubit(3, 7), cirq.GridQubit(4, 7)), cirq.CZ.on(cirq.GridQubit(5, 7), cirq.GridQubit(5, 8)), cirq.CZ.on(cirq.GridQubit(3, 2), cirq.GridQubit(3, 3)), cirq.CZ.on(cirq.GridQubit(3, 4), cirq.GridQubit(3, 3)), cirq.CZ.on(cirq.GridQubit(2, 8), cirq.GridQubit(2, 7)), cirq.CZ.on(cirq.GridQubit(2, 6), cirq.GridQubit(2, 7)), cirq.CZ.on(cirq.GridQubit(1, 4), cirq.GridQubit(2, 4)), cirq.CZ.on(cirq.GridQubit(2, 6), cirq.GridQubit(1, 6)), cirq.CZ.on(cirq.GridQubit(5, 2), cirq.GridQubit(5, 1)), cirq.CZ.on(cirq.GridQubit(6, 4), cirq.GridQubit(6, 5)), cirq.CZ.on(cirq.GridQubit(9, 6), cirq.GridQubit(10, 6)), cirq.CZ.on(cirq.GridQubit(4, 8), cirq.GridQubit(4, 9)), cirq.CZ.on(cirq.GridQubit(5, 11), cirq.GridQubit(5, 10)), cirq.CZ.on(cirq.GridQubit(7, 8), cirq.GridQubit(7, 7)), cirq.CZ.on(cirq.GridQubit(6, 2), cirq.GridQubit(6, 1)), cirq.CZ.on(cirq.GridQubit(9, 6), cirq.GridQubit(9, 7)), cirq.CZ.on(cirq.GridQubit(9, 6), cirq.GridQubit(9, 5)), cirq.CZ.on(cirq.GridQubit(8, 6), cirq.GridQubit(7, 6)), cirq.CZ.on(cirq.GridQubit(6, 1), cirq.GridQubit(5, 1)), cirq.CZ.on(cirq.GridQubit(0, 5), cirq.GridQubit(0, 6)), cirq.CZ.on(cirq.GridQubit(8, 3), cirq.GridQubit(8, 4)), cirq.CZ.on(cirq.GridQubit(2, 3), cirq.GridQubit(2, 4)), cirq.CZ.on(cirq.GridQubit(5, 2), cirq.GridQubit(4, 2)), cirq.CZ.on(cirq.GridQubit(7, 9), cirq.GridQubit(6, 9)), cirq.CZ.on(cirq.GridQubit(6, 3), cirq.GridQubit(6, 4)), cirq.CZ.on(cirq.GridQubit(2, 6), cirq.GridQubit(3, 6)), cirq.CZ.on(cirq.GridQubit(5, 8), cirq.GridQubit(4, 8)), cirq.CZ.on(cirq.GridQubit(7, 5), cirq.GridQubit(6, 5)), cirq.CZ.on(cirq.GridQubit(4, 2), cirq.GridQubit(4, 3)), cirq.CZ.on(cirq.GridQubit(5, 4), cirq.GridQubit(5, 5)), cirq.CZ.on(cirq.GridQubit(6, 8), cirq.GridQubit(6, 7)), cirq.CZ.on(cirq.GridQubit(2, 7), cirq.GridQubit(3, 7)), cirq.CZ.on(cirq.GridQubit(7, 7), cirq.GridQubit(6, 7)), cirq.CZ.on(cirq.GridQubit(6, 2), cirq.GridQubit(7, 2)), cirq.CZ.on(cirq.GridQubit(7, 4), cirq.GridQubit(6, 4)), cirq.CZ.on(cirq.GridQubit(5, 4), cirq.GridQubit(4, 4)), cirq.CZ.on(cirq.GridQubit(1, 5), cirq.GridQubit(2, 5)), cirq.CZ.on(cirq.GridQubit(4, 1), cirq.GridQubit(5, 1)), cirq.CZ.on(cirq.GridQubit(10, 5), cirq.GridQubit(9, 5)), cirq.CZ.on(cirq.GridQubit(5, 10), cirq.GridQubit(6, 10)), cirq.CZ.on(cirq.GridQubit(6, 8), cirq.GridQubit(5, 8)), cirq.CZ.on(cirq.GridQubit(9, 4), cirq.GridQubit(9, 5)), cirq.CZ.on(cirq.GridQubit(4, 5), cirq.GridQubit(3, 5)), cirq.CZ.on(cirq.GridQubit(4, 5), cirq.GridQubit(4, 4)), cirq.CZ.on(cirq.GridQubit(6, 6), cirq.GridQubit(6, 7)), cirq.CZ.on(cirq.GridQubit(8, 8), cirq.GridQubit(8, 7)), cirq.CZ.on(cirq.GridQubit(8, 4), cirq.GridQubit(8, 5)), cirq.CZ.on(cirq.GridQubit(5, 6), cirq.GridQubit(5, 5)), cirq.CZ.on(cirq.GridQubit(4, 10), cirq.GridQubit(4, 9)), cirq.CZ.on(cirq.GridQubit(7, 3), cirq.GridQubit(8, 3)), cirq.CZ.on(cirq.GridQubit(4, 8), cirq.GridQubit(3, 8)), cirq.CZ.on(cirq.GridQubit(3, 4), cirq.GridQubit(4, 4)), cirq.CZ.on(cirq.GridQubit(3, 4), cirq.GridQubit(3, 5)), cirq.CZ.on(cirq.GridQubit(4, 3), cirq.GridQubit(3, 3)), cirq.CZ.on(cirq.GridQubit(8, 5), cirq.GridQubit(9, 5)), cirq.CZ.on(cirq.GridQubit(3, 7), cirq.GridQubit(3, 6)), cirq.CZ.on(cirq.GridQubit(7, 7), cirq.GridQubit(8, 7)), cirq.CZ.on(cirq.GridQubit(5, 4), cirq.GridQubit(5, 3)), cirq.CZ.on(cirq.GridQubit(4, 3), cirq.GridQubit(5, 3)), cirq.CZ.on(cirq.GridQubit(6, 8), cirq.GridQubit(6, 9)), cirq.CZ.on(cirq.GridQubit(5, 6), cirq.GridQubit(6, 6)), cirq.CZ.on(cirq.GridQubit(1, 5), cirq.GridQubit(1, 6)), cirq.CZ.on(cirq.GridQubit(1, 5), cirq.GridQubit(1, 4)), cirq.CZ.on(cirq.GridQubit(6, 3), cirq.GridQubit(5, 3)), cirq.CZ.on(cirq.GridQubit(4, 5), cirq.GridQubit(4, 6)), cirq.CZ.on(cirq.GridQubit(6, 6), cirq.GridQubit(7, 6)), cirq.CZ.on(cirq.GridQubit(4, 6), cirq.GridQubit(4, 7)), cirq.CZ.on(cirq.GridQubit(5, 1), cirq.GridQubit(5, 0)), cirq.CZ.on(cirq.GridQubit(10, 5), cirq.GridQubit(10, 6)), cirq.CZ.on(cirq.GridQubit(2, 3), cirq.GridQubit(3, 3)), cirq.CZ.on(cirq.GridQubit(2, 6), cirq.GridQubit(2, 5)), cirq.CZ.on(cirq.GridQubit(7, 5), cirq.GridQubit(7, 6)), cirq.CZ.on(cirq.GridQubit(1, 6), cirq.GridQubit(0, 6)), cirq.CZ.on(cirq.GridQubit(5, 9), cirq.GridQubit(6, 9)), cirq.CZ.on(cirq.GridQubit(0, 5), cirq.GridQubit(1, 5)), cirq.CZ.on(cirq.GridQubit(4, 8), cirq.GridQubit(4, 7)), cirq.CZ.on(cirq.GridQubit(7, 8), cirq.GridQubit(8, 8)), cirq.CZ.on(cirq.GridQubit(7, 4), cirq.GridQubit(7, 5)), cirq.CZ.on(cirq.GridQubit(9, 4), cirq.GridQubit(8, 4)), cirq.CZ.on(cirq.GridQubit(2, 5), cirq.GridQubit(3, 5)), cirq.CZ.on(cirq.GridQubit(7, 7), cirq.GridQubit(7, 6)), cirq.CZ.on(cirq.GridQubit(2, 8), cirq.GridQubit(3, 8)), cirq.CZ.on(cirq.GridQubit(5, 7), cirq.GridQubit(6, 7)), cirq.CZ.on(cirq.GridQubit(5, 4), cirq.GridQubit(6, 4)), cirq.CZ.on(cirq.GridQubit(6, 2), cirq.GridQubit(6, 3)), cirq.CZ.on(cirq.GridQubit(4, 2), cirq.GridQubit(4, 1))}\n",
            "121\n"
          ],
          "name": "stdout"
        }
      ]
    },
    {
      "cell_type": "markdown",
      "metadata": {
        "id": "qPp9OLB-xq2m",
        "colab_type": "text"
      },
      "source": [
        "The **qubits** in cirq *are labelled* by their positions on chip"
      ]
    },
    {
      "cell_type": "code",
      "metadata": {
        "id": "_flZKXSCxiut",
        "colab_type": "code",
        "colab": {
          "base_uri": "https://localhost:8080/",
          "height": 54
        },
        "outputId": "dd933562-a7ce-4935-f8c0-32cc88735880"
      },
      "source": [
        "print( cirq.google.Bristlecone.qubits )"
      ],
      "execution_count": 7,
      "outputs": [
        {
          "output_type": "stream",
          "text": [
            "frozenset({cirq.GridQubit(4, 5), cirq.GridQubit(6, 2), cirq.GridQubit(3, 4), cirq.GridQubit(5, 2), cirq.GridQubit(5, 11), cirq.GridQubit(7, 8), cirq.GridQubit(5, 7), cirq.GridQubit(5, 9), cirq.GridQubit(0, 5), cirq.GridQubit(2, 3), cirq.GridQubit(7, 3), cirq.GridQubit(8, 3), cirq.GridQubit(10, 5), cirq.GridQubit(2, 6), cirq.GridQubit(9, 4), cirq.GridQubit(4, 2), cirq.GridQubit(1, 7), cirq.GridQubit(7, 7), cirq.GridQubit(7, 4), cirq.GridQubit(1, 5), cirq.GridQubit(4, 6), cirq.GridQubit(6, 8), cirq.GridQubit(8, 8), cirq.GridQubit(2, 8), cirq.GridQubit(9, 6), cirq.GridQubit(6, 1), cirq.GridQubit(5, 8), cirq.GridQubit(7, 2), cirq.GridQubit(8, 4), cirq.GridQubit(3, 2), cirq.GridQubit(5, 4), cirq.GridQubit(4, 3), cirq.GridQubit(8, 6), cirq.GridQubit(2, 5), cirq.GridQubit(6, 3), cirq.GridQubit(1, 4), cirq.GridQubit(5, 10), cirq.GridQubit(5, 6), cirq.GridQubit(3, 9), cirq.GridQubit(7, 5), cirq.GridQubit(4, 1), cirq.GridQubit(4, 8), cirq.GridQubit(6, 6), cirq.GridQubit(2, 7), cirq.GridQubit(4, 4), cirq.GridQubit(6, 10), cirq.GridQubit(4, 10), cirq.GridQubit(1, 6), cirq.GridQubit(3, 5), cirq.GridQubit(5, 3), cirq.GridQubit(6, 4), cirq.GridQubit(7, 9), cirq.GridQubit(8, 7), cirq.GridQubit(3, 7), cirq.GridQubit(5, 1), cirq.GridQubit(0, 6), cirq.GridQubit(3, 3), cirq.GridQubit(5, 5), cirq.GridQubit(8, 5), cirq.GridQubit(7, 6), cirq.GridQubit(2, 4), cirq.GridQubit(10, 6), cirq.GridQubit(6, 5), cirq.GridQubit(9, 7), cirq.GridQubit(4, 7), cirq.GridQubit(6, 9), cirq.GridQubit(3, 6), cirq.GridQubit(5, 0), cirq.GridQubit(6, 7), cirq.GridQubit(9, 5), cirq.GridQubit(3, 8), cirq.GridQubit(4, 9)})\n"
          ],
          "name": "stdout"
        }
      ]
    },
    {
      "cell_type": "markdown",
      "metadata": {
        "id": "vQ-Hi9a9x5Z8",
        "colab_type": "text"
      },
      "source": [
        "Using **sorted** will give you a list of the qubits in row-major order:"
      ]
    },
    {
      "cell_type": "code",
      "metadata": {
        "id": "KWCq2aZZx6TT",
        "colab_type": "code",
        "colab": {
          "base_uri": "https://localhost:8080/",
          "height": 1000
        },
        "outputId": "51853e40-e04e-46c2-f102-c2169f6651dd"
      },
      "source": [
        "sorted(cirq.google.Bristlecone.qubits)"
      ],
      "execution_count": 8,
      "outputs": [
        {
          "output_type": "execute_result",
          "data": {
            "text/plain": [
              "[cirq.GridQubit(0, 5),\n",
              " cirq.GridQubit(0, 6),\n",
              " cirq.GridQubit(1, 4),\n",
              " cirq.GridQubit(1, 5),\n",
              " cirq.GridQubit(1, 6),\n",
              " cirq.GridQubit(1, 7),\n",
              " cirq.GridQubit(2, 3),\n",
              " cirq.GridQubit(2, 4),\n",
              " cirq.GridQubit(2, 5),\n",
              " cirq.GridQubit(2, 6),\n",
              " cirq.GridQubit(2, 7),\n",
              " cirq.GridQubit(2, 8),\n",
              " cirq.GridQubit(3, 2),\n",
              " cirq.GridQubit(3, 3),\n",
              " cirq.GridQubit(3, 4),\n",
              " cirq.GridQubit(3, 5),\n",
              " cirq.GridQubit(3, 6),\n",
              " cirq.GridQubit(3, 7),\n",
              " cirq.GridQubit(3, 8),\n",
              " cirq.GridQubit(3, 9),\n",
              " cirq.GridQubit(4, 1),\n",
              " cirq.GridQubit(4, 2),\n",
              " cirq.GridQubit(4, 3),\n",
              " cirq.GridQubit(4, 4),\n",
              " cirq.GridQubit(4, 5),\n",
              " cirq.GridQubit(4, 6),\n",
              " cirq.GridQubit(4, 7),\n",
              " cirq.GridQubit(4, 8),\n",
              " cirq.GridQubit(4, 9),\n",
              " cirq.GridQubit(4, 10),\n",
              " cirq.GridQubit(5, 0),\n",
              " cirq.GridQubit(5, 1),\n",
              " cirq.GridQubit(5, 2),\n",
              " cirq.GridQubit(5, 3),\n",
              " cirq.GridQubit(5, 4),\n",
              " cirq.GridQubit(5, 5),\n",
              " cirq.GridQubit(5, 6),\n",
              " cirq.GridQubit(5, 7),\n",
              " cirq.GridQubit(5, 8),\n",
              " cirq.GridQubit(5, 9),\n",
              " cirq.GridQubit(5, 10),\n",
              " cirq.GridQubit(5, 11),\n",
              " cirq.GridQubit(6, 1),\n",
              " cirq.GridQubit(6, 2),\n",
              " cirq.GridQubit(6, 3),\n",
              " cirq.GridQubit(6, 4),\n",
              " cirq.GridQubit(6, 5),\n",
              " cirq.GridQubit(6, 6),\n",
              " cirq.GridQubit(6, 7),\n",
              " cirq.GridQubit(6, 8),\n",
              " cirq.GridQubit(6, 9),\n",
              " cirq.GridQubit(6, 10),\n",
              " cirq.GridQubit(7, 2),\n",
              " cirq.GridQubit(7, 3),\n",
              " cirq.GridQubit(7, 4),\n",
              " cirq.GridQubit(7, 5),\n",
              " cirq.GridQubit(7, 6),\n",
              " cirq.GridQubit(7, 7),\n",
              " cirq.GridQubit(7, 8),\n",
              " cirq.GridQubit(7, 9),\n",
              " cirq.GridQubit(8, 3),\n",
              " cirq.GridQubit(8, 4),\n",
              " cirq.GridQubit(8, 5),\n",
              " cirq.GridQubit(8, 6),\n",
              " cirq.GridQubit(8, 7),\n",
              " cirq.GridQubit(8, 8),\n",
              " cirq.GridQubit(9, 4),\n",
              " cirq.GridQubit(9, 5),\n",
              " cirq.GridQubit(9, 6),\n",
              " cirq.GridQubit(9, 7),\n",
              " cirq.GridQubit(10, 5),\n",
              " cirq.GridQubit(10, 6)]"
            ]
          },
          "metadata": {
            "tags": []
          },
          "execution_count": 8
        }
      ]
    },
    {
      "cell_type": "markdown",
      "metadata": {
        "id": "YatshNJCyT6g",
        "colab_type": "text"
      },
      "source": [
        "using the list comprehension ..."
      ]
    },
    {
      "cell_type": "code",
      "metadata": {
        "id": "-hBnA1ZPyLgD",
        "colab_type": "code",
        "colab": {
          "base_uri": "https://localhost:8080/",
          "height": 1000
        },
        "outputId": "78aca5fd-df4c-4ae7-9a0f-249328f477b5"
      },
      "source": [
        " [(q.row, q.col) for q in sorted(cirq.google.Bristlecone.qubits)]"
      ],
      "execution_count": 9,
      "outputs": [
        {
          "output_type": "execute_result",
          "data": {
            "text/plain": [
              "[(0, 5),\n",
              " (0, 6),\n",
              " (1, 4),\n",
              " (1, 5),\n",
              " (1, 6),\n",
              " (1, 7),\n",
              " (2, 3),\n",
              " (2, 4),\n",
              " (2, 5),\n",
              " (2, 6),\n",
              " (2, 7),\n",
              " (2, 8),\n",
              " (3, 2),\n",
              " (3, 3),\n",
              " (3, 4),\n",
              " (3, 5),\n",
              " (3, 6),\n",
              " (3, 7),\n",
              " (3, 8),\n",
              " (3, 9),\n",
              " (4, 1),\n",
              " (4, 2),\n",
              " (4, 3),\n",
              " (4, 4),\n",
              " (4, 5),\n",
              " (4, 6),\n",
              " (4, 7),\n",
              " (4, 8),\n",
              " (4, 9),\n",
              " (4, 10),\n",
              " (5, 0),\n",
              " (5, 1),\n",
              " (5, 2),\n",
              " (5, 3),\n",
              " (5, 4),\n",
              " (5, 5),\n",
              " (5, 6),\n",
              " (5, 7),\n",
              " (5, 8),\n",
              " (5, 9),\n",
              " (5, 10),\n",
              " (5, 11),\n",
              " (6, 1),\n",
              " (6, 2),\n",
              " (6, 3),\n",
              " (6, 4),\n",
              " (6, 5),\n",
              " (6, 6),\n",
              " (6, 7),\n",
              " (6, 8),\n",
              " (6, 9),\n",
              " (6, 10),\n",
              " (7, 2),\n",
              " (7, 3),\n",
              " (7, 4),\n",
              " (7, 5),\n",
              " (7, 6),\n",
              " (7, 7),\n",
              " (7, 8),\n",
              " (7, 9),\n",
              " (8, 3),\n",
              " (8, 4),\n",
              " (8, 5),\n",
              " (8, 6),\n",
              " (8, 7),\n",
              " (8, 8),\n",
              " (9, 4),\n",
              " (9, 5),\n",
              " (9, 6),\n",
              " (9, 7),\n",
              " (10, 5),\n",
              " (10, 6)]"
            ]
          },
          "metadata": {
            "tags": []
          },
          "execution_count": 9
        }
      ]
    },
    {
      "cell_type": "markdown",
      "metadata": {
        "id": "i2SXDBN4ye0D",
        "colab_type": "text"
      },
      "source": [
        "sort before or after conversion because the tuples comes with default ordering ..."
      ]
    },
    {
      "cell_type": "code",
      "metadata": {
        "id": "46LmW-YNyq_6",
        "colab_type": "code",
        "colab": {
          "base_uri": "https://localhost:8080/",
          "height": 1000
        },
        "outputId": "001a1f45-59cd-4488-cb79-5284a0465219"
      },
      "source": [
        "sorted((q.row, q.col) for q in cirq.google.Bristlecone.qubits)"
      ],
      "execution_count": 10,
      "outputs": [
        {
          "output_type": "execute_result",
          "data": {
            "text/plain": [
              "[(0, 5),\n",
              " (0, 6),\n",
              " (1, 4),\n",
              " (1, 5),\n",
              " (1, 6),\n",
              " (1, 7),\n",
              " (2, 3),\n",
              " (2, 4),\n",
              " (2, 5),\n",
              " (2, 6),\n",
              " (2, 7),\n",
              " (2, 8),\n",
              " (3, 2),\n",
              " (3, 3),\n",
              " (3, 4),\n",
              " (3, 5),\n",
              " (3, 6),\n",
              " (3, 7),\n",
              " (3, 8),\n",
              " (3, 9),\n",
              " (4, 1),\n",
              " (4, 2),\n",
              " (4, 3),\n",
              " (4, 4),\n",
              " (4, 5),\n",
              " (4, 6),\n",
              " (4, 7),\n",
              " (4, 8),\n",
              " (4, 9),\n",
              " (4, 10),\n",
              " (5, 0),\n",
              " (5, 1),\n",
              " (5, 2),\n",
              " (5, 3),\n",
              " (5, 4),\n",
              " (5, 5),\n",
              " (5, 6),\n",
              " (5, 7),\n",
              " (5, 8),\n",
              " (5, 9),\n",
              " (5, 10),\n",
              " (5, 11),\n",
              " (6, 1),\n",
              " (6, 2),\n",
              " (6, 3),\n",
              " (6, 4),\n",
              " (6, 5),\n",
              " (6, 6),\n",
              " (6, 7),\n",
              " (6, 8),\n",
              " (6, 9),\n",
              " (6, 10),\n",
              " (7, 2),\n",
              " (7, 3),\n",
              " (7, 4),\n",
              " (7, 5),\n",
              " (7, 6),\n",
              " (7, 7),\n",
              " (7, 8),\n",
              " (7, 9),\n",
              " (8, 3),\n",
              " (8, 4),\n",
              " (8, 5),\n",
              " (8, 6),\n",
              " (8, 7),\n",
              " (8, 8),\n",
              " (9, 4),\n",
              " (9, 5),\n",
              " (9, 6),\n",
              " (9, 7),\n",
              " (10, 5),\n",
              " (10, 6)]"
            ]
          },
          "metadata": {
            "tags": []
          },
          "execution_count": 10
        }
      ]
    },
    {
      "cell_type": "markdown",
      "metadata": {
        "id": "seZKZSZ-yw-7",
        "colab_type": "text"
      },
      "source": [
        "print the circuit with all settings we need to know :\n"
      ]
    },
    {
      "cell_type": "code",
      "metadata": {
        "id": "ZgKjq_BrgGa4",
        "colab_type": "code",
        "outputId": "294611b5-0af9-4187-ed0f-07ed0278c7e1",
        "colab": {
          "base_uri": "https://localhost:8080/",
          "height": 471
        }
      },
      "source": [
        "line = cirq.google.line_on_device(cirq.google.Bristlecone, length=12)\n",
        "print(line)\n",
        "print(\"Initial circuit:\")\n",
        "n = 3\n",
        "depth = 4\n",
        "circuit = cirq.Circuit(\n",
        "        cirq.SWAP(cirq.LineQubit(j), cirq.LineQubit(j + 1))\n",
        "        for i in range(depth)\n",
        "        for j in range(i % 2, n - 1, 2))\n",
        "circuit.append(cirq.measure(*cirq.LineQubit.range(n), key='all'))\n",
        "print(circuit)\n",
        "print(\"Xmon circuit:\")\n",
        "translated = cirq.google.optimized_for_xmon(\n",
        "        circuit=circuit,\n",
        "        new_device=cirq.google.Bristlecone,\n",
        "        qubit_map=lambda q: line[q.x])\n",
        "print(translated)"
      ],
      "execution_count": 11,
      "outputs": [
        {
          "output_type": "stream",
          "text": [
            "(0, 5)━━(0, 6)\n",
            "        ┃\n",
            "        (1, 6)━━(1, 7)\n",
            "                ┃\n",
            "                (2, 7)━━(2, 8)\n",
            "                        ┃\n",
            "                        (3, 8)━━(3, 9)\n",
            "                                ┃\n",
            "                                (4, 9)━━(4, 10)\n",
            "                                        ┃\n",
            "                                        (5, 10)\n",
            "                                        ┃\n",
            "                                        (6, 10)\n",
            "Initial circuit:\n",
            "0: ───×───────×───────M('all')───\n",
            "      │       │       │\n",
            "1: ───×───×───×───×───M──────────\n",
            "          │       │   │\n",
            "2: ───────×───────×───M──────────\n",
            "Xmon circuit:\n",
            "(0, 5): ───PhX(0)^0.5─────@───PhX(1)^0.5──────@───PhX(-2.22e-16)^0.5───@───PhX(0.5)^0.5───────────────────────────────────────────────────────────────@───PhX(-0.5)^0.5───@───PhX(0.5)^0.5───@───────────────────────────────────────────────────────────────────M('all')───\n",
            "                          │                   │                        │                                                                              │                   │                  │                                                                   │\n",
            "(0, 6): ───PhX(0.5)^0.5───@───PhX(-0.5)^0.5───@───PhX(0.5)^0.5─────────@───PhX(-0.5)^0.5───@───PhX(0.5)^0.5────@───PhX(-0.5)^0.5───@───PhX(0.5)^0.5───@───PhX(-0.5)^0.5───@───PhX(0.5)^0.5───@───PhX(-0.5)^0.5───@───PhX(0.5)^0.5───@───PhX(-0.5)^0.5────────@───M──────────\n",
            "                                                                                           │                   │                   │                                                                             │                  │                        │   │\n",
            "(1, 6): ───PhX(0.5)^0.5────────────────────────────────────────────────────────────────────@───PhX(-0.5)^0.5───@───PhX(0.5)^0.5────@───PhX(0)^0.5────────────────────────────────────────────────────────────────@───PhX(1)^0.5─────@───PhX(-2.22e-16)^0.5───@───M──────────\n"
          ],
          "name": "stdout"
        }
      ]
    },
    {
      "cell_type": "markdown",
      "metadata": {
        "id": "QmTH_JE0gxpv",
        "colab_type": "text"
      },
      "source": [
        "\n",
        "The **Xmon** qubit is a **transmon qubit**\n",
        "\n",
        "History of the name **transmon**\n",
        "\n",
        "*Rob Schoelkopf told me the story of where the name \"transmon\" came from while we were at the Les Houches summer school on \"Quantum Machines\". The charge qubit suffered from low frequency noisey charge fluctuations that lead to dephasing. To get around the problem, Professor Schoelkopf thought to shunt the junction with a bit of transmission line. The line would be a short circuit at dc, allowing low frequency charge to equalize, but it would be a high impedance at the qubit's resonance frequency allowing the resonance to remain. The combination of a transmission line with the junction plasmon mode lead to the name \"transmon\".*\n",
        "\n",
        "In quantum computing, a **charge qubit** (also known as Cooper-pair box) is a qubit whose basis states are charge states.\n",
        "\n",
        "**Transmon** and **Xmon qubits** are two types of superconducting **charge qubits** that seem to be often used in superconducting quantum devices."
      ]
    },
    {
      "cell_type": "markdown",
      "metadata": {
        "id": "ddWXWUhpuwHx",
        "colab_type": "text"
      },
      "source": [
        "Let's test the gates.\n",
        "\n",
        "Cirq comes with a number of common named gates:\n",
        "\n",
        "CNOT the controlled-X gate\n",
        "\n",
        "SWAP the swap gate\n",
        "\n",
        "H the Hadamard gate\n",
        "\n",
        "S the square root of Z gate\n",
        "\n",
        "and our error correcting friend the T gate\n",
        "\n",
        "A Gate is an operation that can be applied to a collection of qubits.\n",
        "\n",
        "Gates operate on a specific number of qubits and classes\n",
        "\n",
        "We can use the **SingleQubitGate**, **TwoQubitGate**, and **ThreeQubitGate** classes for these common gate sizes.\n",
        "\n",
        "For example:\n",
        "\n",
        "**SingleQubitGate** is a gate that must be applied to exactly one qubit.\n",
        "\n",
        "**TwoQubitGate** is a 2-qubit gate defined only by its matrix.\n",
        "\n",
        "**ThreeQubitGate** is a gate given by a diagonal 8x8 matrix."
      ]
    },
    {
      "cell_type": "code",
      "metadata": {
        "id": "NOE3reT-7kSZ",
        "colab_type": "code",
        "outputId": "2a7710e6-8b18-4f04-8095-7f8fbce0cc80",
        "colab": {
          "base_uri": "https://localhost:8080/",
          "height": 54
        }
      },
      "source": [
        "# create some qubits\n",
        "qubits = [cirq.GridQubit(x, y) for x in range(76) for y in range(76)]\n",
        "print(qubits)"
      ],
      "execution_count": 12,
      "outputs": [
        {
          "output_type": "stream",
          "text": [
            "[cirq.GridQubit(0, 0), cirq.GridQubit(0, 1), cirq.GridQubit(0, 2), cirq.GridQubit(0, 3), cirq.GridQubit(0, 4), cirq.GridQubit(0, 5), cirq.GridQubit(0, 6), cirq.GridQubit(0, 7), cirq.GridQubit(0, 8), cirq.GridQubit(0, 9), cirq.GridQubit(0, 10), cirq.GridQubit(0, 11), cirq.GridQubit(0, 12), cirq.GridQubit(0, 13), cirq.GridQubit(0, 14), cirq.GridQubit(0, 15), cirq.GridQubit(0, 16), cirq.GridQubit(0, 17), cirq.GridQubit(0, 18), cirq.GridQubit(0, 19), cirq.GridQubit(0, 20), cirq.GridQubit(0, 21), cirq.GridQubit(0, 22), cirq.GridQubit(0, 23), cirq.GridQubit(0, 24), cirq.GridQubit(0, 25), cirq.GridQubit(0, 26), cirq.GridQubit(0, 27), cirq.GridQubit(0, 28), cirq.GridQubit(0, 29), cirq.GridQubit(0, 30), cirq.GridQubit(0, 31), cirq.GridQubit(0, 32), cirq.GridQubit(0, 33), cirq.GridQubit(0, 34), cirq.GridQubit(0, 35), cirq.GridQubit(0, 36), cirq.GridQubit(0, 37), cirq.GridQubit(0, 38), cirq.GridQubit(0, 39), cirq.GridQubit(0, 40), cirq.GridQubit(0, 41), cirq.GridQubit(0, 42), cirq.GridQubit(0, 43), cirq.GridQubit(0, 44), cirq.GridQubit(0, 45), cirq.GridQubit(0, 46), cirq.GridQubit(0, 47), cirq.GridQubit(0, 48), cirq.GridQubit(0, 49), cirq.GridQubit(0, 50), cirq.GridQubit(0, 51), cirq.GridQubit(0, 52), cirq.GridQubit(0, 53), cirq.GridQubit(0, 54), cirq.GridQubit(0, 55), cirq.GridQubit(0, 56), cirq.GridQubit(0, 57), cirq.GridQubit(0, 58), cirq.GridQubit(0, 59), cirq.GridQubit(0, 60), cirq.GridQubit(0, 61), cirq.GridQubit(0, 62), cirq.GridQubit(0, 63), cirq.GridQubit(0, 64), cirq.GridQubit(0, 65), cirq.GridQubit(0, 66), cirq.GridQubit(0, 67), cirq.GridQubit(0, 68), cirq.GridQubit(0, 69), cirq.GridQubit(0, 70), cirq.GridQubit(0, 71), cirq.GridQubit(0, 72), cirq.GridQubit(0, 73), cirq.GridQubit(0, 74), cirq.GridQubit(0, 75), cirq.GridQubit(1, 0), cirq.GridQubit(1, 1), cirq.GridQubit(1, 2), cirq.GridQubit(1, 3), cirq.GridQubit(1, 4), cirq.GridQubit(1, 5), cirq.GridQubit(1, 6), cirq.GridQubit(1, 7), cirq.GridQubit(1, 8), cirq.GridQubit(1, 9), cirq.GridQubit(1, 10), cirq.GridQubit(1, 11), cirq.GridQubit(1, 12), cirq.GridQubit(1, 13), cirq.GridQubit(1, 14), cirq.GridQubit(1, 15), cirq.GridQubit(1, 16), cirq.GridQubit(1, 17), cirq.GridQubit(1, 18), cirq.GridQubit(1, 19), cirq.GridQubit(1, 20), cirq.GridQubit(1, 21), cirq.GridQubit(1, 22), cirq.GridQubit(1, 23), cirq.GridQubit(1, 24), cirq.GridQubit(1, 25), cirq.GridQubit(1, 26), cirq.GridQubit(1, 27), cirq.GridQubit(1, 28), cirq.GridQubit(1, 29), cirq.GridQubit(1, 30), cirq.GridQubit(1, 31), cirq.GridQubit(1, 32), cirq.GridQubit(1, 33), cirq.GridQubit(1, 34), cirq.GridQubit(1, 35), cirq.GridQubit(1, 36), cirq.GridQubit(1, 37), cirq.GridQubit(1, 38), cirq.GridQubit(1, 39), cirq.GridQubit(1, 40), cirq.GridQubit(1, 41), cirq.GridQubit(1, 42), cirq.GridQubit(1, 43), cirq.GridQubit(1, 44), cirq.GridQubit(1, 45), cirq.GridQubit(1, 46), cirq.GridQubit(1, 47), cirq.GridQubit(1, 48), cirq.GridQubit(1, 49), cirq.GridQubit(1, 50), cirq.GridQubit(1, 51), cirq.GridQubit(1, 52), cirq.GridQubit(1, 53), cirq.GridQubit(1, 54), cirq.GridQubit(1, 55), cirq.GridQubit(1, 56), cirq.GridQubit(1, 57), cirq.GridQubit(1, 58), cirq.GridQubit(1, 59), cirq.GridQubit(1, 60), cirq.GridQubit(1, 61), cirq.GridQubit(1, 62), cirq.GridQubit(1, 63), cirq.GridQubit(1, 64), cirq.GridQubit(1, 65), cirq.GridQubit(1, 66), cirq.GridQubit(1, 67), cirq.GridQubit(1, 68), cirq.GridQubit(1, 69), cirq.GridQubit(1, 70), cirq.GridQubit(1, 71), cirq.GridQubit(1, 72), cirq.GridQubit(1, 73), cirq.GridQubit(1, 74), cirq.GridQubit(1, 75), cirq.GridQubit(2, 0), cirq.GridQubit(2, 1), cirq.GridQubit(2, 2), cirq.GridQubit(2, 3), cirq.GridQubit(2, 4), cirq.GridQubit(2, 5), cirq.GridQubit(2, 6), cirq.GridQubit(2, 7), cirq.GridQubit(2, 8), cirq.GridQubit(2, 9), cirq.GridQubit(2, 10), cirq.GridQubit(2, 11), cirq.GridQubit(2, 12), cirq.GridQubit(2, 13), cirq.GridQubit(2, 14), cirq.GridQubit(2, 15), cirq.GridQubit(2, 16), cirq.GridQubit(2, 17), cirq.GridQubit(2, 18), cirq.GridQubit(2, 19), cirq.GridQubit(2, 20), cirq.GridQubit(2, 21), cirq.GridQubit(2, 22), cirq.GridQubit(2, 23), cirq.GridQubit(2, 24), cirq.GridQubit(2, 25), cirq.GridQubit(2, 26), cirq.GridQubit(2, 27), cirq.GridQubit(2, 28), cirq.GridQubit(2, 29), cirq.GridQubit(2, 30), cirq.GridQubit(2, 31), cirq.GridQubit(2, 32), cirq.GridQubit(2, 33), cirq.GridQubit(2, 34), cirq.GridQubit(2, 35), cirq.GridQubit(2, 36), cirq.GridQubit(2, 37), cirq.GridQubit(2, 38), cirq.GridQubit(2, 39), cirq.GridQubit(2, 40), cirq.GridQubit(2, 41), cirq.GridQubit(2, 42), cirq.GridQubit(2, 43), cirq.GridQubit(2, 44), cirq.GridQubit(2, 45), cirq.GridQubit(2, 46), cirq.GridQubit(2, 47), cirq.GridQubit(2, 48), cirq.GridQubit(2, 49), cirq.GridQubit(2, 50), cirq.GridQubit(2, 51), cirq.GridQubit(2, 52), cirq.GridQubit(2, 53), cirq.GridQubit(2, 54), cirq.GridQubit(2, 55), cirq.GridQubit(2, 56), cirq.GridQubit(2, 57), cirq.GridQubit(2, 58), cirq.GridQubit(2, 59), cirq.GridQubit(2, 60), cirq.GridQubit(2, 61), cirq.GridQubit(2, 62), cirq.GridQubit(2, 63), cirq.GridQubit(2, 64), cirq.GridQubit(2, 65), cirq.GridQubit(2, 66), cirq.GridQubit(2, 67), cirq.GridQubit(2, 68), cirq.GridQubit(2, 69), cirq.GridQubit(2, 70), cirq.GridQubit(2, 71), cirq.GridQubit(2, 72), cirq.GridQubit(2, 73), cirq.GridQubit(2, 74), cirq.GridQubit(2, 75), cirq.GridQubit(3, 0), cirq.GridQubit(3, 1), cirq.GridQubit(3, 2), cirq.GridQubit(3, 3), cirq.GridQubit(3, 4), cirq.GridQubit(3, 5), cirq.GridQubit(3, 6), cirq.GridQubit(3, 7), cirq.GridQubit(3, 8), cirq.GridQubit(3, 9), cirq.GridQubit(3, 10), cirq.GridQubit(3, 11), cirq.GridQubit(3, 12), cirq.GridQubit(3, 13), cirq.GridQubit(3, 14), cirq.GridQubit(3, 15), cirq.GridQubit(3, 16), cirq.GridQubit(3, 17), cirq.GridQubit(3, 18), cirq.GridQubit(3, 19), cirq.GridQubit(3, 20), cirq.GridQubit(3, 21), cirq.GridQubit(3, 22), cirq.GridQubit(3, 23), cirq.GridQubit(3, 24), cirq.GridQubit(3, 25), cirq.GridQubit(3, 26), cirq.GridQubit(3, 27), cirq.GridQubit(3, 28), cirq.GridQubit(3, 29), cirq.GridQubit(3, 30), cirq.GridQubit(3, 31), cirq.GridQubit(3, 32), cirq.GridQubit(3, 33), cirq.GridQubit(3, 34), cirq.GridQubit(3, 35), cirq.GridQubit(3, 36), cirq.GridQubit(3, 37), cirq.GridQubit(3, 38), cirq.GridQubit(3, 39), cirq.GridQubit(3, 40), cirq.GridQubit(3, 41), cirq.GridQubit(3, 42), cirq.GridQubit(3, 43), cirq.GridQubit(3, 44), cirq.GridQubit(3, 45), cirq.GridQubit(3, 46), cirq.GridQubit(3, 47), cirq.GridQubit(3, 48), cirq.GridQubit(3, 49), cirq.GridQubit(3, 50), cirq.GridQubit(3, 51), cirq.GridQubit(3, 52), cirq.GridQubit(3, 53), cirq.GridQubit(3, 54), cirq.GridQubit(3, 55), cirq.GridQubit(3, 56), cirq.GridQubit(3, 57), cirq.GridQubit(3, 58), cirq.GridQubit(3, 59), cirq.GridQubit(3, 60), cirq.GridQubit(3, 61), cirq.GridQubit(3, 62), cirq.GridQubit(3, 63), cirq.GridQubit(3, 64), cirq.GridQubit(3, 65), cirq.GridQubit(3, 66), cirq.GridQubit(3, 67), cirq.GridQubit(3, 68), cirq.GridQubit(3, 69), cirq.GridQubit(3, 70), cirq.GridQubit(3, 71), cirq.GridQubit(3, 72), cirq.GridQubit(3, 73), cirq.GridQubit(3, 74), cirq.GridQubit(3, 75), cirq.GridQubit(4, 0), cirq.GridQubit(4, 1), cirq.GridQubit(4, 2), cirq.GridQubit(4, 3), cirq.GridQubit(4, 4), cirq.GridQubit(4, 5), cirq.GridQubit(4, 6), cirq.GridQubit(4, 7), cirq.GridQubit(4, 8), cirq.GridQubit(4, 9), cirq.GridQubit(4, 10), cirq.GridQubit(4, 11), cirq.GridQubit(4, 12), cirq.GridQubit(4, 13), cirq.GridQubit(4, 14), cirq.GridQubit(4, 15), cirq.GridQubit(4, 16), cirq.GridQubit(4, 17), cirq.GridQubit(4, 18), cirq.GridQubit(4, 19), cirq.GridQubit(4, 20), cirq.GridQubit(4, 21), cirq.GridQubit(4, 22), cirq.GridQubit(4, 23), cirq.GridQubit(4, 24), cirq.GridQubit(4, 25), cirq.GridQubit(4, 26), cirq.GridQubit(4, 27), cirq.GridQubit(4, 28), cirq.GridQubit(4, 29), cirq.GridQubit(4, 30), cirq.GridQubit(4, 31), cirq.GridQubit(4, 32), cirq.GridQubit(4, 33), cirq.GridQubit(4, 34), cirq.GridQubit(4, 35), cirq.GridQubit(4, 36), cirq.GridQubit(4, 37), cirq.GridQubit(4, 38), cirq.GridQubit(4, 39), cirq.GridQubit(4, 40), cirq.GridQubit(4, 41), cirq.GridQubit(4, 42), cirq.GridQubit(4, 43), cirq.GridQubit(4, 44), cirq.GridQubit(4, 45), cirq.GridQubit(4, 46), cirq.GridQubit(4, 47), cirq.GridQubit(4, 48), cirq.GridQubit(4, 49), cirq.GridQubit(4, 50), cirq.GridQubit(4, 51), cirq.GridQubit(4, 52), cirq.GridQubit(4, 53), cirq.GridQubit(4, 54), cirq.GridQubit(4, 55), cirq.GridQubit(4, 56), cirq.GridQubit(4, 57), cirq.GridQubit(4, 58), cirq.GridQubit(4, 59), cirq.GridQubit(4, 60), cirq.GridQubit(4, 61), cirq.GridQubit(4, 62), cirq.GridQubit(4, 63), cirq.GridQubit(4, 64), cirq.GridQubit(4, 65), cirq.GridQubit(4, 66), cirq.GridQubit(4, 67), cirq.GridQubit(4, 68), cirq.GridQubit(4, 69), cirq.GridQubit(4, 70), cirq.GridQubit(4, 71), cirq.GridQubit(4, 72), cirq.GridQubit(4, 73), cirq.GridQubit(4, 74), cirq.GridQubit(4, 75), cirq.GridQubit(5, 0), cirq.GridQubit(5, 1), cirq.GridQubit(5, 2), cirq.GridQubit(5, 3), cirq.GridQubit(5, 4), cirq.GridQubit(5, 5), cirq.GridQubit(5, 6), cirq.GridQubit(5, 7), cirq.GridQubit(5, 8), cirq.GridQubit(5, 9), cirq.GridQubit(5, 10), cirq.GridQubit(5, 11), cirq.GridQubit(5, 12), cirq.GridQubit(5, 13), cirq.GridQubit(5, 14), cirq.GridQubit(5, 15), cirq.GridQubit(5, 16), cirq.GridQubit(5, 17), cirq.GridQubit(5, 18), cirq.GridQubit(5, 19), cirq.GridQubit(5, 20), cirq.GridQubit(5, 21), cirq.GridQubit(5, 22), cirq.GridQubit(5, 23), cirq.GridQubit(5, 24), cirq.GridQubit(5, 25), cirq.GridQubit(5, 26), cirq.GridQubit(5, 27), cirq.GridQubit(5, 28), cirq.GridQubit(5, 29), cirq.GridQubit(5, 30), cirq.GridQubit(5, 31), cirq.GridQubit(5, 32), cirq.GridQubit(5, 33), cirq.GridQubit(5, 34), cirq.GridQubit(5, 35), cirq.GridQubit(5, 36), cirq.GridQubit(5, 37), cirq.GridQubit(5, 38), cirq.GridQubit(5, 39), cirq.GridQubit(5, 40), cirq.GridQubit(5, 41), cirq.GridQubit(5, 42), cirq.GridQubit(5, 43), cirq.GridQubit(5, 44), cirq.GridQubit(5, 45), cirq.GridQubit(5, 46), cirq.GridQubit(5, 47), cirq.GridQubit(5, 48), cirq.GridQubit(5, 49), cirq.GridQubit(5, 50), cirq.GridQubit(5, 51), cirq.GridQubit(5, 52), cirq.GridQubit(5, 53), cirq.GridQubit(5, 54), cirq.GridQubit(5, 55), cirq.GridQubit(5, 56), cirq.GridQubit(5, 57), cirq.GridQubit(5, 58), cirq.GridQubit(5, 59), cirq.GridQubit(5, 60), cirq.GridQubit(5, 61), cirq.GridQubit(5, 62), cirq.GridQubit(5, 63), cirq.GridQubit(5, 64), cirq.GridQubit(5, 65), cirq.GridQubit(5, 66), cirq.GridQubit(5, 67), cirq.GridQubit(5, 68), cirq.GridQubit(5, 69), cirq.GridQubit(5, 70), cirq.GridQubit(5, 71), cirq.GridQubit(5, 72), cirq.GridQubit(5, 73), cirq.GridQubit(5, 74), cirq.GridQubit(5, 75), cirq.GridQubit(6, 0), cirq.GridQubit(6, 1), cirq.GridQubit(6, 2), cirq.GridQubit(6, 3), cirq.GridQubit(6, 4), cirq.GridQubit(6, 5), cirq.GridQubit(6, 6), cirq.GridQubit(6, 7), cirq.GridQubit(6, 8), cirq.GridQubit(6, 9), cirq.GridQubit(6, 10), cirq.GridQubit(6, 11), cirq.GridQubit(6, 12), cirq.GridQubit(6, 13), cirq.GridQubit(6, 14), cirq.GridQubit(6, 15), cirq.GridQubit(6, 16), cirq.GridQubit(6, 17), cirq.GridQubit(6, 18), cirq.GridQubit(6, 19), cirq.GridQubit(6, 20), cirq.GridQubit(6, 21), cirq.GridQubit(6, 22), cirq.GridQubit(6, 23), cirq.GridQubit(6, 24), cirq.GridQubit(6, 25), cirq.GridQubit(6, 26), cirq.GridQubit(6, 27), cirq.GridQubit(6, 28), cirq.GridQubit(6, 29), cirq.GridQubit(6, 30), cirq.GridQubit(6, 31), cirq.GridQubit(6, 32), cirq.GridQubit(6, 33), cirq.GridQubit(6, 34), cirq.GridQubit(6, 35), cirq.GridQubit(6, 36), cirq.GridQubit(6, 37), cirq.GridQubit(6, 38), cirq.GridQubit(6, 39), cirq.GridQubit(6, 40), cirq.GridQubit(6, 41), cirq.GridQubit(6, 42), cirq.GridQubit(6, 43), cirq.GridQubit(6, 44), cirq.GridQubit(6, 45), cirq.GridQubit(6, 46), cirq.GridQubit(6, 47), cirq.GridQubit(6, 48), cirq.GridQubit(6, 49), cirq.GridQubit(6, 50), cirq.GridQubit(6, 51), cirq.GridQubit(6, 52), cirq.GridQubit(6, 53), cirq.GridQubit(6, 54), cirq.GridQubit(6, 55), cirq.GridQubit(6, 56), cirq.GridQubit(6, 57), cirq.GridQubit(6, 58), cirq.GridQubit(6, 59), cirq.GridQubit(6, 60), cirq.GridQubit(6, 61), cirq.GridQubit(6, 62), cirq.GridQubit(6, 63), cirq.GridQubit(6, 64), cirq.GridQubit(6, 65), cirq.GridQubit(6, 66), cirq.GridQubit(6, 67), cirq.GridQubit(6, 68), cirq.GridQubit(6, 69), cirq.GridQubit(6, 70), cirq.GridQubit(6, 71), cirq.GridQubit(6, 72), cirq.GridQubit(6, 73), cirq.GridQubit(6, 74), cirq.GridQubit(6, 75), cirq.GridQubit(7, 0), cirq.GridQubit(7, 1), cirq.GridQubit(7, 2), cirq.GridQubit(7, 3), cirq.GridQubit(7, 4), cirq.GridQubit(7, 5), cirq.GridQubit(7, 6), cirq.GridQubit(7, 7), cirq.GridQubit(7, 8), cirq.GridQubit(7, 9), cirq.GridQubit(7, 10), cirq.GridQubit(7, 11), cirq.GridQubit(7, 12), cirq.GridQubit(7, 13), cirq.GridQubit(7, 14), cirq.GridQubit(7, 15), cirq.GridQubit(7, 16), cirq.GridQubit(7, 17), cirq.GridQubit(7, 18), cirq.GridQubit(7, 19), cirq.GridQubit(7, 20), cirq.GridQubit(7, 21), cirq.GridQubit(7, 22), cirq.GridQubit(7, 23), cirq.GridQubit(7, 24), cirq.GridQubit(7, 25), cirq.GridQubit(7, 26), cirq.GridQubit(7, 27), cirq.GridQubit(7, 28), cirq.GridQubit(7, 29), cirq.GridQubit(7, 30), cirq.GridQubit(7, 31), cirq.GridQubit(7, 32), cirq.GridQubit(7, 33), cirq.GridQubit(7, 34), cirq.GridQubit(7, 35), cirq.GridQubit(7, 36), cirq.GridQubit(7, 37), cirq.GridQubit(7, 38), cirq.GridQubit(7, 39), cirq.GridQubit(7, 40), cirq.GridQubit(7, 41), cirq.GridQubit(7, 42), cirq.GridQubit(7, 43), cirq.GridQubit(7, 44), cirq.GridQubit(7, 45), cirq.GridQubit(7, 46), cirq.GridQubit(7, 47), cirq.GridQubit(7, 48), cirq.GridQubit(7, 49), cirq.GridQubit(7, 50), cirq.GridQubit(7, 51), cirq.GridQubit(7, 52), cirq.GridQubit(7, 53), cirq.GridQubit(7, 54), cirq.GridQubit(7, 55), cirq.GridQubit(7, 56), cirq.GridQubit(7, 57), cirq.GridQubit(7, 58), cirq.GridQubit(7, 59), cirq.GridQubit(7, 60), cirq.GridQubit(7, 61), cirq.GridQubit(7, 62), cirq.GridQubit(7, 63), cirq.GridQubit(7, 64), cirq.GridQubit(7, 65), cirq.GridQubit(7, 66), cirq.GridQubit(7, 67), cirq.GridQubit(7, 68), cirq.GridQubit(7, 69), cirq.GridQubit(7, 70), cirq.GridQubit(7, 71), cirq.GridQubit(7, 72), cirq.GridQubit(7, 73), cirq.GridQubit(7, 74), cirq.GridQubit(7, 75), cirq.GridQubit(8, 0), cirq.GridQubit(8, 1), cirq.GridQubit(8, 2), cirq.GridQubit(8, 3), cirq.GridQubit(8, 4), cirq.GridQubit(8, 5), cirq.GridQubit(8, 6), cirq.GridQubit(8, 7), cirq.GridQubit(8, 8), cirq.GridQubit(8, 9), cirq.GridQubit(8, 10), cirq.GridQubit(8, 11), cirq.GridQubit(8, 12), cirq.GridQubit(8, 13), cirq.GridQubit(8, 14), cirq.GridQubit(8, 15), cirq.GridQubit(8, 16), cirq.GridQubit(8, 17), cirq.GridQubit(8, 18), cirq.GridQubit(8, 19), cirq.GridQubit(8, 20), cirq.GridQubit(8, 21), cirq.GridQubit(8, 22), cirq.GridQubit(8, 23), cirq.GridQubit(8, 24), cirq.GridQubit(8, 25), cirq.GridQubit(8, 26), cirq.GridQubit(8, 27), cirq.GridQubit(8, 28), cirq.GridQubit(8, 29), cirq.GridQubit(8, 30), cirq.GridQubit(8, 31), cirq.GridQubit(8, 32), cirq.GridQubit(8, 33), cirq.GridQubit(8, 34), cirq.GridQubit(8, 35), cirq.GridQubit(8, 36), cirq.GridQubit(8, 37), cirq.GridQubit(8, 38), cirq.GridQubit(8, 39), cirq.GridQubit(8, 40), cirq.GridQubit(8, 41), cirq.GridQubit(8, 42), cirq.GridQubit(8, 43), cirq.GridQubit(8, 44), cirq.GridQubit(8, 45), cirq.GridQubit(8, 46), cirq.GridQubit(8, 47), cirq.GridQubit(8, 48), cirq.GridQubit(8, 49), cirq.GridQubit(8, 50), cirq.GridQubit(8, 51), cirq.GridQubit(8, 52), cirq.GridQubit(8, 53), cirq.GridQubit(8, 54), cirq.GridQubit(8, 55), cirq.GridQubit(8, 56), cirq.GridQubit(8, 57), cirq.GridQubit(8, 58), cirq.GridQubit(8, 59), cirq.GridQubit(8, 60), cirq.GridQubit(8, 61), cirq.GridQubit(8, 62), cirq.GridQubit(8, 63), cirq.GridQubit(8, 64), cirq.GridQubit(8, 65), cirq.GridQubit(8, 66), cirq.GridQubit(8, 67), cirq.GridQubit(8, 68), cirq.GridQubit(8, 69), cirq.GridQubit(8, 70), cirq.GridQubit(8, 71), cirq.GridQubit(8, 72), cirq.GridQubit(8, 73), cirq.GridQubit(8, 74), cirq.GridQubit(8, 75), cirq.GridQubit(9, 0), cirq.GridQubit(9, 1), cirq.GridQubit(9, 2), cirq.GridQubit(9, 3), cirq.GridQubit(9, 4), cirq.GridQubit(9, 5), cirq.GridQubit(9, 6), cirq.GridQubit(9, 7), cirq.GridQubit(9, 8), cirq.GridQubit(9, 9), cirq.GridQubit(9, 10), cirq.GridQubit(9, 11), cirq.GridQubit(9, 12), cirq.GridQubit(9, 13), cirq.GridQubit(9, 14), cirq.GridQubit(9, 15), cirq.GridQubit(9, 16), cirq.GridQubit(9, 17), cirq.GridQubit(9, 18), cirq.GridQubit(9, 19), cirq.GridQubit(9, 20), cirq.GridQubit(9, 21), cirq.GridQubit(9, 22), cirq.GridQubit(9, 23), cirq.GridQubit(9, 24), cirq.GridQubit(9, 25), cirq.GridQubit(9, 26), cirq.GridQubit(9, 27), cirq.GridQubit(9, 28), cirq.GridQubit(9, 29), cirq.GridQubit(9, 30), cirq.GridQubit(9, 31), cirq.GridQubit(9, 32), cirq.GridQubit(9, 33), cirq.GridQubit(9, 34), cirq.GridQubit(9, 35), cirq.GridQubit(9, 36), cirq.GridQubit(9, 37), cirq.GridQubit(9, 38), cirq.GridQubit(9, 39), cirq.GridQubit(9, 40), cirq.GridQubit(9, 41), cirq.GridQubit(9, 42), cirq.GridQubit(9, 43), cirq.GridQubit(9, 44), cirq.GridQubit(9, 45), cirq.GridQubit(9, 46), cirq.GridQubit(9, 47), cirq.GridQubit(9, 48), cirq.GridQubit(9, 49), cirq.GridQubit(9, 50), cirq.GridQubit(9, 51), cirq.GridQubit(9, 52), cirq.GridQubit(9, 53), cirq.GridQubit(9, 54), cirq.GridQubit(9, 55), cirq.GridQubit(9, 56), cirq.GridQubit(9, 57), cirq.GridQubit(9, 58), cirq.GridQubit(9, 59), cirq.GridQubit(9, 60), cirq.GridQubit(9, 61), cirq.GridQubit(9, 62), cirq.GridQubit(9, 63), cirq.GridQubit(9, 64), cirq.GridQubit(9, 65), cirq.GridQubit(9, 66), cirq.GridQubit(9, 67), cirq.GridQubit(9, 68), cirq.GridQubit(9, 69), cirq.GridQubit(9, 70), cirq.GridQubit(9, 71), cirq.GridQubit(9, 72), cirq.GridQubit(9, 73), cirq.GridQubit(9, 74), cirq.GridQubit(9, 75), cirq.GridQubit(10, 0), cirq.GridQubit(10, 1), cirq.GridQubit(10, 2), cirq.GridQubit(10, 3), cirq.GridQubit(10, 4), cirq.GridQubit(10, 5), cirq.GridQubit(10, 6), cirq.GridQubit(10, 7), cirq.GridQubit(10, 8), cirq.GridQubit(10, 9), cirq.GridQubit(10, 10), cirq.GridQubit(10, 11), cirq.GridQubit(10, 12), cirq.GridQubit(10, 13), cirq.GridQubit(10, 14), cirq.GridQubit(10, 15), cirq.GridQubit(10, 16), cirq.GridQubit(10, 17), cirq.GridQubit(10, 18), cirq.GridQubit(10, 19), cirq.GridQubit(10, 20), cirq.GridQubit(10, 21), cirq.GridQubit(10, 22), cirq.GridQubit(10, 23), cirq.GridQubit(10, 24), cirq.GridQubit(10, 25), cirq.GridQubit(10, 26), cirq.GridQubit(10, 27), cirq.GridQubit(10, 28), cirq.GridQubit(10, 29), cirq.GridQubit(10, 30), cirq.GridQubit(10, 31), cirq.GridQubit(10, 32), cirq.GridQubit(10, 33), cirq.GridQubit(10, 34), cirq.GridQubit(10, 35), cirq.GridQubit(10, 36), cirq.GridQubit(10, 37), cirq.GridQubit(10, 38), cirq.GridQubit(10, 39), cirq.GridQubit(10, 40), cirq.GridQubit(10, 41), cirq.GridQubit(10, 42), cirq.GridQubit(10, 43), cirq.GridQubit(10, 44), cirq.GridQubit(10, 45), cirq.GridQubit(10, 46), cirq.GridQubit(10, 47), cirq.GridQubit(10, 48), cirq.GridQubit(10, 49), cirq.GridQubit(10, 50), cirq.GridQubit(10, 51), cirq.GridQubit(10, 52), cirq.GridQubit(10, 53), cirq.GridQubit(10, 54), cirq.GridQubit(10, 55), cirq.GridQubit(10, 56), cirq.GridQubit(10, 57), cirq.GridQubit(10, 58), cirq.GridQubit(10, 59), cirq.GridQubit(10, 60), cirq.GridQubit(10, 61), cirq.GridQubit(10, 62), cirq.GridQubit(10, 63), cirq.GridQubit(10, 64), cirq.GridQubit(10, 65), cirq.GridQubit(10, 66), cirq.GridQubit(10, 67), cirq.GridQubit(10, 68), cirq.GridQubit(10, 69), cirq.GridQubit(10, 70), cirq.GridQubit(10, 71), cirq.GridQubit(10, 72), cirq.GridQubit(10, 73), cirq.GridQubit(10, 74), cirq.GridQubit(10, 75), cirq.GridQubit(11, 0), cirq.GridQubit(11, 1), cirq.GridQubit(11, 2), cirq.GridQubit(11, 3), cirq.GridQubit(11, 4), cirq.GridQubit(11, 5), cirq.GridQubit(11, 6), cirq.GridQubit(11, 7), cirq.GridQubit(11, 8), cirq.GridQubit(11, 9), cirq.GridQubit(11, 10), cirq.GridQubit(11, 11), cirq.GridQubit(11, 12), cirq.GridQubit(11, 13), cirq.GridQubit(11, 14), cirq.GridQubit(11, 15), cirq.GridQubit(11, 16), cirq.GridQubit(11, 17), cirq.GridQubit(11, 18), cirq.GridQubit(11, 19), cirq.GridQubit(11, 20), cirq.GridQubit(11, 21), cirq.GridQubit(11, 22), cirq.GridQubit(11, 23), cirq.GridQubit(11, 24), cirq.GridQubit(11, 25), cirq.GridQubit(11, 26), cirq.GridQubit(11, 27), cirq.GridQubit(11, 28), cirq.GridQubit(11, 29), cirq.GridQubit(11, 30), cirq.GridQubit(11, 31), cirq.GridQubit(11, 32), cirq.GridQubit(11, 33), cirq.GridQubit(11, 34), cirq.GridQubit(11, 35), cirq.GridQubit(11, 36), cirq.GridQubit(11, 37), cirq.GridQubit(11, 38), cirq.GridQubit(11, 39), cirq.GridQubit(11, 40), cirq.GridQubit(11, 41), cirq.GridQubit(11, 42), cirq.GridQubit(11, 43), cirq.GridQubit(11, 44), cirq.GridQubit(11, 45), cirq.GridQubit(11, 46), cirq.GridQubit(11, 47), cirq.GridQubit(11, 48), cirq.GridQubit(11, 49), cirq.GridQubit(11, 50), cirq.GridQubit(11, 51), cirq.GridQubit(11, 52), cirq.GridQubit(11, 53), cirq.GridQubit(11, 54), cirq.GridQubit(11, 55), cirq.GridQubit(11, 56), cirq.GridQubit(11, 57), cirq.GridQubit(11, 58), cirq.GridQubit(11, 59), cirq.GridQubit(11, 60), cirq.GridQubit(11, 61), cirq.GridQubit(11, 62), cirq.GridQubit(11, 63), cirq.GridQubit(11, 64), cirq.GridQubit(11, 65), cirq.GridQubit(11, 66), cirq.GridQubit(11, 67), cirq.GridQubit(11, 68), cirq.GridQubit(11, 69), cirq.GridQubit(11, 70), cirq.GridQubit(11, 71), cirq.GridQubit(11, 72), cirq.GridQubit(11, 73), cirq.GridQubit(11, 74), cirq.GridQubit(11, 75), cirq.GridQubit(12, 0), cirq.GridQubit(12, 1), cirq.GridQubit(12, 2), cirq.GridQubit(12, 3), cirq.GridQubit(12, 4), cirq.GridQubit(12, 5), cirq.GridQubit(12, 6), cirq.GridQubit(12, 7), cirq.GridQubit(12, 8), cirq.GridQubit(12, 9), cirq.GridQubit(12, 10), cirq.GridQubit(12, 11), cirq.GridQubit(12, 12), cirq.GridQubit(12, 13), cirq.GridQubit(12, 14), cirq.GridQubit(12, 15), cirq.GridQubit(12, 16), cirq.GridQubit(12, 17), cirq.GridQubit(12, 18), cirq.GridQubit(12, 19), cirq.GridQubit(12, 20), cirq.GridQubit(12, 21), cirq.GridQubit(12, 22), cirq.GridQubit(12, 23), cirq.GridQubit(12, 24), cirq.GridQubit(12, 25), cirq.GridQubit(12, 26), cirq.GridQubit(12, 27), cirq.GridQubit(12, 28), cirq.GridQubit(12, 29), cirq.GridQubit(12, 30), cirq.GridQubit(12, 31), cirq.GridQubit(12, 32), cirq.GridQubit(12, 33), cirq.GridQubit(12, 34), cirq.GridQubit(12, 35), cirq.GridQubit(12, 36), cirq.GridQubit(12, 37), cirq.GridQubit(12, 38), cirq.GridQubit(12, 39), cirq.GridQubit(12, 40), cirq.GridQubit(12, 41), cirq.GridQubit(12, 42), cirq.GridQubit(12, 43), cirq.GridQubit(12, 44), cirq.GridQubit(12, 45), cirq.GridQubit(12, 46), cirq.GridQubit(12, 47), cirq.GridQubit(12, 48), cirq.GridQubit(12, 49), cirq.GridQubit(12, 50), cirq.GridQubit(12, 51), cirq.GridQubit(12, 52), cirq.GridQubit(12, 53), cirq.GridQubit(12, 54), cirq.GridQubit(12, 55), cirq.GridQubit(12, 56), cirq.GridQubit(12, 57), cirq.GridQubit(12, 58), cirq.GridQubit(12, 59), cirq.GridQubit(12, 60), cirq.GridQubit(12, 61), cirq.GridQubit(12, 62), cirq.GridQubit(12, 63), cirq.GridQubit(12, 64), cirq.GridQubit(12, 65), cirq.GridQubit(12, 66), cirq.GridQubit(12, 67), cirq.GridQubit(12, 68), cirq.GridQubit(12, 69), cirq.GridQubit(12, 70), cirq.GridQubit(12, 71), cirq.GridQubit(12, 72), cirq.GridQubit(12, 73), cirq.GridQubit(12, 74), cirq.GridQubit(12, 75), cirq.GridQubit(13, 0), cirq.GridQubit(13, 1), cirq.GridQubit(13, 2), cirq.GridQubit(13, 3), cirq.GridQubit(13, 4), cirq.GridQubit(13, 5), cirq.GridQubit(13, 6), cirq.GridQubit(13, 7), cirq.GridQubit(13, 8), cirq.GridQubit(13, 9), cirq.GridQubit(13, 10), cirq.GridQubit(13, 11), cirq.GridQubit(13, 12), cirq.GridQubit(13, 13), cirq.GridQubit(13, 14), cirq.GridQubit(13, 15), cirq.GridQubit(13, 16), cirq.GridQubit(13, 17), cirq.GridQubit(13, 18), cirq.GridQubit(13, 19), cirq.GridQubit(13, 20), cirq.GridQubit(13, 21), cirq.GridQubit(13, 22), cirq.GridQubit(13, 23), cirq.GridQubit(13, 24), cirq.GridQubit(13, 25), cirq.GridQubit(13, 26), cirq.GridQubit(13, 27), cirq.GridQubit(13, 28), cirq.GridQubit(13, 29), cirq.GridQubit(13, 30), cirq.GridQubit(13, 31), cirq.GridQubit(13, 32), cirq.GridQubit(13, 33), cirq.GridQubit(13, 34), cirq.GridQubit(13, 35), cirq.GridQubit(13, 36), cirq.GridQubit(13, 37), cirq.GridQubit(13, 38), cirq.GridQubit(13, 39), cirq.GridQubit(13, 40), cirq.GridQubit(13, 41), cirq.GridQubit(13, 42), cirq.GridQubit(13, 43), cirq.GridQubit(13, 44), cirq.GridQubit(13, 45), cirq.GridQubit(13, 46), cirq.GridQubit(13, 47), cirq.GridQubit(13, 48), cirq.GridQubit(13, 49), cirq.GridQubit(13, 50), cirq.GridQubit(13, 51), cirq.GridQubit(13, 52), cirq.GridQubit(13, 53), cirq.GridQubit(13, 54), cirq.GridQubit(13, 55), cirq.GridQubit(13, 56), cirq.GridQubit(13, 57), cirq.GridQubit(13, 58), cirq.GridQubit(13, 59), cirq.GridQubit(13, 60), cirq.GridQubit(13, 61), cirq.GridQubit(13, 62), cirq.GridQubit(13, 63), cirq.GridQubit(13, 64), cirq.GridQubit(13, 65), cirq.GridQubit(13, 66), cirq.GridQubit(13, 67), cirq.GridQubit(13, 68), cirq.GridQubit(13, 69), cirq.GridQubit(13, 70), cirq.GridQubit(13, 71), cirq.GridQubit(13, 72), cirq.GridQubit(13, 73), cirq.GridQubit(13, 74), cirq.GridQubit(13, 75), cirq.GridQubit(14, 0), cirq.GridQubit(14, 1), cirq.GridQubit(14, 2), cirq.GridQubit(14, 3), cirq.GridQubit(14, 4), cirq.GridQubit(14, 5), cirq.GridQubit(14, 6), cirq.GridQubit(14, 7), cirq.GridQubit(14, 8), cirq.GridQubit(14, 9), cirq.GridQubit(14, 10), cirq.GridQubit(14, 11), cirq.GridQubit(14, 12), cirq.GridQubit(14, 13), cirq.GridQubit(14, 14), cirq.GridQubit(14, 15), cirq.GridQubit(14, 16), cirq.GridQubit(14, 17), cirq.GridQubit(14, 18), cirq.GridQubit(14, 19), cirq.GridQubit(14, 20), cirq.GridQubit(14, 21), cirq.GridQubit(14, 22), cirq.GridQubit(14, 23), cirq.GridQubit(14, 24), cirq.GridQubit(14, 25), cirq.GridQubit(14, 26), cirq.GridQubit(14, 27), cirq.GridQubit(14, 28), cirq.GridQubit(14, 29), cirq.GridQubit(14, 30), cirq.GridQubit(14, 31), cirq.GridQubit(14, 32), cirq.GridQubit(14, 33), cirq.GridQubit(14, 34), cirq.GridQubit(14, 35), cirq.GridQubit(14, 36), cirq.GridQubit(14, 37), cirq.GridQubit(14, 38), cirq.GridQubit(14, 39), cirq.GridQubit(14, 40), cirq.GridQubit(14, 41), cirq.GridQubit(14, 42), cirq.GridQubit(14, 43), cirq.GridQubit(14, 44), cirq.GridQubit(14, 45), cirq.GridQubit(14, 46), cirq.GridQubit(14, 47), cirq.GridQubit(14, 48), cirq.GridQubit(14, 49), cirq.GridQubit(14, 50), cirq.GridQubit(14, 51), cirq.GridQubit(14, 52), cirq.GridQubit(14, 53), cirq.GridQubit(14, 54), cirq.GridQubit(14, 55), cirq.GridQubit(14, 56), cirq.GridQubit(14, 57), cirq.GridQubit(14, 58), cirq.GridQubit(14, 59), cirq.GridQubit(14, 60), cirq.GridQubit(14, 61), cirq.GridQubit(14, 62), cirq.GridQubit(14, 63), cirq.GridQubit(14, 64), cirq.GridQubit(14, 65), cirq.GridQubit(14, 66), cirq.GridQubit(14, 67), cirq.GridQubit(14, 68), cirq.GridQubit(14, 69), cirq.GridQubit(14, 70), cirq.GridQubit(14, 71), cirq.GridQubit(14, 72), cirq.GridQubit(14, 73), cirq.GridQubit(14, 74), cirq.GridQubit(14, 75), cirq.GridQubit(15, 0), cirq.GridQubit(15, 1), cirq.GridQubit(15, 2), cirq.GridQubit(15, 3), cirq.GridQubit(15, 4), cirq.GridQubit(15, 5), cirq.GridQubit(15, 6), cirq.GridQubit(15, 7), cirq.GridQubit(15, 8), cirq.GridQubit(15, 9), cirq.GridQubit(15, 10), cirq.GridQubit(15, 11), cirq.GridQubit(15, 12), cirq.GridQubit(15, 13), cirq.GridQubit(15, 14), cirq.GridQubit(15, 15), cirq.GridQubit(15, 16), cirq.GridQubit(15, 17), cirq.GridQubit(15, 18), cirq.GridQubit(15, 19), cirq.GridQubit(15, 20), cirq.GridQubit(15, 21), cirq.GridQubit(15, 22), cirq.GridQubit(15, 23), cirq.GridQubit(15, 24), cirq.GridQubit(15, 25), cirq.GridQubit(15, 26), cirq.GridQubit(15, 27), cirq.GridQubit(15, 28), cirq.GridQubit(15, 29), cirq.GridQubit(15, 30), cirq.GridQubit(15, 31), cirq.GridQubit(15, 32), cirq.GridQubit(15, 33), cirq.GridQubit(15, 34), cirq.GridQubit(15, 35), cirq.GridQubit(15, 36), cirq.GridQubit(15, 37), cirq.GridQubit(15, 38), cirq.GridQubit(15, 39), cirq.GridQubit(15, 40), cirq.GridQubit(15, 41), cirq.GridQubit(15, 42), cirq.GridQubit(15, 43), cirq.GridQubit(15, 44), cirq.GridQubit(15, 45), cirq.GridQubit(15, 46), cirq.GridQubit(15, 47), cirq.GridQubit(15, 48), cirq.GridQubit(15, 49), cirq.GridQubit(15, 50), cirq.GridQubit(15, 51), cirq.GridQubit(15, 52), cirq.GridQubit(15, 53), cirq.GridQubit(15, 54), cirq.GridQubit(15, 55), cirq.GridQubit(15, 56), cirq.GridQubit(15, 57), cirq.GridQubit(15, 58), cirq.GridQubit(15, 59), cirq.GridQubit(15, 60), cirq.GridQubit(15, 61), cirq.GridQubit(15, 62), cirq.GridQubit(15, 63), cirq.GridQubit(15, 64), cirq.GridQubit(15, 65), cirq.GridQubit(15, 66), cirq.GridQubit(15, 67), cirq.GridQubit(15, 68), cirq.GridQubit(15, 69), cirq.GridQubit(15, 70), cirq.GridQubit(15, 71), cirq.GridQubit(15, 72), cirq.GridQubit(15, 73), cirq.GridQubit(15, 74), cirq.GridQubit(15, 75), cirq.GridQubit(16, 0), cirq.GridQubit(16, 1), cirq.GridQubit(16, 2), cirq.GridQubit(16, 3), cirq.GridQubit(16, 4), cirq.GridQubit(16, 5), cirq.GridQubit(16, 6), cirq.GridQubit(16, 7), cirq.GridQubit(16, 8), cirq.GridQubit(16, 9), cirq.GridQubit(16, 10), cirq.GridQubit(16, 11), cirq.GridQubit(16, 12), cirq.GridQubit(16, 13), cirq.GridQubit(16, 14), cirq.GridQubit(16, 15), cirq.GridQubit(16, 16), cirq.GridQubit(16, 17), cirq.GridQubit(16, 18), cirq.GridQubit(16, 19), cirq.GridQubit(16, 20), cirq.GridQubit(16, 21), cirq.GridQubit(16, 22), cirq.GridQubit(16, 23), cirq.GridQubit(16, 24), cirq.GridQubit(16, 25), cirq.GridQubit(16, 26), cirq.GridQubit(16, 27), cirq.GridQubit(16, 28), cirq.GridQubit(16, 29), cirq.GridQubit(16, 30), cirq.GridQubit(16, 31), cirq.GridQubit(16, 32), cirq.GridQubit(16, 33), cirq.GridQubit(16, 34), cirq.GridQubit(16, 35), cirq.GridQubit(16, 36), cirq.GridQubit(16, 37), cirq.GridQubit(16, 38), cirq.GridQubit(16, 39), cirq.GridQubit(16, 40), cirq.GridQubit(16, 41), cirq.GridQubit(16, 42), cirq.GridQubit(16, 43), cirq.GridQubit(16, 44), cirq.GridQubit(16, 45), cirq.GridQubit(16, 46), cirq.GridQubit(16, 47), cirq.GridQubit(16, 48), cirq.GridQubit(16, 49), cirq.GridQubit(16, 50), cirq.GridQubit(16, 51), cirq.GridQubit(16, 52), cirq.GridQubit(16, 53), cirq.GridQubit(16, 54), cirq.GridQubit(16, 55), cirq.GridQubit(16, 56), cirq.GridQubit(16, 57), cirq.GridQubit(16, 58), cirq.GridQubit(16, 59), cirq.GridQubit(16, 60), cirq.GridQubit(16, 61), cirq.GridQubit(16, 62), cirq.GridQubit(16, 63), cirq.GridQubit(16, 64), cirq.GridQubit(16, 65), cirq.GridQubit(16, 66), cirq.GridQubit(16, 67), cirq.GridQubit(16, 68), cirq.GridQubit(16, 69), cirq.GridQubit(16, 70), cirq.GridQubit(16, 71), cirq.GridQubit(16, 72), cirq.GridQubit(16, 73), cirq.GridQubit(16, 74), cirq.GridQubit(16, 75), cirq.GridQubit(17, 0), cirq.GridQubit(17, 1), cirq.GridQubit(17, 2), cirq.GridQubit(17, 3), cirq.GridQubit(17, 4), cirq.GridQubit(17, 5), cirq.GridQubit(17, 6), cirq.GridQubit(17, 7), cirq.GridQubit(17, 8), cirq.GridQubit(17, 9), cirq.GridQubit(17, 10), cirq.GridQubit(17, 11), cirq.GridQubit(17, 12), cirq.GridQubit(17, 13), cirq.GridQubit(17, 14), cirq.GridQubit(17, 15), cirq.GridQubit(17, 16), cirq.GridQubit(17, 17), cirq.GridQubit(17, 18), cirq.GridQubit(17, 19), cirq.GridQubit(17, 20), cirq.GridQubit(17, 21), cirq.GridQubit(17, 22), cirq.GridQubit(17, 23), cirq.GridQubit(17, 24), cirq.GridQubit(17, 25), cirq.GridQubit(17, 26), cirq.GridQubit(17, 27), cirq.GridQubit(17, 28), cirq.GridQubit(17, 29), cirq.GridQubit(17, 30), cirq.GridQubit(17, 31), cirq.GridQubit(17, 32), cirq.GridQubit(17, 33), cirq.GridQubit(17, 34), cirq.GridQubit(17, 35), cirq.GridQubit(17, 36), cirq.GridQubit(17, 37), cirq.GridQubit(17, 38), cirq.GridQubit(17, 39), cirq.GridQubit(17, 40), cirq.GridQubit(17, 41), cirq.GridQubit(17, 42), cirq.GridQubit(17, 43), cirq.GridQubit(17, 44), cirq.GridQubit(17, 45), cirq.GridQubit(17, 46), cirq.GridQubit(17, 47), cirq.GridQubit(17, 48), cirq.GridQubit(17, 49), cirq.GridQubit(17, 50), cirq.GridQubit(17, 51), cirq.GridQubit(17, 52), cirq.GridQubit(17, 53), cirq.GridQubit(17, 54), cirq.GridQubit(17, 55), cirq.GridQubit(17, 56), cirq.GridQubit(17, 57), cirq.GridQubit(17, 58), cirq.GridQubit(17, 59), cirq.GridQubit(17, 60), cirq.GridQubit(17, 61), cirq.GridQubit(17, 62), cirq.GridQubit(17, 63), cirq.GridQubit(17, 64), cirq.GridQubit(17, 65), cirq.GridQubit(17, 66), cirq.GridQubit(17, 67), cirq.GridQubit(17, 68), cirq.GridQubit(17, 69), cirq.GridQubit(17, 70), cirq.GridQubit(17, 71), cirq.GridQubit(17, 72), cirq.GridQubit(17, 73), cirq.GridQubit(17, 74), cirq.GridQubit(17, 75), cirq.GridQubit(18, 0), cirq.GridQubit(18, 1), cirq.GridQubit(18, 2), cirq.GridQubit(18, 3), cirq.GridQubit(18, 4), cirq.GridQubit(18, 5), cirq.GridQubit(18, 6), cirq.GridQubit(18, 7), cirq.GridQubit(18, 8), cirq.GridQubit(18, 9), cirq.GridQubit(18, 10), cirq.GridQubit(18, 11), cirq.GridQubit(18, 12), cirq.GridQubit(18, 13), cirq.GridQubit(18, 14), cirq.GridQubit(18, 15), cirq.GridQubit(18, 16), cirq.GridQubit(18, 17), cirq.GridQubit(18, 18), cirq.GridQubit(18, 19), cirq.GridQubit(18, 20), cirq.GridQubit(18, 21), cirq.GridQubit(18, 22), cirq.GridQubit(18, 23), cirq.GridQubit(18, 24), cirq.GridQubit(18, 25), cirq.GridQubit(18, 26), cirq.GridQubit(18, 27), cirq.GridQubit(18, 28), cirq.GridQubit(18, 29), cirq.GridQubit(18, 30), cirq.GridQubit(18, 31), cirq.GridQubit(18, 32), cirq.GridQubit(18, 33), cirq.GridQubit(18, 34), cirq.GridQubit(18, 35), cirq.GridQubit(18, 36), cirq.GridQubit(18, 37), cirq.GridQubit(18, 38), cirq.GridQubit(18, 39), cirq.GridQubit(18, 40), cirq.GridQubit(18, 41), cirq.GridQubit(18, 42), cirq.GridQubit(18, 43), cirq.GridQubit(18, 44), cirq.GridQubit(18, 45), cirq.GridQubit(18, 46), cirq.GridQubit(18, 47), cirq.GridQubit(18, 48), cirq.GridQubit(18, 49), cirq.GridQubit(18, 50), cirq.GridQubit(18, 51), cirq.GridQubit(18, 52), cirq.GridQubit(18, 53), cirq.GridQubit(18, 54), cirq.GridQubit(18, 55), cirq.GridQubit(18, 56), cirq.GridQubit(18, 57), cirq.GridQubit(18, 58), cirq.GridQubit(18, 59), cirq.GridQubit(18, 60), cirq.GridQubit(18, 61), cirq.GridQubit(18, 62), cirq.GridQubit(18, 63), cirq.GridQubit(18, 64), cirq.GridQubit(18, 65), cirq.GridQubit(18, 66), cirq.GridQubit(18, 67), cirq.GridQubit(18, 68), cirq.GridQubit(18, 69), cirq.GridQubit(18, 70), cirq.GridQubit(18, 71), cirq.GridQubit(18, 72), cirq.GridQubit(18, 73), cirq.GridQubit(18, 74), cirq.GridQubit(18, 75), cirq.GridQubit(19, 0), cirq.GridQubit(19, 1), cirq.GridQubit(19, 2), cirq.GridQubit(19, 3), cirq.GridQubit(19, 4), cirq.GridQubit(19, 5), cirq.GridQubit(19, 6), cirq.GridQubit(19, 7), cirq.GridQubit(19, 8), cirq.GridQubit(19, 9), cirq.GridQubit(19, 10), cirq.GridQubit(19, 11), cirq.GridQubit(19, 12), cirq.GridQubit(19, 13), cirq.GridQubit(19, 14), cirq.GridQubit(19, 15), cirq.GridQubit(19, 16), cirq.GridQubit(19, 17), cirq.GridQubit(19, 18), cirq.GridQubit(19, 19), cirq.GridQubit(19, 20), cirq.GridQubit(19, 21), cirq.GridQubit(19, 22), cirq.GridQubit(19, 23), cirq.GridQubit(19, 24), cirq.GridQubit(19, 25), cirq.GridQubit(19, 26), cirq.GridQubit(19, 27), cirq.GridQubit(19, 28), cirq.GridQubit(19, 29), cirq.GridQubit(19, 30), cirq.GridQubit(19, 31), cirq.GridQubit(19, 32), cirq.GridQubit(19, 33), cirq.GridQubit(19, 34), cirq.GridQubit(19, 35), cirq.GridQubit(19, 36), cirq.GridQubit(19, 37), cirq.GridQubit(19, 38), cirq.GridQubit(19, 39), cirq.GridQubit(19, 40), cirq.GridQubit(19, 41), cirq.GridQubit(19, 42), cirq.GridQubit(19, 43), cirq.GridQubit(19, 44), cirq.GridQubit(19, 45), cirq.GridQubit(19, 46), cirq.GridQubit(19, 47), cirq.GridQubit(19, 48), cirq.GridQubit(19, 49), cirq.GridQubit(19, 50), cirq.GridQubit(19, 51), cirq.GridQubit(19, 52), cirq.GridQubit(19, 53), cirq.GridQubit(19, 54), cirq.GridQubit(19, 55), cirq.GridQubit(19, 56), cirq.GridQubit(19, 57), cirq.GridQubit(19, 58), cirq.GridQubit(19, 59), cirq.GridQubit(19, 60), cirq.GridQubit(19, 61), cirq.GridQubit(19, 62), cirq.GridQubit(19, 63), cirq.GridQubit(19, 64), cirq.GridQubit(19, 65), cirq.GridQubit(19, 66), cirq.GridQubit(19, 67), cirq.GridQubit(19, 68), cirq.GridQubit(19, 69), cirq.GridQubit(19, 70), cirq.GridQubit(19, 71), cirq.GridQubit(19, 72), cirq.GridQubit(19, 73), cirq.GridQubit(19, 74), cirq.GridQubit(19, 75), cirq.GridQubit(20, 0), cirq.GridQubit(20, 1), cirq.GridQubit(20, 2), cirq.GridQubit(20, 3), cirq.GridQubit(20, 4), cirq.GridQubit(20, 5), cirq.GridQubit(20, 6), cirq.GridQubit(20, 7), cirq.GridQubit(20, 8), cirq.GridQubit(20, 9), cirq.GridQubit(20, 10), cirq.GridQubit(20, 11), cirq.GridQubit(20, 12), cirq.GridQubit(20, 13), cirq.GridQubit(20, 14), cirq.GridQubit(20, 15), cirq.GridQubit(20, 16), cirq.GridQubit(20, 17), cirq.GridQubit(20, 18), cirq.GridQubit(20, 19), cirq.GridQubit(20, 20), cirq.GridQubit(20, 21), cirq.GridQubit(20, 22), cirq.GridQubit(20, 23), cirq.GridQubit(20, 24), cirq.GridQubit(20, 25), cirq.GridQubit(20, 26), cirq.GridQubit(20, 27), cirq.GridQubit(20, 28), cirq.GridQubit(20, 29), cirq.GridQubit(20, 30), cirq.GridQubit(20, 31), cirq.GridQubit(20, 32), cirq.GridQubit(20, 33), cirq.GridQubit(20, 34), cirq.GridQubit(20, 35), cirq.GridQubit(20, 36), cirq.GridQubit(20, 37), cirq.GridQubit(20, 38), cirq.GridQubit(20, 39), cirq.GridQubit(20, 40), cirq.GridQubit(20, 41), cirq.GridQubit(20, 42), cirq.GridQubit(20, 43), cirq.GridQubit(20, 44), cirq.GridQubit(20, 45), cirq.GridQubit(20, 46), cirq.GridQubit(20, 47), cirq.GridQubit(20, 48), cirq.GridQubit(20, 49), cirq.GridQubit(20, 50), cirq.GridQubit(20, 51), cirq.GridQubit(20, 52), cirq.GridQubit(20, 53), cirq.GridQubit(20, 54), cirq.GridQubit(20, 55), cirq.GridQubit(20, 56), cirq.GridQubit(20, 57), cirq.GridQubit(20, 58), cirq.GridQubit(20, 59), cirq.GridQubit(20, 60), cirq.GridQubit(20, 61), cirq.GridQubit(20, 62), cirq.GridQubit(20, 63), cirq.GridQubit(20, 64), cirq.GridQubit(20, 65), cirq.GridQubit(20, 66), cirq.GridQubit(20, 67), cirq.GridQubit(20, 68), cirq.GridQubit(20, 69), cirq.GridQubit(20, 70), cirq.GridQubit(20, 71), cirq.GridQubit(20, 72), cirq.GridQubit(20, 73), cirq.GridQubit(20, 74), cirq.GridQubit(20, 75), cirq.GridQubit(21, 0), cirq.GridQubit(21, 1), cirq.GridQubit(21, 2), cirq.GridQubit(21, 3), cirq.GridQubit(21, 4), cirq.GridQubit(21, 5), cirq.GridQubit(21, 6), cirq.GridQubit(21, 7), cirq.GridQubit(21, 8), cirq.GridQubit(21, 9), cirq.GridQubit(21, 10), cirq.GridQubit(21, 11), cirq.GridQubit(21, 12), cirq.GridQubit(21, 13), cirq.GridQubit(21, 14), cirq.GridQubit(21, 15), cirq.GridQubit(21, 16), cirq.GridQubit(21, 17), cirq.GridQubit(21, 18), cirq.GridQubit(21, 19), cirq.GridQubit(21, 20), cirq.GridQubit(21, 21), cirq.GridQubit(21, 22), cirq.GridQubit(21, 23), cirq.GridQubit(21, 24), cirq.GridQubit(21, 25), cirq.GridQubit(21, 26), cirq.GridQubit(21, 27), cirq.GridQubit(21, 28), cirq.GridQubit(21, 29), cirq.GridQubit(21, 30), cirq.GridQubit(21, 31), cirq.GridQubit(21, 32), cirq.GridQubit(21, 33), cirq.GridQubit(21, 34), cirq.GridQubit(21, 35), cirq.GridQubit(21, 36), cirq.GridQubit(21, 37), cirq.GridQubit(21, 38), cirq.GridQubit(21, 39), cirq.GridQubit(21, 40), cirq.GridQubit(21, 41), cirq.GridQubit(21, 42), cirq.GridQubit(21, 43), cirq.GridQubit(21, 44), cirq.GridQubit(21, 45), cirq.GridQubit(21, 46), cirq.GridQubit(21, 47), cirq.GridQubit(21, 48), cirq.GridQubit(21, 49), cirq.GridQubit(21, 50), cirq.GridQubit(21, 51), cirq.GridQubit(21, 52), cirq.GridQubit(21, 53), cirq.GridQubit(21, 54), cirq.GridQubit(21, 55), cirq.GridQubit(21, 56), cirq.GridQubit(21, 57), cirq.GridQubit(21, 58), cirq.GridQubit(21, 59), cirq.GridQubit(21, 60), cirq.GridQubit(21, 61), cirq.GridQubit(21, 62), cirq.GridQubit(21, 63), cirq.GridQubit(21, 64), cirq.GridQubit(21, 65), cirq.GridQubit(21, 66), cirq.GridQubit(21, 67), cirq.GridQubit(21, 68), cirq.GridQubit(21, 69), cirq.GridQubit(21, 70), cirq.GridQubit(21, 71), cirq.GridQubit(21, 72), cirq.GridQubit(21, 73), cirq.GridQubit(21, 74), cirq.GridQubit(21, 75), cirq.GridQubit(22, 0), cirq.GridQubit(22, 1), cirq.GridQubit(22, 2), cirq.GridQubit(22, 3), cirq.GridQubit(22, 4), cirq.GridQubit(22, 5), cirq.GridQubit(22, 6), cirq.GridQubit(22, 7), cirq.GridQubit(22, 8), cirq.GridQubit(22, 9), cirq.GridQubit(22, 10), cirq.GridQubit(22, 11), cirq.GridQubit(22, 12), cirq.GridQubit(22, 13), cirq.GridQubit(22, 14), cirq.GridQubit(22, 15), cirq.GridQubit(22, 16), cirq.GridQubit(22, 17), cirq.GridQubit(22, 18), cirq.GridQubit(22, 19), cirq.GridQubit(22, 20), cirq.GridQubit(22, 21), cirq.GridQubit(22, 22), cirq.GridQubit(22, 23), cirq.GridQubit(22, 24), cirq.GridQubit(22, 25), cirq.GridQubit(22, 26), cirq.GridQubit(22, 27), cirq.GridQubit(22, 28), cirq.GridQubit(22, 29), cirq.GridQubit(22, 30), cirq.GridQubit(22, 31), cirq.GridQubit(22, 32), cirq.GridQubit(22, 33), cirq.GridQubit(22, 34), cirq.GridQubit(22, 35), cirq.GridQubit(22, 36), cirq.GridQubit(22, 37), cirq.GridQubit(22, 38), cirq.GridQubit(22, 39), cirq.GridQubit(22, 40), cirq.GridQubit(22, 41), cirq.GridQubit(22, 42), cirq.GridQubit(22, 43), cirq.GridQubit(22, 44), cirq.GridQubit(22, 45), cirq.GridQubit(22, 46), cirq.GridQubit(22, 47), cirq.GridQubit(22, 48), cirq.GridQubit(22, 49), cirq.GridQubit(22, 50), cirq.GridQubit(22, 51), cirq.GridQubit(22, 52), cirq.GridQubit(22, 53), cirq.GridQubit(22, 54), cirq.GridQubit(22, 55), cirq.GridQubit(22, 56), cirq.GridQubit(22, 57), cirq.GridQubit(22, 58), cirq.GridQubit(22, 59), cirq.GridQubit(22, 60), cirq.GridQubit(22, 61), cirq.GridQubit(22, 62), cirq.GridQubit(22, 63), cirq.GridQubit(22, 64), cirq.GridQubit(22, 65), cirq.GridQubit(22, 66), cirq.GridQubit(22, 67), cirq.GridQubit(22, 68), cirq.GridQubit(22, 69), cirq.GridQubit(22, 70), cirq.GridQubit(22, 71), cirq.GridQubit(22, 72), cirq.GridQubit(22, 73), cirq.GridQubit(22, 74), cirq.GridQubit(22, 75), cirq.GridQubit(23, 0), cirq.GridQubit(23, 1), cirq.GridQubit(23, 2), cirq.GridQubit(23, 3), cirq.GridQubit(23, 4), cirq.GridQubit(23, 5), cirq.GridQubit(23, 6), cirq.GridQubit(23, 7), cirq.GridQubit(23, 8), cirq.GridQubit(23, 9), cirq.GridQubit(23, 10), cirq.GridQubit(23, 11), cirq.GridQubit(23, 12), cirq.GridQubit(23, 13), cirq.GridQubit(23, 14), cirq.GridQubit(23, 15), cirq.GridQubit(23, 16), cirq.GridQubit(23, 17), cirq.GridQubit(23, 18), cirq.GridQubit(23, 19), cirq.GridQubit(23, 20), cirq.GridQubit(23, 21), cirq.GridQubit(23, 22), cirq.GridQubit(23, 23), cirq.GridQubit(23, 24), cirq.GridQubit(23, 25), cirq.GridQubit(23, 26), cirq.GridQubit(23, 27), cirq.GridQubit(23, 28), cirq.GridQubit(23, 29), cirq.GridQubit(23, 30), cirq.GridQubit(23, 31), cirq.GridQubit(23, 32), cirq.GridQubit(23, 33), cirq.GridQubit(23, 34), cirq.GridQubit(23, 35), cirq.GridQubit(23, 36), cirq.GridQubit(23, 37), cirq.GridQubit(23, 38), cirq.GridQubit(23, 39), cirq.GridQubit(23, 40), cirq.GridQubit(23, 41), cirq.GridQubit(23, 42), cirq.GridQubit(23, 43), cirq.GridQubit(23, 44), cirq.GridQubit(23, 45), cirq.GridQubit(23, 46), cirq.GridQubit(23, 47), cirq.GridQubit(23, 48), cirq.GridQubit(23, 49), cirq.GridQubit(23, 50), cirq.GridQubit(23, 51), cirq.GridQubit(23, 52), cirq.GridQubit(23, 53), cirq.GridQubit(23, 54), cirq.GridQubit(23, 55), cirq.GridQubit(23, 56), cirq.GridQubit(23, 57), cirq.GridQubit(23, 58), cirq.GridQubit(23, 59), cirq.GridQubit(23, 60), cirq.GridQubit(23, 61), cirq.GridQubit(23, 62), cirq.GridQubit(23, 63), cirq.GridQubit(23, 64), cirq.GridQubit(23, 65), cirq.GridQubit(23, 66), cirq.GridQubit(23, 67), cirq.GridQubit(23, 68), cirq.GridQubit(23, 69), cirq.GridQubit(23, 70), cirq.GridQubit(23, 71), cirq.GridQubit(23, 72), cirq.GridQubit(23, 73), cirq.GridQubit(23, 74), cirq.GridQubit(23, 75), cirq.GridQubit(24, 0), cirq.GridQubit(24, 1), cirq.GridQubit(24, 2), cirq.GridQubit(24, 3), cirq.GridQubit(24, 4), cirq.GridQubit(24, 5), cirq.GridQubit(24, 6), cirq.GridQubit(24, 7), cirq.GridQubit(24, 8), cirq.GridQubit(24, 9), cirq.GridQubit(24, 10), cirq.GridQubit(24, 11), cirq.GridQubit(24, 12), cirq.GridQubit(24, 13), cirq.GridQubit(24, 14), cirq.GridQubit(24, 15), cirq.GridQubit(24, 16), cirq.GridQubit(24, 17), cirq.GridQubit(24, 18), cirq.GridQubit(24, 19), cirq.GridQubit(24, 20), cirq.GridQubit(24, 21), cirq.GridQubit(24, 22), cirq.GridQubit(24, 23), cirq.GridQubit(24, 24), cirq.GridQubit(24, 25), cirq.GridQubit(24, 26), cirq.GridQubit(24, 27), cirq.GridQubit(24, 28), cirq.GridQubit(24, 29), cirq.GridQubit(24, 30), cirq.GridQubit(24, 31), cirq.GridQubit(24, 32), cirq.GridQubit(24, 33), cirq.GridQubit(24, 34), cirq.GridQubit(24, 35), cirq.GridQubit(24, 36), cirq.GridQubit(24, 37), cirq.GridQubit(24, 38), cirq.GridQubit(24, 39), cirq.GridQubit(24, 40), cirq.GridQubit(24, 41), cirq.GridQubit(24, 42), cirq.GridQubit(24, 43), cirq.GridQubit(24, 44), cirq.GridQubit(24, 45), cirq.GridQubit(24, 46), cirq.GridQubit(24, 47), cirq.GridQubit(24, 48), cirq.GridQubit(24, 49), cirq.GridQubit(24, 50), cirq.GridQubit(24, 51), cirq.GridQubit(24, 52), cirq.GridQubit(24, 53), cirq.GridQubit(24, 54), cirq.GridQubit(24, 55), cirq.GridQubit(24, 56), cirq.GridQubit(24, 57), cirq.GridQubit(24, 58), cirq.GridQubit(24, 59), cirq.GridQubit(24, 60), cirq.GridQubit(24, 61), cirq.GridQubit(24, 62), cirq.GridQubit(24, 63), cirq.GridQubit(24, 64), cirq.GridQubit(24, 65), cirq.GridQubit(24, 66), cirq.GridQubit(24, 67), cirq.GridQubit(24, 68), cirq.GridQubit(24, 69), cirq.GridQubit(24, 70), cirq.GridQubit(24, 71), cirq.GridQubit(24, 72), cirq.GridQubit(24, 73), cirq.GridQubit(24, 74), cirq.GridQubit(24, 75), cirq.GridQubit(25, 0), cirq.GridQubit(25, 1), cirq.GridQubit(25, 2), cirq.GridQubit(25, 3), cirq.GridQubit(25, 4), cirq.GridQubit(25, 5), cirq.GridQubit(25, 6), cirq.GridQubit(25, 7), cirq.GridQubit(25, 8), cirq.GridQubit(25, 9), cirq.GridQubit(25, 10), cirq.GridQubit(25, 11), cirq.GridQubit(25, 12), cirq.GridQubit(25, 13), cirq.GridQubit(25, 14), cirq.GridQubit(25, 15), cirq.GridQubit(25, 16), cirq.GridQubit(25, 17), cirq.GridQubit(25, 18), cirq.GridQubit(25, 19), cirq.GridQubit(25, 20), cirq.GridQubit(25, 21), cirq.GridQubit(25, 22), cirq.GridQubit(25, 23), cirq.GridQubit(25, 24), cirq.GridQubit(25, 25), cirq.GridQubit(25, 26), cirq.GridQubit(25, 27), cirq.GridQubit(25, 28), cirq.GridQubit(25, 29), cirq.GridQubit(25, 30), cirq.GridQubit(25, 31), cirq.GridQubit(25, 32), cirq.GridQubit(25, 33), cirq.GridQubit(25, 34), cirq.GridQubit(25, 35), cirq.GridQubit(25, 36), cirq.GridQubit(25, 37), cirq.GridQubit(25, 38), cirq.GridQubit(25, 39), cirq.GridQubit(25, 40), cirq.GridQubit(25, 41), cirq.GridQubit(25, 42), cirq.GridQubit(25, 43), cirq.GridQubit(25, 44), cirq.GridQubit(25, 45), cirq.GridQubit(25, 46), cirq.GridQubit(25, 47), cirq.GridQubit(25, 48), cirq.GridQubit(25, 49), cirq.GridQubit(25, 50), cirq.GridQubit(25, 51), cirq.GridQubit(25, 52), cirq.GridQubit(25, 53), cirq.GridQubit(25, 54), cirq.GridQubit(25, 55), cirq.GridQubit(25, 56), cirq.GridQubit(25, 57), cirq.GridQubit(25, 58), cirq.GridQubit(25, 59), cirq.GridQubit(25, 60), cirq.GridQubit(25, 61), cirq.GridQubit(25, 62), cirq.GridQubit(25, 63), cirq.GridQubit(25, 64), cirq.GridQubit(25, 65), cirq.GridQubit(25, 66), cirq.GridQubit(25, 67), cirq.GridQubit(25, 68), cirq.GridQubit(25, 69), cirq.GridQubit(25, 70), cirq.GridQubit(25, 71), cirq.GridQubit(25, 72), cirq.GridQubit(25, 73), cirq.GridQubit(25, 74), cirq.GridQubit(25, 75), cirq.GridQubit(26, 0), cirq.GridQubit(26, 1), cirq.GridQubit(26, 2), cirq.GridQubit(26, 3), cirq.GridQubit(26, 4), cirq.GridQubit(26, 5), cirq.GridQubit(26, 6), cirq.GridQubit(26, 7), cirq.GridQubit(26, 8), cirq.GridQubit(26, 9), cirq.GridQubit(26, 10), cirq.GridQubit(26, 11), cirq.GridQubit(26, 12), cirq.GridQubit(26, 13), cirq.GridQubit(26, 14), cirq.GridQubit(26, 15), cirq.GridQubit(26, 16), cirq.GridQubit(26, 17), cirq.GridQubit(26, 18), cirq.GridQubit(26, 19), cirq.GridQubit(26, 20), cirq.GridQubit(26, 21), cirq.GridQubit(26, 22), cirq.GridQubit(26, 23), cirq.GridQubit(26, 24), cirq.GridQubit(26, 25), cirq.GridQubit(26, 26), cirq.GridQubit(26, 27), cirq.GridQubit(26, 28), cirq.GridQubit(26, 29), cirq.GridQubit(26, 30), cirq.GridQubit(26, 31), cirq.GridQubit(26, 32), cirq.GridQubit(26, 33), cirq.GridQubit(26, 34), cirq.GridQubit(26, 35), cirq.GridQubit(26, 36), cirq.GridQubit(26, 37), cirq.GridQubit(26, 38), cirq.GridQubit(26, 39), cirq.GridQubit(26, 40), cirq.GridQubit(26, 41), cirq.GridQubit(26, 42), cirq.GridQubit(26, 43), cirq.GridQubit(26, 44), cirq.GridQubit(26, 45), cirq.GridQubit(26, 46), cirq.GridQubit(26, 47), cirq.GridQubit(26, 48), cirq.GridQubit(26, 49), cirq.GridQubit(26, 50), cirq.GridQubit(26, 51), cirq.GridQubit(26, 52), cirq.GridQubit(26, 53), cirq.GridQubit(26, 54), cirq.GridQubit(26, 55), cirq.GridQubit(26, 56), cirq.GridQubit(26, 57), cirq.GridQubit(26, 58), cirq.GridQubit(26, 59), cirq.GridQubit(26, 60), cirq.GridQubit(26, 61), cirq.GridQubit(26, 62), cirq.GridQubit(26, 63), cirq.GridQubit(26, 64), cirq.GridQubit(26, 65), cirq.GridQubit(26, 66), cirq.GridQubit(26, 67), cirq.GridQubit(26, 68), cirq.GridQubit(26, 69), cirq.GridQubit(26, 70), cirq.GridQubit(26, 71), cirq.GridQubit(26, 72), cirq.GridQubit(26, 73), cirq.GridQubit(26, 74), cirq.GridQubit(26, 75), cirq.GridQubit(27, 0), cirq.GridQubit(27, 1), cirq.GridQubit(27, 2), cirq.GridQubit(27, 3), cirq.GridQubit(27, 4), cirq.GridQubit(27, 5), cirq.GridQubit(27, 6), cirq.GridQubit(27, 7), cirq.GridQubit(27, 8), cirq.GridQubit(27, 9), cirq.GridQubit(27, 10), cirq.GridQubit(27, 11), cirq.GridQubit(27, 12), cirq.GridQubit(27, 13), cirq.GridQubit(27, 14), cirq.GridQubit(27, 15), cirq.GridQubit(27, 16), cirq.GridQubit(27, 17), cirq.GridQubit(27, 18), cirq.GridQubit(27, 19), cirq.GridQubit(27, 20), cirq.GridQubit(27, 21), cirq.GridQubit(27, 22), cirq.GridQubit(27, 23), cirq.GridQubit(27, 24), cirq.GridQubit(27, 25), cirq.GridQubit(27, 26), cirq.GridQubit(27, 27), cirq.GridQubit(27, 28), cirq.GridQubit(27, 29), cirq.GridQubit(27, 30), cirq.GridQubit(27, 31), cirq.GridQubit(27, 32), cirq.GridQubit(27, 33), cirq.GridQubit(27, 34), cirq.GridQubit(27, 35), cirq.GridQubit(27, 36), cirq.GridQubit(27, 37), cirq.GridQubit(27, 38), cirq.GridQubit(27, 39), cirq.GridQubit(27, 40), cirq.GridQubit(27, 41), cirq.GridQubit(27, 42), cirq.GridQubit(27, 43), cirq.GridQubit(27, 44), cirq.GridQubit(27, 45), cirq.GridQubit(27, 46), cirq.GridQubit(27, 47), cirq.GridQubit(27, 48), cirq.GridQubit(27, 49), cirq.GridQubit(27, 50), cirq.GridQubit(27, 51), cirq.GridQubit(27, 52), cirq.GridQubit(27, 53), cirq.GridQubit(27, 54), cirq.GridQubit(27, 55), cirq.GridQubit(27, 56), cirq.GridQubit(27, 57), cirq.GridQubit(27, 58), cirq.GridQubit(27, 59), cirq.GridQubit(27, 60), cirq.GridQubit(27, 61), cirq.GridQubit(27, 62), cirq.GridQubit(27, 63), cirq.GridQubit(27, 64), cirq.GridQubit(27, 65), cirq.GridQubit(27, 66), cirq.GridQubit(27, 67), cirq.GridQubit(27, 68), cirq.GridQubit(27, 69), cirq.GridQubit(27, 70), cirq.GridQubit(27, 71), cirq.GridQubit(27, 72), cirq.GridQubit(27, 73), cirq.GridQubit(27, 74), cirq.GridQubit(27, 75), cirq.GridQubit(28, 0), cirq.GridQubit(28, 1), cirq.GridQubit(28, 2), cirq.GridQubit(28, 3), cirq.GridQubit(28, 4), cirq.GridQubit(28, 5), cirq.GridQubit(28, 6), cirq.GridQubit(28, 7), cirq.GridQubit(28, 8), cirq.GridQubit(28, 9), cirq.GridQubit(28, 10), cirq.GridQubit(28, 11), cirq.GridQubit(28, 12), cirq.GridQubit(28, 13), cirq.GridQubit(28, 14), cirq.GridQubit(28, 15), cirq.GridQubit(28, 16), cirq.GridQubit(28, 17), cirq.GridQubit(28, 18), cirq.GridQubit(28, 19), cirq.GridQubit(28, 20), cirq.GridQubit(28, 21), cirq.GridQubit(28, 22), cirq.GridQubit(28, 23), cirq.GridQubit(28, 24), cirq.GridQubit(28, 25), cirq.GridQubit(28, 26), cirq.GridQubit(28, 27), cirq.GridQubit(28, 28), cirq.GridQubit(28, 29), cirq.GridQubit(28, 30), cirq.GridQubit(28, 31), cirq.GridQubit(28, 32), cirq.GridQubit(28, 33), cirq.GridQubit(28, 34), cirq.GridQubit(28, 35), cirq.GridQubit(28, 36), cirq.GridQubit(28, 37), cirq.GridQubit(28, 38), cirq.GridQubit(28, 39), cirq.GridQubit(28, 40), cirq.GridQubit(28, 41), cirq.GridQubit(28, 42), cirq.GridQubit(28, 43), cirq.GridQubit(28, 44), cirq.GridQubit(28, 45), cirq.GridQubit(28, 46), cirq.GridQubit(28, 47), cirq.GridQubit(28, 48), cirq.GridQubit(28, 49), cirq.GridQubit(28, 50), cirq.GridQubit(28, 51), cirq.GridQubit(28, 52), cirq.GridQubit(28, 53), cirq.GridQubit(28, 54), cirq.GridQubit(28, 55), cirq.GridQubit(28, 56), cirq.GridQubit(28, 57), cirq.GridQubit(28, 58), cirq.GridQubit(28, 59), cirq.GridQubit(28, 60), cirq.GridQubit(28, 61), cirq.GridQubit(28, 62), cirq.GridQubit(28, 63), cirq.GridQubit(28, 64), cirq.GridQubit(28, 65), cirq.GridQubit(28, 66), cirq.GridQubit(28, 67), cirq.GridQubit(28, 68), cirq.GridQubit(28, 69), cirq.GridQubit(28, 70), cirq.GridQubit(28, 71), cirq.GridQubit(28, 72), cirq.GridQubit(28, 73), cirq.GridQubit(28, 74), cirq.GridQubit(28, 75), cirq.GridQubit(29, 0), cirq.GridQubit(29, 1), cirq.GridQubit(29, 2), cirq.GridQubit(29, 3), cirq.GridQubit(29, 4), cirq.GridQubit(29, 5), cirq.GridQubit(29, 6), cirq.GridQubit(29, 7), cirq.GridQubit(29, 8), cirq.GridQubit(29, 9), cirq.GridQubit(29, 10), cirq.GridQubit(29, 11), cirq.GridQubit(29, 12), cirq.GridQubit(29, 13), cirq.GridQubit(29, 14), cirq.GridQubit(29, 15), cirq.GridQubit(29, 16), cirq.GridQubit(29, 17), cirq.GridQubit(29, 18), cirq.GridQubit(29, 19), cirq.GridQubit(29, 20), cirq.GridQubit(29, 21), cirq.GridQubit(29, 22), cirq.GridQubit(29, 23), cirq.GridQubit(29, 24), cirq.GridQubit(29, 25), cirq.GridQubit(29, 26), cirq.GridQubit(29, 27), cirq.GridQubit(29, 28), cirq.GridQubit(29, 29), cirq.GridQubit(29, 30), cirq.GridQubit(29, 31), cirq.GridQubit(29, 32), cirq.GridQubit(29, 33), cirq.GridQubit(29, 34), cirq.GridQubit(29, 35), cirq.GridQubit(29, 36), cirq.GridQubit(29, 37), cirq.GridQubit(29, 38), cirq.GridQubit(29, 39), cirq.GridQubit(29, 40), cirq.GridQubit(29, 41), cirq.GridQubit(29, 42), cirq.GridQubit(29, 43), cirq.GridQubit(29, 44), cirq.GridQubit(29, 45), cirq.GridQubit(29, 46), cirq.GridQubit(29, 47), cirq.GridQubit(29, 48), cirq.GridQubit(29, 49), cirq.GridQubit(29, 50), cirq.GridQubit(29, 51), cirq.GridQubit(29, 52), cirq.GridQubit(29, 53), cirq.GridQubit(29, 54), cirq.GridQubit(29, 55), cirq.GridQubit(29, 56), cirq.GridQubit(29, 57), cirq.GridQubit(29, 58), cirq.GridQubit(29, 59), cirq.GridQubit(29, 60), cirq.GridQubit(29, 61), cirq.GridQubit(29, 62), cirq.GridQubit(29, 63), cirq.GridQubit(29, 64), cirq.GridQubit(29, 65), cirq.GridQubit(29, 66), cirq.GridQubit(29, 67), cirq.GridQubit(29, 68), cirq.GridQubit(29, 69), cirq.GridQubit(29, 70), cirq.GridQubit(29, 71), cirq.GridQubit(29, 72), cirq.GridQubit(29, 73), cirq.GridQubit(29, 74), cirq.GridQubit(29, 75), cirq.GridQubit(30, 0), cirq.GridQubit(30, 1), cirq.GridQubit(30, 2), cirq.GridQubit(30, 3), cirq.GridQubit(30, 4), cirq.GridQubit(30, 5), cirq.GridQubit(30, 6), cirq.GridQubit(30, 7), cirq.GridQubit(30, 8), cirq.GridQubit(30, 9), cirq.GridQubit(30, 10), cirq.GridQubit(30, 11), cirq.GridQubit(30, 12), cirq.GridQubit(30, 13), cirq.GridQubit(30, 14), cirq.GridQubit(30, 15), cirq.GridQubit(30, 16), cirq.GridQubit(30, 17), cirq.GridQubit(30, 18), cirq.GridQubit(30, 19), cirq.GridQubit(30, 20), cirq.GridQubit(30, 21), cirq.GridQubit(30, 22), cirq.GridQubit(30, 23), cirq.GridQubit(30, 24), cirq.GridQubit(30, 25), cirq.GridQubit(30, 26), cirq.GridQubit(30, 27), cirq.GridQubit(30, 28), cirq.GridQubit(30, 29), cirq.GridQubit(30, 30), cirq.GridQubit(30, 31), cirq.GridQubit(30, 32), cirq.GridQubit(30, 33), cirq.GridQubit(30, 34), cirq.GridQubit(30, 35), cirq.GridQubit(30, 36), cirq.GridQubit(30, 37), cirq.GridQubit(30, 38), cirq.GridQubit(30, 39), cirq.GridQubit(30, 40), cirq.GridQubit(30, 41), cirq.GridQubit(30, 42), cirq.GridQubit(30, 43), cirq.GridQubit(30, 44), cirq.GridQubit(30, 45), cirq.GridQubit(30, 46), cirq.GridQubit(30, 47), cirq.GridQubit(30, 48), cirq.GridQubit(30, 49), cirq.GridQubit(30, 50), cirq.GridQubit(30, 51), cirq.GridQubit(30, 52), cirq.GridQubit(30, 53), cirq.GridQubit(30, 54), cirq.GridQubit(30, 55), cirq.GridQubit(30, 56), cirq.GridQubit(30, 57), cirq.GridQubit(30, 58), cirq.GridQubit(30, 59), cirq.GridQubit(30, 60), cirq.GridQubit(30, 61), cirq.GridQubit(30, 62), cirq.GridQubit(30, 63), cirq.GridQubit(30, 64), cirq.GridQubit(30, 65), cirq.GridQubit(30, 66), cirq.GridQubit(30, 67), cirq.GridQubit(30, 68), cirq.GridQubit(30, 69), cirq.GridQubit(30, 70), cirq.GridQubit(30, 71), cirq.GridQubit(30, 72), cirq.GridQubit(30, 73), cirq.GridQubit(30, 74), cirq.GridQubit(30, 75), cirq.GridQubit(31, 0), cirq.GridQubit(31, 1), cirq.GridQubit(31, 2), cirq.GridQubit(31, 3), cirq.GridQubit(31, 4), cirq.GridQubit(31, 5), cirq.GridQubit(31, 6), cirq.GridQubit(31, 7), cirq.GridQubit(31, 8), cirq.GridQubit(31, 9), cirq.GridQubit(31, 10), cirq.GridQubit(31, 11), cirq.GridQubit(31, 12), cirq.GridQubit(31, 13), cirq.GridQubit(31, 14), cirq.GridQubit(31, 15), cirq.GridQubit(31, 16), cirq.GridQubit(31, 17), cirq.GridQubit(31, 18), cirq.GridQubit(31, 19), cirq.GridQubit(31, 20), cirq.GridQubit(31, 21), cirq.GridQubit(31, 22), cirq.GridQubit(31, 23), cirq.GridQubit(31, 24), cirq.GridQubit(31, 25), cirq.GridQubit(31, 26), cirq.GridQubit(31, 27), cirq.GridQubit(31, 28), cirq.GridQubit(31, 29), cirq.GridQubit(31, 30), cirq.GridQubit(31, 31), cirq.GridQubit(31, 32), cirq.GridQubit(31, 33), cirq.GridQubit(31, 34), cirq.GridQubit(31, 35), cirq.GridQubit(31, 36), cirq.GridQubit(31, 37), cirq.GridQubit(31, 38), cirq.GridQubit(31, 39), cirq.GridQubit(31, 40), cirq.GridQubit(31, 41), cirq.GridQubit(31, 42), cirq.GridQubit(31, 43), cirq.GridQubit(31, 44), cirq.GridQubit(31, 45), cirq.GridQubit(31, 46), cirq.GridQubit(31, 47), cirq.GridQubit(31, 48), cirq.GridQubit(31, 49), cirq.GridQubit(31, 50), cirq.GridQubit(31, 51), cirq.GridQubit(31, 52), cirq.GridQubit(31, 53), cirq.GridQubit(31, 54), cirq.GridQubit(31, 55), cirq.GridQubit(31, 56), cirq.GridQubit(31, 57), cirq.GridQubit(31, 58), cirq.GridQubit(31, 59), cirq.GridQubit(31, 60), cirq.GridQubit(31, 61), cirq.GridQubit(31, 62), cirq.GridQubit(31, 63), cirq.GridQubit(31, 64), cirq.GridQubit(31, 65), cirq.GridQubit(31, 66), cirq.GridQubit(31, 67), cirq.GridQubit(31, 68), cirq.GridQubit(31, 69), cirq.GridQubit(31, 70), cirq.GridQubit(31, 71), cirq.GridQubit(31, 72), cirq.GridQubit(31, 73), cirq.GridQubit(31, 74), cirq.GridQubit(31, 75), cirq.GridQubit(32, 0), cirq.GridQubit(32, 1), cirq.GridQubit(32, 2), cirq.GridQubit(32, 3), cirq.GridQubit(32, 4), cirq.GridQubit(32, 5), cirq.GridQubit(32, 6), cirq.GridQubit(32, 7), cirq.GridQubit(32, 8), cirq.GridQubit(32, 9), cirq.GridQubit(32, 10), cirq.GridQubit(32, 11), cirq.GridQubit(32, 12), cirq.GridQubit(32, 13), cirq.GridQubit(32, 14), cirq.GridQubit(32, 15), cirq.GridQubit(32, 16), cirq.GridQubit(32, 17), cirq.GridQubit(32, 18), cirq.GridQubit(32, 19), cirq.GridQubit(32, 20), cirq.GridQubit(32, 21), cirq.GridQubit(32, 22), cirq.GridQubit(32, 23), cirq.GridQubit(32, 24), cirq.GridQubit(32, 25), cirq.GridQubit(32, 26), cirq.GridQubit(32, 27), cirq.GridQubit(32, 28), cirq.GridQubit(32, 29), cirq.GridQubit(32, 30), cirq.GridQubit(32, 31), cirq.GridQubit(32, 32), cirq.GridQubit(32, 33), cirq.GridQubit(32, 34), cirq.GridQubit(32, 35), cirq.GridQubit(32, 36), cirq.GridQubit(32, 37), cirq.GridQubit(32, 38), cirq.GridQubit(32, 39), cirq.GridQubit(32, 40), cirq.GridQubit(32, 41), cirq.GridQubit(32, 42), cirq.GridQubit(32, 43), cirq.GridQubit(32, 44), cirq.GridQubit(32, 45), cirq.GridQubit(32, 46), cirq.GridQubit(32, 47), cirq.GridQubit(32, 48), cirq.GridQubit(32, 49), cirq.GridQubit(32, 50), cirq.GridQubit(32, 51), cirq.GridQubit(32, 52), cirq.GridQubit(32, 53), cirq.GridQubit(32, 54), cirq.GridQubit(32, 55), cirq.GridQubit(32, 56), cirq.GridQubit(32, 57), cirq.GridQubit(32, 58), cirq.GridQubit(32, 59), cirq.GridQubit(32, 60), cirq.GridQubit(32, 61), cirq.GridQubit(32, 62), cirq.GridQubit(32, 63), cirq.GridQubit(32, 64), cirq.GridQubit(32, 65), cirq.GridQubit(32, 66), cirq.GridQubit(32, 67), cirq.GridQubit(32, 68), cirq.GridQubit(32, 69), cirq.GridQubit(32, 70), cirq.GridQubit(32, 71), cirq.GridQubit(32, 72), cirq.GridQubit(32, 73), cirq.GridQubit(32, 74), cirq.GridQubit(32, 75), cirq.GridQubit(33, 0), cirq.GridQubit(33, 1), cirq.GridQubit(33, 2), cirq.GridQubit(33, 3), cirq.GridQubit(33, 4), cirq.GridQubit(33, 5), cirq.GridQubit(33, 6), cirq.GridQubit(33, 7), cirq.GridQubit(33, 8), cirq.GridQubit(33, 9), cirq.GridQubit(33, 10), cirq.GridQubit(33, 11), cirq.GridQubit(33, 12), cirq.GridQubit(33, 13), cirq.GridQubit(33, 14), cirq.GridQubit(33, 15), cirq.GridQubit(33, 16), cirq.GridQubit(33, 17), cirq.GridQubit(33, 18), cirq.GridQubit(33, 19), cirq.GridQubit(33, 20), cirq.GridQubit(33, 21), cirq.GridQubit(33, 22), cirq.GridQubit(33, 23), cirq.GridQubit(33, 24), cirq.GridQubit(33, 25), cirq.GridQubit(33, 26), cirq.GridQubit(33, 27), cirq.GridQubit(33, 28), cirq.GridQubit(33, 29), cirq.GridQubit(33, 30), cirq.GridQubit(33, 31), cirq.GridQubit(33, 32), cirq.GridQubit(33, 33), cirq.GridQubit(33, 34), cirq.GridQubit(33, 35), cirq.GridQubit(33, 36), cirq.GridQubit(33, 37), cirq.GridQubit(33, 38), cirq.GridQubit(33, 39), cirq.GridQubit(33, 40), cirq.GridQubit(33, 41), cirq.GridQubit(33, 42), cirq.GridQubit(33, 43), cirq.GridQubit(33, 44), cirq.GridQubit(33, 45), cirq.GridQubit(33, 46), cirq.GridQubit(33, 47), cirq.GridQubit(33, 48), cirq.GridQubit(33, 49), cirq.GridQubit(33, 50), cirq.GridQubit(33, 51), cirq.GridQubit(33, 52), cirq.GridQubit(33, 53), cirq.GridQubit(33, 54), cirq.GridQubit(33, 55), cirq.GridQubit(33, 56), cirq.GridQubit(33, 57), cirq.GridQubit(33, 58), cirq.GridQubit(33, 59), cirq.GridQubit(33, 60), cirq.GridQubit(33, 61), cirq.GridQubit(33, 62), cirq.GridQubit(33, 63), cirq.GridQubit(33, 64), cirq.GridQubit(33, 65), cirq.GridQubit(33, 66), cirq.GridQubit(33, 67), cirq.GridQubit(33, 68), cirq.GridQubit(33, 69), cirq.GridQubit(33, 70), cirq.GridQubit(33, 71), cirq.GridQubit(33, 72), cirq.GridQubit(33, 73), cirq.GridQubit(33, 74), cirq.GridQubit(33, 75), cirq.GridQubit(34, 0), cirq.GridQubit(34, 1), cirq.GridQubit(34, 2), cirq.GridQubit(34, 3), cirq.GridQubit(34, 4), cirq.GridQubit(34, 5), cirq.GridQubit(34, 6), cirq.GridQubit(34, 7), cirq.GridQubit(34, 8), cirq.GridQubit(34, 9), cirq.GridQubit(34, 10), cirq.GridQubit(34, 11), cirq.GridQubit(34, 12), cirq.GridQubit(34, 13), cirq.GridQubit(34, 14), cirq.GridQubit(34, 15), cirq.GridQubit(34, 16), cirq.GridQubit(34, 17), cirq.GridQubit(34, 18), cirq.GridQubit(34, 19), cirq.GridQubit(34, 20), cirq.GridQubit(34, 21), cirq.GridQubit(34, 22), cirq.GridQubit(34, 23), cirq.GridQubit(34, 24), cirq.GridQubit(34, 25), cirq.GridQubit(34, 26), cirq.GridQubit(34, 27), cirq.GridQubit(34, 28), cirq.GridQubit(34, 29), cirq.GridQubit(34, 30), cirq.GridQubit(34, 31), cirq.GridQubit(34, 32), cirq.GridQubit(34, 33), cirq.GridQubit(34, 34), cirq.GridQubit(34, 35), cirq.GridQubit(34, 36), cirq.GridQubit(34, 37), cirq.GridQubit(34, 38), cirq.GridQubit(34, 39), cirq.GridQubit(34, 40), cirq.GridQubit(34, 41), cirq.GridQubit(34, 42), cirq.GridQubit(34, 43), cirq.GridQubit(34, 44), cirq.GridQubit(34, 45), cirq.GridQubit(34, 46), cirq.GridQubit(34, 47), cirq.GridQubit(34, 48), cirq.GridQubit(34, 49), cirq.GridQubit(34, 50), cirq.GridQubit(34, 51), cirq.GridQubit(34, 52), cirq.GridQubit(34, 53), cirq.GridQubit(34, 54), cirq.GridQubit(34, 55), cirq.GridQubit(34, 56), cirq.GridQubit(34, 57), cirq.GridQubit(34, 58), cirq.GridQubit(34, 59), cirq.GridQubit(34, 60), cirq.GridQubit(34, 61), cirq.GridQubit(34, 62), cirq.GridQubit(34, 63), cirq.GridQubit(34, 64), cirq.GridQubit(34, 65), cirq.GridQubit(34, 66), cirq.GridQubit(34, 67), cirq.GridQubit(34, 68), cirq.GridQubit(34, 69), cirq.GridQubit(34, 70), cirq.GridQubit(34, 71), cirq.GridQubit(34, 72), cirq.GridQubit(34, 73), cirq.GridQubit(34, 74), cirq.GridQubit(34, 75), cirq.GridQubit(35, 0), cirq.GridQubit(35, 1), cirq.GridQubit(35, 2), cirq.GridQubit(35, 3), cirq.GridQubit(35, 4), cirq.GridQubit(35, 5), cirq.GridQubit(35, 6), cirq.GridQubit(35, 7), cirq.GridQubit(35, 8), cirq.GridQubit(35, 9), cirq.GridQubit(35, 10), cirq.GridQubit(35, 11), cirq.GridQubit(35, 12), cirq.GridQubit(35, 13), cirq.GridQubit(35, 14), cirq.GridQubit(35, 15), cirq.GridQubit(35, 16), cirq.GridQubit(35, 17), cirq.GridQubit(35, 18), cirq.GridQubit(35, 19), cirq.GridQubit(35, 20), cirq.GridQubit(35, 21), cirq.GridQubit(35, 22), cirq.GridQubit(35, 23), cirq.GridQubit(35, 24), cirq.GridQubit(35, 25), cirq.GridQubit(35, 26), cirq.GridQubit(35, 27), cirq.GridQubit(35, 28), cirq.GridQubit(35, 29), cirq.GridQubit(35, 30), cirq.GridQubit(35, 31), cirq.GridQubit(35, 32), cirq.GridQubit(35, 33), cirq.GridQubit(35, 34), cirq.GridQubit(35, 35), cirq.GridQubit(35, 36), cirq.GridQubit(35, 37), cirq.GridQubit(35, 38), cirq.GridQubit(35, 39), cirq.GridQubit(35, 40), cirq.GridQubit(35, 41), cirq.GridQubit(35, 42), cirq.GridQubit(35, 43), cirq.GridQubit(35, 44), cirq.GridQubit(35, 45), cirq.GridQubit(35, 46), cirq.GridQubit(35, 47), cirq.GridQubit(35, 48), cirq.GridQubit(35, 49), cirq.GridQubit(35, 50), cirq.GridQubit(35, 51), cirq.GridQubit(35, 52), cirq.GridQubit(35, 53), cirq.GridQubit(35, 54), cirq.GridQubit(35, 55), cirq.GridQubit(35, 56), cirq.GridQubit(35, 57), cirq.GridQubit(35, 58), cirq.GridQubit(35, 59), cirq.GridQubit(35, 60), cirq.GridQubit(35, 61), cirq.GridQubit(35, 62), cirq.GridQubit(35, 63), cirq.GridQubit(35, 64), cirq.GridQubit(35, 65), cirq.GridQubit(35, 66), cirq.GridQubit(35, 67), cirq.GridQubit(35, 68), cirq.GridQubit(35, 69), cirq.GridQubit(35, 70), cirq.GridQubit(35, 71), cirq.GridQubit(35, 72), cirq.GridQubit(35, 73), cirq.GridQubit(35, 74), cirq.GridQubit(35, 75), cirq.GridQubit(36, 0), cirq.GridQubit(36, 1), cirq.GridQubit(36, 2), cirq.GridQubit(36, 3), cirq.GridQubit(36, 4), cirq.GridQubit(36, 5), cirq.GridQubit(36, 6), cirq.GridQubit(36, 7), cirq.GridQubit(36, 8), cirq.GridQubit(36, 9), cirq.GridQubit(36, 10), cirq.GridQubit(36, 11), cirq.GridQubit(36, 12), cirq.GridQubit(36, 13), cirq.GridQubit(36, 14), cirq.GridQubit(36, 15), cirq.GridQubit(36, 16), cirq.GridQubit(36, 17), cirq.GridQubit(36, 18), cirq.GridQubit(36, 19), cirq.GridQubit(36, 20), cirq.GridQubit(36, 21), cirq.GridQubit(36, 22), cirq.GridQubit(36, 23), cirq.GridQubit(36, 24), cirq.GridQubit(36, 25), cirq.GridQubit(36, 26), cirq.GridQubit(36, 27), cirq.GridQubit(36, 28), cirq.GridQubit(36, 29), cirq.GridQubit(36, 30), cirq.GridQubit(36, 31), cirq.GridQubit(36, 32), cirq.GridQubit(36, 33), cirq.GridQubit(36, 34), cirq.GridQubit(36, 35), cirq.GridQubit(36, 36), cirq.GridQubit(36, 37), cirq.GridQubit(36, 38), cirq.GridQubit(36, 39), cirq.GridQubit(36, 40), cirq.GridQubit(36, 41), cirq.GridQubit(36, 42), cirq.GridQubit(36, 43), cirq.GridQubit(36, 44), cirq.GridQubit(36, 45), cirq.GridQubit(36, 46), cirq.GridQubit(36, 47), cirq.GridQubit(36, 48), cirq.GridQubit(36, 49), cirq.GridQubit(36, 50), cirq.GridQubit(36, 51), cirq.GridQubit(36, 52), cirq.GridQubit(36, 53), cirq.GridQubit(36, 54), cirq.GridQubit(36, 55), cirq.GridQubit(36, 56), cirq.GridQubit(36, 57), cirq.GridQubit(36, 58), cirq.GridQubit(36, 59), cirq.GridQubit(36, 60), cirq.GridQubit(36, 61), cirq.GridQubit(36, 62), cirq.GridQubit(36, 63), cirq.GridQubit(36, 64), cirq.GridQubit(36, 65), cirq.GridQubit(36, 66), cirq.GridQubit(36, 67), cirq.GridQubit(36, 68), cirq.GridQubit(36, 69), cirq.GridQubit(36, 70), cirq.GridQubit(36, 71), cirq.GridQubit(36, 72), cirq.GridQubit(36, 73), cirq.GridQubit(36, 74), cirq.GridQubit(36, 75), cirq.GridQubit(37, 0), cirq.GridQubit(37, 1), cirq.GridQubit(37, 2), cirq.GridQubit(37, 3), cirq.GridQubit(37, 4), cirq.GridQubit(37, 5), cirq.GridQubit(37, 6), cirq.GridQubit(37, 7), cirq.GridQubit(37, 8), cirq.GridQubit(37, 9), cirq.GridQubit(37, 10), cirq.GridQubit(37, 11), cirq.GridQubit(37, 12), cirq.GridQubit(37, 13), cirq.GridQubit(37, 14), cirq.GridQubit(37, 15), cirq.GridQubit(37, 16), cirq.GridQubit(37, 17), cirq.GridQubit(37, 18), cirq.GridQubit(37, 19), cirq.GridQubit(37, 20), cirq.GridQubit(37, 21), cirq.GridQubit(37, 22), cirq.GridQubit(37, 23), cirq.GridQubit(37, 24), cirq.GridQubit(37, 25), cirq.GridQubit(37, 26), cirq.GridQubit(37, 27), cirq.GridQubit(37, 28), cirq.GridQubit(37, 29), cirq.GridQubit(37, 30), cirq.GridQubit(37, 31), cirq.GridQubit(37, 32), cirq.GridQubit(37, 33), cirq.GridQubit(37, 34), cirq.GridQubit(37, 35), cirq.GridQubit(37, 36), cirq.GridQubit(37, 37), cirq.GridQubit(37, 38), cirq.GridQubit(37, 39), cirq.GridQubit(37, 40), cirq.GridQubit(37, 41), cirq.GridQubit(37, 42), cirq.GridQubit(37, 43), cirq.GridQubit(37, 44), cirq.GridQubit(37, 45), cirq.GridQubit(37, 46), cirq.GridQubit(37, 47), cirq.GridQubit(37, 48), cirq.GridQubit(37, 49), cirq.GridQubit(37, 50), cirq.GridQubit(37, 51), cirq.GridQubit(37, 52), cirq.GridQubit(37, 53), cirq.GridQubit(37, 54), cirq.GridQubit(37, 55), cirq.GridQubit(37, 56), cirq.GridQubit(37, 57), cirq.GridQubit(37, 58), cirq.GridQubit(37, 59), cirq.GridQubit(37, 60), cirq.GridQubit(37, 61), cirq.GridQubit(37, 62), cirq.GridQubit(37, 63), cirq.GridQubit(37, 64), cirq.GridQubit(37, 65), cirq.GridQubit(37, 66), cirq.GridQubit(37, 67), cirq.GridQubit(37, 68), cirq.GridQubit(37, 69), cirq.GridQubit(37, 70), cirq.GridQubit(37, 71), cirq.GridQubit(37, 72), cirq.GridQubit(37, 73), cirq.GridQubit(37, 74), cirq.GridQubit(37, 75), cirq.GridQubit(38, 0), cirq.GridQubit(38, 1), cirq.GridQubit(38, 2), cirq.GridQubit(38, 3), cirq.GridQubit(38, 4), cirq.GridQubit(38, 5), cirq.GridQubit(38, 6), cirq.GridQubit(38, 7), cirq.GridQubit(38, 8), cirq.GridQubit(38, 9), cirq.GridQubit(38, 10), cirq.GridQubit(38, 11), cirq.GridQubit(38, 12), cirq.GridQubit(38, 13), cirq.GridQubit(38, 14), cirq.GridQubit(38, 15), cirq.GridQubit(38, 16), cirq.GridQubit(38, 17), cirq.GridQubit(38, 18), cirq.GridQubit(38, 19), cirq.GridQubit(38, 20), cirq.GridQubit(38, 21), cirq.GridQubit(38, 22), cirq.GridQubit(38, 23), cirq.GridQubit(38, 24), cirq.GridQubit(38, 25), cirq.GridQubit(38, 26), cirq.GridQubit(38, 27), cirq.GridQubit(38, 28), cirq.GridQubit(38, 29), cirq.GridQubit(38, 30), cirq.GridQubit(38, 31), cirq.GridQubit(38, 32), cirq.GridQubit(38, 33), cirq.GridQubit(38, 34), cirq.GridQubit(38, 35), cirq.GridQubit(38, 36), cirq.GridQubit(38, 37), cirq.GridQubit(38, 38), cirq.GridQubit(38, 39), cirq.GridQubit(38, 40), cirq.GridQubit(38, 41), cirq.GridQubit(38, 42), cirq.GridQubit(38, 43), cirq.GridQubit(38, 44), cirq.GridQubit(38, 45), cirq.GridQubit(38, 46), cirq.GridQubit(38, 47), cirq.GridQubit(38, 48), cirq.GridQubit(38, 49), cirq.GridQubit(38, 50), cirq.GridQubit(38, 51), cirq.GridQubit(38, 52), cirq.GridQubit(38, 53), cirq.GridQubit(38, 54), cirq.GridQubit(38, 55), cirq.GridQubit(38, 56), cirq.GridQubit(38, 57), cirq.GridQubit(38, 58), cirq.GridQubit(38, 59), cirq.GridQubit(38, 60), cirq.GridQubit(38, 61), cirq.GridQubit(38, 62), cirq.GridQubit(38, 63), cirq.GridQubit(38, 64), cirq.GridQubit(38, 65), cirq.GridQubit(38, 66), cirq.GridQubit(38, 67), cirq.GridQubit(38, 68), cirq.GridQubit(38, 69), cirq.GridQubit(38, 70), cirq.GridQubit(38, 71), cirq.GridQubit(38, 72), cirq.GridQubit(38, 73), cirq.GridQubit(38, 74), cirq.GridQubit(38, 75), cirq.GridQubit(39, 0), cirq.GridQubit(39, 1), cirq.GridQubit(39, 2), cirq.GridQubit(39, 3), cirq.GridQubit(39, 4), cirq.GridQubit(39, 5), cirq.GridQubit(39, 6), cirq.GridQubit(39, 7), cirq.GridQubit(39, 8), cirq.GridQubit(39, 9), cirq.GridQubit(39, 10), cirq.GridQubit(39, 11), cirq.GridQubit(39, 12), cirq.GridQubit(39, 13), cirq.GridQubit(39, 14), cirq.GridQubit(39, 15), cirq.GridQubit(39, 16), cirq.GridQubit(39, 17), cirq.GridQubit(39, 18), cirq.GridQubit(39, 19), cirq.GridQubit(39, 20), cirq.GridQubit(39, 21), cirq.GridQubit(39, 22), cirq.GridQubit(39, 23), cirq.GridQubit(39, 24), cirq.GridQubit(39, 25), cirq.GridQubit(39, 26), cirq.GridQubit(39, 27), cirq.GridQubit(39, 28), cirq.GridQubit(39, 29), cirq.GridQubit(39, 30), cirq.GridQubit(39, 31), cirq.GridQubit(39, 32), cirq.GridQubit(39, 33), cirq.GridQubit(39, 34), cirq.GridQubit(39, 35), cirq.GridQubit(39, 36), cirq.GridQubit(39, 37), cirq.GridQubit(39, 38), cirq.GridQubit(39, 39), cirq.GridQubit(39, 40), cirq.GridQubit(39, 41), cirq.GridQubit(39, 42), cirq.GridQubit(39, 43), cirq.GridQubit(39, 44), cirq.GridQubit(39, 45), cirq.GridQubit(39, 46), cirq.GridQubit(39, 47), cirq.GridQubit(39, 48), cirq.GridQubit(39, 49), cirq.GridQubit(39, 50), cirq.GridQubit(39, 51), cirq.GridQubit(39, 52), cirq.GridQubit(39, 53), cirq.GridQubit(39, 54), cirq.GridQubit(39, 55), cirq.GridQubit(39, 56), cirq.GridQubit(39, 57), cirq.GridQubit(39, 58), cirq.GridQubit(39, 59), cirq.GridQubit(39, 60), cirq.GridQubit(39, 61), cirq.GridQubit(39, 62), cirq.GridQubit(39, 63), cirq.GridQubit(39, 64), cirq.GridQubit(39, 65), cirq.GridQubit(39, 66), cirq.GridQubit(39, 67), cirq.GridQubit(39, 68), cirq.GridQubit(39, 69), cirq.GridQubit(39, 70), cirq.GridQubit(39, 71), cirq.GridQubit(39, 72), cirq.GridQubit(39, 73), cirq.GridQubit(39, 74), cirq.GridQubit(39, 75), cirq.GridQubit(40, 0), cirq.GridQubit(40, 1), cirq.GridQubit(40, 2), cirq.GridQubit(40, 3), cirq.GridQubit(40, 4), cirq.GridQubit(40, 5), cirq.GridQubit(40, 6), cirq.GridQubit(40, 7), cirq.GridQubit(40, 8), cirq.GridQubit(40, 9), cirq.GridQubit(40, 10), cirq.GridQubit(40, 11), cirq.GridQubit(40, 12), cirq.GridQubit(40, 13), cirq.GridQubit(40, 14), cirq.GridQubit(40, 15), cirq.GridQubit(40, 16), cirq.GridQubit(40, 17), cirq.GridQubit(40, 18), cirq.GridQubit(40, 19), cirq.GridQubit(40, 20), cirq.GridQubit(40, 21), cirq.GridQubit(40, 22), cirq.GridQubit(40, 23), cirq.GridQubit(40, 24), cirq.GridQubit(40, 25), cirq.GridQubit(40, 26), cirq.GridQubit(40, 27), cirq.GridQubit(40, 28), cirq.GridQubit(40, 29), cirq.GridQubit(40, 30), cirq.GridQubit(40, 31), cirq.GridQubit(40, 32), cirq.GridQubit(40, 33), cirq.GridQubit(40, 34), cirq.GridQubit(40, 35), cirq.GridQubit(40, 36), cirq.GridQubit(40, 37), cirq.GridQubit(40, 38), cirq.GridQubit(40, 39), cirq.GridQubit(40, 40), cirq.GridQubit(40, 41), cirq.GridQubit(40, 42), cirq.GridQubit(40, 43), cirq.GridQubit(40, 44), cirq.GridQubit(40, 45), cirq.GridQubit(40, 46), cirq.GridQubit(40, 47), cirq.GridQubit(40, 48), cirq.GridQubit(40, 49), cirq.GridQubit(40, 50), cirq.GridQubit(40, 51), cirq.GridQubit(40, 52), cirq.GridQubit(40, 53), cirq.GridQubit(40, 54), cirq.GridQubit(40, 55), cirq.GridQubit(40, 56), cirq.GridQubit(40, 57), cirq.GridQubit(40, 58), cirq.GridQubit(40, 59), cirq.GridQubit(40, 60), cirq.GridQubit(40, 61), cirq.GridQubit(40, 62), cirq.GridQubit(40, 63), cirq.GridQubit(40, 64), cirq.GridQubit(40, 65), cirq.GridQubit(40, 66), cirq.GridQubit(40, 67), cirq.GridQubit(40, 68), cirq.GridQubit(40, 69), cirq.GridQubit(40, 70), cirq.GridQubit(40, 71), cirq.GridQubit(40, 72), cirq.GridQubit(40, 73), cirq.GridQubit(40, 74), cirq.GridQubit(40, 75), cirq.GridQubit(41, 0), cirq.GridQubit(41, 1), cirq.GridQubit(41, 2), cirq.GridQubit(41, 3), cirq.GridQubit(41, 4), cirq.GridQubit(41, 5), cirq.GridQubit(41, 6), cirq.GridQubit(41, 7), cirq.GridQubit(41, 8), cirq.GridQubit(41, 9), cirq.GridQubit(41, 10), cirq.GridQubit(41, 11), cirq.GridQubit(41, 12), cirq.GridQubit(41, 13), cirq.GridQubit(41, 14), cirq.GridQubit(41, 15), cirq.GridQubit(41, 16), cirq.GridQubit(41, 17), cirq.GridQubit(41, 18), cirq.GridQubit(41, 19), cirq.GridQubit(41, 20), cirq.GridQubit(41, 21), cirq.GridQubit(41, 22), cirq.GridQubit(41, 23), cirq.GridQubit(41, 24), cirq.GridQubit(41, 25), cirq.GridQubit(41, 26), cirq.GridQubit(41, 27), cirq.GridQubit(41, 28), cirq.GridQubit(41, 29), cirq.GridQubit(41, 30), cirq.GridQubit(41, 31), cirq.GridQubit(41, 32), cirq.GridQubit(41, 33), cirq.GridQubit(41, 34), cirq.GridQubit(41, 35), cirq.GridQubit(41, 36), cirq.GridQubit(41, 37), cirq.GridQubit(41, 38), cirq.GridQubit(41, 39), cirq.GridQubit(41, 40), cirq.GridQubit(41, 41), cirq.GridQubit(41, 42), cirq.GridQubit(41, 43), cirq.GridQubit(41, 44), cirq.GridQubit(41, 45), cirq.GridQubit(41, 46), cirq.GridQubit(41, 47), cirq.GridQubit(41, 48), cirq.GridQubit(41, 49), cirq.GridQubit(41, 50), cirq.GridQubit(41, 51), cirq.GridQubit(41, 52), cirq.GridQubit(41, 53), cirq.GridQubit(41, 54), cirq.GridQubit(41, 55), cirq.GridQubit(41, 56), cirq.GridQubit(41, 57), cirq.GridQubit(41, 58), cirq.GridQubit(41, 59), cirq.GridQubit(41, 60), cirq.GridQubit(41, 61), cirq.GridQubit(41, 62), cirq.GridQubit(41, 63), cirq.GridQubit(41, 64), cirq.GridQubit(41, 65), cirq.GridQubit(41, 66), cirq.GridQubit(41, 67), cirq.GridQubit(41, 68), cirq.GridQubit(41, 69), cirq.GridQubit(41, 70), cirq.GridQubit(41, 71), cirq.GridQubit(41, 72), cirq.GridQubit(41, 73), cirq.GridQubit(41, 74), cirq.GridQubit(41, 75), cirq.GridQubit(42, 0), cirq.GridQubit(42, 1), cirq.GridQubit(42, 2), cirq.GridQubit(42, 3), cirq.GridQubit(42, 4), cirq.GridQubit(42, 5), cirq.GridQubit(42, 6), cirq.GridQubit(42, 7), cirq.GridQubit(42, 8), cirq.GridQubit(42, 9), cirq.GridQubit(42, 10), cirq.GridQubit(42, 11), cirq.GridQubit(42, 12), cirq.GridQubit(42, 13), cirq.GridQubit(42, 14), cirq.GridQubit(42, 15), cirq.GridQubit(42, 16), cirq.GridQubit(42, 17), cirq.GridQubit(42, 18), cirq.GridQubit(42, 19), cirq.GridQubit(42, 20), cirq.GridQubit(42, 21), cirq.GridQubit(42, 22), cirq.GridQubit(42, 23), cirq.GridQubit(42, 24), cirq.GridQubit(42, 25), cirq.GridQubit(42, 26), cirq.GridQubit(42, 27), cirq.GridQubit(42, 28), cirq.GridQubit(42, 29), cirq.GridQubit(42, 30), cirq.GridQubit(42, 31), cirq.GridQubit(42, 32), cirq.GridQubit(42, 33), cirq.GridQubit(42, 34), cirq.GridQubit(42, 35), cirq.GridQubit(42, 36), cirq.GridQubit(42, 37), cirq.GridQubit(42, 38), cirq.GridQubit(42, 39), cirq.GridQubit(42, 40), cirq.GridQubit(42, 41), cirq.GridQubit(42, 42), cirq.GridQubit(42, 43), cirq.GridQubit(42, 44), cirq.GridQubit(42, 45), cirq.GridQubit(42, 46), cirq.GridQubit(42, 47), cirq.GridQubit(42, 48), cirq.GridQubit(42, 49), cirq.GridQubit(42, 50), cirq.GridQubit(42, 51), cirq.GridQubit(42, 52), cirq.GridQubit(42, 53), cirq.GridQubit(42, 54), cirq.GridQubit(42, 55), cirq.GridQubit(42, 56), cirq.GridQubit(42, 57), cirq.GridQubit(42, 58), cirq.GridQubit(42, 59), cirq.GridQubit(42, 60), cirq.GridQubit(42, 61), cirq.GridQubit(42, 62), cirq.GridQubit(42, 63), cirq.GridQubit(42, 64), cirq.GridQubit(42, 65), cirq.GridQubit(42, 66), cirq.GridQubit(42, 67), cirq.GridQubit(42, 68), cirq.GridQubit(42, 69), cirq.GridQubit(42, 70), cirq.GridQubit(42, 71), cirq.GridQubit(42, 72), cirq.GridQubit(42, 73), cirq.GridQubit(42, 74), cirq.GridQubit(42, 75), cirq.GridQubit(43, 0), cirq.GridQubit(43, 1), cirq.GridQubit(43, 2), cirq.GridQubit(43, 3), cirq.GridQubit(43, 4), cirq.GridQubit(43, 5), cirq.GridQubit(43, 6), cirq.GridQubit(43, 7), cirq.GridQubit(43, 8), cirq.GridQubit(43, 9), cirq.GridQubit(43, 10), cirq.GridQubit(43, 11), cirq.GridQubit(43, 12), cirq.GridQubit(43, 13), cirq.GridQubit(43, 14), cirq.GridQubit(43, 15), cirq.GridQubit(43, 16), cirq.GridQubit(43, 17), cirq.GridQubit(43, 18), cirq.GridQubit(43, 19), cirq.GridQubit(43, 20), cirq.GridQubit(43, 21), cirq.GridQubit(43, 22), cirq.GridQubit(43, 23), cirq.GridQubit(43, 24), cirq.GridQubit(43, 25), cirq.GridQubit(43, 26), cirq.GridQubit(43, 27), cirq.GridQubit(43, 28), cirq.GridQubit(43, 29), cirq.GridQubit(43, 30), cirq.GridQubit(43, 31), cirq.GridQubit(43, 32), cirq.GridQubit(43, 33), cirq.GridQubit(43, 34), cirq.GridQubit(43, 35), cirq.GridQubit(43, 36), cirq.GridQubit(43, 37), cirq.GridQubit(43, 38), cirq.GridQubit(43, 39), cirq.GridQubit(43, 40), cirq.GridQubit(43, 41), cirq.GridQubit(43, 42), cirq.GridQubit(43, 43), cirq.GridQubit(43, 44), cirq.GridQubit(43, 45), cirq.GridQubit(43, 46), cirq.GridQubit(43, 47), cirq.GridQubit(43, 48), cirq.GridQubit(43, 49), cirq.GridQubit(43, 50), cirq.GridQubit(43, 51), cirq.GridQubit(43, 52), cirq.GridQubit(43, 53), cirq.GridQubit(43, 54), cirq.GridQubit(43, 55), cirq.GridQubit(43, 56), cirq.GridQubit(43, 57), cirq.GridQubit(43, 58), cirq.GridQubit(43, 59), cirq.GridQubit(43, 60), cirq.GridQubit(43, 61), cirq.GridQubit(43, 62), cirq.GridQubit(43, 63), cirq.GridQubit(43, 64), cirq.GridQubit(43, 65), cirq.GridQubit(43, 66), cirq.GridQubit(43, 67), cirq.GridQubit(43, 68), cirq.GridQubit(43, 69), cirq.GridQubit(43, 70), cirq.GridQubit(43, 71), cirq.GridQubit(43, 72), cirq.GridQubit(43, 73), cirq.GridQubit(43, 74), cirq.GridQubit(43, 75), cirq.GridQubit(44, 0), cirq.GridQubit(44, 1), cirq.GridQubit(44, 2), cirq.GridQubit(44, 3), cirq.GridQubit(44, 4), cirq.GridQubit(44, 5), cirq.GridQubit(44, 6), cirq.GridQubit(44, 7), cirq.GridQubit(44, 8), cirq.GridQubit(44, 9), cirq.GridQubit(44, 10), cirq.GridQubit(44, 11), cirq.GridQubit(44, 12), cirq.GridQubit(44, 13), cirq.GridQubit(44, 14), cirq.GridQubit(44, 15), cirq.GridQubit(44, 16), cirq.GridQubit(44, 17), cirq.GridQubit(44, 18), cirq.GridQubit(44, 19), cirq.GridQubit(44, 20), cirq.GridQubit(44, 21), cirq.GridQubit(44, 22), cirq.GridQubit(44, 23), cirq.GridQubit(44, 24), cirq.GridQubit(44, 25), cirq.GridQubit(44, 26), cirq.GridQubit(44, 27), cirq.GridQubit(44, 28), cirq.GridQubit(44, 29), cirq.GridQubit(44, 30), cirq.GridQubit(44, 31), cirq.GridQubit(44, 32), cirq.GridQubit(44, 33), cirq.GridQubit(44, 34), cirq.GridQubit(44, 35), cirq.GridQubit(44, 36), cirq.GridQubit(44, 37), cirq.GridQubit(44, 38), cirq.GridQubit(44, 39), cirq.GridQubit(44, 40), cirq.GridQubit(44, 41), cirq.GridQubit(44, 42), cirq.GridQubit(44, 43), cirq.GridQubit(44, 44), cirq.GridQubit(44, 45), cirq.GridQubit(44, 46), cirq.GridQubit(44, 47), cirq.GridQubit(44, 48), cirq.GridQubit(44, 49), cirq.GridQubit(44, 50), cirq.GridQubit(44, 51), cirq.GridQubit(44, 52), cirq.GridQubit(44, 53), cirq.GridQubit(44, 54), cirq.GridQubit(44, 55), cirq.GridQubit(44, 56), cirq.GridQubit(44, 57), cirq.GridQubit(44, 58), cirq.GridQubit(44, 59), cirq.GridQubit(44, 60), cirq.GridQubit(44, 61), cirq.GridQubit(44, 62), cirq.GridQubit(44, 63), cirq.GridQubit(44, 64), cirq.GridQubit(44, 65), cirq.GridQubit(44, 66), cirq.GridQubit(44, 67), cirq.GridQubit(44, 68), cirq.GridQubit(44, 69), cirq.GridQubit(44, 70), cirq.GridQubit(44, 71), cirq.GridQubit(44, 72), cirq.GridQubit(44, 73), cirq.GridQubit(44, 74), cirq.GridQubit(44, 75), cirq.GridQubit(45, 0), cirq.GridQubit(45, 1), cirq.GridQubit(45, 2), cirq.GridQubit(45, 3), cirq.GridQubit(45, 4), cirq.GridQubit(45, 5), cirq.GridQubit(45, 6), cirq.GridQubit(45, 7), cirq.GridQubit(45, 8), cirq.GridQubit(45, 9), cirq.GridQubit(45, 10), cirq.GridQubit(45, 11), cirq.GridQubit(45, 12), cirq.GridQubit(45, 13), cirq.GridQubit(45, 14), cirq.GridQubit(45, 15), cirq.GridQubit(45, 16), cirq.GridQubit(45, 17), cirq.GridQubit(45, 18), cirq.GridQubit(45, 19), cirq.GridQubit(45, 20), cirq.GridQubit(45, 21), cirq.GridQubit(45, 22), cirq.GridQubit(45, 23), cirq.GridQubit(45, 24), cirq.GridQubit(45, 25), cirq.GridQubit(45, 26), cirq.GridQubit(45, 27), cirq.GridQubit(45, 28), cirq.GridQubit(45, 29), cirq.GridQubit(45, 30), cirq.GridQubit(45, 31), cirq.GridQubit(45, 32), cirq.GridQubit(45, 33), cirq.GridQubit(45, 34), cirq.GridQubit(45, 35), cirq.GridQubit(45, 36), cirq.GridQubit(45, 37), cirq.GridQubit(45, 38), cirq.GridQubit(45, 39), cirq.GridQubit(45, 40), cirq.GridQubit(45, 41), cirq.GridQubit(45, 42), cirq.GridQubit(45, 43), cirq.GridQubit(45, 44), cirq.GridQubit(45, 45), cirq.GridQubit(45, 46), cirq.GridQubit(45, 47), cirq.GridQubit(45, 48), cirq.GridQubit(45, 49), cirq.GridQubit(45, 50), cirq.GridQubit(45, 51), cirq.GridQubit(45, 52), cirq.GridQubit(45, 53), cirq.GridQubit(45, 54), cirq.GridQubit(45, 55), cirq.GridQubit(45, 56), cirq.GridQubit(45, 57), cirq.GridQubit(45, 58), cirq.GridQubit(45, 59), cirq.GridQubit(45, 60), cirq.GridQubit(45, 61), cirq.GridQubit(45, 62), cirq.GridQubit(45, 63), cirq.GridQubit(45, 64), cirq.GridQubit(45, 65), cirq.GridQubit(45, 66), cirq.GridQubit(45, 67), cirq.GridQubit(45, 68), cirq.GridQubit(45, 69), cirq.GridQubit(45, 70), cirq.GridQubit(45, 71), cirq.GridQubit(45, 72), cirq.GridQubit(45, 73), cirq.GridQubit(45, 74), cirq.GridQubit(45, 75), cirq.GridQubit(46, 0), cirq.GridQubit(46, 1), cirq.GridQubit(46, 2), cirq.GridQubit(46, 3), cirq.GridQubit(46, 4), cirq.GridQubit(46, 5), cirq.GridQubit(46, 6), cirq.GridQubit(46, 7), cirq.GridQubit(46, 8), cirq.GridQubit(46, 9), cirq.GridQubit(46, 10), cirq.GridQubit(46, 11), cirq.GridQubit(46, 12), cirq.GridQubit(46, 13), cirq.GridQubit(46, 14), cirq.GridQubit(46, 15), cirq.GridQubit(46, 16), cirq.GridQubit(46, 17), cirq.GridQubit(46, 18), cirq.GridQubit(46, 19), cirq.GridQubit(46, 20), cirq.GridQubit(46, 21), cirq.GridQubit(46, 22), cirq.GridQubit(46, 23), cirq.GridQubit(46, 24), cirq.GridQubit(46, 25), cirq.GridQubit(46, 26), cirq.GridQubit(46, 27), cirq.GridQubit(46, 28), cirq.GridQubit(46, 29), cirq.GridQubit(46, 30), cirq.GridQubit(46, 31), cirq.GridQubit(46, 32), cirq.GridQubit(46, 33), cirq.GridQubit(46, 34), cirq.GridQubit(46, 35), cirq.GridQubit(46, 36), cirq.GridQubit(46, 37), cirq.GridQubit(46, 38), cirq.GridQubit(46, 39), cirq.GridQubit(46, 40), cirq.GridQubit(46, 41), cirq.GridQubit(46, 42), cirq.GridQubit(46, 43), cirq.GridQubit(46, 44), cirq.GridQubit(46, 45), cirq.GridQubit(46, 46), cirq.GridQubit(46, 47), cirq.GridQubit(46, 48), cirq.GridQubit(46, 49), cirq.GridQubit(46, 50), cirq.GridQubit(46, 51), cirq.GridQubit(46, 52), cirq.GridQubit(46, 53), cirq.GridQubit(46, 54), cirq.GridQubit(46, 55), cirq.GridQubit(46, 56), cirq.GridQubit(46, 57), cirq.GridQubit(46, 58), cirq.GridQubit(46, 59), cirq.GridQubit(46, 60), cirq.GridQubit(46, 61), cirq.GridQubit(46, 62), cirq.GridQubit(46, 63), cirq.GridQubit(46, 64), cirq.GridQubit(46, 65), cirq.GridQubit(46, 66), cirq.GridQubit(46, 67), cirq.GridQubit(46, 68), cirq.GridQubit(46, 69), cirq.GridQubit(46, 70), cirq.GridQubit(46, 71), cirq.GridQubit(46, 72), cirq.GridQubit(46, 73), cirq.GridQubit(46, 74), cirq.GridQubit(46, 75), cirq.GridQubit(47, 0), cirq.GridQubit(47, 1), cirq.GridQubit(47, 2), cirq.GridQubit(47, 3), cirq.GridQubit(47, 4), cirq.GridQubit(47, 5), cirq.GridQubit(47, 6), cirq.GridQubit(47, 7), cirq.GridQubit(47, 8), cirq.GridQubit(47, 9), cirq.GridQubit(47, 10), cirq.GridQubit(47, 11), cirq.GridQubit(47, 12), cirq.GridQubit(47, 13), cirq.GridQubit(47, 14), cirq.GridQubit(47, 15), cirq.GridQubit(47, 16), cirq.GridQubit(47, 17), cirq.GridQubit(47, 18), cirq.GridQubit(47, 19), cirq.GridQubit(47, 20), cirq.GridQubit(47, 21), cirq.GridQubit(47, 22), cirq.GridQubit(47, 23), cirq.GridQubit(47, 24), cirq.GridQubit(47, 25), cirq.GridQubit(47, 26), cirq.GridQubit(47, 27), cirq.GridQubit(47, 28), cirq.GridQubit(47, 29), cirq.GridQubit(47, 30), cirq.GridQubit(47, 31), cirq.GridQubit(47, 32), cirq.GridQubit(47, 33), cirq.GridQubit(47, 34), cirq.GridQubit(47, 35), cirq.GridQubit(47, 36), cirq.GridQubit(47, 37), cirq.GridQubit(47, 38), cirq.GridQubit(47, 39), cirq.GridQubit(47, 40), cirq.GridQubit(47, 41), cirq.GridQubit(47, 42), cirq.GridQubit(47, 43), cirq.GridQubit(47, 44), cirq.GridQubit(47, 45), cirq.GridQubit(47, 46), cirq.GridQubit(47, 47), cirq.GridQubit(47, 48), cirq.GridQubit(47, 49), cirq.GridQubit(47, 50), cirq.GridQubit(47, 51), cirq.GridQubit(47, 52), cirq.GridQubit(47, 53), cirq.GridQubit(47, 54), cirq.GridQubit(47, 55), cirq.GridQubit(47, 56), cirq.GridQubit(47, 57), cirq.GridQubit(47, 58), cirq.GridQubit(47, 59), cirq.GridQubit(47, 60), cirq.GridQubit(47, 61), cirq.GridQubit(47, 62), cirq.GridQubit(47, 63), cirq.GridQubit(47, 64), cirq.GridQubit(47, 65), cirq.GridQubit(47, 66), cirq.GridQubit(47, 67), cirq.GridQubit(47, 68), cirq.GridQubit(47, 69), cirq.GridQubit(47, 70), cirq.GridQubit(47, 71), cirq.GridQubit(47, 72), cirq.GridQubit(47, 73), cirq.GridQubit(47, 74), cirq.GridQubit(47, 75), cirq.GridQubit(48, 0), cirq.GridQubit(48, 1), cirq.GridQubit(48, 2), cirq.GridQubit(48, 3), cirq.GridQubit(48, 4), cirq.GridQubit(48, 5), cirq.GridQubit(48, 6), cirq.GridQubit(48, 7), cirq.GridQubit(48, 8), cirq.GridQubit(48, 9), cirq.GridQubit(48, 10), cirq.GridQubit(48, 11), cirq.GridQubit(48, 12), cirq.GridQubit(48, 13), cirq.GridQubit(48, 14), cirq.GridQubit(48, 15), cirq.GridQubit(48, 16), cirq.GridQubit(48, 17), cirq.GridQubit(48, 18), cirq.GridQubit(48, 19), cirq.GridQubit(48, 20), cirq.GridQubit(48, 21), cirq.GridQubit(48, 22), cirq.GridQubit(48, 23), cirq.GridQubit(48, 24), cirq.GridQubit(48, 25), cirq.GridQubit(48, 26), cirq.GridQubit(48, 27), cirq.GridQubit(48, 28), cirq.GridQubit(48, 29), cirq.GridQubit(48, 30), cirq.GridQubit(48, 31), cirq.GridQubit(48, 32), cirq.GridQubit(48, 33), cirq.GridQubit(48, 34), cirq.GridQubit(48, 35), cirq.GridQubit(48, 36), cirq.GridQubit(48, 37), cirq.GridQubit(48, 38), cirq.GridQubit(48, 39), cirq.GridQubit(48, 40), cirq.GridQubit(48, 41), cirq.GridQubit(48, 42), cirq.GridQubit(48, 43), cirq.GridQubit(48, 44), cirq.GridQubit(48, 45), cirq.GridQubit(48, 46), cirq.GridQubit(48, 47), cirq.GridQubit(48, 48), cirq.GridQubit(48, 49), cirq.GridQubit(48, 50), cirq.GridQubit(48, 51), cirq.GridQubit(48, 52), cirq.GridQubit(48, 53), cirq.GridQubit(48, 54), cirq.GridQubit(48, 55), cirq.GridQubit(48, 56), cirq.GridQubit(48, 57), cirq.GridQubit(48, 58), cirq.GridQubit(48, 59), cirq.GridQubit(48, 60), cirq.GridQubit(48, 61), cirq.GridQubit(48, 62), cirq.GridQubit(48, 63), cirq.GridQubit(48, 64), cirq.GridQubit(48, 65), cirq.GridQubit(48, 66), cirq.GridQubit(48, 67), cirq.GridQubit(48, 68), cirq.GridQubit(48, 69), cirq.GridQubit(48, 70), cirq.GridQubit(48, 71), cirq.GridQubit(48, 72), cirq.GridQubit(48, 73), cirq.GridQubit(48, 74), cirq.GridQubit(48, 75), cirq.GridQubit(49, 0), cirq.GridQubit(49, 1), cirq.GridQubit(49, 2), cirq.GridQubit(49, 3), cirq.GridQubit(49, 4), cirq.GridQubit(49, 5), cirq.GridQubit(49, 6), cirq.GridQubit(49, 7), cirq.GridQubit(49, 8), cirq.GridQubit(49, 9), cirq.GridQubit(49, 10), cirq.GridQubit(49, 11), cirq.GridQubit(49, 12), cirq.GridQubit(49, 13), cirq.GridQubit(49, 14), cirq.GridQubit(49, 15), cirq.GridQubit(49, 16), cirq.GridQubit(49, 17), cirq.GridQubit(49, 18), cirq.GridQubit(49, 19), cirq.GridQubit(49, 20), cirq.GridQubit(49, 21), cirq.GridQubit(49, 22), cirq.GridQubit(49, 23), cirq.GridQubit(49, 24), cirq.GridQubit(49, 25), cirq.GridQubit(49, 26), cirq.GridQubit(49, 27), cirq.GridQubit(49, 28), cirq.GridQubit(49, 29), cirq.GridQubit(49, 30), cirq.GridQubit(49, 31), cirq.GridQubit(49, 32), cirq.GridQubit(49, 33), cirq.GridQubit(49, 34), cirq.GridQubit(49, 35), cirq.GridQubit(49, 36), cirq.GridQubit(49, 37), cirq.GridQubit(49, 38), cirq.GridQubit(49, 39), cirq.GridQubit(49, 40), cirq.GridQubit(49, 41), cirq.GridQubit(49, 42), cirq.GridQubit(49, 43), cirq.GridQubit(49, 44), cirq.GridQubit(49, 45), cirq.GridQubit(49, 46), cirq.GridQubit(49, 47), cirq.GridQubit(49, 48), cirq.GridQubit(49, 49), cirq.GridQubit(49, 50), cirq.GridQubit(49, 51), cirq.GridQubit(49, 52), cirq.GridQubit(49, 53), cirq.GridQubit(49, 54), cirq.GridQubit(49, 55), cirq.GridQubit(49, 56), cirq.GridQubit(49, 57), cirq.GridQubit(49, 58), cirq.GridQubit(49, 59), cirq.GridQubit(49, 60), cirq.GridQubit(49, 61), cirq.GridQubit(49, 62), cirq.GridQubit(49, 63), cirq.GridQubit(49, 64), cirq.GridQubit(49, 65), cirq.GridQubit(49, 66), cirq.GridQubit(49, 67), cirq.GridQubit(49, 68), cirq.GridQubit(49, 69), cirq.GridQubit(49, 70), cirq.GridQubit(49, 71), cirq.GridQubit(49, 72), cirq.GridQubit(49, 73), cirq.GridQubit(49, 74), cirq.GridQubit(49, 75), cirq.GridQubit(50, 0), cirq.GridQubit(50, 1), cirq.GridQubit(50, 2), cirq.GridQubit(50, 3), cirq.GridQubit(50, 4), cirq.GridQubit(50, 5), cirq.GridQubit(50, 6), cirq.GridQubit(50, 7), cirq.GridQubit(50, 8), cirq.GridQubit(50, 9), cirq.GridQubit(50, 10), cirq.GridQubit(50, 11), cirq.GridQubit(50, 12), cirq.GridQubit(50, 13), cirq.GridQubit(50, 14), cirq.GridQubit(50, 15), cirq.GridQubit(50, 16), cirq.GridQubit(50, 17), cirq.GridQubit(50, 18), cirq.GridQubit(50, 19), cirq.GridQubit(50, 20), cirq.GridQubit(50, 21), cirq.GridQubit(50, 22), cirq.GridQubit(50, 23), cirq.GridQubit(50, 24), cirq.GridQubit(50, 25), cirq.GridQubit(50, 26), cirq.GridQubit(50, 27), cirq.GridQubit(50, 28), cirq.GridQubit(50, 29), cirq.GridQubit(50, 30), cirq.GridQubit(50, 31), cirq.GridQubit(50, 32), cirq.GridQubit(50, 33), cirq.GridQubit(50, 34), cirq.GridQubit(50, 35), cirq.GridQubit(50, 36), cirq.GridQubit(50, 37), cirq.GridQubit(50, 38), cirq.GridQubit(50, 39), cirq.GridQubit(50, 40), cirq.GridQubit(50, 41), cirq.GridQubit(50, 42), cirq.GridQubit(50, 43), cirq.GridQubit(50, 44), cirq.GridQubit(50, 45), cirq.GridQubit(50, 46), cirq.GridQubit(50, 47), cirq.GridQubit(50, 48), cirq.GridQubit(50, 49), cirq.GridQubit(50, 50), cirq.GridQubit(50, 51), cirq.GridQubit(50, 52), cirq.GridQubit(50, 53), cirq.GridQubit(50, 54), cirq.GridQubit(50, 55), cirq.GridQubit(50, 56), cirq.GridQubit(50, 57), cirq.GridQubit(50, 58), cirq.GridQubit(50, 59), cirq.GridQubit(50, 60), cirq.GridQubit(50, 61), cirq.GridQubit(50, 62), cirq.GridQubit(50, 63), cirq.GridQubit(50, 64), cirq.GridQubit(50, 65), cirq.GridQubit(50, 66), cirq.GridQubit(50, 67), cirq.GridQubit(50, 68), cirq.GridQubit(50, 69), cirq.GridQubit(50, 70), cirq.GridQubit(50, 71), cirq.GridQubit(50, 72), cirq.GridQubit(50, 73), cirq.GridQubit(50, 74), cirq.GridQubit(50, 75), cirq.GridQubit(51, 0), cirq.GridQubit(51, 1), cirq.GridQubit(51, 2), cirq.GridQubit(51, 3), cirq.GridQubit(51, 4), cirq.GridQubit(51, 5), cirq.GridQubit(51, 6), cirq.GridQubit(51, 7), cirq.GridQubit(51, 8), cirq.GridQubit(51, 9), cirq.GridQubit(51, 10), cirq.GridQubit(51, 11), cirq.GridQubit(51, 12), cirq.GridQubit(51, 13), cirq.GridQubit(51, 14), cirq.GridQubit(51, 15), cirq.GridQubit(51, 16), cirq.GridQubit(51, 17), cirq.GridQubit(51, 18), cirq.GridQubit(51, 19), cirq.GridQubit(51, 20), cirq.GridQubit(51, 21), cirq.GridQubit(51, 22), cirq.GridQubit(51, 23), cirq.GridQubit(51, 24), cirq.GridQubit(51, 25), cirq.GridQubit(51, 26), cirq.GridQubit(51, 27), cirq.GridQubit(51, 28), cirq.GridQubit(51, 29), cirq.GridQubit(51, 30), cirq.GridQubit(51, 31), cirq.GridQubit(51, 32), cirq.GridQubit(51, 33), cirq.GridQubit(51, 34), cirq.GridQubit(51, 35), cirq.GridQubit(51, 36), cirq.GridQubit(51, 37), cirq.GridQubit(51, 38), cirq.GridQubit(51, 39), cirq.GridQubit(51, 40), cirq.GridQubit(51, 41), cirq.GridQubit(51, 42), cirq.GridQubit(51, 43), cirq.GridQubit(51, 44), cirq.GridQubit(51, 45), cirq.GridQubit(51, 46), cirq.GridQubit(51, 47), cirq.GridQubit(51, 48), cirq.GridQubit(51, 49), cirq.GridQubit(51, 50), cirq.GridQubit(51, 51), cirq.GridQubit(51, 52), cirq.GridQubit(51, 53), cirq.GridQubit(51, 54), cirq.GridQubit(51, 55), cirq.GridQubit(51, 56), cirq.GridQubit(51, 57), cirq.GridQubit(51, 58), cirq.GridQubit(51, 59), cirq.GridQubit(51, 60), cirq.GridQubit(51, 61), cirq.GridQubit(51, 62), cirq.GridQubit(51, 63), cirq.GridQubit(51, 64), cirq.GridQubit(51, 65), cirq.GridQubit(51, 66), cirq.GridQubit(51, 67), cirq.GridQubit(51, 68), cirq.GridQubit(51, 69), cirq.GridQubit(51, 70), cirq.GridQubit(51, 71), cirq.GridQubit(51, 72), cirq.GridQubit(51, 73), cirq.GridQubit(51, 74), cirq.GridQubit(51, 75), cirq.GridQubit(52, 0), cirq.GridQubit(52, 1), cirq.GridQubit(52, 2), cirq.GridQubit(52, 3), cirq.GridQubit(52, 4), cirq.GridQubit(52, 5), cirq.GridQubit(52, 6), cirq.GridQubit(52, 7), cirq.GridQubit(52, 8), cirq.GridQubit(52, 9), cirq.GridQubit(52, 10), cirq.GridQubit(52, 11), cirq.GridQubit(52, 12), cirq.GridQubit(52, 13), cirq.GridQubit(52, 14), cirq.GridQubit(52, 15), cirq.GridQubit(52, 16), cirq.GridQubit(52, 17), cirq.GridQubit(52, 18), cirq.GridQubit(52, 19), cirq.GridQubit(52, 20), cirq.GridQubit(52, 21), cirq.GridQubit(52, 22), cirq.GridQubit(52, 23), cirq.GridQubit(52, 24), cirq.GridQubit(52, 25), cirq.GridQubit(52, 26), cirq.GridQubit(52, 27), cirq.GridQubit(52, 28), cirq.GridQubit(52, 29), cirq.GridQubit(52, 30), cirq.GridQubit(52, 31), cirq.GridQubit(52, 32), cirq.GridQubit(52, 33), cirq.GridQubit(52, 34), cirq.GridQubit(52, 35), cirq.GridQubit(52, 36), cirq.GridQubit(52, 37), cirq.GridQubit(52, 38), cirq.GridQubit(52, 39), cirq.GridQubit(52, 40), cirq.GridQubit(52, 41), cirq.GridQubit(52, 42), cirq.GridQubit(52, 43), cirq.GridQubit(52, 44), cirq.GridQubit(52, 45), cirq.GridQubit(52, 46), cirq.GridQubit(52, 47), cirq.GridQubit(52, 48), cirq.GridQubit(52, 49), cirq.GridQubit(52, 50), cirq.GridQubit(52, 51), cirq.GridQubit(52, 52), cirq.GridQubit(52, 53), cirq.GridQubit(52, 54), cirq.GridQubit(52, 55), cirq.GridQubit(52, 56), cirq.GridQubit(52, 57), cirq.GridQubit(52, 58), cirq.GridQubit(52, 59), cirq.GridQubit(52, 60), cirq.GridQubit(52, 61), cirq.GridQubit(52, 62), cirq.GridQubit(52, 63), cirq.GridQubit(52, 64), cirq.GridQubit(52, 65), cirq.GridQubit(52, 66), cirq.GridQubit(52, 67), cirq.GridQubit(52, 68), cirq.GridQubit(52, 69), cirq.GridQubit(52, 70), cirq.GridQubit(52, 71), cirq.GridQubit(52, 72), cirq.GridQubit(52, 73), cirq.GridQubit(52, 74), cirq.GridQubit(52, 75), cirq.GridQubit(53, 0), cirq.GridQubit(53, 1), cirq.GridQubit(53, 2), cirq.GridQubit(53, 3), cirq.GridQubit(53, 4), cirq.GridQubit(53, 5), cirq.GridQubit(53, 6), cirq.GridQubit(53, 7), cirq.GridQubit(53, 8), cirq.GridQubit(53, 9), cirq.GridQubit(53, 10), cirq.GridQubit(53, 11), cirq.GridQubit(53, 12), cirq.GridQubit(53, 13), cirq.GridQubit(53, 14), cirq.GridQubit(53, 15), cirq.GridQubit(53, 16), cirq.GridQubit(53, 17), cirq.GridQubit(53, 18), cirq.GridQubit(53, 19), cirq.GridQubit(53, 20), cirq.GridQubit(53, 21), cirq.GridQubit(53, 22), cirq.GridQubit(53, 23), cirq.GridQubit(53, 24), cirq.GridQubit(53, 25), cirq.GridQubit(53, 26), cirq.GridQubit(53, 27), cirq.GridQubit(53, 28), cirq.GridQubit(53, 29), cirq.GridQubit(53, 30), cirq.GridQubit(53, 31), cirq.GridQubit(53, 32), cirq.GridQubit(53, 33), cirq.GridQubit(53, 34), cirq.GridQubit(53, 35), cirq.GridQubit(53, 36), cirq.GridQubit(53, 37), cirq.GridQubit(53, 38), cirq.GridQubit(53, 39), cirq.GridQubit(53, 40), cirq.GridQubit(53, 41), cirq.GridQubit(53, 42), cirq.GridQubit(53, 43), cirq.GridQubit(53, 44), cirq.GridQubit(53, 45), cirq.GridQubit(53, 46), cirq.GridQubit(53, 47), cirq.GridQubit(53, 48), cirq.GridQubit(53, 49), cirq.GridQubit(53, 50), cirq.GridQubit(53, 51), cirq.GridQubit(53, 52), cirq.GridQubit(53, 53), cirq.GridQubit(53, 54), cirq.GridQubit(53, 55), cirq.GridQubit(53, 56), cirq.GridQubit(53, 57), cirq.GridQubit(53, 58), cirq.GridQubit(53, 59), cirq.GridQubit(53, 60), cirq.GridQubit(53, 61), cirq.GridQubit(53, 62), cirq.GridQubit(53, 63), cirq.GridQubit(53, 64), cirq.GridQubit(53, 65), cirq.GridQubit(53, 66), cirq.GridQubit(53, 67), cirq.GridQubit(53, 68), cirq.GridQubit(53, 69), cirq.GridQubit(53, 70), cirq.GridQubit(53, 71), cirq.GridQubit(53, 72), cirq.GridQubit(53, 73), cirq.GridQubit(53, 74), cirq.GridQubit(53, 75), cirq.GridQubit(54, 0), cirq.GridQubit(54, 1), cirq.GridQubit(54, 2), cirq.GridQubit(54, 3), cirq.GridQubit(54, 4), cirq.GridQubit(54, 5), cirq.GridQubit(54, 6), cirq.GridQubit(54, 7), cirq.GridQubit(54, 8), cirq.GridQubit(54, 9), cirq.GridQubit(54, 10), cirq.GridQubit(54, 11), cirq.GridQubit(54, 12), cirq.GridQubit(54, 13), cirq.GridQubit(54, 14), cirq.GridQubit(54, 15), cirq.GridQubit(54, 16), cirq.GridQubit(54, 17), cirq.GridQubit(54, 18), cirq.GridQubit(54, 19), cirq.GridQubit(54, 20), cirq.GridQubit(54, 21), cirq.GridQubit(54, 22), cirq.GridQubit(54, 23), cirq.GridQubit(54, 24), cirq.GridQubit(54, 25), cirq.GridQubit(54, 26), cirq.GridQubit(54, 27), cirq.GridQubit(54, 28), cirq.GridQubit(54, 29), cirq.GridQubit(54, 30), cirq.GridQubit(54, 31), cirq.GridQubit(54, 32), cirq.GridQubit(54, 33), cirq.GridQubit(54, 34), cirq.GridQubit(54, 35), cirq.GridQubit(54, 36), cirq.GridQubit(54, 37), cirq.GridQubit(54, 38), cirq.GridQubit(54, 39), cirq.GridQubit(54, 40), cirq.GridQubit(54, 41), cirq.GridQubit(54, 42), cirq.GridQubit(54, 43), cirq.GridQubit(54, 44), cirq.GridQubit(54, 45), cirq.GridQubit(54, 46), cirq.GridQubit(54, 47), cirq.GridQubit(54, 48), cirq.GridQubit(54, 49), cirq.GridQubit(54, 50), cirq.GridQubit(54, 51), cirq.GridQubit(54, 52), cirq.GridQubit(54, 53), cirq.GridQubit(54, 54), cirq.GridQubit(54, 55), cirq.GridQubit(54, 56), cirq.GridQubit(54, 57), cirq.GridQubit(54, 58), cirq.GridQubit(54, 59), cirq.GridQubit(54, 60), cirq.GridQubit(54, 61), cirq.GridQubit(54, 62), cirq.GridQubit(54, 63), cirq.GridQubit(54, 64), cirq.GridQubit(54, 65), cirq.GridQubit(54, 66), cirq.GridQubit(54, 67), cirq.GridQubit(54, 68), cirq.GridQubit(54, 69), cirq.GridQubit(54, 70), cirq.GridQubit(54, 71), cirq.GridQubit(54, 72), cirq.GridQubit(54, 73), cirq.GridQubit(54, 74), cirq.GridQubit(54, 75), cirq.GridQubit(55, 0), cirq.GridQubit(55, 1), cirq.GridQubit(55, 2), cirq.GridQubit(55, 3), cirq.GridQubit(55, 4), cirq.GridQubit(55, 5), cirq.GridQubit(55, 6), cirq.GridQubit(55, 7), cirq.GridQubit(55, 8), cirq.GridQubit(55, 9), cirq.GridQubit(55, 10), cirq.GridQubit(55, 11), cirq.GridQubit(55, 12), cirq.GridQubit(55, 13), cirq.GridQubit(55, 14), cirq.GridQubit(55, 15), cirq.GridQubit(55, 16), cirq.GridQubit(55, 17), cirq.GridQubit(55, 18), cirq.GridQubit(55, 19), cirq.GridQubit(55, 20), cirq.GridQubit(55, 21), cirq.GridQubit(55, 22), cirq.GridQubit(55, 23), cirq.GridQubit(55, 24), cirq.GridQubit(55, 25), cirq.GridQubit(55, 26), cirq.GridQubit(55, 27), cirq.GridQubit(55, 28), cirq.GridQubit(55, 29), cirq.GridQubit(55, 30), cirq.GridQubit(55, 31), cirq.GridQubit(55, 32), cirq.GridQubit(55, 33), cirq.GridQubit(55, 34), cirq.GridQubit(55, 35), cirq.GridQubit(55, 36), cirq.GridQubit(55, 37), cirq.GridQubit(55, 38), cirq.GridQubit(55, 39), cirq.GridQubit(55, 40), cirq.GridQubit(55, 41), cirq.GridQubit(55, 42), cirq.GridQubit(55, 43), cirq.GridQubit(55, 44), cirq.GridQubit(55, 45), cirq.GridQubit(55, 46), cirq.GridQubit(55, 47), cirq.GridQubit(55, 48), cirq.GridQubit(55, 49), cirq.GridQubit(55, 50), cirq.GridQubit(55, 51), cirq.GridQubit(55, 52), cirq.GridQubit(55, 53), cirq.GridQubit(55, 54), cirq.GridQubit(55, 55), cirq.GridQubit(55, 56), cirq.GridQubit(55, 57), cirq.GridQubit(55, 58), cirq.GridQubit(55, 59), cirq.GridQubit(55, 60), cirq.GridQubit(55, 61), cirq.GridQubit(55, 62), cirq.GridQubit(55, 63), cirq.GridQubit(55, 64), cirq.GridQubit(55, 65), cirq.GridQubit(55, 66), cirq.GridQubit(55, 67), cirq.GridQubit(55, 68), cirq.GridQubit(55, 69), cirq.GridQubit(55, 70), cirq.GridQubit(55, 71), cirq.GridQubit(55, 72), cirq.GridQubit(55, 73), cirq.GridQubit(55, 74), cirq.GridQubit(55, 75), cirq.GridQubit(56, 0), cirq.GridQubit(56, 1), cirq.GridQubit(56, 2), cirq.GridQubit(56, 3), cirq.GridQubit(56, 4), cirq.GridQubit(56, 5), cirq.GridQubit(56, 6), cirq.GridQubit(56, 7), cirq.GridQubit(56, 8), cirq.GridQubit(56, 9), cirq.GridQubit(56, 10), cirq.GridQubit(56, 11), cirq.GridQubit(56, 12), cirq.GridQubit(56, 13), cirq.GridQubit(56, 14), cirq.GridQubit(56, 15), cirq.GridQubit(56, 16), cirq.GridQubit(56, 17), cirq.GridQubit(56, 18), cirq.GridQubit(56, 19), cirq.GridQubit(56, 20), cirq.GridQubit(56, 21), cirq.GridQubit(56, 22), cirq.GridQubit(56, 23), cirq.GridQubit(56, 24), cirq.GridQubit(56, 25), cirq.GridQubit(56, 26), cirq.GridQubit(56, 27), cirq.GridQubit(56, 28), cirq.GridQubit(56, 29), cirq.GridQubit(56, 30), cirq.GridQubit(56, 31), cirq.GridQubit(56, 32), cirq.GridQubit(56, 33), cirq.GridQubit(56, 34), cirq.GridQubit(56, 35), cirq.GridQubit(56, 36), cirq.GridQubit(56, 37), cirq.GridQubit(56, 38), cirq.GridQubit(56, 39), cirq.GridQubit(56, 40), cirq.GridQubit(56, 41), cirq.GridQubit(56, 42), cirq.GridQubit(56, 43), cirq.GridQubit(56, 44), cirq.GridQubit(56, 45), cirq.GridQubit(56, 46), cirq.GridQubit(56, 47), cirq.GridQubit(56, 48), cirq.GridQubit(56, 49), cirq.GridQubit(56, 50), cirq.GridQubit(56, 51), cirq.GridQubit(56, 52), cirq.GridQubit(56, 53), cirq.GridQubit(56, 54), cirq.GridQubit(56, 55), cirq.GridQubit(56, 56), cirq.GridQubit(56, 57), cirq.GridQubit(56, 58), cirq.GridQubit(56, 59), cirq.GridQubit(56, 60), cirq.GridQubit(56, 61), cirq.GridQubit(56, 62), cirq.GridQubit(56, 63), cirq.GridQubit(56, 64), cirq.GridQubit(56, 65), cirq.GridQubit(56, 66), cirq.GridQubit(56, 67), cirq.GridQubit(56, 68), cirq.GridQubit(56, 69), cirq.GridQubit(56, 70), cirq.GridQubit(56, 71), cirq.GridQubit(56, 72), cirq.GridQubit(56, 73), cirq.GridQubit(56, 74), cirq.GridQubit(56, 75), cirq.GridQubit(57, 0), cirq.GridQubit(57, 1), cirq.GridQubit(57, 2), cirq.GridQubit(57, 3), cirq.GridQubit(57, 4), cirq.GridQubit(57, 5), cirq.GridQubit(57, 6), cirq.GridQubit(57, 7), cirq.GridQubit(57, 8), cirq.GridQubit(57, 9), cirq.GridQubit(57, 10), cirq.GridQubit(57, 11), cirq.GridQubit(57, 12), cirq.GridQubit(57, 13), cirq.GridQubit(57, 14), cirq.GridQubit(57, 15), cirq.GridQubit(57, 16), cirq.GridQubit(57, 17), cirq.GridQubit(57, 18), cirq.GridQubit(57, 19), cirq.GridQubit(57, 20), cirq.GridQubit(57, 21), cirq.GridQubit(57, 22), cirq.GridQubit(57, 23), cirq.GridQubit(57, 24), cirq.GridQubit(57, 25), cirq.GridQubit(57, 26), cirq.GridQubit(57, 27), cirq.GridQubit(57, 28), cirq.GridQubit(57, 29), cirq.GridQubit(57, 30), cirq.GridQubit(57, 31), cirq.GridQubit(57, 32), cirq.GridQubit(57, 33), cirq.GridQubit(57, 34), cirq.GridQubit(57, 35), cirq.GridQubit(57, 36), cirq.GridQubit(57, 37), cirq.GridQubit(57, 38), cirq.GridQubit(57, 39), cirq.GridQubit(57, 40), cirq.GridQubit(57, 41), cirq.GridQubit(57, 42), cirq.GridQubit(57, 43), cirq.GridQubit(57, 44), cirq.GridQubit(57, 45), cirq.GridQubit(57, 46), cirq.GridQubit(57, 47), cirq.GridQubit(57, 48), cirq.GridQubit(57, 49), cirq.GridQubit(57, 50), cirq.GridQubit(57, 51), cirq.GridQubit(57, 52), cirq.GridQubit(57, 53), cirq.GridQubit(57, 54), cirq.GridQubit(57, 55), cirq.GridQubit(57, 56), cirq.GridQubit(57, 57), cirq.GridQubit(57, 58), cirq.GridQubit(57, 59), cirq.GridQubit(57, 60), cirq.GridQubit(57, 61), cirq.GridQubit(57, 62), cirq.GridQubit(57, 63), cirq.GridQubit(57, 64), cirq.GridQubit(57, 65), cirq.GridQubit(57, 66), cirq.GridQubit(57, 67), cirq.GridQubit(57, 68), cirq.GridQubit(57, 69), cirq.GridQubit(57, 70), cirq.GridQubit(57, 71), cirq.GridQubit(57, 72), cirq.GridQubit(57, 73), cirq.GridQubit(57, 74), cirq.GridQubit(57, 75), cirq.GridQubit(58, 0), cirq.GridQubit(58, 1), cirq.GridQubit(58, 2), cirq.GridQubit(58, 3), cirq.GridQubit(58, 4), cirq.GridQubit(58, 5), cirq.GridQubit(58, 6), cirq.GridQubit(58, 7), cirq.GridQubit(58, 8), cirq.GridQubit(58, 9), cirq.GridQubit(58, 10), cirq.GridQubit(58, 11), cirq.GridQubit(58, 12), cirq.GridQubit(58, 13), cirq.GridQubit(58, 14), cirq.GridQubit(58, 15), cirq.GridQubit(58, 16), cirq.GridQubit(58, 17), cirq.GridQubit(58, 18), cirq.GridQubit(58, 19), cirq.GridQubit(58, 20), cirq.GridQubit(58, 21), cirq.GridQubit(58, 22), cirq.GridQubit(58, 23), cirq.GridQubit(58, 24), cirq.GridQubit(58, 25), cirq.GridQubit(58, 26), cirq.GridQubit(58, 27), cirq.GridQubit(58, 28), cirq.GridQubit(58, 29), cirq.GridQubit(58, 30), cirq.GridQubit(58, 31), cirq.GridQubit(58, 32), cirq.GridQubit(58, 33), cirq.GridQubit(58, 34), cirq.GridQubit(58, 35), cirq.GridQubit(58, 36), cirq.GridQubit(58, 37), cirq.GridQubit(58, 38), cirq.GridQubit(58, 39), cirq.GridQubit(58, 40), cirq.GridQubit(58, 41), cirq.GridQubit(58, 42), cirq.GridQubit(58, 43), cirq.GridQubit(58, 44), cirq.GridQubit(58, 45), cirq.GridQubit(58, 46), cirq.GridQubit(58, 47), cirq.GridQubit(58, 48), cirq.GridQubit(58, 49), cirq.GridQubit(58, 50), cirq.GridQubit(58, 51), cirq.GridQubit(58, 52), cirq.GridQubit(58, 53), cirq.GridQubit(58, 54), cirq.GridQubit(58, 55), cirq.GridQubit(58, 56), cirq.GridQubit(58, 57), cirq.GridQubit(58, 58), cirq.GridQubit(58, 59), cirq.GridQubit(58, 60), cirq.GridQubit(58, 61), cirq.GridQubit(58, 62), cirq.GridQubit(58, 63), cirq.GridQubit(58, 64), cirq.GridQubit(58, 65), cirq.GridQubit(58, 66), cirq.GridQubit(58, 67), cirq.GridQubit(58, 68), cirq.GridQubit(58, 69), cirq.GridQubit(58, 70), cirq.GridQubit(58, 71), cirq.GridQubit(58, 72), cirq.GridQubit(58, 73), cirq.GridQubit(58, 74), cirq.GridQubit(58, 75), cirq.GridQubit(59, 0), cirq.GridQubit(59, 1), cirq.GridQubit(59, 2), cirq.GridQubit(59, 3), cirq.GridQubit(59, 4), cirq.GridQubit(59, 5), cirq.GridQubit(59, 6), cirq.GridQubit(59, 7), cirq.GridQubit(59, 8), cirq.GridQubit(59, 9), cirq.GridQubit(59, 10), cirq.GridQubit(59, 11), cirq.GridQubit(59, 12), cirq.GridQubit(59, 13), cirq.GridQubit(59, 14), cirq.GridQubit(59, 15), cirq.GridQubit(59, 16), cirq.GridQubit(59, 17), cirq.GridQubit(59, 18), cirq.GridQubit(59, 19), cirq.GridQubit(59, 20), cirq.GridQubit(59, 21), cirq.GridQubit(59, 22), cirq.GridQubit(59, 23), cirq.GridQubit(59, 24), cirq.GridQubit(59, 25), cirq.GridQubit(59, 26), cirq.GridQubit(59, 27), cirq.GridQubit(59, 28), cirq.GridQubit(59, 29), cirq.GridQubit(59, 30), cirq.GridQubit(59, 31), cirq.GridQubit(59, 32), cirq.GridQubit(59, 33), cirq.GridQubit(59, 34), cirq.GridQubit(59, 35), cirq.GridQubit(59, 36), cirq.GridQubit(59, 37), cirq.GridQubit(59, 38), cirq.GridQubit(59, 39), cirq.GridQubit(59, 40), cirq.GridQubit(59, 41), cirq.GridQubit(59, 42), cirq.GridQubit(59, 43), cirq.GridQubit(59, 44), cirq.GridQubit(59, 45), cirq.GridQubit(59, 46), cirq.GridQubit(59, 47), cirq.GridQubit(59, 48), cirq.GridQubit(59, 49), cirq.GridQubit(59, 50), cirq.GridQubit(59, 51), cirq.GridQubit(59, 52), cirq.GridQubit(59, 53), cirq.GridQubit(59, 54), cirq.GridQubit(59, 55), cirq.GridQubit(59, 56), cirq.GridQubit(59, 57), cirq.GridQubit(59, 58), cirq.GridQubit(59, 59), cirq.GridQubit(59, 60), cirq.GridQubit(59, 61), cirq.GridQubit(59, 62), cirq.GridQubit(59, 63), cirq.GridQubit(59, 64), cirq.GridQubit(59, 65), cirq.GridQubit(59, 66), cirq.GridQubit(59, 67), cirq.GridQubit(59, 68), cirq.GridQubit(59, 69), cirq.GridQubit(59, 70), cirq.GridQubit(59, 71), cirq.GridQubit(59, 72), cirq.GridQubit(59, 73), cirq.GridQubit(59, 74), cirq.GridQubit(59, 75), cirq.GridQubit(60, 0), cirq.GridQubit(60, 1), cirq.GridQubit(60, 2), cirq.GridQubit(60, 3), cirq.GridQubit(60, 4), cirq.GridQubit(60, 5), cirq.GridQubit(60, 6), cirq.GridQubit(60, 7), cirq.GridQubit(60, 8), cirq.GridQubit(60, 9), cirq.GridQubit(60, 10), cirq.GridQubit(60, 11), cirq.GridQubit(60, 12), cirq.GridQubit(60, 13), cirq.GridQubit(60, 14), cirq.GridQubit(60, 15), cirq.GridQubit(60, 16), cirq.GridQubit(60, 17), cirq.GridQubit(60, 18), cirq.GridQubit(60, 19), cirq.GridQubit(60, 20), cirq.GridQubit(60, 21), cirq.GridQubit(60, 22), cirq.GridQubit(60, 23), cirq.GridQubit(60, 24), cirq.GridQubit(60, 25), cirq.GridQubit(60, 26), cirq.GridQubit(60, 27), cirq.GridQubit(60, 28), cirq.GridQubit(60, 29), cirq.GridQubit(60, 30), cirq.GridQubit(60, 31), cirq.GridQubit(60, 32), cirq.GridQubit(60, 33), cirq.GridQubit(60, 34), cirq.GridQubit(60, 35), cirq.GridQubit(60, 36), cirq.GridQubit(60, 37), cirq.GridQubit(60, 38), cirq.GridQubit(60, 39), cirq.GridQubit(60, 40), cirq.GridQubit(60, 41), cirq.GridQubit(60, 42), cirq.GridQubit(60, 43), cirq.GridQubit(60, 44), cirq.GridQubit(60, 45), cirq.GridQubit(60, 46), cirq.GridQubit(60, 47), cirq.GridQubit(60, 48), cirq.GridQubit(60, 49), cirq.GridQubit(60, 50), cirq.GridQubit(60, 51), cirq.GridQubit(60, 52), cirq.GridQubit(60, 53), cirq.GridQubit(60, 54), cirq.GridQubit(60, 55), cirq.GridQubit(60, 56), cirq.GridQubit(60, 57), cirq.GridQubit(60, 58), cirq.GridQubit(60, 59), cirq.GridQubit(60, 60), cirq.GridQubit(60, 61), cirq.GridQubit(60, 62), cirq.GridQubit(60, 63), cirq.GridQubit(60, 64), cirq.GridQubit(60, 65), cirq.GridQubit(60, 66), cirq.GridQubit(60, 67), cirq.GridQubit(60, 68), cirq.GridQubit(60, 69), cirq.GridQubit(60, 70), cirq.GridQubit(60, 71), cirq.GridQubit(60, 72), cirq.GridQubit(60, 73), cirq.GridQubit(60, 74), cirq.GridQubit(60, 75), cirq.GridQubit(61, 0), cirq.GridQubit(61, 1), cirq.GridQubit(61, 2), cirq.GridQubit(61, 3), cirq.GridQubit(61, 4), cirq.GridQubit(61, 5), cirq.GridQubit(61, 6), cirq.GridQubit(61, 7), cirq.GridQubit(61, 8), cirq.GridQubit(61, 9), cirq.GridQubit(61, 10), cirq.GridQubit(61, 11), cirq.GridQubit(61, 12), cirq.GridQubit(61, 13), cirq.GridQubit(61, 14), cirq.GridQubit(61, 15), cirq.GridQubit(61, 16), cirq.GridQubit(61, 17), cirq.GridQubit(61, 18), cirq.GridQubit(61, 19), cirq.GridQubit(61, 20), cirq.GridQubit(61, 21), cirq.GridQubit(61, 22), cirq.GridQubit(61, 23), cirq.GridQubit(61, 24), cirq.GridQubit(61, 25), cirq.GridQubit(61, 26), cirq.GridQubit(61, 27), cirq.GridQubit(61, 28), cirq.GridQubit(61, 29), cirq.GridQubit(61, 30), cirq.GridQubit(61, 31), cirq.GridQubit(61, 32), cirq.GridQubit(61, 33), cirq.GridQubit(61, 34), cirq.GridQubit(61, 35), cirq.GridQubit(61, 36), cirq.GridQubit(61, 37), cirq.GridQubit(61, 38), cirq.GridQubit(61, 39), cirq.GridQubit(61, 40), cirq.GridQubit(61, 41), cirq.GridQubit(61, 42), cirq.GridQubit(61, 43), cirq.GridQubit(61, 44), cirq.GridQubit(61, 45), cirq.GridQubit(61, 46), cirq.GridQubit(61, 47), cirq.GridQubit(61, 48), cirq.GridQubit(61, 49), cirq.GridQubit(61, 50), cirq.GridQubit(61, 51), cirq.GridQubit(61, 52), cirq.GridQubit(61, 53), cirq.GridQubit(61, 54), cirq.GridQubit(61, 55), cirq.GridQubit(61, 56), cirq.GridQubit(61, 57), cirq.GridQubit(61, 58), cirq.GridQubit(61, 59), cirq.GridQubit(61, 60), cirq.GridQubit(61, 61), cirq.GridQubit(61, 62), cirq.GridQubit(61, 63), cirq.GridQubit(61, 64), cirq.GridQubit(61, 65), cirq.GridQubit(61, 66), cirq.GridQubit(61, 67), cirq.GridQubit(61, 68), cirq.GridQubit(61, 69), cirq.GridQubit(61, 70), cirq.GridQubit(61, 71), cirq.GridQubit(61, 72), cirq.GridQubit(61, 73), cirq.GridQubit(61, 74), cirq.GridQubit(61, 75), cirq.GridQubit(62, 0), cirq.GridQubit(62, 1), cirq.GridQubit(62, 2), cirq.GridQubit(62, 3), cirq.GridQubit(62, 4), cirq.GridQubit(62, 5), cirq.GridQubit(62, 6), cirq.GridQubit(62, 7), cirq.GridQubit(62, 8), cirq.GridQubit(62, 9), cirq.GridQubit(62, 10), cirq.GridQubit(62, 11), cirq.GridQubit(62, 12), cirq.GridQubit(62, 13), cirq.GridQubit(62, 14), cirq.GridQubit(62, 15), cirq.GridQubit(62, 16), cirq.GridQubit(62, 17), cirq.GridQubit(62, 18), cirq.GridQubit(62, 19), cirq.GridQubit(62, 20), cirq.GridQubit(62, 21), cirq.GridQubit(62, 22), cirq.GridQubit(62, 23), cirq.GridQubit(62, 24), cirq.GridQubit(62, 25), cirq.GridQubit(62, 26), cirq.GridQubit(62, 27), cirq.GridQubit(62, 28), cirq.GridQubit(62, 29), cirq.GridQubit(62, 30), cirq.GridQubit(62, 31), cirq.GridQubit(62, 32), cirq.GridQubit(62, 33), cirq.GridQubit(62, 34), cirq.GridQubit(62, 35), cirq.GridQubit(62, 36), cirq.GridQubit(62, 37), cirq.GridQubit(62, 38), cirq.GridQubit(62, 39), cirq.GridQubit(62, 40), cirq.GridQubit(62, 41), cirq.GridQubit(62, 42), cirq.GridQubit(62, 43), cirq.GridQubit(62, 44), cirq.GridQubit(62, 45), cirq.GridQubit(62, 46), cirq.GridQubit(62, 47), cirq.GridQubit(62, 48), cirq.GridQubit(62, 49), cirq.GridQubit(62, 50), cirq.GridQubit(62, 51), cirq.GridQubit(62, 52), cirq.GridQubit(62, 53), cirq.GridQubit(62, 54), cirq.GridQubit(62, 55), cirq.GridQubit(62, 56), cirq.GridQubit(62, 57), cirq.GridQubit(62, 58), cirq.GridQubit(62, 59), cirq.GridQubit(62, 60), cirq.GridQubit(62, 61), cirq.GridQubit(62, 62), cirq.GridQubit(62, 63), cirq.GridQubit(62, 64), cirq.GridQubit(62, 65), cirq.GridQubit(62, 66), cirq.GridQubit(62, 67), cirq.GridQubit(62, 68), cirq.GridQubit(62, 69), cirq.GridQubit(62, 70), cirq.GridQubit(62, 71), cirq.GridQubit(62, 72), cirq.GridQubit(62, 73), cirq.GridQubit(62, 74), cirq.GridQubit(62, 75), cirq.GridQubit(63, 0), cirq.GridQubit(63, 1), cirq.GridQubit(63, 2), cirq.GridQubit(63, 3), cirq.GridQubit(63, 4), cirq.GridQubit(63, 5), cirq.GridQubit(63, 6), cirq.GridQubit(63, 7), cirq.GridQubit(63, 8), cirq.GridQubit(63, 9), cirq.GridQubit(63, 10), cirq.GridQubit(63, 11), cirq.GridQubit(63, 12), cirq.GridQubit(63, 13), cirq.GridQubit(63, 14), cirq.GridQubit(63, 15), cirq.GridQubit(63, 16), cirq.GridQubit(63, 17), cirq.GridQubit(63, 18), cirq.GridQubit(63, 19), cirq.GridQubit(63, 20), cirq.GridQubit(63, 21), cirq.GridQubit(63, 22), cirq.GridQubit(63, 23), cirq.GridQubit(63, 24), cirq.GridQubit(63, 25), cirq.GridQubit(63, 26), cirq.GridQubit(63, 27), cirq.GridQubit(63, 28), cirq.GridQubit(63, 29), cirq.GridQubit(63, 30), cirq.GridQubit(63, 31), cirq.GridQubit(63, 32), cirq.GridQubit(63, 33), cirq.GridQubit(63, 34), cirq.GridQubit(63, 35), cirq.GridQubit(63, 36), cirq.GridQubit(63, 37), cirq.GridQubit(63, 38), cirq.GridQubit(63, 39), cirq.GridQubit(63, 40), cirq.GridQubit(63, 41), cirq.GridQubit(63, 42), cirq.GridQubit(63, 43), cirq.GridQubit(63, 44), cirq.GridQubit(63, 45), cirq.GridQubit(63, 46), cirq.GridQubit(63, 47), cirq.GridQubit(63, 48), cirq.GridQubit(63, 49), cirq.GridQubit(63, 50), cirq.GridQubit(63, 51), cirq.GridQubit(63, 52), cirq.GridQubit(63, 53), cirq.GridQubit(63, 54), cirq.GridQubit(63, 55), cirq.GridQubit(63, 56), cirq.GridQubit(63, 57), cirq.GridQubit(63, 58), cirq.GridQubit(63, 59), cirq.GridQubit(63, 60), cirq.GridQubit(63, 61), cirq.GridQubit(63, 62), cirq.GridQubit(63, 63), cirq.GridQubit(63, 64), cirq.GridQubit(63, 65), cirq.GridQubit(63, 66), cirq.GridQubit(63, 67), cirq.GridQubit(63, 68), cirq.GridQubit(63, 69), cirq.GridQubit(63, 70), cirq.GridQubit(63, 71), cirq.GridQubit(63, 72), cirq.GridQubit(63, 73), cirq.GridQubit(63, 74), cirq.GridQubit(63, 75), cirq.GridQubit(64, 0), cirq.GridQubit(64, 1), cirq.GridQubit(64, 2), cirq.GridQubit(64, 3), cirq.GridQubit(64, 4), cirq.GridQubit(64, 5), cirq.GridQubit(64, 6), cirq.GridQubit(64, 7), cirq.GridQubit(64, 8), cirq.GridQubit(64, 9), cirq.GridQubit(64, 10), cirq.GridQubit(64, 11), cirq.GridQubit(64, 12), cirq.GridQubit(64, 13), cirq.GridQubit(64, 14), cirq.GridQubit(64, 15), cirq.GridQubit(64, 16), cirq.GridQubit(64, 17), cirq.GridQubit(64, 18), cirq.GridQubit(64, 19), cirq.GridQubit(64, 20), cirq.GridQubit(64, 21), cirq.GridQubit(64, 22), cirq.GridQubit(64, 23), cirq.GridQubit(64, 24), cirq.GridQubit(64, 25), cirq.GridQubit(64, 26), cirq.GridQubit(64, 27), cirq.GridQubit(64, 28), cirq.GridQubit(64, 29), cirq.GridQubit(64, 30), cirq.GridQubit(64, 31), cirq.GridQubit(64, 32), cirq.GridQubit(64, 33), cirq.GridQubit(64, 34), cirq.GridQubit(64, 35), cirq.GridQubit(64, 36), cirq.GridQubit(64, 37), cirq.GridQubit(64, 38), cirq.GridQubit(64, 39), cirq.GridQubit(64, 40), cirq.GridQubit(64, 41), cirq.GridQubit(64, 42), cirq.GridQubit(64, 43), cirq.GridQubit(64, 44), cirq.GridQubit(64, 45), cirq.GridQubit(64, 46), cirq.GridQubit(64, 47), cirq.GridQubit(64, 48), cirq.GridQubit(64, 49), cirq.GridQubit(64, 50), cirq.GridQubit(64, 51), cirq.GridQubit(64, 52), cirq.GridQubit(64, 53), cirq.GridQubit(64, 54), cirq.GridQubit(64, 55), cirq.GridQubit(64, 56), cirq.GridQubit(64, 57), cirq.GridQubit(64, 58), cirq.GridQubit(64, 59), cirq.GridQubit(64, 60), cirq.GridQubit(64, 61), cirq.GridQubit(64, 62), cirq.GridQubit(64, 63), cirq.GridQubit(64, 64), cirq.GridQubit(64, 65), cirq.GridQubit(64, 66), cirq.GridQubit(64, 67), cirq.GridQubit(64, 68), cirq.GridQubit(64, 69), cirq.GridQubit(64, 70), cirq.GridQubit(64, 71), cirq.GridQubit(64, 72), cirq.GridQubit(64, 73), cirq.GridQubit(64, 74), cirq.GridQubit(64, 75), cirq.GridQubit(65, 0), cirq.GridQubit(65, 1), cirq.GridQubit(65, 2), cirq.GridQubit(65, 3), cirq.GridQubit(65, 4), cirq.GridQubit(65, 5), cirq.GridQubit(65, 6), cirq.GridQubit(65, 7), cirq.GridQubit(65, 8), cirq.GridQubit(65, 9), cirq.GridQubit(65, 10), cirq.GridQubit(65, 11), cirq.GridQubit(65, 12), cirq.GridQubit(65, 13), cirq.GridQubit(65, 14), cirq.GridQubit(65, 15), cirq.GridQubit(65, 16), cirq.GridQubit(65, 17), cirq.GridQubit(65, 18), cirq.GridQubit(65, 19), cirq.GridQubit(65, 20), cirq.GridQubit(65, 21), cirq.GridQubit(65, 22), cirq.GridQubit(65, 23), cirq.GridQubit(65, 24), cirq.GridQubit(65, 25), cirq.GridQubit(65, 26), cirq.GridQubit(65, 27), cirq.GridQubit(65, 28), cirq.GridQubit(65, 29), cirq.GridQubit(65, 30), cirq.GridQubit(65, 31), cirq.GridQubit(65, 32), cirq.GridQubit(65, 33), cirq.GridQubit(65, 34), cirq.GridQubit(65, 35), cirq.GridQubit(65, 36), cirq.GridQubit(65, 37), cirq.GridQubit(65, 38), cirq.GridQubit(65, 39), cirq.GridQubit(65, 40), cirq.GridQubit(65, 41), cirq.GridQubit(65, 42), cirq.GridQubit(65, 43), cirq.GridQubit(65, 44), cirq.GridQubit(65, 45), cirq.GridQubit(65, 46), cirq.GridQubit(65, 47), cirq.GridQubit(65, 48), cirq.GridQubit(65, 49), cirq.GridQubit(65, 50), cirq.GridQubit(65, 51), cirq.GridQubit(65, 52), cirq.GridQubit(65, 53), cirq.GridQubit(65, 54), cirq.GridQubit(65, 55), cirq.GridQubit(65, 56), cirq.GridQubit(65, 57), cirq.GridQubit(65, 58), cirq.GridQubit(65, 59), cirq.GridQubit(65, 60), cirq.GridQubit(65, 61), cirq.GridQubit(65, 62), cirq.GridQubit(65, 63), cirq.GridQubit(65, 64), cirq.GridQubit(65, 65), cirq.GridQubit(65, 66), cirq.GridQubit(65, 67), cirq.GridQubit(65, 68), cirq.GridQubit(65, 69), cirq.GridQubit(65, 70), cirq.GridQubit(65, 71), cirq.GridQubit(65, 72), cirq.GridQubit(65, 73), cirq.GridQubit(65, 74), cirq.GridQubit(65, 75), cirq.GridQubit(66, 0), cirq.GridQubit(66, 1), cirq.GridQubit(66, 2), cirq.GridQubit(66, 3), cirq.GridQubit(66, 4), cirq.GridQubit(66, 5), cirq.GridQubit(66, 6), cirq.GridQubit(66, 7), cirq.GridQubit(66, 8), cirq.GridQubit(66, 9), cirq.GridQubit(66, 10), cirq.GridQubit(66, 11), cirq.GridQubit(66, 12), cirq.GridQubit(66, 13), cirq.GridQubit(66, 14), cirq.GridQubit(66, 15), cirq.GridQubit(66, 16), cirq.GridQubit(66, 17), cirq.GridQubit(66, 18), cirq.GridQubit(66, 19), cirq.GridQubit(66, 20), cirq.GridQubit(66, 21), cirq.GridQubit(66, 22), cirq.GridQubit(66, 23), cirq.GridQubit(66, 24), cirq.GridQubit(66, 25), cirq.GridQubit(66, 26), cirq.GridQubit(66, 27), cirq.GridQubit(66, 28), cirq.GridQubit(66, 29), cirq.GridQubit(66, 30), cirq.GridQubit(66, 31), cirq.GridQubit(66, 32), cirq.GridQubit(66, 33), cirq.GridQubit(66, 34), cirq.GridQubit(66, 35), cirq.GridQubit(66, 36), cirq.GridQubit(66, 37), cirq.GridQubit(66, 38), cirq.GridQubit(66, 39), cirq.GridQubit(66, 40), cirq.GridQubit(66, 41), cirq.GridQubit(66, 42), cirq.GridQubit(66, 43), cirq.GridQubit(66, 44), cirq.GridQubit(66, 45), cirq.GridQubit(66, 46), cirq.GridQubit(66, 47), cirq.GridQubit(66, 48), cirq.GridQubit(66, 49), cirq.GridQubit(66, 50), cirq.GridQubit(66, 51), cirq.GridQubit(66, 52), cirq.GridQubit(66, 53), cirq.GridQubit(66, 54), cirq.GridQubit(66, 55), cirq.GridQubit(66, 56), cirq.GridQubit(66, 57), cirq.GridQubit(66, 58), cirq.GridQubit(66, 59), cirq.GridQubit(66, 60), cirq.GridQubit(66, 61), cirq.GridQubit(66, 62), cirq.GridQubit(66, 63), cirq.GridQubit(66, 64), cirq.GridQubit(66, 65), cirq.GridQubit(66, 66), cirq.GridQubit(66, 67), cirq.GridQubit(66, 68), cirq.GridQubit(66, 69), cirq.GridQubit(66, 70), cirq.GridQubit(66, 71), cirq.GridQubit(66, 72), cirq.GridQubit(66, 73), cirq.GridQubit(66, 74), cirq.GridQubit(66, 75), cirq.GridQubit(67, 0), cirq.GridQubit(67, 1), cirq.GridQubit(67, 2), cirq.GridQubit(67, 3), cirq.GridQubit(67, 4), cirq.GridQubit(67, 5), cirq.GridQubit(67, 6), cirq.GridQubit(67, 7), cirq.GridQubit(67, 8), cirq.GridQubit(67, 9), cirq.GridQubit(67, 10), cirq.GridQubit(67, 11), cirq.GridQubit(67, 12), cirq.GridQubit(67, 13), cirq.GridQubit(67, 14), cirq.GridQubit(67, 15), cirq.GridQubit(67, 16), cirq.GridQubit(67, 17), cirq.GridQubit(67, 18), cirq.GridQubit(67, 19), cirq.GridQubit(67, 20), cirq.GridQubit(67, 21), cirq.GridQubit(67, 22), cirq.GridQubit(67, 23), cirq.GridQubit(67, 24), cirq.GridQubit(67, 25), cirq.GridQubit(67, 26), cirq.GridQubit(67, 27), cirq.GridQubit(67, 28), cirq.GridQubit(67, 29), cirq.GridQubit(67, 30), cirq.GridQubit(67, 31), cirq.GridQubit(67, 32), cirq.GridQubit(67, 33), cirq.GridQubit(67, 34), cirq.GridQubit(67, 35), cirq.GridQubit(67, 36), cirq.GridQubit(67, 37), cirq.GridQubit(67, 38), cirq.GridQubit(67, 39), cirq.GridQubit(67, 40), cirq.GridQubit(67, 41), cirq.GridQubit(67, 42), cirq.GridQubit(67, 43), cirq.GridQubit(67, 44), cirq.GridQubit(67, 45), cirq.GridQubit(67, 46), cirq.GridQubit(67, 47), cirq.GridQubit(67, 48), cirq.GridQubit(67, 49), cirq.GridQubit(67, 50), cirq.GridQubit(67, 51), cirq.GridQubit(67, 52), cirq.GridQubit(67, 53), cirq.GridQubit(67, 54), cirq.GridQubit(67, 55), cirq.GridQubit(67, 56), cirq.GridQubit(67, 57), cirq.GridQubit(67, 58), cirq.GridQubit(67, 59), cirq.GridQubit(67, 60), cirq.GridQubit(67, 61), cirq.GridQubit(67, 62), cirq.GridQubit(67, 63), cirq.GridQubit(67, 64), cirq.GridQubit(67, 65), cirq.GridQubit(67, 66), cirq.GridQubit(67, 67), cirq.GridQubit(67, 68), cirq.GridQubit(67, 69), cirq.GridQubit(67, 70), cirq.GridQubit(67, 71), cirq.GridQubit(67, 72), cirq.GridQubit(67, 73), cirq.GridQubit(67, 74), cirq.GridQubit(67, 75), cirq.GridQubit(68, 0), cirq.GridQubit(68, 1), cirq.GridQubit(68, 2), cirq.GridQubit(68, 3), cirq.GridQubit(68, 4), cirq.GridQubit(68, 5), cirq.GridQubit(68, 6), cirq.GridQubit(68, 7), cirq.GridQubit(68, 8), cirq.GridQubit(68, 9), cirq.GridQubit(68, 10), cirq.GridQubit(68, 11), cirq.GridQubit(68, 12), cirq.GridQubit(68, 13), cirq.GridQubit(68, 14), cirq.GridQubit(68, 15), cirq.GridQubit(68, 16), cirq.GridQubit(68, 17), cirq.GridQubit(68, 18), cirq.GridQubit(68, 19), cirq.GridQubit(68, 20), cirq.GridQubit(68, 21), cirq.GridQubit(68, 22), cirq.GridQubit(68, 23), cirq.GridQubit(68, 24), cirq.GridQubit(68, 25), cirq.GridQubit(68, 26), cirq.GridQubit(68, 27), cirq.GridQubit(68, 28), cirq.GridQubit(68, 29), cirq.GridQubit(68, 30), cirq.GridQubit(68, 31), cirq.GridQubit(68, 32), cirq.GridQubit(68, 33), cirq.GridQubit(68, 34), cirq.GridQubit(68, 35), cirq.GridQubit(68, 36), cirq.GridQubit(68, 37), cirq.GridQubit(68, 38), cirq.GridQubit(68, 39), cirq.GridQubit(68, 40), cirq.GridQubit(68, 41), cirq.GridQubit(68, 42), cirq.GridQubit(68, 43), cirq.GridQubit(68, 44), cirq.GridQubit(68, 45), cirq.GridQubit(68, 46), cirq.GridQubit(68, 47), cirq.GridQubit(68, 48), cirq.GridQubit(68, 49), cirq.GridQubit(68, 50), cirq.GridQubit(68, 51), cirq.GridQubit(68, 52), cirq.GridQubit(68, 53), cirq.GridQubit(68, 54), cirq.GridQubit(68, 55), cirq.GridQubit(68, 56), cirq.GridQubit(68, 57), cirq.GridQubit(68, 58), cirq.GridQubit(68, 59), cirq.GridQubit(68, 60), cirq.GridQubit(68, 61), cirq.GridQubit(68, 62), cirq.GridQubit(68, 63), cirq.GridQubit(68, 64), cirq.GridQubit(68, 65), cirq.GridQubit(68, 66), cirq.GridQubit(68, 67), cirq.GridQubit(68, 68), cirq.GridQubit(68, 69), cirq.GridQubit(68, 70), cirq.GridQubit(68, 71), cirq.GridQubit(68, 72), cirq.GridQubit(68, 73), cirq.GridQubit(68, 74), cirq.GridQubit(68, 75), cirq.GridQubit(69, 0), cirq.GridQubit(69, 1), cirq.GridQubit(69, 2), cirq.GridQubit(69, 3), cirq.GridQubit(69, 4), cirq.GridQubit(69, 5), cirq.GridQubit(69, 6), cirq.GridQubit(69, 7), cirq.GridQubit(69, 8), cirq.GridQubit(69, 9), cirq.GridQubit(69, 10), cirq.GridQubit(69, 11), cirq.GridQubit(69, 12), cirq.GridQubit(69, 13), cirq.GridQubit(69, 14), cirq.GridQubit(69, 15), cirq.GridQubit(69, 16), cirq.GridQubit(69, 17), cirq.GridQubit(69, 18), cirq.GridQubit(69, 19), cirq.GridQubit(69, 20), cirq.GridQubit(69, 21), cirq.GridQubit(69, 22), cirq.GridQubit(69, 23), cirq.GridQubit(69, 24), cirq.GridQubit(69, 25), cirq.GridQubit(69, 26), cirq.GridQubit(69, 27), cirq.GridQubit(69, 28), cirq.GridQubit(69, 29), cirq.GridQubit(69, 30), cirq.GridQubit(69, 31), cirq.GridQubit(69, 32), cirq.GridQubit(69, 33), cirq.GridQubit(69, 34), cirq.GridQubit(69, 35), cirq.GridQubit(69, 36), cirq.GridQubit(69, 37), cirq.GridQubit(69, 38), cirq.GridQubit(69, 39), cirq.GridQubit(69, 40), cirq.GridQubit(69, 41), cirq.GridQubit(69, 42), cirq.GridQubit(69, 43), cirq.GridQubit(69, 44), cirq.GridQubit(69, 45), cirq.GridQubit(69, 46), cirq.GridQubit(69, 47), cirq.GridQubit(69, 48), cirq.GridQubit(69, 49), cirq.GridQubit(69, 50), cirq.GridQubit(69, 51), cirq.GridQubit(69, 52), cirq.GridQubit(69, 53), cirq.GridQubit(69, 54), cirq.GridQubit(69, 55), cirq.GridQubit(69, 56), cirq.GridQubit(69, 57), cirq.GridQubit(69, 58), cirq.GridQubit(69, 59), cirq.GridQubit(69, 60), cirq.GridQubit(69, 61), cirq.GridQubit(69, 62), cirq.GridQubit(69, 63), cirq.GridQubit(69, 64), cirq.GridQubit(69, 65), cirq.GridQubit(69, 66), cirq.GridQubit(69, 67), cirq.GridQubit(69, 68), cirq.GridQubit(69, 69), cirq.GridQubit(69, 70), cirq.GridQubit(69, 71), cirq.GridQubit(69, 72), cirq.GridQubit(69, 73), cirq.GridQubit(69, 74), cirq.GridQubit(69, 75), cirq.GridQubit(70, 0), cirq.GridQubit(70, 1), cirq.GridQubit(70, 2), cirq.GridQubit(70, 3), cirq.GridQubit(70, 4), cirq.GridQubit(70, 5), cirq.GridQubit(70, 6), cirq.GridQubit(70, 7), cirq.GridQubit(70, 8), cirq.GridQubit(70, 9), cirq.GridQubit(70, 10), cirq.GridQubit(70, 11), cirq.GridQubit(70, 12), cirq.GridQubit(70, 13), cirq.GridQubit(70, 14), cirq.GridQubit(70, 15), cirq.GridQubit(70, 16), cirq.GridQubit(70, 17), cirq.GridQubit(70, 18), cirq.GridQubit(70, 19), cirq.GridQubit(70, 20), cirq.GridQubit(70, 21), cirq.GridQubit(70, 22), cirq.GridQubit(70, 23), cirq.GridQubit(70, 24), cirq.GridQubit(70, 25), cirq.GridQubit(70, 26), cirq.GridQubit(70, 27), cirq.GridQubit(70, 28), cirq.GridQubit(70, 29), cirq.GridQubit(70, 30), cirq.GridQubit(70, 31), cirq.GridQubit(70, 32), cirq.GridQubit(70, 33), cirq.GridQubit(70, 34), cirq.GridQubit(70, 35), cirq.GridQubit(70, 36), cirq.GridQubit(70, 37), cirq.GridQubit(70, 38), cirq.GridQubit(70, 39), cirq.GridQubit(70, 40), cirq.GridQubit(70, 41), cirq.GridQubit(70, 42), cirq.GridQubit(70, 43), cirq.GridQubit(70, 44), cirq.GridQubit(70, 45), cirq.GridQubit(70, 46), cirq.GridQubit(70, 47), cirq.GridQubit(70, 48), cirq.GridQubit(70, 49), cirq.GridQubit(70, 50), cirq.GridQubit(70, 51), cirq.GridQubit(70, 52), cirq.GridQubit(70, 53), cirq.GridQubit(70, 54), cirq.GridQubit(70, 55), cirq.GridQubit(70, 56), cirq.GridQubit(70, 57), cirq.GridQubit(70, 58), cirq.GridQubit(70, 59), cirq.GridQubit(70, 60), cirq.GridQubit(70, 61), cirq.GridQubit(70, 62), cirq.GridQubit(70, 63), cirq.GridQubit(70, 64), cirq.GridQubit(70, 65), cirq.GridQubit(70, 66), cirq.GridQubit(70, 67), cirq.GridQubit(70, 68), cirq.GridQubit(70, 69), cirq.GridQubit(70, 70), cirq.GridQubit(70, 71), cirq.GridQubit(70, 72), cirq.GridQubit(70, 73), cirq.GridQubit(70, 74), cirq.GridQubit(70, 75), cirq.GridQubit(71, 0), cirq.GridQubit(71, 1), cirq.GridQubit(71, 2), cirq.GridQubit(71, 3), cirq.GridQubit(71, 4), cirq.GridQubit(71, 5), cirq.GridQubit(71, 6), cirq.GridQubit(71, 7), cirq.GridQubit(71, 8), cirq.GridQubit(71, 9), cirq.GridQubit(71, 10), cirq.GridQubit(71, 11), cirq.GridQubit(71, 12), cirq.GridQubit(71, 13), cirq.GridQubit(71, 14), cirq.GridQubit(71, 15), cirq.GridQubit(71, 16), cirq.GridQubit(71, 17), cirq.GridQubit(71, 18), cirq.GridQubit(71, 19), cirq.GridQubit(71, 20), cirq.GridQubit(71, 21), cirq.GridQubit(71, 22), cirq.GridQubit(71, 23), cirq.GridQubit(71, 24), cirq.GridQubit(71, 25), cirq.GridQubit(71, 26), cirq.GridQubit(71, 27), cirq.GridQubit(71, 28), cirq.GridQubit(71, 29), cirq.GridQubit(71, 30), cirq.GridQubit(71, 31), cirq.GridQubit(71, 32), cirq.GridQubit(71, 33), cirq.GridQubit(71, 34), cirq.GridQubit(71, 35), cirq.GridQubit(71, 36), cirq.GridQubit(71, 37), cirq.GridQubit(71, 38), cirq.GridQubit(71, 39), cirq.GridQubit(71, 40), cirq.GridQubit(71, 41), cirq.GridQubit(71, 42), cirq.GridQubit(71, 43), cirq.GridQubit(71, 44), cirq.GridQubit(71, 45), cirq.GridQubit(71, 46), cirq.GridQubit(71, 47), cirq.GridQubit(71, 48), cirq.GridQubit(71, 49), cirq.GridQubit(71, 50), cirq.GridQubit(71, 51), cirq.GridQubit(71, 52), cirq.GridQubit(71, 53), cirq.GridQubit(71, 54), cirq.GridQubit(71, 55), cirq.GridQubit(71, 56), cirq.GridQubit(71, 57), cirq.GridQubit(71, 58), cirq.GridQubit(71, 59), cirq.GridQubit(71, 60), cirq.GridQubit(71, 61), cirq.GridQubit(71, 62), cirq.GridQubit(71, 63), cirq.GridQubit(71, 64), cirq.GridQubit(71, 65), cirq.GridQubit(71, 66), cirq.GridQubit(71, 67), cirq.GridQubit(71, 68), cirq.GridQubit(71, 69), cirq.GridQubit(71, 70), cirq.GridQubit(71, 71), cirq.GridQubit(71, 72), cirq.GridQubit(71, 73), cirq.GridQubit(71, 74), cirq.GridQubit(71, 75), cirq.GridQubit(72, 0), cirq.GridQubit(72, 1), cirq.GridQubit(72, 2), cirq.GridQubit(72, 3), cirq.GridQubit(72, 4), cirq.GridQubit(72, 5), cirq.GridQubit(72, 6), cirq.GridQubit(72, 7), cirq.GridQubit(72, 8), cirq.GridQubit(72, 9), cirq.GridQubit(72, 10), cirq.GridQubit(72, 11), cirq.GridQubit(72, 12), cirq.GridQubit(72, 13), cirq.GridQubit(72, 14), cirq.GridQubit(72, 15), cirq.GridQubit(72, 16), cirq.GridQubit(72, 17), cirq.GridQubit(72, 18), cirq.GridQubit(72, 19), cirq.GridQubit(72, 20), cirq.GridQubit(72, 21), cirq.GridQubit(72, 22), cirq.GridQubit(72, 23), cirq.GridQubit(72, 24), cirq.GridQubit(72, 25), cirq.GridQubit(72, 26), cirq.GridQubit(72, 27), cirq.GridQubit(72, 28), cirq.GridQubit(72, 29), cirq.GridQubit(72, 30), cirq.GridQubit(72, 31), cirq.GridQubit(72, 32), cirq.GridQubit(72, 33), cirq.GridQubit(72, 34), cirq.GridQubit(72, 35), cirq.GridQubit(72, 36), cirq.GridQubit(72, 37), cirq.GridQubit(72, 38), cirq.GridQubit(72, 39), cirq.GridQubit(72, 40), cirq.GridQubit(72, 41), cirq.GridQubit(72, 42), cirq.GridQubit(72, 43), cirq.GridQubit(72, 44), cirq.GridQubit(72, 45), cirq.GridQubit(72, 46), cirq.GridQubit(72, 47), cirq.GridQubit(72, 48), cirq.GridQubit(72, 49), cirq.GridQubit(72, 50), cirq.GridQubit(72, 51), cirq.GridQubit(72, 52), cirq.GridQubit(72, 53), cirq.GridQubit(72, 54), cirq.GridQubit(72, 55), cirq.GridQubit(72, 56), cirq.GridQubit(72, 57), cirq.GridQubit(72, 58), cirq.GridQubit(72, 59), cirq.GridQubit(72, 60), cirq.GridQubit(72, 61), cirq.GridQubit(72, 62), cirq.GridQubit(72, 63), cirq.GridQubit(72, 64), cirq.GridQubit(72, 65), cirq.GridQubit(72, 66), cirq.GridQubit(72, 67), cirq.GridQubit(72, 68), cirq.GridQubit(72, 69), cirq.GridQubit(72, 70), cirq.GridQubit(72, 71), cirq.GridQubit(72, 72), cirq.GridQubit(72, 73), cirq.GridQubit(72, 74), cirq.GridQubit(72, 75), cirq.GridQubit(73, 0), cirq.GridQubit(73, 1), cirq.GridQubit(73, 2), cirq.GridQubit(73, 3), cirq.GridQubit(73, 4), cirq.GridQubit(73, 5), cirq.GridQubit(73, 6), cirq.GridQubit(73, 7), cirq.GridQubit(73, 8), cirq.GridQubit(73, 9), cirq.GridQubit(73, 10), cirq.GridQubit(73, 11), cirq.GridQubit(73, 12), cirq.GridQubit(73, 13), cirq.GridQubit(73, 14), cirq.GridQubit(73, 15), cirq.GridQubit(73, 16), cirq.GridQubit(73, 17), cirq.GridQubit(73, 18), cirq.GridQubit(73, 19), cirq.GridQubit(73, 20), cirq.GridQubit(73, 21), cirq.GridQubit(73, 22), cirq.GridQubit(73, 23), cirq.GridQubit(73, 24), cirq.GridQubit(73, 25), cirq.GridQubit(73, 26), cirq.GridQubit(73, 27), cirq.GridQubit(73, 28), cirq.GridQubit(73, 29), cirq.GridQubit(73, 30), cirq.GridQubit(73, 31), cirq.GridQubit(73, 32), cirq.GridQubit(73, 33), cirq.GridQubit(73, 34), cirq.GridQubit(73, 35), cirq.GridQubit(73, 36), cirq.GridQubit(73, 37), cirq.GridQubit(73, 38), cirq.GridQubit(73, 39), cirq.GridQubit(73, 40), cirq.GridQubit(73, 41), cirq.GridQubit(73, 42), cirq.GridQubit(73, 43), cirq.GridQubit(73, 44), cirq.GridQubit(73, 45), cirq.GridQubit(73, 46), cirq.GridQubit(73, 47), cirq.GridQubit(73, 48), cirq.GridQubit(73, 49), cirq.GridQubit(73, 50), cirq.GridQubit(73, 51), cirq.GridQubit(73, 52), cirq.GridQubit(73, 53), cirq.GridQubit(73, 54), cirq.GridQubit(73, 55), cirq.GridQubit(73, 56), cirq.GridQubit(73, 57), cirq.GridQubit(73, 58), cirq.GridQubit(73, 59), cirq.GridQubit(73, 60), cirq.GridQubit(73, 61), cirq.GridQubit(73, 62), cirq.GridQubit(73, 63), cirq.GridQubit(73, 64), cirq.GridQubit(73, 65), cirq.GridQubit(73, 66), cirq.GridQubit(73, 67), cirq.GridQubit(73, 68), cirq.GridQubit(73, 69), cirq.GridQubit(73, 70), cirq.GridQubit(73, 71), cirq.GridQubit(73, 72), cirq.GridQubit(73, 73), cirq.GridQubit(73, 74), cirq.GridQubit(73, 75), cirq.GridQubit(74, 0), cirq.GridQubit(74, 1), cirq.GridQubit(74, 2), cirq.GridQubit(74, 3), cirq.GridQubit(74, 4), cirq.GridQubit(74, 5), cirq.GridQubit(74, 6), cirq.GridQubit(74, 7), cirq.GridQubit(74, 8), cirq.GridQubit(74, 9), cirq.GridQubit(74, 10), cirq.GridQubit(74, 11), cirq.GridQubit(74, 12), cirq.GridQubit(74, 13), cirq.GridQubit(74, 14), cirq.GridQubit(74, 15), cirq.GridQubit(74, 16), cirq.GridQubit(74, 17), cirq.GridQubit(74, 18), cirq.GridQubit(74, 19), cirq.GridQubit(74, 20), cirq.GridQubit(74, 21), cirq.GridQubit(74, 22), cirq.GridQubit(74, 23), cirq.GridQubit(74, 24), cirq.GridQubit(74, 25), cirq.GridQubit(74, 26), cirq.GridQubit(74, 27), cirq.GridQubit(74, 28), cirq.GridQubit(74, 29), cirq.GridQubit(74, 30), cirq.GridQubit(74, 31), cirq.GridQubit(74, 32), cirq.GridQubit(74, 33), cirq.GridQubit(74, 34), cirq.GridQubit(74, 35), cirq.GridQubit(74, 36), cirq.GridQubit(74, 37), cirq.GridQubit(74, 38), cirq.GridQubit(74, 39), cirq.GridQubit(74, 40), cirq.GridQubit(74, 41), cirq.GridQubit(74, 42), cirq.GridQubit(74, 43), cirq.GridQubit(74, 44), cirq.GridQubit(74, 45), cirq.GridQubit(74, 46), cirq.GridQubit(74, 47), cirq.GridQubit(74, 48), cirq.GridQubit(74, 49), cirq.GridQubit(74, 50), cirq.GridQubit(74, 51), cirq.GridQubit(74, 52), cirq.GridQubit(74, 53), cirq.GridQubit(74, 54), cirq.GridQubit(74, 55), cirq.GridQubit(74, 56), cirq.GridQubit(74, 57), cirq.GridQubit(74, 58), cirq.GridQubit(74, 59), cirq.GridQubit(74, 60), cirq.GridQubit(74, 61), cirq.GridQubit(74, 62), cirq.GridQubit(74, 63), cirq.GridQubit(74, 64), cirq.GridQubit(74, 65), cirq.GridQubit(74, 66), cirq.GridQubit(74, 67), cirq.GridQubit(74, 68), cirq.GridQubit(74, 69), cirq.GridQubit(74, 70), cirq.GridQubit(74, 71), cirq.GridQubit(74, 72), cirq.GridQubit(74, 73), cirq.GridQubit(74, 74), cirq.GridQubit(74, 75), cirq.GridQubit(75, 0), cirq.GridQubit(75, 1), cirq.GridQubit(75, 2), cirq.GridQubit(75, 3), cirq.GridQubit(75, 4), cirq.GridQubit(75, 5), cirq.GridQubit(75, 6), cirq.GridQubit(75, 7), cirq.GridQubit(75, 8), cirq.GridQubit(75, 9), cirq.GridQubit(75, 10), cirq.GridQubit(75, 11), cirq.GridQubit(75, 12), cirq.GridQubit(75, 13), cirq.GridQubit(75, 14), cirq.GridQubit(75, 15), cirq.GridQubit(75, 16), cirq.GridQubit(75, 17), cirq.GridQubit(75, 18), cirq.GridQubit(75, 19), cirq.GridQubit(75, 20), cirq.GridQubit(75, 21), cirq.GridQubit(75, 22), cirq.GridQubit(75, 23), cirq.GridQubit(75, 24), cirq.GridQubit(75, 25), cirq.GridQubit(75, 26), cirq.GridQubit(75, 27), cirq.GridQubit(75, 28), cirq.GridQubit(75, 29), cirq.GridQubit(75, 30), cirq.GridQubit(75, 31), cirq.GridQubit(75, 32), cirq.GridQubit(75, 33), cirq.GridQubit(75, 34), cirq.GridQubit(75, 35), cirq.GridQubit(75, 36), cirq.GridQubit(75, 37), cirq.GridQubit(75, 38), cirq.GridQubit(75, 39), cirq.GridQubit(75, 40), cirq.GridQubit(75, 41), cirq.GridQubit(75, 42), cirq.GridQubit(75, 43), cirq.GridQubit(75, 44), cirq.GridQubit(75, 45), cirq.GridQubit(75, 46), cirq.GridQubit(75, 47), cirq.GridQubit(75, 48), cirq.GridQubit(75, 49), cirq.GridQubit(75, 50), cirq.GridQubit(75, 51), cirq.GridQubit(75, 52), cirq.GridQubit(75, 53), cirq.GridQubit(75, 54), cirq.GridQubit(75, 55), cirq.GridQubit(75, 56), cirq.GridQubit(75, 57), cirq.GridQubit(75, 58), cirq.GridQubit(75, 59), cirq.GridQubit(75, 60), cirq.GridQubit(75, 61), cirq.GridQubit(75, 62), cirq.GridQubit(75, 63), cirq.GridQubit(75, 64), cirq.GridQubit(75, 65), cirq.GridQubit(75, 66), cirq.GridQubit(75, 67), cirq.GridQubit(75, 68), cirq.GridQubit(75, 69), cirq.GridQubit(75, 70), cirq.GridQubit(75, 71), cirq.GridQubit(75, 72), cirq.GridQubit(75, 73), cirq.GridQubit(75, 74), cirq.GridQubit(75, 75)]\n"
          ],
          "name": "stdout"
        }
      ]
    },
    {
      "cell_type": "markdown",
      "metadata": {
        "id": "p2MRi4OG7mkB",
        "colab_type": "text"
      },
      "source": [
        "Let's add a X gate and use the qubits "
      ]
    },
    {
      "cell_type": "code",
      "metadata": {
        "id": "h145yE0w2_Oj",
        "colab_type": "code",
        "outputId": "4a6f2f75-4c1a-466a-f8db-5557f1a7ecac",
        "colab": {
          "base_uri": "https://localhost:8080/",
          "height": 34
        }
      },
      "source": [
        "\n",
        "# add a X gate \n",
        "x_gate = cirq.X\n",
        "# use the X gate with qubits[0] and print results\n",
        "x_op = x_gate(qubits[0])\n",
        "\n",
        "print(x_op)\n"
      ],
      "execution_count": 13,
      "outputs": [
        {
          "output_type": "stream",
          "text": [
            "X((0, 0))\n"
          ],
          "name": "stdout"
        }
      ]
    },
    {
      "cell_type": "markdown",
      "metadata": {
        "id": "X6OpOgkg5TBg",
        "colab_type": "text"
      },
      "source": [
        "Let's test with a CNOT gate "
      ]
    },
    {
      "cell_type": "code",
      "metadata": {
        "id": "in_WQzXcuYGW",
        "colab_type": "code",
        "outputId": "96bb9992-f8d5-4d3e-8a76-2ab1f91d0e99",
        "colab": {
          "base_uri": "https://localhost:8080/",
          "height": 34
        }
      },
      "source": [
        "from cirq.ops import CNOT\n",
        "from cirq.devices import GridQubit\n",
        "print(CNOT.on(qubits[8], qubits[5]))\n"
      ],
      "execution_count": 14,
      "outputs": [
        {
          "output_type": "stream",
          "text": [
            "CNOT((0, 8), (0, 5))\n"
          ],
          "name": "stdout"
        }
      ]
    },
    {
      "cell_type": "markdown",
      "metadata": {
        "id": "3asFLFxv8SW5",
        "colab_type": "text"
      },
      "source": [
        "now I can use the GridQubit witch is a 2d square lattice and have this ordering:\n",
        "\n",
        "GridQubit(0, 0) < GridQubit(0, 1) < GridQubit(1, 0) < GridQubit(1, 1)\n",
        "\n",
        "GridQubits can be constructed by adding or subtracting tuples\n",
        "\n",
        "cirq.GridQubit(2, 3) + (3, 1) is cirq.GridQubit(5, 4)\n"
      ]
    },
    {
      "cell_type": "code",
      "metadata": {
        "id": "6fgt35HJ8Tgc",
        "colab_type": "code",
        "colab": {
          "base_uri": "https://localhost:8080/",
          "height": 52
        },
        "outputId": "2f651aa3-e2af-4a61-aa49-d1407a12e992"
      },
      "source": [
        "# create a grid qubit \n",
        "q0, q1 = (GridQubit(0, 0), GridQubit(0, 1))\n",
        "# print result\n",
        "print(CNOT.on(q0, q1))\n",
        "print(CNOT(q0, q1))"
      ],
      "execution_count": 15,
      "outputs": [
        {
          "output_type": "stream",
          "text": [
            "CNOT((0, 0), (0, 1))\n",
            "CNOT((0, 0), (0, 1))\n"
          ],
          "name": "stdout"
        }
      ]
    },
    {
      "cell_type": "markdown",
      "metadata": {
        "id": "bcvWRe1p5kSn",
        "colab_type": "text"
      },
      "source": [
        "Let's see the Moment structure for the set of qubits 0 and 2 on "
      ]
    },
    {
      "cell_type": "code",
      "metadata": {
        "id": "jV9ijZDP5Ze3",
        "colab_type": "code",
        "outputId": "8e12ac80-f2e7-4bc9-ddc6-636d5372581d",
        "colab": {
          "base_uri": "https://localhost:8080/",
          "height": 34
        }
      },
      "source": [
        "cz = cirq.CZ(qubits[70], qubits[76])\n",
        "x = cirq.X(qubits[50])\n",
        "moment = cirq.Moment([x, cz])\n",
        "print(moment)\n"
      ],
      "execution_count": 16,
      "outputs": [
        {
          "output_type": "stream",
          "text": [
            "X((0, 50)) and CZ((0, 70), (1, 0))\n"
          ],
          "name": "stdout"
        }
      ]
    },
    {
      "cell_type": "markdown",
      "metadata": {
        "id": "PyIfnmm369ib",
        "colab_type": "text"
      },
      "source": [
        "Now I can print diagram for the circuit for that moment with gates (one X and two CZ) and wires:"
      ]
    },
    {
      "cell_type": "code",
      "metadata": {
        "id": "lbEjeMiw6cQ9",
        "colab_type": "code",
        "outputId": "1eafa63d-6364-4150-d38e-9db6c912c9f3",
        "colab": {
          "base_uri": "https://localhost:8080/",
          "height": 104
        }
      },
      "source": [
        "print(cirq.Circuit(moment))"
      ],
      "execution_count": 17,
      "outputs": [
        {
          "output_type": "stream",
          "text": [
            "(0, 50): ───X───\n",
            "\n",
            "(0, 70): ───@───\n",
            "            │\n",
            "(1, 0): ────@───\n"
          ],
          "name": "stdout"
        }
      ]
    }
  ]
}