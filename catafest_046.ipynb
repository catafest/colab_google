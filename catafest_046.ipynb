{
  "nbformat": 4,
  "nbformat_minor": 0,
  "metadata": {
    "colab": {
      "provenance": [],
      "authorship_tag": "ABX9TyPI8OSPPxLle4oWVkzxrOgr",
      "include_colab_link": true
    },
    "kernelspec": {
      "name": "python3",
      "display_name": "Python 3"
    },
    "language_info": {
      "name": "python"
    }
  },
  "cells": [
    {
      "cell_type": "markdown",
      "metadata": {
        "id": "view-in-github",
        "colab_type": "text"
      },
      "source": [
        "<a href=\"https://colab.research.google.com/github/catafest/colab_google/blob/master/catafest_046.ipynb\" target=\"_parent\"><img src=\"https://colab.research.google.com/assets/colab-badge.svg\" alt=\"Open In Colab\"/></a>"
      ]
    },
    {
      "cell_type": "markdown",
      "source": [
        "Gated Recurrent Unit , see [wikipedia](https://en.wikipedia.org/wiki/Gated_recurrent_unit).\n",
        "\n",
        "Start import all python packages:"
      ],
      "metadata": {
        "id": "7k4mi57HWuS1"
      }
    },
    {
      "cell_type": "code",
      "execution_count": 1,
      "metadata": {
        "id": "EaJycUhrVX6N"
      },
      "outputs": [],
      "source": [
        "import numpy as np\n",
        "import tensorflow as tf\n",
        "import keras\n",
        "from keras import layers"
      ]
    },
    {
      "cell_type": "markdown",
      "source": [
        "Set units"
      ],
      "metadata": {
        "id": "-iWWJ8L0Wsmt"
      }
    },
    {
      "cell_type": "code",
      "source": [
        "units = 64"
      ],
      "metadata": {
        "id": "nOtt86pVVof2"
      },
      "execution_count": 7,
      "outputs": []
    },
    {
      "cell_type": "code",
      "source": [
        "tf.keras.layers.GRU(\n",
        "    units,\n",
        "    activation=\"tanh\",\n",
        "    recurrent_activation=\"sigmoid\",\n",
        "    use_bias=True,\n",
        "    kernel_initializer=\"glorot_uniform\",\n",
        "    recurrent_initializer=\"orthogonal\",\n",
        "    bias_initializer=\"zeros\",\n",
        "    kernel_regularizer=None,\n",
        "    recurrent_regularizer=None,\n",
        "    bias_regularizer=None,\n",
        "    activity_regularizer=None,\n",
        "    kernel_constraint=None,\n",
        "    recurrent_constraint=None,\n",
        "    bias_constraint=None,\n",
        "    dropout=0.0,\n",
        "    recurrent_dropout=0.0,\n",
        "    return_sequences=False,\n",
        "    return_state=False,\n",
        "    go_backwards=False,\n",
        "    stateful=False,\n",
        "    unroll=False,\n",
        "    time_major=False,\n",
        "    reset_after=True,\n",
        ")"
      ],
      "metadata": {
        "colab": {
          "base_uri": "https://localhost:8080/"
        },
        "id": "_qT4_SGtVez4",
        "outputId": "4adca7e0-1963-4301-d80c-fcd1ef4bb18e"
      },
      "execution_count": 8,
      "outputs": [
        {
          "output_type": "execute_result",
          "data": {
            "text/plain": [
              "<keras.layers.rnn.gru.GRU at 0x7bb968d7d630>"
            ]
          },
          "metadata": {},
          "execution_count": 8
        }
      ]
    },
    {
      "cell_type": "markdown",
      "source": [
        "There are two variants of the GRU implementation.\n",
        "\n",
        "The default is based on v3 and has reset gate applied to hidden state before matrix multiplication.\n",
        "\n",
        "The second one is based on original and has the order reversed.\n",
        "\n",
        "The second variant is compatible with CuDNNGRU (GPU-only) and allows inference on CPU.\n",
        "\n",
        "This has separate biases for kernel and recurrent_kernel.\n",
        "\n",
        "If you want to use this variant, set *reset_after=True* and *recurrent_activation='sigmoid'*.\n",
        "\n",
        "Let's see one simple example:"
      ],
      "metadata": {
        "id": "UqCB45xQWWog"
      }
    },
    {
      "cell_type": "code",
      "source": [
        "inputs = tf.random.normal([64, 16, 2])\n",
        "gru = tf.keras.layers.GRU(4)\n",
        "output = gru(inputs)\n",
        "print(output.shape)\n",
        "\n",
        "gru = tf.keras.layers.GRU(4, return_sequences=True, return_state=True)\n",
        "whole_sequence_output, final_state = gru(inputs)\n",
        "print(whole_sequence_output.shape)\n",
        "print(final_state.shape)\n"
      ],
      "metadata": {
        "colab": {
          "base_uri": "https://localhost:8080/"
        },
        "id": "s-dXA5fuV2wW",
        "outputId": "9d8ee17d-a373-40d5-d621-bc4e96837b2f"
      },
      "execution_count": 10,
      "outputs": [
        {
          "output_type": "stream",
          "name": "stdout",
          "text": [
            "(64, 4)\n",
            "(64, 16, 4)\n",
            "(64, 4)\n"
          ]
        }
      ]
    }
  ]
}