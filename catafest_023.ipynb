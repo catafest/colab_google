{
  "nbformat": 4,
  "nbformat_minor": 0,
  "metadata": {
    "colab": {
      "name": "catafest_023.ipynb",
      "provenance": [],
      "authorship_tag": "ABX9TyNgbm8HA7rRwwTzZl4hhNnX",
      "include_colab_link": true
    },
    "kernelspec": {
      "name": "python3",
      "display_name": "Python 3"
    },
    "language_info": {
      "name": "python"
    }
  },
  "cells": [
    {
      "cell_type": "markdown",
      "metadata": {
        "id": "view-in-github",
        "colab_type": "text"
      },
      "source": [
        "<a href=\"https://colab.research.google.com/github/catafest/colab_google/blob/master/catafest_023.ipynb\" target=\"_parent\"><img src=\"https://colab.research.google.com/assets/colab-badge.svg\" alt=\"Open In Colab\"/></a>"
      ]
    },
    {
      "cell_type": "markdown",
      "metadata": {
        "id": "MzfBNry2hTbY"
      },
      "source": [
        "Today I will give you a brief introduction to the area of statistics and the python programming language.\n",
        "\n",
        "*Probabilistic Graphical Models(PGM) are a very solid way of representing joint probability distributions on a set of random variables.*\n",
        "\n",
        "$\\mathrm P(A\\mid B) = \\frac{P(B \\mid A) P(A)}{P(B)} $ see [the wikipedia page](https://en.wikipedia.org/wiki/Bayes%27_theorem).\n",
        "\n",
        "In this tutorial I will show how can test and use *Probabilistic Graphical Models* for the most basic problem the coin problem.\n",
        "\n",
        "*The coin is flip again and again for 100 times.\n",
        "\n",
        "If it was the head I have one event if not is another event.*\n",
        "\n",
        "In other words, after each flip you would update the prior probability distribution to obtain the posterior probability distribution.\n",
        "\n",
        "You can use the [pgmpy](https://pgmpy.org/)  python framework to work with these types of graph models.\n",
        "\n",
        "Let's install it with **pip** tool."
      ]
    },
    {
      "cell_type": "code",
      "metadata": {
        "colab": {
          "base_uri": "https://localhost:8080/"
        },
        "id": "OHzxiCqThHRY",
        "outputId": "2ae499ff-a4a8-40a8-a324-16fac2bab878"
      },
      "source": [
        "!pip install pgmpy"
      ],
      "execution_count": 542,
      "outputs": [
        {
          "output_type": "stream",
          "name": "stdout",
          "text": [
            "Requirement already satisfied: pgmpy in /usr/local/lib/python3.7/dist-packages (0.1.16)\n",
            "Requirement already satisfied: scikit-learn in /usr/local/lib/python3.7/dist-packages (from pgmpy) (0.22.2.post1)\n",
            "Requirement already satisfied: joblib in /usr/local/lib/python3.7/dist-packages (from pgmpy) (1.0.1)\n",
            "Requirement already satisfied: torch in /usr/local/lib/python3.7/dist-packages (from pgmpy) (1.9.0+cu111)\n",
            "Requirement already satisfied: scipy in /usr/local/lib/python3.7/dist-packages (from pgmpy) (1.4.1)\n",
            "Requirement already satisfied: pandas in /usr/local/lib/python3.7/dist-packages (from pgmpy) (1.1.5)\n",
            "Requirement already satisfied: pyparsing in /usr/local/lib/python3.7/dist-packages (from pgmpy) (2.4.7)\n",
            "Requirement already satisfied: networkx in /usr/local/lib/python3.7/dist-packages (from pgmpy) (2.6.3)\n",
            "Requirement already satisfied: tqdm in /usr/local/lib/python3.7/dist-packages (from pgmpy) (4.62.3)\n",
            "Requirement already satisfied: numpy in /usr/local/lib/python3.7/dist-packages (from pgmpy) (1.19.5)\n",
            "Requirement already satisfied: statsmodels in /usr/local/lib/python3.7/dist-packages (from pgmpy) (0.10.2)\n",
            "Requirement already satisfied: pytz>=2017.2 in /usr/local/lib/python3.7/dist-packages (from pandas->pgmpy) (2018.9)\n",
            "Requirement already satisfied: python-dateutil>=2.7.3 in /usr/local/lib/python3.7/dist-packages (from pandas->pgmpy) (2.8.2)\n",
            "Requirement already satisfied: six>=1.5 in /usr/local/lib/python3.7/dist-packages (from python-dateutil>=2.7.3->pandas->pgmpy) (1.15.0)\n",
            "Requirement already satisfied: patsy>=0.4.0 in /usr/local/lib/python3.7/dist-packages (from statsmodels->pgmpy) (0.5.2)\n",
            "Requirement already satisfied: typing-extensions in /usr/local/lib/python3.7/dist-packages (from torch->pgmpy) (3.7.4.3)\n"
          ]
        }
      ]
    },
    {
      "cell_type": "markdown",
      "metadata": {
        "id": "GDeMhWF0r4YH"
      },
      "source": [
        "These python modules are used for generate fata and show graphs."
      ]
    },
    {
      "cell_type": "code",
      "metadata": {
        "id": "WD7fiPlIr5E-"
      },
      "source": [
        "import numpy as np\n",
        "import pandas as pd\n",
        "import networkx as nx"
      ],
      "execution_count": 543,
      "outputs": []
    },
    {
      "cell_type": "markdown",
      "metadata": {
        "id": "miaSm2-siBi9"
      },
      "source": [
        "Create bayesian model from **pgmpy.models** and use it is easy.\n",
        "\n",
        "Let's create this model:"
      ]
    },
    {
      "cell_type": "code",
      "metadata": {
        "colab": {
          "base_uri": "https://localhost:8080/"
        },
        "id": "DOr-p_gfiA1t",
        "outputId": "af98ef33-5150-4283-c579-296ebbcce831"
      },
      "source": [
        "from pgmpy.models import BayesianModel\n",
        "Gmodel_coin = BayesianModel()"
      ],
      "execution_count": 544,
      "outputs": [
        {
          "output_type": "stream",
          "name": "stderr",
          "text": [
            "/usr/local/lib/python3.7/dist-packages/pgmpy/models/BayesianModel.py:10: FutureWarning: BayesianModel has been renamed to BayesianNetwork. Please use BayesianNewtork class, BayesianModel will be removed in future.\n",
            "  FutureWarning,\n"
          ]
        }
      ]
    },
    {
      "cell_type": "markdown",
      "metadata": {
        "id": "3u0_oIu5iVmu"
      },
      "source": [
        "A **node** is associated with a probability function that takes, as input, a particular set of values for the node's parent variables, and gives (as output) the probability (or probability distribution, if applicable) of the variable represented by the node.\n",
        "\n",
        "*... because I have just one coin then I need just one node.*\n",
        "\n",
        "Let's create node:"
      ]
    },
    {
      "cell_type": "code",
      "metadata": {
        "id": "fGcA3d5gim0h"
      },
      "source": [
        "Gmodel_coin.add_node('coin')"
      ],
      "execution_count": 545,
      "outputs": []
    },
    {
      "cell_type": "markdown",
      "metadata": {
        "id": "a4RjAti-3_dn"
      },
      "source": [
        "The next source code will help me to see how I create.\n",
        "See also the source code comments:"
      ]
    },
    {
      "cell_type": "code",
      "metadata": {
        "colab": {
          "base_uri": "https://localhost:8080/",
          "height": 621
        },
        "id": "sjhi67q84AGT",
        "outputId": "922dd7b8-b377-46a8-f0ac-5df14caac424"
      },
      "source": [
        "# print the model structure\n",
        "print(\"The \" + str(Gmodel_coin))\n",
        "# print the random between 0 and 1\n",
        "print(np.random.randint(low=0, high=2, size=(2)))\n",
        "# this will print three values: 0, 1 or 2\n",
        "print(np.random.randint(low=0, high=3, size=(3)))\n",
        "# generate random data and add it to a variable data_coin for each flip coint events, 1 is head , 0 is not !\n",
        "data_coin = pd.DataFrame(np.random.randint(low=0, high=2, size=(100, 1)), columns=['coin'])\n",
        "# print the data_coin \n",
        "print(data_coin)\n",
        "# draw the graph with the nx python module\n",
        "nx.draw(Gmodel_coin, with_labels=True)"
      ],
      "execution_count": 546,
      "outputs": [
        {
          "output_type": "stream",
          "name": "stdout",
          "text": [
            "The BayesianModel with 1 nodes and 0 edges\n",
            "[0 1]\n",
            "[1 2 0]\n",
            "    coin\n",
            "0      0\n",
            "1      0\n",
            "2      0\n",
            "3      0\n",
            "4      1\n",
            "..   ...\n",
            "95     0\n",
            "96     0\n",
            "97     0\n",
            "98     1\n",
            "99     1\n",
            "\n",
            "[100 rows x 1 columns]\n"
          ]
        },
        {
          "output_type": "display_data",
          "data": {
            "image/png": "[encoded data removed]",
            "text/plain": [
              "<Figure size 432x288 with 1 Axes>"
            ]
          },
          "metadata": {}
        }
      ]
    },
    {
      "cell_type": "markdown",
      "metadata": {
        "id": "pgqihQvsKX6y"
      },
      "source": [
        "The **BayesianEstimator** method to estimate the *CPD* for a given variable ,and can be used with the **fit** method with this. \n",
        "\n",
        "In this case need to set the *prior_type* in order to quantifies how much the other chosen prior has impacted on the outcome as compared to a data-only posterior.\n",
        "\n",
        "The joint probability of the head and the loaded coin is 0.5\n",
        "... see the result of the CPD."
      ]
    },
    {
      "cell_type": "code",
      "metadata": {
        "colab": {
          "base_uri": "https://localhost:8080/"
        },
        "id": "Ylw_HglBwEXj",
        "outputId": "20792dde-41dd-400d-f3be-d1aea8d1ed51"
      },
      "source": [
        "from pgmpy.estimators import BayesianEstimator\n",
        "\n",
        "Gmodel_coin.fit(data_coin, estimator=BayesianEstimator, prior_type=\"BDeu\")\n",
        "\n",
        "for cpd in Gmodel_coin.get_cpds():\n",
        "    print(cpd)"
      ],
      "execution_count": 547,
      "outputs": [
        {
          "output_type": "stream",
          "name": "stdout",
          "text": [
            "+---------+---------+\n",
            "| coin(0) | 0.37619 |\n",
            "+---------+---------+\n",
            "| coin(1) | 0.62381 |\n",
            "+---------+---------+\n"
          ]
        }
      ]
    },
    {
      "cell_type": "markdown",
      "metadata": {
        "id": "4KmvroN5jxOb"
      },
      "source": [
        "Edges represent a static causal probabilistic dependence.\n",
        "\n",
        "You need to create another model with  BayesianModel function, **if not then you will have the same model and the new node will be added to the base mode coin:**"
      ]
    },
    {
      "cell_type": "code",
      "metadata": {
        "colab": {
          "base_uri": "https://localhost:8080/",
          "height": 336
        },
        "id": "L-mfTs7Px5PC",
        "outputId": "2698a8ae-612a-4a34-c822-2b8d52623b03"
      },
      "source": [
        "Gmodel_coin.add_edge('node_001', 'node_002')\n",
        "# draw the graph with the nx python module\n",
        "nx.draw(Gmodel_coin, with_labels=True)\n",
        "# print the model structure\n",
        "print(\"The \" + str(Gmodel_001))"
      ],
      "execution_count": 548,
      "outputs": [
        {
          "output_type": "stream",
          "name": "stdout",
          "text": [
            "The BayesianModel with 2 nodes and 1 edges\n"
          ]
        },
        {
          "output_type": "display_data",
          "data": {
            "image/png": "[encoded data removed]",
            "text/plain": [
              "<Figure size 432x288 with 1 Axes>"
            ]
          },
          "metadata": {}
        }
      ]
    },
    {
      "cell_type": "markdown",
      "metadata": {
        "id": "oTlNBbIdxzhT"
      },
      "source": [
        "*If I used two coins then the first source code can be changed ...*\n",
        "\n",
        "Let's create a new Gmodel_001 BayesianModel model and add two nodea and one edge between these:"
      ]
    },
    {
      "cell_type": "code",
      "metadata": {
        "colab": {
          "base_uri": "https://localhost:8080/"
        },
        "id": "OQJpPPTyj5Os",
        "outputId": "e40b9612-3aee-4604-c2de-aa852dfdfb30"
      },
      "source": [
        "from pgmpy.models import BayesianModel\n",
        "Gmodel_001 = BayesianModel()\n",
        "Gmodel_001.add_edge('node_001', 'node_002')"
      ],
      "execution_count": 549,
      "outputs": [
        {
          "output_type": "stream",
          "name": "stderr",
          "text": [
            "/usr/local/lib/python3.7/dist-packages/pgmpy/models/BayesianModel.py:10: FutureWarning: BayesianModel has been renamed to BayesianNetwork. Please use BayesianNewtork class, BayesianModel will be removed in future.\n",
            "  FutureWarning,\n"
          ]
        }
      ]
    },
    {
      "cell_type": "code",
      "metadata": {
        "colab": {
          "base_uri": "https://localhost:8080/",
          "height": 354
        },
        "id": "Y1Ir5jc2nJNG",
        "outputId": "e80b6acd-a30a-4726-8f7d-ee7529ab0e69"
      },
      "source": [
        "# print the model structure\n",
        "print(\"The \" + str(Gmodel_001))\n",
        "# print the number of nodes\n",
        "print(\"Number of nodes in the Gmodel_001 is : \" +str(len(Gmodel_001)))\n",
        "# draw the graph with the nx python module\n",
        "nx.draw(Gmodel_001, with_labels=True)"
      ],
      "execution_count": 550,
      "outputs": [
        {
          "output_type": "stream",
          "name": "stdout",
          "text": [
            "The BayesianModel with 2 nodes and 1 edges\n",
            "Number of nodes in the Gmodel_001 is : 2\n"
          ]
        },
        {
          "output_type": "display_data",
          "data": {
            "image/png": "[encoded data removed]",
            "text/plain": [
              "<Figure size 432x288 with 1 Axes>"
            ]
          },
          "metadata": {}
        }
      ]
    },
    {
      "cell_type": "markdown",
      "metadata": {
        "id": "RmxnMOMFO3G_"
      },
      "source": [
        "*About weights, this is the conditional probability of the event at the end of the edge happening given that all the events before that edge have occurred.*\n",
        "\n",
        "Let's print some infos about the edges and make some settings when draw the graph of Gmodel_001 with the values of colors and weights."
      ]
    },
    {
      "cell_type": "code",
      "metadata": {
        "colab": {
          "base_uri": "https://localhost:8080/",
          "height": 354
        },
        "id": "E2FlxQyxO7dn",
        "outputId": "66abcb3d-3731-4667-ff41-1bf5688c0837"
      },
      "source": [
        "#print edges like two nodes\n",
        "print([e for e in Gmodel_001.edges])\n",
        "#change color edge ('node_001', 'node_002')\n",
        "Gmodel_001.adj['node_001']['node_002']['color'] = 'green'\n",
        "#change weight of the edge ('node_001', 'node_002')\n",
        "Gmodel_001.adj['node_001']['node_002']['weight'] = 0.1\n",
        "#print the infos about edges\n",
        "print(Gmodel_001.edges.data())\n",
        "# draw the graph with the nx python module\n",
        "colors = nx.get_edge_attributes(Gmodel_001,'color').values()\n",
        "weights = nx.get_edge_attributes(G,'weight').values()\n",
        "#nx.draw(Gmodel_001, with_labels=True)\n",
        "nx.draw(Gmodel_001,\n",
        "        edge_color=colors, \n",
        "        width=list(weights),\n",
        "        with_labels=True,\n",
        "        node_color='lightgreen')"
      ],
      "execution_count": 551,
      "outputs": [
        {
          "output_type": "stream",
          "name": "stdout",
          "text": [
            "[('node_001', 'node_002')]\n",
            "[('node_001', 'node_002', {'weight': 0.1, 'color': 'green'})]\n"
          ]
        },
        {
          "output_type": "display_data",
          "data": {
            "image/png": "[encoded data removed]",
            "text/plain": [
              "<Figure size 432x288 with 1 Axes>"
            ]
          },
          "metadata": {}
        }
      ]
    },
    {
      "cell_type": "markdown",
      "metadata": {
        "id": "9O4jhzw0sNFw"
      },
      "source": [
        "Let's generate data for this BayesianModel.\n",
        "\n",
        "Because I have two nodes and a edge, I need two coloms of testing data and a number of choices.\n",
        "\n"
      ]
    },
    {
      "cell_type": "code",
      "metadata": {
        "colab": {
          "base_uri": "https://localhost:8080/"
        },
        "id": "jxbHwFNMk4Gh",
        "outputId": "fcb87364-3b64-46a5-a60a-9182f25685b8"
      },
      "source": [
        "\n",
        "print(np.random.randint(low=0, high=2, size=(4)))\n",
        "# generate data\n",
        "data_001 = pd.DataFrame(np.random.randint(low=0, high=2, size=(100, 2)), columns=['node_001', 'node_002'])\n",
        "print(data_001)\n"
      ],
      "execution_count": 552,
      "outputs": [
        {
          "output_type": "stream",
          "name": "stdout",
          "text": [
            "[0 1 1 1]\n",
            "    node_001  node_002\n",
            "0          0         1\n",
            "1          0         1\n",
            "2          0         1\n",
            "3          1         0\n",
            "4          1         0\n",
            "..       ...       ...\n",
            "95         1         0\n",
            "96         0         0\n",
            "97         0         1\n",
            "98         1         0\n",
            "99         0         0\n",
            "\n",
            "[100 rows x 2 columns]\n"
          ]
        }
      ]
    },
    {
      "cell_type": "code",
      "metadata": {
        "colab": {
          "base_uri": "https://localhost:8080/"
        },
        "id": "UoZNOlKkpv7i",
        "outputId": "fdf6b61f-28d3-4c1a-8beb-a1c1176d25fc"
      },
      "source": [
        "from pgmpy.estimators import BayesianEstimator\n",
        "Gmodel_001.fit(data_001, estimator=BayesianEstimator, prior_type=\"BDeu\") # default equivalent_sample_size=5\n",
        "for cpd in Gmodel_001.get_cpds():\n",
        "    print(\"CPD of {variable}:\".format(variable=cpd.variable))\n",
        "    print(cpd)\n"
      ],
      "execution_count": 553,
      "outputs": [
        {
          "output_type": "stream",
          "name": "stdout",
          "text": [
            "CPD of node_001:\n",
            "+-------------+-----+\n",
            "| node_001(0) | 0.5 |\n",
            "+-------------+-----+\n",
            "| node_001(1) | 0.5 |\n",
            "+-------------+-----+\n",
            "CPD of node_002:\n",
            "+-------------+---------------------+---------------------+\n",
            "| node_001    | node_001(0)         | node_001(1)         |\n",
            "+-------------+---------------------+---------------------+\n",
            "| node_002(0) | 0.44285714285714284 | 0.48095238095238096 |\n",
            "+-------------+---------------------+---------------------+\n",
            "| node_002(1) | 0.5571428571428572  | 0.5190476190476191  |\n",
            "+-------------+---------------------+---------------------+\n"
          ]
        }
      ]
    },
    {
      "cell_type": "code",
      "metadata": {
        "colab": {
          "base_uri": "https://localhost:8080/"
        },
        "id": "4m5xKf0PZbOV",
        "outputId": "0fe2f7e2-d6fc-4db8-ffbb-803ea6921c04"
      },
      "source": [
        "Gmodel_001.get_cpds()[0].name_to_no\n"
      ],
      "execution_count": 554,
      "outputs": [
        {
          "output_type": "execute_result",
          "data": {
            "text/plain": [
              "{'node_001': {0: 0, 1: 1}}"
            ]
          },
          "metadata": {},
          "execution_count": 554
        }
      ]
    },
    {
      "cell_type": "code",
      "metadata": {
        "colab": {
          "base_uri": "https://localhost:8080/"
        },
        "id": "C_kzTdgLZmEV",
        "outputId": "7b653853-6ff0-4d21-a310-ca45943e3d1a"
      },
      "source": [
        "Gmodel_001.get_cpds()[1].name_to_no"
      ],
      "execution_count": 555,
      "outputs": [
        {
          "output_type": "execute_result",
          "data": {
            "text/plain": [
              "{'node_001': {0: 0, 1: 1}, 'node_002': {0: 0, 1: 1}}"
            ]
          },
          "metadata": {},
          "execution_count": 555
        }
      ]
    },
    {
      "cell_type": "markdown",
      "metadata": {
        "id": "lATZo9O9dWZ8"
      },
      "source": [
        "The number of rows of a CPD table and evidence cardinality will specify the columns can be get with **get_cardinality** function."
      ]
    },
    {
      "cell_type": "code",
      "metadata": {
        "colab": {
          "base_uri": "https://localhost:8080/"
        },
        "id": "tehNxHuFdDtq",
        "outputId": "9e8e4692-20c0-400e-871b-d02fe855f46a"
      },
      "source": [
        "print(Gmodel_001.get_cpds('node_001'))\n",
        "print(\"Number of values Gmodel_001 can take on. The cardinality of Gmodel_001 is:\")\n",
        "print(Gmodel_001.get_cardinality('node_001'))\n",
        "print(Gmodel_001.get_cpds('node_002'))\n",
        "print(\"Number of values Gmodel_002 can take on. The cardinality of Gmodel_002 is:\")\n",
        "print(Gmodel_001.get_cardinality('node_002'))"
      ],
      "execution_count": 556,
      "outputs": [
        {
          "output_type": "stream",
          "name": "stdout",
          "text": [
            "+-------------+-----+\n",
            "| node_001(0) | 0.5 |\n",
            "+-------------+-----+\n",
            "| node_001(1) | 0.5 |\n",
            "+-------------+-----+\n",
            "Number of values Gmodel_001 can take on. The cardinality of Gmodel_001 is:\n",
            "2\n",
            "+-------------+---------------------+---------------------+\n",
            "| node_001    | node_001(0)         | node_001(1)         |\n",
            "+-------------+---------------------+---------------------+\n",
            "| node_002(0) | 0.44285714285714284 | 0.48095238095238096 |\n",
            "+-------------+---------------------+---------------------+\n",
            "| node_002(1) | 0.5571428571428572  | 0.5190476190476191  |\n",
            "+-------------+---------------------+---------------------+\n",
            "Number of values Gmodel_002 can take on. The cardinality of Gmodel_002 is:\n",
            "2\n"
          ]
        }
      ]
    },
    {
      "cell_type": "markdown",
      "metadata": {
        "id": "T5B8vYx-uPca"
      },
      "source": [
        "I can check for various errors.\n",
        "\n",
        "This method checks for the following errors.\n",
        "\n",
        "\n",
        "*   checks if the sum of the probabilities for each state is equal to 1;\n",
        "*   checks if the CPDs ( it’s parametrization (CPDs) doesn’t depend on each other) associated with nodes are consistent with their parents;\n",
        "\n"
      ]
    },
    {
      "cell_type": "code",
      "metadata": {
        "colab": {
          "base_uri": "https://localhost:8080/"
        },
        "id": "lvtYSPYruL-r",
        "outputId": "4dce1ee9-a033-412d-afe4-b3a0c9daa4f4"
      },
      "source": [
        "print(\"Passed model check: {}\".format(Gmodel_001.check_model()))"
      ],
      "execution_count": 557,
      "outputs": [
        {
          "output_type": "stream",
          "name": "stdout",
          "text": [
            "Passed model check: True\n"
          ]
        }
      ]
    },
    {
      "cell_type": "code",
      "metadata": {
        "id": "j8cV5vDhrOlf"
      },
      "source": [
        ""
      ],
      "execution_count": 557,
      "outputs": []
    },
    {
      "cell_type": "markdown",
      "metadata": {
        "id": "Whg-0ALRiyqt"
      },
      "source": [
        "You can create any type of BayesianModel and add the nodes from any container like: list, set or tuple or the nodes from another graph.\n",
        "\n",
        "Let's create a graph with list:"
      ]
    },
    {
      "cell_type": "code",
      "metadata": {
        "colab": {
          "base_uri": "https://localhost:8080/"
        },
        "id": "B2tkE31Zi0h9",
        "outputId": "56581b24-a27c-4320-98e0-a10a02fe229e"
      },
      "source": [
        "from pgmpy.models import BayesianModel\n",
        "Gmodel_002 = BayesianModel()\n",
        "\n",
        "my_list = ['list_element_001','list_element_002']\n",
        "list_size = len(my_list)\n",
        "# add nodes from my_list\n",
        "Gmodel_002.add_nodes_from(my_list)\n",
        "# see the diference with the last sourc code\n",
        "# Gmodel_001.add_edge('node_001', 'node_002')"
      ],
      "execution_count": 558,
      "outputs": [
        {
          "output_type": "stream",
          "name": "stderr",
          "text": [
            "/usr/local/lib/python3.7/dist-packages/pgmpy/models/BayesianModel.py:10: FutureWarning: BayesianModel has been renamed to BayesianNetwork. Please use BayesianNewtork class, BayesianModel will be removed in future.\n",
            "  FutureWarning,\n"
          ]
        }
      ]
    },
    {
      "cell_type": "code",
      "metadata": {
        "colab": {
          "base_uri": "https://localhost:8080/"
        },
        "id": "uwVBXPK1o9Vr",
        "outputId": "7595f504-657b-4f04-9df1-43512128b4a4"
      },
      "source": [
        "# generate data by a list \n",
        "data_002 = pd.DataFrame(np.random.randint(low=0, high=2, size=(100, list_size)), columns=[my_list])\n",
        "# print data_002\n",
        "print(data_002)"
      ],
      "execution_count": 559,
      "outputs": [
        {
          "output_type": "stream",
          "name": "stdout",
          "text": [
            "   list_element_001 list_element_002\n",
            "0                 0                0\n",
            "1                 1                1\n",
            "2                 0                0\n",
            "3                 1                0\n",
            "4                 0                0\n",
            "..              ...              ...\n",
            "95                0                1\n",
            "96                1                0\n",
            "97                0                0\n",
            "98                0                0\n",
            "99                1                1\n",
            "\n",
            "[100 rows x 2 columns]\n"
          ]
        }
      ]
    },
    {
      "cell_type": "code",
      "metadata": {
        "id": "cLjfQQtTpMXd"
      },
      "source": [
        "model.fit(data, estimator=BayesianEstimator, prior_type=\"BDeu\") # default equivalent_sample_size=5\n"
      ],
      "execution_count": 560,
      "outputs": []
    },
    {
      "cell_type": "code",
      "metadata": {
        "colab": {
          "base_uri": "https://localhost:8080/"
        },
        "id": "U4V4pfhBpPIs",
        "outputId": "e9911b2e-bc47-4bda-e6ec-37ed09090149"
      },
      "source": [
        "for cpd in model.get_cpds():\n",
        "    print(cpd)"
      ],
      "execution_count": 561,
      "outputs": [
        {
          "output_type": "stream",
          "name": "stdout",
          "text": [
            "+------+-----+\n",
            "| A(0) | 0.5 |\n",
            "+------+-----+\n",
            "| A(1) | 0.5 |\n",
            "+------+-----+\n",
            "+------+---------------------+---------------------+\n",
            "| A    | A(0)                | A(1)                |\n",
            "+------+---------------------+---------------------+\n",
            "| B(0) | 0.46190476190476193 | 0.48095238095238096 |\n",
            "+------+---------------------+---------------------+\n",
            "| B(1) | 0.5380952380952381  | 0.5190476190476191  |\n",
            "+------+---------------------+---------------------+\n"
          ]
        }
      ]
    }
  ]
}