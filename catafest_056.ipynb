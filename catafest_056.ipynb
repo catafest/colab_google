{
  "nbformat": 4,
  "nbformat_minor": 0,
  "metadata": {
    "colab": {
      "provenance": [],
      "authorship_tag": "ABX9TyNTQvQJfZGvG/fF69xceKzp",
      "include_colab_link": true
    },
    "kernelspec": {
      "name": "python3",
      "display_name": "Python 3"
    },
    "language_info": {
      "name": "python"
    }
  },
  "cells": [
    {
      "cell_type": "markdown",
      "metadata": {
        "id": "view-in-github",
        "colab_type": "text"
      },
      "source": [
        "<a href=\"https://colab.research.google.com/github/catafest/colab_google/blob/master/catafest_056.ipynb\" target=\"_parent\"><img src=\"https://colab.research.google.com/assets/colab-badge.svg\" alt=\"Open In Colab\"/></a>"
      ]
    },
    {
      "cell_type": "markdown",
      "source": [
        "This tutorial will help to use [LaTeX](https://en.wikipedia.org/wiki/LaTeX) with colab."
      ],
      "metadata": {
        "id": "6PIySLKKNZlh"
      }
    },
    {
      "cell_type": "markdown",
      "source": [
        "See this LaTeX text\n",
        "\n",
        "`\\begin{align}`\n",
        "\n",
        "`\\mathbf{a} \\cdot \\mathbf{b} = \\sum_{i=1}^n a_i b_i.`\n",
        "\n",
        "`\\end{align}`\n",
        "\n",
        "and the result of the LaTeX\n",
        "\n",
        "\\begin{align}\n",
        "\\mathbf{a} \\cdot \\mathbf{b} = \\sum_{i=1}^n a_i b_i.\n",
        "\\end{align}\n",
        "\n"
      ],
      "metadata": {
        "id": "N8DeQ_HcIRzR"
      }
    },
    {
      "cell_type": "markdown",
      "source": [
        "Testing with matplotlib python package on Colab:"
      ],
      "metadata": {
        "id": "bDgifZZ1PLqy"
      }
    },
    {
      "cell_type": "code",
      "source": [
        "!pip install matplotlib"
      ],
      "metadata": {
        "colab": {
          "base_uri": "https://localhost:8080/"
        },
        "id": "9tj6cIo_IP5N",
        "outputId": "e1f13e0f-b3b4-4e35-ba05-5fbc44763c50"
      },
      "execution_count": 2,
      "outputs": [
        {
          "output_type": "stream",
          "name": "stdout",
          "text": [
            "Requirement already satisfied: matplotlib in /usr/local/lib/python3.10/dist-packages (3.7.1)\n",
            "Requirement already satisfied: contourpy>=1.0.1 in /usr/local/lib/python3.10/dist-packages (from matplotlib) (1.2.0)\n",
            "Requirement already satisfied: cycler>=0.10 in /usr/local/lib/python3.10/dist-packages (from matplotlib) (0.12.1)\n",
            "Requirement already satisfied: fonttools>=4.22.0 in /usr/local/lib/python3.10/dist-packages (from matplotlib) (4.47.0)\n",
            "Requirement already satisfied: kiwisolver>=1.0.1 in /usr/local/lib/python3.10/dist-packages (from matplotlib) (1.4.5)\n",
            "Requirement already satisfied: numpy>=1.20 in /usr/local/lib/python3.10/dist-packages (from matplotlib) (1.23.5)\n",
            "Requirement already satisfied: packaging>=20.0 in /usr/local/lib/python3.10/dist-packages (from matplotlib) (23.2)\n",
            "Requirement already satisfied: pillow>=6.2.0 in /usr/local/lib/python3.10/dist-packages (from matplotlib) (9.4.0)\n",
            "Requirement already satisfied: pyparsing>=2.3.1 in /usr/local/lib/python3.10/dist-packages (from matplotlib) (3.1.1)\n",
            "Requirement already satisfied: python-dateutil>=2.7 in /usr/local/lib/python3.10/dist-packages (from matplotlib) (2.8.2)\n",
            "Requirement already satisfied: six>=1.5 in /usr/local/lib/python3.10/dist-packages (from python-dateutil>=2.7->matplotlib) (1.16.0)\n"
          ]
        }
      ]
    },
    {
      "cell_type": "markdown",
      "source": [
        "Default source code will come with not show the figure"
      ],
      "metadata": {
        "id": "WvMa7xp3KxqX"
      }
    },
    {
      "cell_type": "code",
      "source": [
        "import matplotlib.pyplot as plt\n",
        "\n",
        "latex_expression = r\"$e^{i\\pi}+1=0$\"\n",
        "fig = plt.figure(figsize=(3, 0.5))  # Dimensiunile figsize sunt în inci\n",
        "text = fig.text(\n",
        "    x=0.5,  # Coordonata x pentru plasarea textului\n",
        "    y=0.5,  # Coordonata y pentru plasarea textului\n",
        "    s=latex_expression,\n",
        "    horizontalalignment=\"center\",\n",
        "    verticalalignment=\"center\",\n",
        "    fontsize=16,\n",
        ")\n",
        "\n",
        "# Eliminarea liniei de cod plt.plot([1, 2, 4, 7, 4, 2, 1])\n",
        "\n",
        "plt.show()  # Afișează figura"
      ],
      "metadata": {
        "colab": {
          "base_uri": "https://localhost:8080/",
          "height": 34
        },
        "id": "1stwPtoVKyKi",
        "outputId": "ca763401-dceb-4c33-953e-41c6334714e1"
      },
      "execution_count": 19,
      "outputs": [
        {
          "output_type": "display_data",
          "data": {
            "text/plain": [
              "<Figure size 300x50 with 0 Axes>"
            ]
          },
          "metadata": {}
        }
      ]
    },
    {
      "cell_type": "markdown",
      "source": [
        "I can use this trick, but has a bad square:"
      ],
      "metadata": {
        "id": "4LYEzx4lPdj8"
      }
    },
    {
      "cell_type": "code",
      "source": [
        "import matplotlib.pyplot as plt\n",
        "latex_expression = r\"$e^{i\\pi}+1=0$\"\n",
        "fig = plt.figure(figsize=(3, 0.5))  # Dimensiunile figsize sunt în inci\n",
        "text = fig.text(\n",
        "    x=0.5,  # Coordonata x pentru plasarea textului\n",
        "    y=0.5,  # Coordonata y pentru plasarea textului\n",
        "    s=latex_expression,\n",
        "    horizontalalignment=\"center\",\n",
        "    verticalalignment=\"center\",\n",
        "    fontsize=16,\n",
        ")\n",
        "plt.plot([])\n",
        "plt.show() # You must call plt.show() to render your final plot."
      ],
      "metadata": {
        "colab": {
          "base_uri": "https://localhost:8080/",
          "height": 102
        },
        "id": "UiPuNLKMLdI1",
        "outputId": "d23c7168-d40b-4981-c739-f9b45785c75c"
      },
      "execution_count": 24,
      "outputs": [
        {
          "output_type": "display_data",
          "data": {
            "text/plain": [
              "<Figure size 300x50 with 1 Axes>"
            ],
            "image/png": "[encoded data removed]"
          },
          "metadata": {}
        }
      ]
    },
    {
      "cell_type": "markdown",
      "source": [
        "You can use into this way. See these two equations:"
      ],
      "metadata": {
        "id": "eQzt9e6QPmAd"
      }
    },
    {
      "cell_type": "code",
      "source": [
        "from IPython.display import display, Math\n",
        "\n",
        "latex_expression = r\"$e^{i\\pi}+1=0$\"\n",
        "display(Math(latex_expression))"
      ],
      "metadata": {
        "colab": {
          "base_uri": "https://localhost:8080/",
          "height": 38
        },
        "id": "yJk5aQMaM8mM",
        "outputId": "4848e559-326f-48a5-e401-a8ba06bc0cae"
      },
      "execution_count": 20,
      "outputs": [
        {
          "output_type": "display_data",
          "data": {
            "text/plain": [
              "<IPython.core.display.Math object>"
            ],
            "text/latex": "$\\displaystyle e^{i\\pi}+1=0$"
          },
          "metadata": {}
        }
      ]
    },
    {
      "cell_type": "code",
      "source": [
        "from IPython.display import display, Math\n",
        "\n",
        "latex_expression = r\"$\\mathbf{a} \\cdot \\mathbf{b} = \\sum_{i=1}^n a_i b_i.$\"\n",
        "display(Math(latex_expression))"
      ],
      "metadata": {
        "colab": {
          "base_uri": "https://localhost:8080/",
          "height": 67
        },
        "id": "AJuvazxdM-Ic",
        "outputId": "d3b8d4e3-9423-41d7-c073-220d1876d31c"
      },
      "execution_count": 23,
      "outputs": [
        {
          "output_type": "display_data",
          "data": {
            "text/plain": [
              "<IPython.core.display.Math object>"
            ],
            "text/latex": "$\\displaystyle \\mathbf{a} \\cdot \\mathbf{b} = \\sum_{i=1}^n a_i b_i.$"
          },
          "metadata": {}
        }
      ]
    }
  ]
}