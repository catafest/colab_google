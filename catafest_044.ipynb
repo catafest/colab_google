{
  "nbformat": 4,
  "nbformat_minor": 0,
  "metadata": {
    "colab": {
      "provenance": [],
      "authorship_tag": "ABX9TyPdi3YgGaKP3IRA9yhTWIBh",
      "include_colab_link": true
    },
    "kernelspec": {
      "name": "python3",
      "display_name": "Python 3"
    },
    "language_info": {
      "name": "python"
    }
  },
  "cells": [
    {
      "cell_type": "markdown",
      "metadata": {
        "id": "view-in-github",
        "colab_type": "text"
      },
      "source": [
        "<a href=\"https://colab.research.google.com/github/catafest/colab_google/blob/master/catafest_044.ipynb\" target=\"_parent\"><img src=\"https://colab.research.google.com/assets/colab-badge.svg\" alt=\"Open In Colab\"/></a>"
      ]
    },
    {
      "cell_type": "markdown",
      "source": [
        "Let's see how to use Google authentication library for Python in order to create a file on Google Drive.\n",
        "You can read more on [this website](https://pythonhosted.org/PyDrive/filemanagement.html)."
      ],
      "metadata": {
        "id": "OiTIwppB7eJz"
      }
    },
    {
      "cell_type": "code",
      "execution_count": 2,
      "metadata": {
        "id": "9RX_ArZe3XMa"
      },
      "outputs": [],
      "source": [
        "!pip install -U -q PyDrive\n",
        "from pydrive.auth import GoogleAuth\n",
        "from pydrive.drive import GoogleDrive\n",
        "from google.colab import auth\n",
        "from google.colab import files\n",
        "from oauth2client.client import GoogleCredentials\n",
        "\n",
        "auth.authenticate_user()\n",
        "gauth = GoogleAuth()\n",
        "gauth.credentials = GoogleCredentials.get_application_default()\n",
        "drive = GoogleDrive(gauth)"
      ]
    },
    {
      "cell_type": "markdown",
      "source": [
        "Let's create a file and upload it."
      ],
      "metadata": {
        "id": "u7KRRfx78N1i"
      }
    },
    {
      "cell_type": "code",
      "source": [
        "# Create GoogleDriveFile instance with title 'Hello.txt'.\n",
        "file1 = drive.CreateFile({'title': 'Hello.txt'})\n",
        "file1.Upload() # Upload the file.\n",
        "print('title: %s, id: %s' % (file1['title'], file1['id']))\n",
        "# title: Hello.txt, id: {{FILE_ID}}"
      ],
      "metadata": {
        "colab": {
          "base_uri": "https://localhost:8080/"
        },
        "id": "B-DYF6L261DW",
        "outputId": "fc134235-b013-4537-b527-8bd05f22f7c8"
      },
      "execution_count": 5,
      "outputs": [
        {
          "output_type": "stream",
          "name": "stdout",
          "text": [
            "title: Hello.txt, id: 1FHiODQT1m-9lwDBnAwXT3pXCTjSF-PUD\n"
          ]
        }
      ]
    }
  ]
}