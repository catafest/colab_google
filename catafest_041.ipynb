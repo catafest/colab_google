{
  "nbformat": 4,
  "nbformat_minor": 0,
  "metadata": {
    "colab": {
      "provenance": [],
      "authorship_tag": "ABX9TyNRihhnaLH6mVOfg26i2YWm",
      "include_colab_link": true
    },
    "kernelspec": {
      "name": "python3",
      "display_name": "Python 3"
    },
    "language_info": {
      "name": "python"
    }
  },
  "cells": [
    {
      "cell_type": "markdown",
      "metadata": {
        "id": "view-in-github",
        "colab_type": "text"
      },
      "source": [
        "<a href=\"https://colab.research.google.com/github/catafest/colab_google/blob/master/catafest_041.ipynb\" target=\"_parent\"><img src=\"https://colab.research.google.com/assets/colab-badge.svg\" alt=\"Open In Colab\"/></a>"
      ]
    },
    {
      "cell_type": "code",
      "execution_count": 2,
      "metadata": {
        "colab": {
          "base_uri": "https://localhost:8080/"
        },
        "id": "M3nDd9GMZ5JF",
        "outputId": "2dd80e3f-2fe1-4ba9-bec3-849608506290"
      },
      "outputs": [
        {
          "output_type": "stream",
          "name": "stdout",
          "text": [
            "List all running VM processes.\n",
            "UID          PID    PPID  C STIME TTY          TIME CMD\n",
            "root           1       0  0 19:22 ?        00:00:00 /sbin/docker-init -- /datalab/run.sh\n",
            "root           7       1  0 19:22 ?        00:00:00 /tools/node/bin/node /datalab/web/app.js\n",
            "root          19       0  0 19:22 ?        00:00:00 tail -n +0 -F /root/.config/Google/DriveFS/Logs/dpb.txt /root/.config/Google/DriveFS/Logs/drive_fs.txt\n",
            "root          30       7  0 19:22 ?        00:00:00 /bin/bash -e /usr/local/colab/bin/oom_monitor.sh\n",
            "root          32       1  0 19:22 ?        00:00:00 /bin/bash -e /datalab/run.sh\n",
            "root          33      32  0 19:22 ?        00:00:00 /usr/colab/bin/kernel_manager_proxy --listen_port=6000 --target_port=9000 --logtostderr --listen_host=172.28.0.12 --target_host=172.28.0.12 --tunnel_background_save_url=https://colab.research.google.com/tun/m/cc48301118ce562b961b3c22d803539adc1e0c19/m-s-uwawyupqj0zl --tunnel_background_save_delay=10s --tunnel_periodic_background_save_frequency=30m0s --enable_output_coalescing=true --output_coalescing_required=true\n",
            "root          57       7 13 19:22 ?        00:00:05 [python3] <defunct>\n",
            "root          58       7  1 19:22 ?        00:00:00 python3 /usr/local/bin/colab-fileshim.py\n",
            "root          75       7  6 19:22 ?        00:00:02 /usr/bin/python3 /usr/local/bin/jupyter-notebook --debug --transport=\"ipc\" --ip=172.28.0.12 --NotebookApp.token= --port=9000 --FileContentsManager.root_dir=/ --MappingKernelManager.root_dir=/content\n",
            "root          76       7  0 19:22 ?        00:00:00 /usr/local/bin/dap_multiplexer --domain_socket_path=/tmp/debugger_1309c1t9kd\n",
            "root         153      75  5 19:22 ?        00:00:01 /usr/bin/python3 -m ipykernel_launcher -f /root/.local/share/jupyter/runtime/kernel-5e7fc896-39f4-4497-9a3d-a22fce6350d5.json\n",
            "root         192       1  0 19:22 ?        00:00:00 /usr/bin/python3 /usr/local/lib/python3.10/dist-packages/debugpy/adapter --for-server 53761 --host 127.0.0.1 --port 43141 --server-access-token 90c73c76e2a24663a665ec7ddc0a9c3658d6e6cffe59d96d15637d40503c04a0\n",
            "root         221       7  0 19:22 ?        00:00:00 /usr/colab/bin/language_service --language_services_request_root_url=http://172.28.0.1:8013/ --language_services_request_timeout=30s -- node /datalab/web/pyright/pyright-langserver.js --stdio --cancellationReceive=file:86d80fc7d6ca7f9857946e79379bcfd80750422194\n",
            "root         229     221 10 19:22 ?        00:00:01 node /datalab/web/pyright/pyright-langserver.js --stdio --cancellationReceive=file:86d80fc7d6ca7f9857946e79379bcfd80750422194\n",
            "root         306      30  0 19:22 ?        00:00:00 sleep 1\n",
            "root         307     153  0 19:22 ?        00:00:00 sh\n",
            "root         308     307  0 19:22 ?        00:00:00 ps -ef\n",
            "Done\n"
          ]
        }
      ],
      "source": [
        "%%sh\n",
        "echo \"List all running VM processes.\"\n",
        "ps -ef\n",
        "echo \"Done\""
      ]
    }
  ]
}