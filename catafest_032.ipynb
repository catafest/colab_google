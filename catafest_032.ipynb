{
  "nbformat": 4,
  "nbformat_minor": 0,
  "metadata": {
    "colab": {
      "provenance": [],
      "authorship_tag": "ABX9TyNXPR5qQ09FndO5GkDcLH3E",
      "include_colab_link": true
    },
    "kernelspec": {
      "name": "python3",
      "display_name": "Python 3"
    },
    "language_info": {
      "name": "python"
    }
  },
  "cells": [
    {
      "cell_type": "markdown",
      "metadata": {
        "id": "view-in-github",
        "colab_type": "text"
      },
      "source": [
        "<a href=\"https://colab.research.google.com/github/catafest/colab_google/blob/master/catafest_032.ipynb\" target=\"_parent\"><img src=\"https://colab.research.google.com/assets/colab-badge.svg\" alt=\"Open In Colab\"/></a>"
      ]
    },
    {
      "cell_type": "markdown",
      "source": [
        "set a youtube url"
      ],
      "metadata": {
        "id": "doevmJe2vUgW"
      }
    },
    {
      "cell_type": "code",
      "execution_count": 1,
      "metadata": {
        "id": "L-E_bOZ3u_PD"
      },
      "outputs": [],
      "source": [
        "yturl = 'https://www.youtube.com/watch?v=-XUVulOQX9c'"
      ]
    },
    {
      "cell_type": "markdown",
      "source": [
        "use the webcam"
      ],
      "metadata": {
        "id": "uNhl67IOvX81"
      }
    },
    {
      "cell_type": "code",
      "source": [
        "from IPython.display import display, Javascript,HTML\n",
        "from google.colab.output import eval_js\n",
        "from base64 import b64decode\n",
        " \n",
        "def record_video(filename='video_output.mp4'):\n",
        "  js=Javascript(\"\"\"\n",
        "    async function recordVideo() {\n",
        "      const options = { mimeType: \"video/webm; codecs=vp9\" };\n",
        "      const div = document.createElement('div');\n",
        "      const capture = document.createElement('button');\n",
        "      const stopCapture = document.createElement(\"button\");\n",
        "       \n",
        "      capture.textContent = \"Start Recording\";\n",
        "      capture.style.background = \"orange\";\n",
        "      capture.style.color = \"white\";\n",
        " \n",
        "      stopCapture.textContent = \"Stop Recording\";\n",
        "      stopCapture.style.background = \"red\";\n",
        "      stopCapture.style.color = \"white\";\n",
        "      div.appendChild(capture);\n",
        " \n",
        "      const video = document.createElement('video');\n",
        "      const recordingVid = document.createElement(\"video\");\n",
        "      video.style.display = 'block';\n",
        " \n",
        "      const stream = await navigator.mediaDevices.getUserMedia({audio:true, video: true});\n",
        "     \n",
        "      let recorder = new MediaRecorder(stream, options);\n",
        "      document.body.appendChild(div);\n",
        "      div.appendChild(video);\n",
        " \n",
        "      video.srcObject = stream;\n",
        "      video.muted = true;\n",
        " \n",
        "      await video.play();\n",
        " \n",
        "      google.colab.output.setIframeHeight(document.documentElement.scrollHeight, true);\n",
        " \n",
        "      await new Promise((resolve) => {\n",
        "        capture.onclick = resolve;\n",
        "      });\n",
        "      recorder.start();\n",
        "      capture.replaceWith(stopCapture);\n",
        " \n",
        "      await new Promise((resolve) => stopCapture.onclick = resolve);\n",
        "      recorder.stop();\n",
        "      let recData = await new Promise((resolve) => recorder.ondataavailable = resolve);\n",
        "      let arrBuff = await recData.data.arrayBuffer();\n",
        "       \n",
        "      // stop the stream and remove the video element\n",
        "      stream.getVideoTracks()[0].stop();\n",
        "      div.remove();\n",
        " \n",
        "      let binaryString = \"\";\n",
        "      let bytes = new Uint8Array(arrBuff);\n",
        "      bytes.forEach((byte) => {\n",
        "        binaryString += String.fromCharCode(byte);\n",
        "      })\n",
        "    return btoa(binaryString);\n",
        "    }\n",
        "  \"\"\")\n",
        "  try:\n",
        "    display(js)\n",
        "    data=eval_js('recordVideo({})')\n",
        "    binary=b64decode(data)\n",
        "    with open(filename,\"wb\") as video_file:\n",
        "      video_file.write(binary)\n",
        "    print(f\"Finished recording video at:{filename}\")\n",
        "  except Exception as err:\n",
        "    print(str(err))\n"
      ],
      "metadata": {
        "id": "VHbmm9nQvBXe"
      },
      "execution_count": 2,
      "outputs": []
    },
    {
      "cell_type": "code",
      "source": [
        "record_video(filename='video_output.mp4')\n"
      ],
      "metadata": {
        "colab": {
          "base_uri": "https://localhost:8080/",
          "height": 34
        },
        "id": "OnPHp6VgvIR-",
        "outputId": "fb8eb2f3-19e2-445d-ac3b-08d54d02d383"
      },
      "execution_count": 3,
      "outputs": [
        {
          "output_type": "display_data",
          "data": {
            "text/plain": [
              "<IPython.core.display.Javascript object>"
            ],
            "application/javascript": [
              "\n",
              "    async function recordVideo() {\n",
              "      const options = { mimeType: \"video/webm; codecs=vp9\" };\n",
              "      const div = document.createElement('div');\n",
              "      const capture = document.createElement('button');\n",
              "      const stopCapture = document.createElement(\"button\");\n",
              "       \n",
              "      capture.textContent = \"Start Recording\";\n",
              "      capture.style.background = \"orange\";\n",
              "      capture.style.color = \"white\";\n",
              " \n",
              "      stopCapture.textContent = \"Stop Recording\";\n",
              "      stopCapture.style.background = \"red\";\n",
              "      stopCapture.style.color = \"white\";\n",
              "      div.appendChild(capture);\n",
              " \n",
              "      const video = document.createElement('video');\n",
              "      const recordingVid = document.createElement(\"video\");\n",
              "      video.style.display = 'block';\n",
              " \n",
              "      const stream = await navigator.mediaDevices.getUserMedia({audio:true, video: true});\n",
              "     \n",
              "      let recorder = new MediaRecorder(stream, options);\n",
              "      document.body.appendChild(div);\n",
              "      div.appendChild(video);\n",
              " \n",
              "      video.srcObject = stream;\n",
              "      video.muted = true;\n",
              " \n",
              "      await video.play();\n",
              " \n",
              "      google.colab.output.setIframeHeight(document.documentElement.scrollHeight, true);\n",
              " \n",
              "      await new Promise((resolve) => {\n",
              "        capture.onclick = resolve;\n",
              "      });\n",
              "      recorder.start();\n",
              "      capture.replaceWith(stopCapture);\n",
              " \n",
              "      await new Promise((resolve) => stopCapture.onclick = resolve);\n",
              "      recorder.stop();\n",
              "      let recData = await new Promise((resolve) => recorder.ondataavailable = resolve);\n",
              "      let arrBuff = await recData.data.arrayBuffer();\n",
              "       \n",
              "      // stop the stream and remove the video element\n",
              "      stream.getVideoTracks()[0].stop();\n",
              "      div.remove();\n",
              " \n",
              "      let binaryString = \"\";\n",
              "      let bytes = new Uint8Array(arrBuff);\n",
              "      bytes.forEach((byte) => {\n",
              "        binaryString += String.fromCharCode(byte);\n",
              "      })\n",
              "    return btoa(binaryString);\n",
              "    }\n",
              "  "
            ]
          },
          "metadata": {}
        },
        {
          "output_type": "stream",
          "name": "stdout",
          "text": [
            "Finished recording video at:video_output.mp4\n"
          ]
        }
      ]
    },
    {
      "cell_type": "code",
      "source": [
        "from IPython.display import HTML\n",
        "from base64 import b64encode\n",
        "mp4 = open('video_output.mp4','rb').read()\n",
        "data_url = \"data:video/mp4;base64,\" + b64encode(mp4).decode()\n",
        "HTML(\"\"\"\n",
        "<video width=400 controls>\n",
        "      <source src=\"%s\" type=\"video/mp4\">\n",
        "</video>\n",
        "\"\"\" % data_url)\n",
        "\n",
        "!pip install -U kora\n",
        "from kora.drive import upload_public\n",
        "url = upload_public('video_output.mp4')\n",
        "# then display it\n",
        "from IPython.display import HTML\n",
        "HTML(f\"\"\"<video src={url} width=500 controls/>\"\"\")"
      ],
      "metadata": {
        "colab": {
          "base_uri": "https://localhost:8080/",
          "height": 848
        },
        "id": "EQpKL2czvKpk",
        "outputId": "2b630e3e-b070-4f41-e6b8-a199074b65b9"
      },
      "execution_count": 4,
      "outputs": [
        {
          "output_type": "stream",
          "name": "stdout",
          "text": [
            "Looking in indexes: https://pypi.org/simple, https://us-python.pkg.dev/colab-wheels/public/simple/\n",
            "Collecting kora\n",
            "  Downloading kora-0.9.20-py3-none-any.whl (57 kB)\n",
            "\u001b[K     |████████████████████████████████| 57 kB 3.7 MB/s \n",
            "\u001b[?25hRequirement already satisfied: ipython in /usr/local/lib/python3.7/dist-packages (from kora) (7.9.0)\n",
            "Requirement already satisfied: fastcore in /usr/local/lib/python3.7/dist-packages (from kora) (1.5.27)\n",
            "Requirement already satisfied: packaging in /usr/local/lib/python3.7/dist-packages (from fastcore->kora) (21.3)\n",
            "Requirement already satisfied: pip in /usr/local/lib/python3.7/dist-packages (from fastcore->kora) (21.1.3)\n",
            "Requirement already satisfied: pexpect in /usr/local/lib/python3.7/dist-packages (from ipython->kora) (4.8.0)\n",
            "Requirement already satisfied: setuptools>=18.5 in /usr/local/lib/python3.7/dist-packages (from ipython->kora) (57.4.0)\n",
            "Requirement already satisfied: backcall in /usr/local/lib/python3.7/dist-packages (from ipython->kora) (0.2.0)\n",
            "Requirement already satisfied: pickleshare in /usr/local/lib/python3.7/dist-packages (from ipython->kora) (0.7.5)\n",
            "Requirement already satisfied: prompt-toolkit<2.1.0,>=2.0.0 in /usr/local/lib/python3.7/dist-packages (from ipython->kora) (2.0.10)\n",
            "Requirement already satisfied: pygments in /usr/local/lib/python3.7/dist-packages (from ipython->kora) (2.6.1)\n",
            "Requirement already satisfied: decorator in /usr/local/lib/python3.7/dist-packages (from ipython->kora) (4.4.2)\n",
            "Collecting jedi>=0.10\n",
            "  Downloading jedi-0.18.1-py2.py3-none-any.whl (1.6 MB)\n",
            "\u001b[K     |████████████████████████████████| 1.6 MB 40.9 MB/s \n",
            "\u001b[?25hRequirement already satisfied: traitlets>=4.2 in /usr/local/lib/python3.7/dist-packages (from ipython->kora) (5.1.1)\n",
            "Requirement already satisfied: parso<0.9.0,>=0.8.0 in /usr/local/lib/python3.7/dist-packages (from jedi>=0.10->ipython->kora) (0.8.3)\n",
            "Requirement already satisfied: wcwidth in /usr/local/lib/python3.7/dist-packages (from prompt-toolkit<2.1.0,>=2.0.0->ipython->kora) (0.2.5)\n",
            "Requirement already satisfied: six>=1.9.0 in /usr/local/lib/python3.7/dist-packages (from prompt-toolkit<2.1.0,>=2.0.0->ipython->kora) (1.15.0)\n",
            "Requirement already satisfied: pyparsing!=3.0.5,>=2.0.2 in /usr/local/lib/python3.7/dist-packages (from packaging->fastcore->kora) (3.0.9)\n",
            "Requirement already satisfied: ptyprocess>=0.5 in /usr/local/lib/python3.7/dist-packages (from pexpect->ipython->kora) (0.7.0)\n",
            "Installing collected packages: jedi, kora\n",
            "Successfully installed jedi-0.18.1 kora-0.9.20\n"
          ]
        },
        {
          "output_type": "execute_result",
          "data": {
            "text/plain": [
              "<IPython.core.display.HTML object>"
            ],
            "text/html": [
              "<video src=https://drive.google.com/uc?id=17GqRR0omSUrdz-gDX1VCftRtrt82AzPW width=500 controls/>"
            ]
          },
          "metadata": {},
          "execution_count": 4
        }
      ]
    },
    {
      "cell_type": "markdown",
      "source": [
        "install pytube python package"
      ],
      "metadata": {
        "id": "koOGILHZvQq8"
      }
    },
    {
      "cell_type": "code",
      "source": [
        "!pip install -U pytube"
      ],
      "metadata": {
        "colab": {
          "base_uri": "https://localhost:8080/"
        },
        "id": "S_J8IBLZvQQU",
        "outputId": "53dafd0b-c470-44f9-a334-028f4315f39c"
      },
      "execution_count": 5,
      "outputs": [
        {
          "output_type": "stream",
          "name": "stdout",
          "text": [
            "Looking in indexes: https://pypi.org/simple, https://us-python.pkg.dev/colab-wheels/public/simple/\n",
            "Collecting pytube\n",
            "  Downloading pytube-12.1.0-py3-none-any.whl (56 kB)\n",
            "\u001b[K     |████████████████████████████████| 56 kB 4.1 MB/s \n",
            "\u001b[?25hInstalling collected packages: pytube\n",
            "Successfully installed pytube-12.1.0\n"
          ]
        }
      ]
    },
    {
      "cell_type": "code",
      "source": [
        "from pytube import Playlist\n",
        "from pytube import YouTube\n",
        "\n",
        "previousprogress = 0\n",
        "def on_progress(stream, chunk, bytes_remaining):\n",
        "    global previousprogress\n",
        "    total_size = stream.filesize\n",
        "    bytes_downloaded = total_size - bytes_remaining\n",
        "    liveprogress = (int)(bytes_downloaded / total_size * 100)\n",
        "    if liveprogress > previousprogress:\n",
        "        previousprogress = liveprogress\n",
        "        print(liveprogress)\n",
        "yt = YouTube(yturl)\n",
        "yt.register_on_progress_callback(on_progress)\n",
        "yt.streams.filter(only_audio=True).first().download()"
      ],
      "metadata": {
        "colab": {
          "base_uri": "https://localhost:8080/",
          "height": 53
        },
        "id": "uNuYLF2OvaV7",
        "outputId": "09a8aac7-511c-43e7-ac5f-8de0d7694bb4"
      },
      "execution_count": 6,
      "outputs": [
        {
          "output_type": "stream",
          "name": "stdout",
          "text": [
            "100\n"
          ]
        },
        {
          "output_type": "execute_result",
          "data": {
            "text/plain": [
              "'/content/Automated Thermal Inspections with Spot  Boston Dynamics.mp4'"
            ],
            "application/vnd.google.colaboratory.intrinsic+json": {
              "type": "string"
            }
          },
          "metadata": {},
          "execution_count": 6
        }
      ]
    },
    {
      "cell_type": "code",
      "source": [
        "from IPython.display import HTML, display\n",
        "import time\n",
        "\n",
        "def progress(value, max=100):\n",
        "    return HTML(\"\"\"\n",
        "        <progress\n",
        "            value='{value}'\n",
        "            max='{max}',\n",
        "            style='width: 100%'\n",
        "        >\n",
        "            {value}\n",
        "        </progress>\n",
        "    \"\"\".format(value=value, max=max))\n",
        "\n",
        "out = display(progress(0, 100), display_id=True)\n",
        "for i in range(101):\n",
        "    time.sleep(0.02)\n",
        "    out.update(progress(i, 100))"
      ],
      "metadata": {
        "colab": {
          "base_uri": "https://localhost:8080/",
          "height": 34
        },
        "id": "cMtZm7Q9viGV",
        "outputId": "adf58c2a-7c88-497b-dac9-90faddd8a9f1"
      },
      "execution_count": 7,
      "outputs": [
        {
          "output_type": "display_data",
          "data": {
            "text/plain": [
              "<IPython.core.display.HTML object>"
            ],
            "text/html": [
              "\n",
              "        <progress\n",
              "            value='100'\n",
              "            max='100',\n",
              "            style='width: 100%'\n",
              "        >\n",
              "            100\n",
              "        </progress>\n",
              "    "
            ]
          },
          "metadata": {}
        }
      ]
    },
    {
      "cell_type": "code",
      "source": [
        "!pip install tqdm"
      ],
      "metadata": {
        "colab": {
          "base_uri": "https://localhost:8080/"
        },
        "id": "PMrDI3vSvmq9",
        "outputId": "c6dfe276-aedd-4fa7-de81-1c45cf27ffaa"
      },
      "execution_count": 8,
      "outputs": [
        {
          "output_type": "stream",
          "name": "stdout",
          "text": [
            "Looking in indexes: https://pypi.org/simple, https://us-python.pkg.dev/colab-wheels/public/simple/\n",
            "Requirement already satisfied: tqdm in /usr/local/lib/python3.7/dist-packages (4.64.1)\n"
          ]
        }
      ]
    },
    {
      "cell_type": "code",
      "source": [
        "from tqdm import tqdm\n",
        "from time import sleep\n",
        " \n",
        " \n",
        "for i in tqdm(range(0, 100), total = 500,\n",
        "              desc =\"Text You Want\"):\n",
        "    sleep(.1)"
      ],
      "metadata": {
        "colab": {
          "base_uri": "https://localhost:8080/"
        },
        "id": "YLNxlv8rvnND",
        "outputId": "6bcb6ddd-2957-4d85-c98b-f25e549c5790"
      },
      "execution_count": 9,
      "outputs": [
        {
          "output_type": "stream",
          "name": "stderr",
          "text": [
            "Text You Want:  20%|██        | 100/500 [00:10<00:41,  9.59it/s]\n"
          ]
        }
      ]
    },
    {
      "cell_type": "code",
      "source": [
        "from tqdm import tqdm\n",
        "from time import sleep\n",
        " \n",
        " \n",
        "for i in tqdm(range(0, 100),\n",
        "              ascii =\"123456789$\"):\n",
        "    sleep(.1)"
      ],
      "metadata": {
        "colab": {
          "base_uri": "https://localhost:8080/"
        },
        "id": "l_9TCvfcvsor",
        "outputId": "c939e8bc-ca69-4cd0-d9ad-90cb226a9177"
      },
      "execution_count": 10,
      "outputs": [
        {
          "output_type": "stream",
          "name": "stderr",
          "text": [
            "100%|$$$$$$$$$$| 100/100 [00:10<00:00,  9.56it/s]\n"
          ]
        }
      ]
    },
    {
      "cell_type": "code",
      "source": [
        "from tqdm import tqdm\n",
        "from time import sleep\n",
        " \n",
        " \n",
        "for i in tqdm(range(0, 100),\n",
        "              ascii =\"▁▂▃▄▅▆█\"):\n",
        "    sleep(.1)\n"
      ],
      "metadata": {
        "colab": {
          "base_uri": "https://localhost:8080/"
        },
        "id": "1Rf0zgI3vujS",
        "outputId": "3766f45a-684c-418d-8e8a-c7c18069143b"
      },
      "execution_count": 11,
      "outputs": [
        {
          "output_type": "stream",
          "name": "stderr",
          "text": [
            "100%|██████████| 100/100 [00:10<00:00,  9.82it/s]\n"
          ]
        }
      ]
    }
  ]
}