{
  "nbformat": 4,
  "nbformat_minor": 0,
  "metadata": {
    "colab": {
      "name": "catafest_009.ipynb",
      "provenance": [],
      "authorship_tag": "ABX9TyM9YfYCtkMzDG3u7xlX/GCz",
      "include_colab_link": true
    },
    "kernelspec": {
      "name": "python3",
      "display_name": "Python 3"
    }
  },
  "cells": [
    {
      "cell_type": "markdown",
      "metadata": {
        "id": "view-in-github",
        "colab_type": "text"
      },
      "source": [
        "<a href=\"https://colab.research.google.com/github/catafest/colab_google/blob/master/catafest_009.ipynb\" target=\"_parent\"><img src=\"https://colab.research.google.com/assets/colab-badge.svg\" alt=\"Open In Colab\"/></a>"
      ]
    },
    {
      "cell_type": "markdown",
      "metadata": {
        "id": "n6uYS40p0ZIz"
      },
      "source": [
        "Cell magics starting with %% and can be used to get and set informations"
      ]
    },
    {
      "cell_type": "markdown",
      "metadata": {
        "id": "yn9YI6a80gUs"
      },
      "source": [
        "The %%shell is used to run commands on command shell:"
      ]
    },
    {
      "cell_type": "code",
      "metadata": {
        "id": "fNpCpx-6xpJd",
        "outputId": "6c8120ce-4a79-41f9-8ea5-51d29eaf3f2d",
        "colab": {
          "base_uri": "https://localhost:8080/"
        }
      },
      "source": [
        "%%shell\n",
        "cat /proc/cpuinfo"
      ],
      "execution_count": 2,
      "outputs": [
        {
          "output_type": "stream",
          "text": [
            "processor\t: 0\n",
            "vendor_id\t: GenuineIntel\n",
            "cpu family\t: 6\n",
            "model\t\t: 63\n",
            "model name\t: Intel(R) Xeon(R) CPU @ 2.30GHz\n",
            "stepping\t: 0\n",
            "microcode\t: 0x1\n",
            "cpu MHz\t\t: 2300.000\n",
            "cache size\t: 46080 KB\n",
            "physical id\t: 0\n",
            "siblings\t: 2\n",
            "core id\t\t: 0\n",
            "cpu cores\t: 1\n",
            "apicid\t\t: 0\n",
            "initial apicid\t: 0\n",
            "fpu\t\t: yes\n",
            "fpu_exception\t: yes\n",
            "cpuid level\t: 13\n",
            "wp\t\t: yes\n",
            "flags\t\t: fpu vme de pse tsc msr pae mce cx8 apic sep mtrr pge mca cmov pat pse36 clflush mmx fxsr sse sse2 ss ht syscall nx pdpe1gb rdtscp lm constant_tsc rep_good nopl xtopology nonstop_tsc cpuid tsc_known_freq pni pclmulqdq ssse3 fma cx16 pcid sse4_1 sse4_2 x2apic movbe popcnt aes xsave avx f16c rdrand hypervisor lahf_lm abm invpcid_single ssbd ibrs ibpb stibp fsgsbase tsc_adjust bmi1 avx2 smep bmi2 erms invpcid xsaveopt arat md_clear arch_capabilities\n",
            "bugs\t\t: cpu_meltdown spectre_v1 spectre_v2 spec_store_bypass l1tf mds swapgs\n",
            "bogomips\t: 4600.00\n",
            "clflush size\t: 64\n",
            "cache_alignment\t: 64\n",
            "address sizes\t: 46 bits physical, 48 bits virtual\n",
            "power management:\n",
            "\n",
            "processor\t: 1\n",
            "vendor_id\t: GenuineIntel\n",
            "cpu family\t: 6\n",
            "model\t\t: 63\n",
            "model name\t: Intel(R) Xeon(R) CPU @ 2.30GHz\n",
            "stepping\t: 0\n",
            "microcode\t: 0x1\n",
            "cpu MHz\t\t: 2300.000\n",
            "cache size\t: 46080 KB\n",
            "physical id\t: 0\n",
            "siblings\t: 2\n",
            "core id\t\t: 0\n",
            "cpu cores\t: 1\n",
            "apicid\t\t: 1\n",
            "initial apicid\t: 1\n",
            "fpu\t\t: yes\n",
            "fpu_exception\t: yes\n",
            "cpuid level\t: 13\n",
            "wp\t\t: yes\n",
            "flags\t\t: fpu vme de pse tsc msr pae mce cx8 apic sep mtrr pge mca cmov pat pse36 clflush mmx fxsr sse sse2 ss ht syscall nx pdpe1gb rdtscp lm constant_tsc rep_good nopl xtopology nonstop_tsc cpuid tsc_known_freq pni pclmulqdq ssse3 fma cx16 pcid sse4_1 sse4_2 x2apic movbe popcnt aes xsave avx f16c rdrand hypervisor lahf_lm abm invpcid_single ssbd ibrs ibpb stibp fsgsbase tsc_adjust bmi1 avx2 smep bmi2 erms invpcid xsaveopt arat md_clear arch_capabilities\n",
            "bugs\t\t: cpu_meltdown spectre_v1 spectre_v2 spec_store_bypass l1tf mds swapgs\n",
            "bogomips\t: 4600.00\n",
            "clflush size\t: 64\n",
            "cache_alignment\t: 64\n",
            "address sizes\t: 46 bits physical, 48 bits virtual\n",
            "power management:\n",
            "\n"
          ],
          "name": "stdout"
        },
        {
          "output_type": "execute_result",
          "data": {
            "text/plain": [
              ""
            ]
          },
          "metadata": {
            "tags": []
          },
          "execution_count": 2
        }
      ]
    },
    {
      "cell_type": "markdown",
      "metadata": {
        "id": "s_m0kV-B0sGN"
      },
      "source": [
        "The %%HTML is used to insert HTML content, see the SVG content of a book image:"
      ]
    },
    {
      "cell_type": "code",
      "metadata": {
        "id": "SnkVvyq50vvQ",
        "outputId": "4cbe2961-ae8d-4605-8223-4cb7af184c9a",
        "colab": {
          "base_uri": "https://localhost:8080/",
          "height": 85
        }
      },
      "source": [
        "%%HTML\n",
        "\n",
        "<?xml version=\"1.0\" encoding=\"utf-8\"?>\n",
        "<!-- Generator: Adobe Illustrator 17.0.0, SVG Export Plug-In . SVG Version: 6.00 Build 0)  -->\n",
        "<!DOCTYPE svg PUBLIC \"-//W3C//DTD SVG 1.1//EN\" \"http://www.w3.org/Graphics/SVG/1.1/DTD/svg11.dtd\">\n",
        "<svg version=\"1.1\" id=\"Layer_2\" xmlns=\"http://www.w3.org/2000/svg\" xmlns:xlink=\"http://www.w3.org/1999/xlink\" x=\"0px\" y=\"0px\"\n",
        "\t width=\"119.99px\" height=\"63.835px\" viewBox=\"0 0 119.99 63.835\" enable-background=\"new 0 0 119.99 63.835\" xml:space=\"preserve\">\n",
        "<path fill=\"#218099\" d=\"M4.833,50.083c0.706-1.65,14.667-33.833,15.333-35.5c0.667-1.667-0.667-2.417-1.25-0.833\n",
        "\tc-0.583,1.583-17.083,37.75-18,39.833C0,55.667,0,57.083,3.583,57.083s49.417,0,49.417,0V60h11.667v-3.167c0,0,48.333,0,50.083,0\n",
        "\ts3.333-0.333,1.833-3.5c-1.5-3.167-17-37.417-17.75-39.25S96.667,13,97.25,14.417s15,34.333,15.583,35.917\n",
        "\tc0.583,1.583,1.333,4.083-5.417,4.083c-9.083,0-25-6.333-31.917-6.333S62.086,52.167,58.793,56.5\n",
        "\tc-3.293-3.083-7.46-8.417-16.377-8.417s-20.25,6.25-31.833,6.25C6.25,54.333,3.185,53.936,4.833,50.083z\"/>\n",
        "<path fill=\"#218099\" d=\"M107.75,45.75c-1.333-3.583-14.417-37.917-14.417-37.917S92.083,8.25,89.5,8.25\n",
        "\tc-8.417,0-17.917-5.583-21.667-5.583c-3.917,0-9.04,4.333-9.04,4.333S52.833,2.667,50,2.667c-5.25,0-12.083,5.5-22.333,5.5\n",
        "\tc-2.25,0-3.583-0.333-3.583-0.333S10.167,44.667,9.167,47.167s-1.001,4.167,2.75,4.167c9,0,25.25-8.167,30.333-8.167\n",
        "\tc9.333,0,16.543,10.5,16.543,10.5S66.75,43.25,75.25,43.25s20,8.25,30.583,8.25C109.083,51.5,109.083,49.333,107.75,45.75z M56.5,45\n",
        "\tc0,0-4.5-5.5-13.333-5.5c-9.167,0-22.833,8-26.667,8c-2.167,0-3.417-0.5-2.5-3.583c0.917-3.083,11.917-32.5,11.917-32.5\n",
        "\ts1.585,0.167,3.833,0.167c10.25,0,14-4.75,20-4.75c4.083,0,6.25,2.333,6.75,4V45z M101.24,47.5c-3.833,0-17.5-8-26.667-8\n",
        "\tC65.74,39.5,61.24,45,61.24,45V10.833c0.5-1.667,2.667-4,6.75-4c6,0,9.75,4.75,20,4.75c2.248,0,3.833-0.167,3.833-0.167\n",
        "\ts11,29.417,11.917,32.5C104.657,47,103.407,47.5,101.24,47.5z\"/>\n",
        "</svg>"
      ],
      "execution_count": 6,
      "outputs": [
        {
          "output_type": "display_data",
          "data": {
            "text/html": [
              "\n",
              "<?xml version=\"1.0\" encoding=\"utf-8\"?>\n",
              "<!-- Generator: Adobe Illustrator 17.0.0, SVG Export Plug-In . SVG Version: 6.00 Build 0)  -->\n",
              "<!DOCTYPE svg PUBLIC \"-//W3C//DTD SVG 1.1//EN\" \"http://www.w3.org/Graphics/SVG/1.1/DTD/svg11.dtd\">\n",
              "<svg version=\"1.1\" id=\"Layer_2\" xmlns=\"http://www.w3.org/2000/svg\" xmlns:xlink=\"http://www.w3.org/1999/xlink\" x=\"0px\" y=\"0px\"\n",
              "\t width=\"119.99px\" height=\"63.835px\" viewBox=\"0 0 119.99 63.835\" enable-background=\"new 0 0 119.99 63.835\" xml:space=\"preserve\">\n",
              "<path fill=\"#218099\" d=\"M4.833,50.083c0.706-1.65,14.667-33.833,15.333-35.5c0.667-1.667-0.667-2.417-1.25-0.833\n",
              "\tc-0.583,1.583-17.083,37.75-18,39.833C0,55.667,0,57.083,3.583,57.083s49.417,0,49.417,0V60h11.667v-3.167c0,0,48.333,0,50.083,0\n",
              "\ts3.333-0.333,1.833-3.5c-1.5-3.167-17-37.417-17.75-39.25S96.667,13,97.25,14.417s15,34.333,15.583,35.917\n",
              "\tc0.583,1.583,1.333,4.083-5.417,4.083c-9.083,0-25-6.333-31.917-6.333S62.086,52.167,58.793,56.5\n",
              "\tc-3.293-3.083-7.46-8.417-16.377-8.417s-20.25,6.25-31.833,6.25C6.25,54.333,3.185,53.936,4.833,50.083z\"/>\n",
              "<path fill=\"#218099\" d=\"M107.75,45.75c-1.333-3.583-14.417-37.917-14.417-37.917S92.083,8.25,89.5,8.25\n",
              "\tc-8.417,0-17.917-5.583-21.667-5.583c-3.917,0-9.04,4.333-9.04,4.333S52.833,2.667,50,2.667c-5.25,0-12.083,5.5-22.333,5.5\n",
              "\tc-2.25,0-3.583-0.333-3.583-0.333S10.167,44.667,9.167,47.167s-1.001,4.167,2.75,4.167c9,0,25.25-8.167,30.333-8.167\n",
              "\tc9.333,0,16.543,10.5,16.543,10.5S66.75,43.25,75.25,43.25s20,8.25,30.583,8.25C109.083,51.5,109.083,49.333,107.75,45.75z M56.5,45\n",
              "\tc0,0-4.5-5.5-13.333-5.5c-9.167,0-22.833,8-26.667,8c-2.167,0-3.417-0.5-2.5-3.583c0.917-3.083,11.917-32.5,11.917-32.5\n",
              "\ts1.585,0.167,3.833,0.167c10.25,0,14-4.75,20-4.75c4.083,0,6.25,2.333,6.75,4V45z M101.24,47.5c-3.833,0-17.5-8-26.667-8\n",
              "\tC65.74,39.5,61.24,45,61.24,45V10.833c0.5-1.667,2.667-4,6.75-4c6,0,9.75,4.75,20,4.75c2.248,0,3.833-0.167,3.833-0.167\n",
              "\ts11,29.417,11.917,32.5C104.657,47,103.407,47.5,101.24,47.5z\"/>\n",
              "</svg>"
            ],
            "text/plain": [
              "<IPython.core.display.HTML object>"
            ]
          },
          "metadata": {
            "tags": []
          }
        }
      ]
    },
    {
      "cell_type": "markdown",
      "metadata": {
        "id": "cs4DUM5j0YNB"
      },
      "source": [
        "The %%time is used for time:"
      ]
    },
    {
      "cell_type": "code",
      "metadata": {
        "id": "M2OYX4su3A6c",
        "outputId": "978a5d30-78fe-4c78-87d8-f280e184564b",
        "colab": {
          "base_uri": "https://localhost:8080/"
        }
      },
      "source": [
        "%%time \n",
        "print(\"This print run in this time: %%time!\")"
      ],
      "execution_count": 9,
      "outputs": [
        {
          "output_type": "stream",
          "text": [
            "This print run in this time: %%time!\n",
            "CPU times: user 112 µs, sys: 23 µs, total: 135 µs\n",
            "Wall time: 92.7 µs\n"
          ],
          "name": "stdout"
        }
      ]
    },
    {
      "cell_type": "markdown",
      "metadata": {
        "id": "Ndm_xtQr3b5i"
      },
      "source": [
        "If you want to see all of these features , type %% and press the Ctrl key into the Code area."
      ]
    }
  ]
}