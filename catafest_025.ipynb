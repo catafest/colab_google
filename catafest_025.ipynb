{
  "nbformat": 4,
  "nbformat_minor": 0,
  "metadata": {
    "colab": {
      "name": "catafest_025.ipynb",
      "provenance": [],
      "collapsed_sections": [],
      "authorship_tag": "ABX9TyOPWunpHdWRIkMBgbPpfA3d",
      "include_colab_link": true
    },
    "kernelspec": {
      "name": "python3",
      "display_name": "Python 3"
    },
    "language_info": {
      "name": "python"
    },
    "accelerator": "GPU"
  },
  "cells": [
    {
      "cell_type": "markdown",
      "metadata": {
        "id": "view-in-github",
        "colab_type": "text"
      },
      "source": [
        "<a href=\"https://colab.research.google.com/github/catafest/colab_google/blob/master/catafest_025.ipynb\" target=\"_parent\"><img src=\"https://colab.research.google.com/assets/colab-badge.svg\" alt=\"Open In Colab\"/></a>"
      ]
    },
    {
      "cell_type": "markdown",
      "metadata": {
        "id": "paz9k00lo3xO"
      },
      "source": [
        "This is a simple notebook tutorial about how can test and get info from GPU on colab online tool.\n",
        "\n",
        "Turn on hardware acceleration under: *Runtime -> Change Runtime Type -> Hardware accelerator -> GPU*\n",
        "\n",
        "Use this command to ensure that the connected machine has a **GPU**:"
      ]
    },
    {
      "cell_type": "code",
      "metadata": {
        "colab": {
          "base_uri": "https://localhost:8080/"
        },
        "id": "MzlP70xwozRO",
        "outputId": "6b9c3f0f-2d93-44d6-adee-a262225a1945"
      },
      "source": [
        "!nvidia-smi --query-gpu=gpu_name,driver_version,memory.total --format=csv"
      ],
      "execution_count": null,
      "outputs": [
        {
          "output_type": "stream",
          "name": "stdout",
          "text": [
            "name, driver_version, memory.total [MiB]\n",
            "Tesla K80, 460.32.03, 11441 MiB\n"
          ]
        }
      ]
    },
    {
      "cell_type": "code",
      "metadata": {
        "colab": {
          "base_uri": "https://localhost:8080/"
        },
        "id": "UveYKaLXpwzz",
        "outputId": "642c936a-0ba6-4bb8-9985-4187867b4183"
      },
      "source": [
        "!nvidia-smi"
      ],
      "execution_count": null,
      "outputs": [
        {
          "output_type": "stream",
          "name": "stdout",
          "text": [
            "Tue Nov 16 21:30:06 2021       \n",
            "+-----------------------------------------------------------------------------+\n",
            "| NVIDIA-SMI 495.44       Driver Version: 460.32.03    CUDA Version: 11.2     |\n",
            "|-------------------------------+----------------------+----------------------+\n",
            "| GPU  Name        Persistence-M| Bus-Id        Disp.A | Volatile Uncorr. ECC |\n",
            "| Fan  Temp  Perf  Pwr:Usage/Cap|         Memory-Usage | GPU-Util  Compute M. |\n",
            "|                               |                      |               MIG M. |\n",
            "|===============================+======================+======================|\n",
            "|   0  Tesla K80           Off  | 00000000:00:04.0 Off |                    0 |\n",
            "| N/A   73C    P8    34W / 149W |      0MiB / 11441MiB |      0%      Default |\n",
            "|                               |                      |                  N/A |\n",
            "+-------------------------------+----------------------+----------------------+\n",
            "                                                                               \n",
            "+-----------------------------------------------------------------------------+\n",
            "| Processes:                                                                  |\n",
            "|  GPU   GI   CI        PID   Type   Process name                  GPU Memory |\n",
            "|        ID   ID                                                   Usage      |\n",
            "|=============================================================================|\n",
            "|  No running processes found                                                 |\n",
            "+-----------------------------------------------------------------------------+\n"
          ]
        }
      ]
    },
    {
      "cell_type": "code",
      "metadata": {
        "colab": {
          "base_uri": "https://localhost:8080/"
        },
        "id": "MdvVZvhci3SP",
        "outputId": "c8ade9f7-c2c8-4431-bcea-f2613855667d"
      },
      "source": [
        "!nvidia-smi -q"
      ],
      "execution_count": 6,
      "outputs": [
        {
          "output_type": "stream",
          "name": "stdout",
          "text": [
            "\n",
            "==============NVSMI LOG==============\n",
            "\n",
            "Timestamp                                 : Wed Nov 17 20:19:30 2021\n",
            "Driver Version                            : 460.32.03\n",
            "CUDA Version                              : 11.2\n",
            "\n",
            "Attached GPUs                             : 1\n",
            "GPU 00000000:00:04.0\n",
            "    Product Name                          : Tesla K80\n",
            "    Product Brand                         : Tesla\n",
            "    Product Architecture                  : Kepler\n",
            "    Display Mode                          : Disabled\n",
            "    Display Active                        : Disabled\n",
            "    Persistence Mode                      : Disabled\n",
            "    MIG Mode\n",
            "        Current                           : N/A\n",
            "        Pending                           : N/A\n",
            "    Accounting Mode                       : Disabled\n",
            "    Accounting Mode Buffer Size           : 4000\n",
            "    Driver Model\n",
            "        Current                           : N/A\n",
            "        Pending                           : N/A\n",
            "    Serial Number                         : 0322016015544\n",
            "    GPU UUID                              : GPU-d94dd19f-77c6-9cca-19d3-58092904459f\n",
            "    Minor Number                          : 0\n",
            "    VBIOS Version                         : 80.21.25.00.02\n",
            "    MultiGPU Board                        : No\n",
            "    Board ID                              : 0x4\n",
            "    GPU Part Number                       : 900-22080-6300-000\n",
            "    Module ID                             : Uninitialized\n",
            "    Inforom Version\n",
            "        Image Version                     : 2080.0200.00.04\n",
            "        OEM Object                        : 1.1\n",
            "        ECC Object                        : 3.0\n",
            "        Power Management Object           : N/A\n",
            "    GPU Operation Mode\n",
            "        Current                           : N/A\n",
            "        Pending                           : N/A\n",
            "    GSP Firmware Version                  : Uninitialized\n",
            "    GPU Virtualization Mode\n",
            "        Virtualization Mode               : Pass-Through\n",
            "        Host VGPU Mode                    : N/A\n",
            "    IBMNPU\n",
            "        Relaxed Ordering Mode             : N/A\n",
            "    PCI\n",
            "        Bus                               : 0x00\n",
            "        Device                            : 0x04\n",
            "        Domain                            : 0x0000\n",
            "        Device Id                         : 0x102D10DE\n",
            "        Bus Id                            : 00000000:00:04.0\n",
            "        Sub System Id                     : 0x106C10DE\n",
            "        GPU Link Info\n",
            "            PCIe Generation\n",
            "                Max                       : 3\n",
            "                Current                   : 1\n",
            "            Link Width\n",
            "                Max                       : 16x\n",
            "                Current                   : 16x\n",
            "        Bridge Chip\n",
            "            Type                          : N/A\n",
            "            Firmware                      : N/A\n",
            "        Replays Since Reset               : 0\n",
            "        Replay Number Rollovers           : 0\n",
            "        Tx Throughput                     : N/A\n",
            "        Rx Throughput                     : N/A\n",
            "    Fan Speed                             : N/A\n",
            "    Performance State                     : P8\n",
            "    Clocks Throttle Reasons\n",
            "        Idle                              : Active\n",
            "        Applications Clocks Setting       : Not Active\n",
            "        SW Power Cap                      : Not Active\n",
            "        HW Slowdown                       : Not Active\n",
            "            HW Thermal Slowdown           : N/A\n",
            "            HW Power Brake Slowdown       : N/A\n",
            "        Sync Boost                        : Not Active\n",
            "        SW Thermal Slowdown               : Not Active\n",
            "        Display Clock Setting             : Not Active\n",
            "    FB Memory Usage\n",
            "        Total                             : 11441 MiB\n",
            "        Used                              : 0 MiB\n",
            "        Free                              : 11441 MiB\n",
            "    BAR1 Memory Usage\n",
            "        Total                             : 16384 MiB\n",
            "        Used                              : 2 MiB\n",
            "        Free                              : 16382 MiB\n",
            "    Compute Mode                          : Default\n",
            "    Utilization\n",
            "        Gpu                               : 0 %\n",
            "        Memory                            : 0 %\n",
            "        Encoder                           : 0 %\n",
            "        Decoder                           : 0 %\n",
            "    Encoder Stats\n",
            "        Active Sessions                   : 0\n",
            "        Average FPS                       : 0\n",
            "        Average Latency                   : 0\n",
            "    FBC Stats\n",
            "        Active Sessions                   : 0\n",
            "        Average FPS                       : 0\n",
            "        Average Latency                   : 0\n",
            "    Ecc Mode\n",
            "        Current                           : Enabled\n",
            "        Pending                           : Enabled\n",
            "    ECC Errors\n",
            "        Volatile\n",
            "            Single Bit            \n",
            "                Device Memory             : 0\n",
            "                Register File             : 0\n",
            "                L1 Cache                  : 0\n",
            "                L2 Cache                  : 0\n",
            "                Texture Memory            : 0\n",
            "                Texture Shared            : N/A\n",
            "                CBU                       : N/A\n",
            "                Total                     : 0\n",
            "            Double Bit            \n",
            "                Device Memory             : 0\n",
            "                Register File             : 0\n",
            "                L1 Cache                  : 0\n",
            "                L2 Cache                  : 0\n",
            "                Texture Memory            : 0\n",
            "                Texture Shared            : N/A\n",
            "                CBU                       : N/A\n",
            "                Total                     : 0\n",
            "        Aggregate\n",
            "            Single Bit            \n",
            "                Device Memory             : 58\n",
            "                Register File             : 0\n",
            "                L1 Cache                  : 0\n",
            "                L2 Cache                  : 0\n",
            "                Texture Memory            : 0\n",
            "                Texture Shared            : N/A\n",
            "                CBU                       : N/A\n",
            "                Total                     : 58\n",
            "            Double Bit            \n",
            "                Device Memory             : 0\n",
            "                Register File             : 0\n",
            "                L1 Cache                  : 0\n",
            "                L2 Cache                  : 0\n",
            "                Texture Memory            : 0\n",
            "                Texture Shared            : N/A\n",
            "                CBU                       : N/A\n",
            "                Total                     : 0\n",
            "    Retired Pages\n",
            "        Single Bit ECC                    : 2\n",
            "        Double Bit ECC                    : 0\n",
            "        Pending Page Blacklist            : No\n",
            "    Remapped Rows                         : N/A\n",
            "    Temperature\n",
            "        GPU Current Temp                  : 69 C\n",
            "        GPU Shutdown Temp                 : 93 C\n",
            "        GPU Slowdown Temp                 : 88 C\n",
            "        GPU Max Operating Temp            : N/A\n",
            "        GPU Target Temperature            : N/A\n",
            "        Memory Current Temp               : N/A\n",
            "        Memory Max Operating Temp         : N/A\n",
            "    Power Readings\n",
            "        Power Management                  : Supported\n",
            "        Power Draw                        : 31.17 W\n",
            "        Power Limit                       : 149.00 W\n",
            "        Default Power Limit               : 149.00 W\n",
            "        Enforced Power Limit              : 149.00 W\n",
            "        Min Power Limit                   : 100.00 W\n",
            "        Max Power Limit                   : 175.00 W\n",
            "    Clocks\n",
            "        Graphics                          : 324 MHz\n",
            "        SM                                : 324 MHz\n",
            "        Memory                            : 324 MHz\n",
            "        Video                             : 405 MHz\n",
            "    Applications Clocks\n",
            "        Graphics                          : 562 MHz\n",
            "        Memory                            : 2505 MHz\n",
            "    Default Applications Clocks\n",
            "        Graphics                          : 562 MHz\n",
            "        Memory                            : 2505 MHz\n",
            "    Max Clocks\n",
            "        Graphics                          : 875 MHz\n",
            "        SM                                : 875 MHz\n",
            "        Memory                            : 2505 MHz\n",
            "        Video                             : 540 MHz\n",
            "    Max Customer Boost Clocks\n",
            "        Graphics                          : N/A\n",
            "    Clock Policy\n",
            "        Auto Boost                        : On\n",
            "        Auto Boost Default                : On\n",
            "    Voltage\n",
            "        Graphics                          : Uninitialized\n",
            "    Processes                             : None\n",
            "\n"
          ]
        }
      ]
    },
    {
      "cell_type": "code",
      "metadata": {
        "colab": {
          "base_uri": "https://localhost:8080/"
        },
        "id": "dP2wChhOjw3N",
        "outputId": "569c2621-390f-49f0-df13-d11667baea0c"
      },
      "source": [
        "!nvidia-smi --query-gpu=timestamp,name,pci.bus_id,driver_version,pstate,pcie.link.gen.max,pcie.link.gen.current,temperature.gpu,utilization.gpu,utilization.memory,memory.total,memory.free,memory.used --format=csv -l 5\n"
      ],
      "execution_count": 14,
      "outputs": [
        {
          "output_type": "stream",
          "name": "stdout",
          "text": [
            "timestamp, name, pci.bus_id, driver_version, pstate, pcie.link.gen.max, pcie.link.gen.current, temperature.gpu, utilization.gpu [%], utilization.memory [%], memory.total [MiB], memory.free [MiB], memory.used [MiB]\n",
            "2021/11/17 20:25:05.614, Tesla K80, 00000000:00:04.0, 460.32.03, P8, 3, 1, 64, 0 %, 0 %, 11441 MiB, 11441 MiB, 0 MiB\n",
            "2021/11/17 20:25:10.616, Tesla K80, 00000000:00:04.0, 460.32.03, P8, 3, 1, 64, 0 %, 0 %, 11441 MiB, 11441 MiB, 0 MiB\n",
            "2021/11/17 20:25:15.617, Tesla K80, 00000000:00:04.0, 460.32.03, P8, 3, 1, 64, 0 %, 0 %, 11441 MiB, 11441 MiB, 0 MiB\n",
            "2021/11/17 20:25:20.618, Tesla K80, 00000000:00:04.0, 460.32.03, P8, 3, 1, 64, 0 %, 0 %, 11441 MiB, 11441 MiB, 0 MiB\n",
            "2021/11/17 20:25:25.619, Tesla K80, 00000000:00:04.0, 460.32.03, P8, 3, 1, 64, 0 %, 0 %, 11441 MiB, 11441 MiB, 0 MiB\n",
            "2021/11/17 20:25:30.620, Tesla K80, 00000000:00:04.0, 460.32.03, P8, 3, 1, 64, 0 %, 0 %, 11441 MiB, 11441 MiB, 0 MiB\n",
            "2021/11/17 20:25:35.622, Tesla K80, 00000000:00:04.0, 460.32.03, P8, 3, 1, 64, 0 %, 0 %, 11441 MiB, 11441 MiB, 0 MiB\n"
          ]
        }
      ]
    },
    {
      "cell_type": "code",
      "metadata": {
        "colab": {
          "base_uri": "https://localhost:8080/"
        },
        "id": "5LEfLSaalauT",
        "outputId": "fb18e25f-d8f6-4893-d2f6-e4fd5eb8ba41"
      },
      "source": [
        "!nvidia-smi --list-gpus"
      ],
      "execution_count": 15,
      "outputs": [
        {
          "output_type": "stream",
          "name": "stdout",
          "text": [
            "GPU 0: Tesla K80 (UUID: GPU-d94dd19f-77c6-9cca-19d3-58092904459f)\n"
          ]
        }
      ]
    },
    {
      "cell_type": "code",
      "metadata": {
        "colab": {
          "base_uri": "https://localhost:8080/"
        },
        "id": "j73wYALjlzaS",
        "outputId": "8fed9ca9-bdc7-4881-a53e-09c6206cb556"
      },
      "source": [
        "!nvidia-smi mig --list-gpu-instance-profiles"
      ],
      "execution_count": 17,
      "outputs": [
        {
          "output_type": "stream",
          "name": "stdout",
          "text": [
            "No MIG-enabled devices found.\n"
          ]
        }
      ]
    }
  ]
}