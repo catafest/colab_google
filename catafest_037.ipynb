{
  "nbformat": 4,
  "nbformat_minor": 0,
  "metadata": {
    "colab": {
      "provenance": [],
      "authorship_tag": "ABX9TyNZ7AcL3SiLWatnlSjZG0ef",
      "include_colab_link": true
    },
    "kernelspec": {
      "name": "python3",
      "display_name": "Python 3"
    },
    "language_info": {
      "name": "python"
    },
    "accelerator": "TPU",
    "gpuClass": "standard"
  },
  "cells": [
    {
      "cell_type": "markdown",
      "metadata": {
        "id": "view-in-github",
        "colab_type": "text"
      },
      "source": [
        "<a href=\"https://colab.research.google.com/github/catafest/colab_google/blob/master/catafest_037.ipynb\" target=\"_parent\"><img src=\"https://colab.research.google.com/assets/colab-badge.svg\" alt=\"Open In Colab\"/></a>"
      ]
    },
    {
      "cell_type": "markdown",
      "source": [
        "If you set the TPU device for your colab notebook from **Runtime > Change runtime type > Hardware accelerator > TPU** then is no need to install with **pip tool** the tensorflow python module."
      ],
      "metadata": {
        "id": "WRr3AyLEHN5Q"
      }
    },
    {
      "cell_type": "code",
      "source": [
        "import tensorflow as tf\n",
        "import os\n",
        "import tensorflow_datasets as tfds"
      ],
      "metadata": {
        "id": "HJEFRIj7G318"
      },
      "execution_count": null,
      "outputs": []
    },
    {
      "cell_type": "markdown",
      "source": [
        "*Keras is the high-level API of TensorFlow 2: an approachable, highly-productive interface for solving machine learning problems, with a focus on modern deep learning. It provides essential abstractions and building blocks for developing and shipping machine learning solutions with high iteration velocity.*\n",
        "Let's test on optimizer from keras. \n"
      ],
      "metadata": {
        "id": "yft3pk0HHfoJ"
      }
    },
    {
      "cell_type": "markdown",
      "source": [
        "Using the basic model architecture Sequential I train a basic **model** with data : \n",
        "\n",
        "`tf.random.normal((1000, 5))`\n",
        "\n",
        "In Keras, **model.compile** is a method that configures the learning process of a model. It takes three important arguments:\n",
        "\n",
        "**optimizer**: This argument specifies the optimizer used for training the model, such as Stochastic Gradient Descent (SGD), Adam, or Adagrad.\n",
        "\n",
        "**loss**: This argument specifies the loss function used to evaluate the performance of the model. Examples of loss functions include mean squared error, categorical cross-entropy, and binary cross-entropy.\n",
        "\n",
        "**metrics**: This argument specifies the evaluation metric used to judge the quality of the model's predictions during training and testing. Examples of metrics include accuracy, precision, and recall."
      ],
      "metadata": {
        "id": "X_12DvJtLMyh"
      }
    },
    {
      "cell_type": "code",
      "source": [
        "# define the model architecture\n",
        "model = tf.keras.Sequential([\n",
        "    tf.keras.layers.Dense(10, input_shape=(5,), activation='relu'),\n",
        "    tf.keras.layers.Dense(1, activation='sigmoid')\n",
        "])\n",
        "\n",
        "# compile the model with an optimizer, a loss function, and a metric\n",
        "optimizer = tf.keras.optimizers.SGD(learning_rate=0.01)\n",
        "loss_fn = tf.keras.losses.BinaryCrossentropy()\n",
        "metrics = [tf.keras.metrics.BinaryAccuracy()]\n",
        "\n",
        "model.compile(optimizer=optimizer, loss=loss_fn, metrics=metrics)\n",
        "\n",
        "# train the model on some data\n",
        "x_train = tf.random.normal((1000, 5))\n",
        "print(\"x_train : \",x_train)\n",
        "y_train = tf.random.uniform((1000, 1), minval=0, maxval=2, dtype=tf.int32)\n",
        "model.fit(x_train, y_train, epochs=10, batch_size=32)\n",
        "#print(\"y_train : \",y_train) \n",
        "#y_train :  tf.Tensor([[1] [0] [0] ..."
      ],
      "metadata": {
        "colab": {
          "base_uri": "https://localhost:8080/"
        },
        "id": "gpHNd15wHLx_",
        "outputId": "ff394d1c-26c1-438b-8fbc-5018a6b5cfdd"
      },
      "execution_count": null,
      "outputs": [
        {
          "output_type": "stream",
          "name": "stdout",
          "text": [
            "x_train :  tf.Tensor(\n",
            "[[ 0.9437875  -1.175582    0.4352783  -0.3842272  -0.9783649 ]\n",
            " [ 0.7195584  -0.7591996   1.3462368   0.8319625   0.7515625 ]\n",
            " [-0.4320674   0.3568053  -0.22778086  0.34535506 -0.5609262 ]\n",
            " ...\n",
            " [-0.49610403 -0.5109574   0.24627769 -1.1905332  -0.23388018]\n",
            " [-0.16958141  2.0091386   1.1448544  -0.10147487  1.1585898 ]\n",
            " [-1.2264752  -0.5240709   0.03711427  1.3515667   0.27160376]], shape=(1000, 5), dtype=float32)\n",
            "Epoch 1/10\n",
            "32/32 [==============================] - 1s 3ms/step - loss: 0.7949 - binary_accuracy: 0.4740\n",
            "Epoch 2/10\n",
            "32/32 [==============================] - 0s 3ms/step - loss: 0.7726 - binary_accuracy: 0.4770\n",
            "Epoch 3/10\n",
            "32/32 [==============================] - 0s 2ms/step - loss: 0.7574 - binary_accuracy: 0.4760\n",
            "Epoch 4/10\n",
            "32/32 [==============================] - 0s 2ms/step - loss: 0.7466 - binary_accuracy: 0.4820\n",
            "Epoch 5/10\n",
            "32/32 [==============================] - 0s 2ms/step - loss: 0.7389 - binary_accuracy: 0.4820\n",
            "Epoch 6/10\n",
            "32/32 [==============================] - 0s 2ms/step - loss: 0.7330 - binary_accuracy: 0.4820\n",
            "Epoch 7/10\n",
            "32/32 [==============================] - 0s 2ms/step - loss: 0.7281 - binary_accuracy: 0.4750\n",
            "Epoch 8/10\n",
            "32/32 [==============================] - 0s 2ms/step - loss: 0.7245 - binary_accuracy: 0.4640\n",
            "Epoch 9/10\n",
            "32/32 [==============================] - 0s 2ms/step - loss: 0.7212 - binary_accuracy: 0.4620\n",
            "Epoch 10/10\n",
            "32/32 [==============================] - 0s 2ms/step - loss: 0.7185 - binary_accuracy: 0.4700\n"
          ]
        },
        {
          "output_type": "execute_result",
          "data": {
            "text/plain": [
              "<keras.callbacks.History at 0x7f08f7992220>"
            ]
          },
          "metadata": {},
          "execution_count": 34
        }
      ]
    },
    {
      "cell_type": "markdown",
      "source": [
        "I can evaluate this model using:\n",
        " `model.evaluate`"
      ],
      "metadata": {
        "id": "VfQLwgldLpTw"
      }
    },
    {
      "cell_type": "code",
      "source": [
        "# Test the model on some new data\n",
        "x_test = tf.random.normal((10, 5))\n",
        "y_test = tf.random.uniform((10, 1), minval=0, maxval=2, dtype=tf.int32)\n",
        "\n",
        "# Evaluate the model on the test data\n",
        "test_loss, test_acc = model.evaluate(x_test, y_test)\n",
        "\n",
        "# Print result\n",
        "print('Test accuracy:', test_acc)\n",
        "print(\"Test Loss:\", test_loss)\n",
        "\n"
      ],
      "metadata": {
        "colab": {
          "base_uri": "https://localhost:8080/"
        },
        "id": "QKgwr_AkIKYV",
        "outputId": "c1cd24b0-c418-4777-858d-eda5b6f23b7e"
      },
      "execution_count": null,
      "outputs": [
        {
          "output_type": "stream",
          "name": "stderr",
          "text": [
            "WARNING:tensorflow:6 out of the last 7 calls to <function Model.make_test_function.<locals>.test_function at 0x7f08f7b23ca0> triggered tf.function retracing. Tracing is expensive and the excessive number of tracings could be due to (1) creating @tf.function repeatedly in a loop, (2) passing tensors with different shapes, (3) passing Python objects instead of tensors. For (1), please define your @tf.function outside of the loop. For (2), @tf.function has reduce_retracing=True option that can avoid unnecessary retracing. For (3), please refer to https://www.tensorflow.org/guide/function#controlling_retracing and https://www.tensorflow.org/api_docs/python/tf/function for  more details.\n"
          ]
        },
        {
          "output_type": "stream",
          "name": "stdout",
          "text": [
            "1/1 [==============================] - 0s 133ms/step - loss: 0.7285 - binary_accuracy: 0.5000\n",
            "Test accuracy: 0.5\n",
            "Test Loss: 0.7285147309303284\n"
          ]
        }
      ]
    },
    {
      "cell_type": "code",
      "source": [
        "print(dir(tf.keras.optimizers))"
      ],
      "metadata": {
        "colab": {
          "base_uri": "https://localhost:8080/"
        },
        "id": "3YOK40eCK1DH",
        "outputId": "f87ac0af-c369-45b2-8178-a1caedb2935b"
      },
      "execution_count": null,
      "outputs": [
        {
          "output_type": "stream",
          "name": "stdout",
          "text": [
            "['Adadelta', 'Adagrad', 'Adam', 'Adamax', 'Ftrl', 'Nadam', 'Optimizer', 'RMSprop', 'SGD', '__builtins__', '__cached__', '__doc__', '__file__', '__loader__', '__name__', '__package__', '__path__', '__spec__', '_sys', 'deserialize', 'experimental', 'get', 'legacy', 'schedules', 'serialize']\n"
          ]
        }
      ]
    },
    {
      "cell_type": "code",
      "source": [
        "# define the model architecture\n",
        "model = tf.keras.Sequential([\n",
        "    tf.keras.layers.Dense(10, input_shape=(5,), activation='relu'),\n",
        "    tf.keras.layers.Dense(1, activation='sigmoid')\n",
        "])\n",
        "\n"
      ],
      "metadata": {
        "id": "JjtdSkCEJuFK"
      },
      "execution_count": null,
      "outputs": []
    },
    {
      "cell_type": "code",
      "source": [
        "# compile the model with AdaFactor optimizer and binary cross-entropy loss\n",
        "model.compile(optimizer=tf.keras.optimizers.Adadelta(),\n",
        "              loss=tf.keras.losses.BinaryCrossentropy(),\n",
        "              metrics=['accuracy'])\n",
        "\n",
        "# generate random data for training\n",
        "x_train = tf.random.normal((1000, 5))\n",
        "y_train = tf.random.uniform((1000, 1), minval=0, maxval=2, dtype=tf.int32)\n",
        "\n",
        "# train the model on the data\n",
        "model.fit(x_train, y_train, epochs=10, batch_size=32)"
      ],
      "metadata": {
        "colab": {
          "base_uri": "https://localhost:8080/"
        },
        "id": "tuyxJvv6LCRI",
        "outputId": "cd88d3b8-cef6-4186-c2a5-439f9a5f29a7"
      },
      "execution_count": null,
      "outputs": [
        {
          "output_type": "stream",
          "name": "stdout",
          "text": [
            "Epoch 1/10\n",
            "32/32 [==============================] - 1s 2ms/step - loss: 0.7703 - accuracy: 0.4860\n",
            "Epoch 2/10\n",
            "32/32 [==============================] - 0s 2ms/step - loss: 0.7703 - accuracy: 0.4860\n",
            "Epoch 3/10\n",
            "32/32 [==============================] - 0s 2ms/step - loss: 0.7702 - accuracy: 0.4860\n",
            "Epoch 4/10\n",
            "32/32 [==============================] - 0s 2ms/step - loss: 0.7702 - accuracy: 0.4870\n",
            "Epoch 5/10\n",
            "32/32 [==============================] - 0s 2ms/step - loss: 0.7702 - accuracy: 0.4870\n",
            "Epoch 6/10\n",
            "32/32 [==============================] - 0s 2ms/step - loss: 0.7701 - accuracy: 0.4870\n",
            "Epoch 7/10\n",
            "32/32 [==============================] - 0s 2ms/step - loss: 0.7701 - accuracy: 0.4870\n",
            "Epoch 8/10\n",
            "32/32 [==============================] - 0s 2ms/step - loss: 0.7701 - accuracy: 0.4870\n",
            "Epoch 9/10\n",
            "32/32 [==============================] - 0s 2ms/step - loss: 0.7700 - accuracy: 0.4870\n",
            "Epoch 10/10\n",
            "32/32 [==============================] - 0s 2ms/step - loss: 0.7700 - accuracy: 0.4870\n"
          ]
        },
        {
          "output_type": "execute_result",
          "data": {
            "text/plain": [
              "<keras.callbacks.History at 0x7f08f78ad250>"
            ]
          },
          "metadata": {},
          "execution_count": 38
        }
      ]
    },
    {
      "cell_type": "code",
      "source": [
        "# Test the model on some new data\n",
        "x_test = tf.random.normal((10, 5))\n",
        "y_test = tf.random.uniform((10, 1), minval=0, maxval=2, dtype=tf.int32)\n",
        "\n",
        "# Evaluate the model on the test data\n",
        "test_loss, test_acc = model.evaluate(x_test, y_test)\n",
        "\n",
        "# Print result\n",
        "print('Test accuracy:', test_acc)\n",
        "print(\"Test Loss:\", test_loss)"
      ],
      "metadata": {
        "colab": {
          "base_uri": "https://localhost:8080/"
        },
        "id": "b5hztJ_BLIeu",
        "outputId": "2491f6fe-abbc-4814-9608-8731a9b683ed"
      },
      "execution_count": null,
      "outputs": [
        {
          "output_type": "stream",
          "name": "stdout",
          "text": [
            "1/1 [==============================] - 0s 124ms/step - loss: 0.7483 - accuracy: 0.4000\n",
            "Test accuracy: 0.4000000059604645\n",
            "Test Loss: 0.7483202815055847\n"
          ]
        }
      ]
    },
    {
      "cell_type": "markdown",
      "source": [
        "This source code let you use the last tensorflow implementation for **Adafactor** optimizer "
      ],
      "metadata": {
        "id": "KpHguz0CRwH8"
      }
    },
    {
      "cell_type": "code",
      "source": [
        "import tensorflow as tf\n",
        "# create an Adafactor optimizer\n",
        "opt = tf.keras.optimizers.experimental.Adafactor(learning_rate=0.001)\n",
        "\n",
        "# define the model architecture\n",
        "model = tf.keras.Sequential([\n",
        "    tf.keras.layers.Dense(10, input_shape=(5,), activation='relu'),\n",
        "    tf.keras.layers.Dense(1, activation='sigmoid')\n",
        "])\n",
        "# compile the model with the Adafactor optimizer\n",
        "model.compile(optimizer=opt, loss='binary_crossentropy', metrics=['accuracy'])\n",
        "\n",
        "# train the model on some data\n",
        "x_train = tf.random.normal((1000, 5))\n",
        "y_train = tf.random.uniform((1000, 1), minval=0, maxval=2, dtype=tf.int32)\n",
        "model.fit(x_train, y_train, epochs=10, batch_size=32)\n",
        "# Test the model on some new data\n",
        "x_test = tf.random.normal((10, 5))\n",
        "y_test = tf.random.uniform((10, 1), minval=0, maxval=2, dtype=tf.int32)\n",
        "\n",
        "# Evaluate the model on the test data\n",
        "test_loss, test_acc = model.evaluate(x_test, y_test)\n",
        "\n",
        "# Print result\n",
        "print('Test accuracy:', test_acc)\n",
        "print(\"Test Loss:\", test_loss)"
      ],
      "metadata": {
        "colab": {
          "base_uri": "https://localhost:8080/"
        },
        "id": "fcnC4D9GTJdx",
        "outputId": "7719dad6-6add-4f7a-aef0-ec031c70a688"
      },
      "execution_count": null,
      "outputs": [
        {
          "output_type": "stream",
          "name": "stdout",
          "text": [
            "Epoch 1/10\n",
            "32/32 [==============================] - 4s 11ms/step - loss: 0.7254 - accuracy: 0.4970\n",
            "Epoch 2/10\n",
            "32/32 [==============================] - 0s 10ms/step - loss: 0.7217 - accuracy: 0.5000\n",
            "Epoch 3/10\n",
            "32/32 [==============================] - 0s 9ms/step - loss: 0.7184 - accuracy: 0.5040\n",
            "Epoch 4/10\n",
            "32/32 [==============================] - 1s 22ms/step - loss: 0.7154 - accuracy: 0.5070\n",
            "Epoch 5/10\n",
            "32/32 [==============================] - 0s 9ms/step - loss: 0.7128 - accuracy: 0.5080\n",
            "Epoch 6/10\n",
            "32/32 [==============================] - 0s 14ms/step - loss: 0.7106 - accuracy: 0.5060\n",
            "Epoch 7/10\n",
            "32/32 [==============================] - 1s 19ms/step - loss: 0.7086 - accuracy: 0.5100\n",
            "Epoch 8/10\n",
            "32/32 [==============================] - 0s 10ms/step - loss: 0.7067 - accuracy: 0.5080\n",
            "Epoch 9/10\n",
            "32/32 [==============================] - 0s 12ms/step - loss: 0.7052 - accuracy: 0.5110\n",
            "Epoch 10/10\n",
            "32/32 [==============================] - 1s 20ms/step - loss: 0.7036 - accuracy: 0.5130\n",
            "1/1 [==============================] - 1s 636ms/step - loss: 0.7729 - accuracy: 0.3000\n",
            "Test accuracy: 0.30000001192092896\n",
            "Test Loss: 0.7729243040084839\n"
          ]
        }
      ]
    },
    {
      "cell_type": "markdown",
      "source": [
        "The **wurlitzer** package is a tool for capturing and displaying the output of external processes in the Jupyter notebook interface or other Python environments. "
      ],
      "metadata": {
        "id": "jpMgHX5xRqF_"
      }
    },
    {
      "cell_type": "code",
      "source": [
        "!pip install wurlitzer"
      ],
      "metadata": {
        "colab": {
          "base_uri": "https://localhost:8080/"
        },
        "id": "2DwB4kwkROIq",
        "outputId": "9a77106c-af8e-43ec-e058-fe95707a9ad7"
      },
      "execution_count": null,
      "outputs": [
        {
          "output_type": "stream",
          "name": "stdout",
          "text": [
            "Looking in indexes: https://pypi.org/simple, https://us-python.pkg.dev/colab-wheels/public/simple/\n",
            "Collecting wurlitzer\n",
            "  Downloading wurlitzer-3.0.3-py3-none-any.whl (7.3 kB)\n",
            "Installing collected packages: wurlitzer\n",
            "Successfully installed wurlitzer-3.0.3\n"
          ]
        }
      ]
    },
    {
      "cell_type": "code",
      "source": [
        "import wurlitzer\n",
        "import subprocess\n",
        "\n",
        "with wurlitzer.sys_pipes():\n",
        "    # Run a command that produces C-level stdout/stderr output\n",
        "    output = subprocess.check_output(['ls', '-la'])\n",
        "    \n",
        "print(output.decode())\n",
        "with wurlitzer.sys_pipes():\n",
        "    # Run a command that produces C-level stdout/stderr output\n",
        "    output2 = subprocess.check_output(['uname', '-a'])\n",
        "print(output2.decode())"
      ],
      "metadata": {
        "colab": {
          "base_uri": "https://localhost:8080/"
        },
        "id": "1NdTWENpRL4Y",
        "outputId": "e69f2c37-be1d-475f-e08d-54f77ad1ea54"
      },
      "execution_count": null,
      "outputs": [
        {
          "output_type": "stream",
          "name": "stdout",
          "text": [
            "total 16\n",
            "drwxr-xr-x 1 root root 4096 Feb 23 14:38 .\n",
            "drwxr-xr-x 1 root root 4096 Feb 25 14:57 ..\n",
            "drwxr-xr-x 4 root root 4096 Feb 23 14:37 .config\n",
            "drwxr-xr-x 1 root root 4096 Feb 23 14:38 sample_data\n",
            "\n",
            "Linux f3139351f18b 5.10.147+ #1 SMP Sat Dec 10 16:00:40 UTC 2022 x86_64 x86_64 x86_64 GNU/Linux\n",
            "\n"
          ]
        }
      ]
    },
    {
      "cell_type": "markdown",
      "source": [
        "The other optimizers can be tested similarly:\n",
        "*   Stochastic Gradient Descent (SGD)\n",
        "*   Adam\n",
        "*   Adagrad\n",
        "*   Adadelta\n",
        "*   RMSprop\n",
        "\n",
        "... or the others added, see the new implementation:\n",
        "https://www.youtube.com/watch?v=ZWOccJ3LZAw "
      ],
      "metadata": {
        "id": "JK89mhsFAWjW"
      }
    }
  ]
}