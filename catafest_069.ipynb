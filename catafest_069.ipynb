{
  "nbformat": 4,
  "nbformat_minor": 0,
  "metadata": {
    "colab": {
      "provenance": [],
      "gpuType": "T4",
      "authorship_tag": "ABX9TyPGznzA537GbNkS4PcDi/VC",
      "include_colab_link": true
    },
    "kernelspec": {
      "name": "python3",
      "display_name": "Python 3"
    },
    "language_info": {
      "name": "python"
    },
    "accelerator": "GPU"
  },
  "cells": [
    {
      "cell_type": "markdown",
      "metadata": {
        "id": "view-in-github",
        "colab_type": "text"
      },
      "source": [
        "<a href=\"https://colab.research.google.com/github/catafest/colab_google/blob/master/catafest_069.ipynb\" target=\"_parent\"><img src=\"https://colab.research.google.com/assets/colab-badge.svg\" alt=\"Open In Colab\"/></a>"
      ]
    },
    {
      "cell_type": "markdown",
      "source": [
        "Test the GPU with : ``` !nvidia-smi ``` T4 GPU"
      ],
      "metadata": {
        "id": "0DGh0e4ezMiH"
      }
    },
    {
      "cell_type": "code",
      "source": [
        "!nvidia-smi"
      ],
      "metadata": {
        "id": "iodrCibhyzbG"
      },
      "execution_count": null,
      "outputs": []
    },
    {
      "cell_type": "markdown",
      "source": [
        "The model is stabilityai/stable-video-diffusion-img2vid-xt with float16 precision to optimize computation time"
      ],
      "metadata": {
        "id": "X-1YUQ_kyv0G"
      }
    },
    {
      "cell_type": "code",
      "source": [
        "import torch\n",
        "from diffusers import StableVideoDiffusionPipeline\n",
        "from diffusers.utils import load_image, export_to_video\n",
        "import cv2"
      ],
      "metadata": {
        "id": "UMbde-xovNBa"
      },
      "execution_count": null,
      "outputs": []
    },
    {
      "cell_type": "code",
      "source": [
        "pipe = StableVideoDiffusionPipeline.from_pretrained(\n",
        "    'stabilityai/stable-video-diffusion-img2vid-xt',\n",
        "    torch_dtype=torch.float16,\n",
        "    variant='fp16'\n",
        ")\n",
        "\n",
        "pipe.enable_model_cpu_offload()"
      ],
      "metadata": {
        "id": "Y5DPhqs1vRmx"
      },
      "execution_count": null,
      "outputs": []
    },
    {
      "cell_type": "code",
      "source": [
        "from google.colab import files\n",
        "from PIL import Image\n",
        "import matplotlib.pyplot as plt\n",
        "\n",
        "# Step 1: Upload the image\n",
        "uploaded = files.upload()\n",
        "\n",
        "# Step 2: Load and display the image\n",
        "for filename in uploaded.keys():\n",
        "    # Open the image using PIL\n",
        "    img = Image.open(filename)\n",
        "\n",
        "    # Display the image using Matplotlib\n",
        "    plt.imshow(img)\n",
        "    plt.axis('off')  # Hide axes for better visualization\n",
        "    plt.title(f\"Uploaded Image: {filename}\")\n",
        "    plt.show()\n"
      ],
      "metadata": {
        "id": "H1Qx-Bxgwfwq"
      },
      "execution_count": null,
      "outputs": []
    },
    {
      "cell_type": "code",
      "source": [
        "image = load_image(filename)\n",
        "\n",
        "# Resize the image to the appropriate dimensions\n",
        "# image = image.resize((640, 480))"
      ],
      "metadata": {
        "id": "qKEAQfiKvUHe"
      },
      "execution_count": null,
      "outputs": []
    },
    {
      "cell_type": "code",
      "source": [
        "# Set a generator to control randomness\n",
        "generator = torch.manual_seed(42)\n",
        "\n",
        "# Generate the video frames\n",
        "frames = pipe(image, decode_chunk_size=8, generator=generator).frames[0]"
      ],
      "metadata": {
        "id": "k1JZyKt-vXdH"
      },
      "execution_count": null,
      "outputs": []
    },
    {
      "cell_type": "code",
      "source": [
        "export_to_video(frames, 'image_video_001.mp4', fps=7)"
      ],
      "metadata": {
        "id": "wPGSepGNvZeW"
      },
      "execution_count": null,
      "outputs": []
    },
    {
      "cell_type": "code",
      "source": [
        "# After generating the video\n",
        "files.download(\"image_video_001.mp4\")"
      ],
      "metadata": {
        "id": "eV94_4zVyZ-v"
      },
      "execution_count": null,
      "outputs": []
    }
  ]
}