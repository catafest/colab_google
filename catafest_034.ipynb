{
  "nbformat": 4,
  "nbformat_minor": 0,
  "metadata": {
    "colab": {
      "provenance": [],
      "authorship_tag": "ABX9TyNAomNpHTvL0b8CVgjWaBOi",
      "include_colab_link": true
    },
    "kernelspec": {
      "name": "python3",
      "display_name": "Python 3"
    },
    "language_info": {
      "name": "python"
    }
  },
  "cells": [
    {
      "cell_type": "markdown",
      "metadata": {
        "id": "view-in-github",
        "colab_type": "text"
      },
      "source": [
        "<a href=\"https://colab.research.google.com/github/catafest/colab_google/blob/master/catafest_034.ipynb\" target=\"_parent\"><img src=\"https://colab.research.google.com/assets/colab-badge.svg\" alt=\"Open In Colab\"/></a>"
      ]
    },
    {
      "cell_type": "markdown",
      "source": [
        "  \\begin{array}{|c|c|c|c|c|c|c|c|}\\hline\\\\ \\\\\n",
        "  \\mathcal{} & \\mathcal{A} & \\mathcal{B} & \\mathcal{O} & o & \\Omega & \\omega & \\Theta \\\\ \\hline\\\\ \\\\\n",
        "  a & lg^kn & n^\\epsilon & yes\\; no & yes\\; no & yes\\; no & yes\\; no & yes\\; no \\\\ \\hline\\\\ \\\\\n",
        "  b & n^k & c^n & yes\\; no & yes\\; no & yes\\; no & yes\\; no & yes\\; no   \\\\ \\hline\\\\ \\\\\n",
        "  c & \\sqrt{n} & n^{sin n} & yes\\; no & yes\\; no & yes\\; no & yes\\; no & yes\\; no   \\\\ \\hline\\\\ \\\\\n",
        "  d & 2^n & 2^{n/2} & yes\\; no & yes\\; no & yes\\; no & yes\\; no & yes\\; no  \\\\ \\hline\\\\ \\\\\n",
        "  e & n^{lg c} & c^{lg n} & yes\\; no & yes\\; no & yes\\; no & yes\\; no & yes\\; no  \\\\ \\hline\\\\ \\\\\n",
        "  f & lg(n!) & lg(n^n) & yes\\; no & yes\\; no & yes\\; no & yes\\; no & yes\\; no \\\\ \\hline\\\\\n",
        "  \\end{array}\n",
        "  \n"
      ],
      "metadata": {
        "id": "PaCnkTeaqxlv"
      }
    }
  ]
}