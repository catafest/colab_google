{
  "nbformat": 4,
  "nbformat_minor": 0,
  "metadata": {
    "colab": {
      "provenance": [],
      "authorship_tag": "ABX9TyO5T9uFWJGUBrndL4ke/YzT",
      "include_colab_link": true
    },
    "kernelspec": {
      "name": "python3",
      "display_name": "Python 3"
    },
    "language_info": {
      "name": "python"
    }
  },
  "cells": [
    {
      "cell_type": "markdown",
      "metadata": {
        "id": "view-in-github",
        "colab_type": "text"
      },
      "source": [
        "<a href=\"https://colab.research.google.com/github/catafest/colab_google/blob/master/catafest_060.ipynb\" target=\"_parent\"><img src=\"https://colab.research.google.com/assets/colab-badge.svg\" alt=\"Open In Colab\"/></a>"
      ]
    },
    {
      "cell_type": "code",
      "execution_count": 1,
      "metadata": {
        "id": "y4I0NiEeaZ0L"
      },
      "outputs": [],
      "source": [
        "# import python modules\n",
        "import sys\n",
        "import json\n",
        "import urllib3\n",
        "import certifi\n",
        "import requests\n",
        "from time import sleep\n",
        "from http.cookiejar import CookieJar\n",
        "import urllib.request\n",
        "from urllib.parse import urlencode\n",
        "import getpass"
      ]
    },
    {
      "cell_type": "code",
      "source": [
        "# Create a urllib PoolManager instance to make requests.\n",
        "http = urllib3.PoolManager(cert_reqs='CERT_REQUIRED',ca_certs=certifi.where())\n",
        "# Set the URL for the GES DISC subset service endpoint\n",
        "url = 'https://disc.gsfc.nasa.gov/service/subset/jsonwsp'"
      ],
      "metadata": {
        "id": "hEgClHd7AGGE"
      },
      "execution_count": 2,
      "outputs": []
    },
    {
      "cell_type": "code",
      "source": [
        "def get_http_data(request):\n",
        "    hdrs = {'Content-Type': 'application/json',\n",
        "            'Accept'      : 'application/json'}\n",
        "    data = json.dumps(request)\n",
        "    r = http.request('POST', url, body=data, headers=hdrs)\n",
        "    response = json.loads(r.data)\n",
        "    # Check for errors\n",
        "    if response['type'] == 'jsonwsp/fault' :\n",
        "        print('API Error: faulty %s request' % response['methodname'])\n",
        "        sys.exit(1)\n",
        "    return response"
      ],
      "metadata": {
        "id": "DN0zEdniAIkb"
      },
      "execution_count": 3,
      "outputs": []
    },
    {
      "cell_type": "code",
      "source": [
        "# Define the parameters for the third subset example\n",
        "product = 'M2TMNXAER_5.12.4'\n",
        "varNames =['OCSMASS', 'BCSMASS', 'SO4SMASS', 'DUSMASS25', 'SSSMASS25']\n",
        "# my local area\n",
        "minlon = 26\n",
        "maxlon = 27\n",
        "minlat = 47\n",
        "maxlat = 48\n",
        "begTime = '2022-03'\n",
        "endTime = '2022-04'"
      ],
      "metadata": {
        "id": "n70r6RVGAPH1"
      },
      "execution_count": 4,
      "outputs": []
    },
    {
      "cell_type": "code",
      "source": [
        "# Construct JSON WSP request for API method: subset\n",
        "subset_request = {\n",
        "    'methodname': 'subset',\n",
        "    'type': 'jsonwsp/request',\n",
        "    'version': '1.0',\n",
        "    'args': {\n",
        "        'role'  : 'subset',\n",
        "        'start' : begTime,\n",
        "        'end'   : endTime,\n",
        "        'box'   : [minlon, minlat, maxlon, maxlat],\n",
        "        'crop'  : True,\n",
        "#        'mapping': interp,\n",
        "#        'grid'  : destGrid,\n",
        "        'data': [{'datasetId': product,\n",
        "                  'variable' : varNames[0]\n",
        "                 },\n",
        "                  {'datasetId': product,\n",
        "                  'variable' : varNames[1]\n",
        "                 },\n",
        "                 {'datasetId': product,\n",
        "                  'variable' : varNames[2]\n",
        "                 },\n",
        "                  {'datasetId': product,\n",
        "                  'variable' : varNames[3]\n",
        "                 },\n",
        "                 {'datasetId': product,\n",
        "                  'variable' : varNames[4]\n",
        "                 }]\n",
        "           }\n",
        "}"
      ],
      "metadata": {
        "id": "jsZQlTIQASrJ"
      },
      "execution_count": 5,
      "outputs": []
    },
    {
      "cell_type": "code",
      "source": [
        "# Submit the subset request to the GES DISC Server\n",
        "response = get_http_data(subset_request)\n",
        "# Report the JobID and initial status\n",
        "myJobId = response['result']['jobId']\n",
        "print('Job ID: '+myJobId)\n",
        "print('Job status: '+response['result']['Status'])"
      ],
      "metadata": {
        "colab": {
          "base_uri": "https://localhost:8080/"
        },
        "id": "ezO7r_6kAV2J",
        "outputId": "f79e941f-3db9-4b23-a2ca-e9f5f425f4f4"
      },
      "execution_count": 6,
      "outputs": [
        {
          "output_type": "stream",
          "name": "stdout",
          "text": [
            "Job ID: 66143e3c5a7cfcbade0aa947\n",
            "Job status: Accepted\n"
          ]
        }
      ]
    },
    {
      "cell_type": "code",
      "source": [
        "# Construct JSON WSP request for API method: GetStatus\n",
        "status_request = {\n",
        "    'methodname': 'GetStatus',\n",
        "    'version': '1.0',\n",
        "    'type': 'jsonwsp/request',\n",
        "    'args': {'jobId': myJobId}\n",
        "}\n",
        "\n",
        "# Check on the job status after a brief nap\n",
        "while response['result']['Status'] in ['Accepted', 'Running']:\n",
        "    sleep(5)\n",
        "    response = get_http_data(status_request)\n",
        "    status  = response['result']['Status']\n",
        "    percent = response['result']['PercentCompleted']\n",
        "    print ('Job status: %s (%d%c complete)' % (status,percent,'%'))\n",
        "if response['result']['Status'] == 'Succeeded' :\n",
        "    print ('Job Finished:  %s' % response['result']['message'])\n",
        "else :\n",
        "    print('Job Failed: %s' % response['fault']['code'])\n",
        "    sys.exit(1)"
      ],
      "metadata": {
        "colab": {
          "base_uri": "https://localhost:8080/"
        },
        "id": "8dIgMRXVAY5q",
        "outputId": "8b90847f-5db7-41b1-aa62-13f686b5168c"
      },
      "execution_count": 7,
      "outputs": [
        {
          "output_type": "stream",
          "name": "stdout",
          "text": [
            "Job status: Succeeded (100% complete)\n",
            "Job Finished:  Complete (M2TMNXAER_5.12.4)\n"
          ]
        }
      ]
    },
    {
      "cell_type": "code",
      "source": [
        "# Construct JSON WSP request for API method: GetResult\n",
        "batchsize = 20\n",
        "results_request = {\n",
        "    'methodname': 'GetResult',\n",
        "    'version': '1.0',\n",
        "    'type': 'jsonwsp/request',\n",
        "    'args': {\n",
        "        'jobId': myJobId,\n",
        "        'count': batchsize,\n",
        "        'startIndex': 0\n",
        "    }\n",
        "}\n",
        "\n",
        "# Retrieve the results in JSON in multiple batches\n",
        "# Initialize variables, then submit the first GetResults request\n",
        "# Add the results from this batch to the list and increment the count\n",
        "results = []\n",
        "count = 0\n",
        "response = get_http_data(results_request)\n",
        "count = count + response['result']['itemsPerPage']\n",
        "results.extend(response['result']['items'])\n",
        "\n",
        "# Increment the startIndex and keep asking for more results until we have them all\n",
        "total = response['result']['totalResults']\n",
        "while count < total :\n",
        "    results_request['args']['startIndex'] += batchsize\n",
        "    response = get_http_data(results_request)\n",
        "    count = count + response['result']['itemsPerPage']\n",
        "    results.extend(response['result']['items'])\n",
        "\n",
        "# Check on the bookkeeping\n",
        "print('Retrieved %d out of %d expected items' % (len(results), total))"
      ],
      "metadata": {
        "colab": {
          "base_uri": "https://localhost:8080/"
        },
        "id": "HCv5KHWIAcwC",
        "outputId": "1a26f8d0-b574-47e0-a7de-0dce64a4eac5"
      },
      "execution_count": 8,
      "outputs": [
        {
          "output_type": "stream",
          "name": "stdout",
          "text": [
            "Retrieved 3 out of 3 expected items\n"
          ]
        }
      ]
    },
    {
      "cell_type": "code",
      "source": [
        "# Sort the results into documents and URLs\n",
        "\n",
        "docs = []     # documentation\n",
        "urls = []     # data URLs\n",
        "for item in results :\n",
        "    try:\n",
        "        if item['start'] and item['end'] : urls.append(item)\n",
        "    except:\n",
        "        docs.append(item)\n",
        "# Print out the documentation links, but do not download them\n",
        "print('\\nDocumentation:')\n",
        "for item in docs : print(item['label']+': '+item['link'])"
      ],
      "metadata": {
        "colab": {
          "base_uri": "https://localhost:8080/"
        },
        "id": "TuFbhpAsAgPw",
        "outputId": "d93c9f43-5236-480f-d015-43d7d07f171b"
      },
      "execution_count": 9,
      "outputs": [
        {
          "output_type": "stream",
          "name": "stdout",
          "text": [
            "\n",
            "Documentation:\n",
            "README Document: https://goldsmr4.gesdisc.eosdis.nasa.gov/data/MERRA2_MONTHLY/M2TMNXAER.5.12.4/doc/MERRA2.README.pdf\n"
          ]
        }
      ]
    },
    {
      "cell_type": "code",
      "source": [
        "# Create a password manager to deal with the 401 response that is returned from\n",
        "# Earthdata Login\n",
        "\n",
        "username = input(\"Provide your EarthData userid: \")\n",
        "password = getpass.getpass(\"Provide your EarthData password: \")\n",
        "\n",
        "password_manager = urllib.request.HTTPPasswordMgrWithDefaultRealm()\n",
        "password_manager.add_password(None, \"https://urs.earthdata.nasa.gov\", username, password)\n",
        "\n",
        "# Create a cookie jar for storing cookies. This is used to store and return the session cookie #given to use by the data server\n",
        "cookie_jar = CookieJar()\n",
        "\n",
        "# Install all the handlers.\n",
        "opener = urllib.request.build_opener (urllib.request.HTTPBasicAuthHandler (password_manager),urllib.request.HTTPCookieProcessor (cookie_jar))\n",
        "urllib.request.install_opener(opener)\n",
        "\n",
        "# Open a request for the data, and download files\n",
        "print('\\nHTTP_services output:')\n",
        "for item in urls:\n",
        "    URL = item['link']\n",
        "    DataRequest = urllib.request.Request(URL)\n",
        "    DataResponse = urllib.request.urlopen(DataRequest)\n",
        "\n",
        "# Print out the result\n",
        "    DataBody = DataResponse.read()\n",
        "\n",
        "# Save file to working directory\n",
        "    try:\n",
        "        file_name = item['label']\n",
        "        file_ = open(file_name, 'wb')\n",
        "        file_.write(DataBody)\n",
        "        file_.close()\n",
        "        print (file_name, \"is downloaded\")\n",
        "    except requests.exceptions.HTTPError as e:\n",
        "         print(e)\n",
        "\n",
        "print('Downloading is done and find the downloaded files in your current working directory')"
      ],
      "metadata": {
        "colab": {
          "base_uri": "https://localhost:8080/"
        },
        "id": "2REQ9mGfHN3-",
        "outputId": "e4c92c78-70d6-4f5b-ca85-9f80e3a31b6b"
      },
      "execution_count": 10,
      "outputs": [
        {
          "output_type": "stream",
          "name": "stdout",
          "text": [
            "Provide your EarthData userid: catafest\n",
            "Provide your EarthData password: ··········\n",
            "\n",
            "HTTP_services output:\n",
            "MERRA2_400.tavgM_2d_aer_Nx.202203.nc4.nc4 is downloaded\n",
            "MERRA2_400.tavgM_2d_aer_Nx.202204.nc4.nc4 is downloaded\n",
            "Downloading is done and find the downloaded files in your current working directory\n"
          ]
        }
      ]
    },
    {
      "cell_type": "code",
      "source": [
        "!pwd\n",
        "!ls -l --block-size=M"
      ],
      "metadata": {
        "id": "CHnI9ca_HkEW",
        "colab": {
          "base_uri": "https://localhost:8080/"
        },
        "outputId": "9afdfe03-639a-4a4c-ea89-d78c1e5f47eb"
      },
      "execution_count": 11,
      "outputs": [
        {
          "output_type": "stream",
          "name": "stdout",
          "text": [
            "/content\n",
            "total 1M\n",
            "-rw-r--r-- 1 root root 1M Apr  8 18:58 MERRA2_400.tavgM_2d_aer_Nx.202203.nc4.nc4\n",
            "-rw-r--r-- 1 root root 1M Apr  8 18:58 MERRA2_400.tavgM_2d_aer_Nx.202204.nc4.nc4\n",
            "drwxr-xr-x 1 root root 1M Apr  5 13:21 sample_data\n"
          ]
        }
      ]
    }
  ]
}