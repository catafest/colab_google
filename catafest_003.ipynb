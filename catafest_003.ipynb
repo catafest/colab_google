{
  "nbformat": 4,
  "nbformat_minor": 0,
  "metadata": {
    "colab": {
      "name": "catafest_003.ipynb",
      "provenance": [],
      "collapsed_sections": [],
      "authorship_tag": "ABX9TyMwMR533Sg5VN+rICSekS9P",
      "include_colab_link": true
    },
    "kernelspec": {
      "name": "python3",
      "display_name": "Python 3"
    }
  },
  "cells": [
    {
      "cell_type": "markdown",
      "metadata": {
        "id": "view-in-github",
        "colab_type": "text"
      },
      "source": [
        "<a href=\"https://colab.research.google.com/github/catafest/colab_google/blob/master/catafest_003.ipynb\" target=\"_parent\"><img src=\"https://colab.research.google.com/assets/colab-badge.svg\" alt=\"Open In Colab\"/></a>"
      ]
    },
    {
      "cell_type": "markdown",
      "metadata": {
        "id": "ia8YEFa2x9iZ",
        "colab_type": "text"
      },
      "source": [
        "# Introduction to Altair.\n",
        "\n",
        "[Altair](https://altair-viz.github.io/) is a declarative statistical visualization library for Python. Altair offers a powerful and concise visualization grammar for quickly building a wide range of statistical graphics.\n",
        "Let's test this python module.\n",
        "\n",
        "See [all example](https://altair-viz.github.io/gallery/index.html)."
      ]
    },
    {
      "cell_type": "code",
      "metadata": {
        "id": "6EU-8Nijx3n4",
        "colab_type": "code",
        "colab": {}
      },
      "source": [
        "import pandas as pd\n",
        "import altair as alt\n",
        "import xarray as xr"
      ],
      "execution_count": 0,
      "outputs": []
    },
    {
      "cell_type": "markdown",
      "metadata": {
        "id": "uJJTJ5SkynsR",
        "colab_type": "text"
      },
      "source": [
        "Now I can create graphics for any datasets.\n",
        "Let's make an histogram."
      ]
    },
    {
      "cell_type": "code",
      "metadata": {
        "id": "PokrMHhzyMnO",
        "colab_type": "code",
        "outputId": "b9796325-b4c0-428f-c6dd-8bef695a460f",
        "colab": {
          "base_uri": "https://localhost:8080/",
          "height": 365
        }
      },
      "source": [
        "data = pd.DataFrame({'x': ['A', 'B', 'C'],\n",
        "                     'y': [1, 2, 3]})\n",
        "alt.Chart(data).mark_bar().encode(\n",
        "    x='x',\n",
        "    y='y',\n",
        ")\n"
      ],
      "execution_count": 0,
      "outputs": [
        {
          "output_type": "execute_result",
          "data": {
            "text/plain": [
              "alt.Chart(...)"
            ],
            "text/html": [
              "\n",
              "<div id=\"altair-viz-bf6286cfa19643ce864ad96d74a927c9\"></div>\n",
              "<script type=\"text/javascript\">\n",
              "  (function(spec, embedOpt){\n",
              "    const outputDiv = document.getElementById(\"altair-viz-bf6286cfa19643ce864ad96d74a927c9\");\n",
              "    const paths = {\n",
              "      \"vega\": \"https://cdn.jsdelivr.net/npm//vega@5?noext\",\n",
              "      \"vega-lib\": \"https://cdn.jsdelivr.net/npm//vega-lib?noext\",\n",
              "      \"vega-lite\": \"https://cdn.jsdelivr.net/npm//vega-lite@4.0.2?noext\",\n",
              "      \"vega-embed\": \"https://cdn.jsdelivr.net/npm//vega-embed@6?noext\",\n",
              "    };\n",
              "\n",
              "    function loadScript(lib) {\n",
              "      return new Promise(function(resolve, reject) {\n",
              "        var s = document.createElement('script');\n",
              "        s.src = paths[lib];\n",
              "        s.async = true;\n",
              "        s.onload = () => resolve(paths[lib]);\n",
              "        s.onerror = () => reject(`Error loading script: ${paths[lib]}`);\n",
              "        document.getElementsByTagName(\"head\")[0].appendChild(s);\n",
              "      });\n",
              "    }\n",
              "\n",
              "    function showError(err) {\n",
              "      outputDiv.innerHTML = `<div class=\"error\" style=\"color:red;\">${err}</div>`;\n",
              "      throw err;\n",
              "    }\n",
              "\n",
              "    function displayChart(vegaEmbed) {\n",
              "      vegaEmbed(outputDiv, spec, embedOpt)\n",
              "        .catch(err => showError(`Javascript Error: ${err.message}<br>This usually means there's a typo in your chart specification. See the javascript console for the full traceback.`));\n",
              "    }\n",
              "\n",
              "    if(typeof define === \"function\" && define.amd) {\n",
              "      requirejs.config({paths});\n",
              "      require([\"vega-embed\"], displayChart, err => showError(`Error loading script: ${err.message}`));\n",
              "    } else if (typeof vegaEmbed === \"function\") {\n",
              "      displayChart(vegaEmbed);\n",
              "    } else {\n",
              "      loadScript(\"vega\")\n",
              "        .then(() => loadScript(\"vega-lite\"))\n",
              "        .then(() => loadScript(\"vega-embed\"))\n",
              "        .catch(showError)\n",
              "        .then(() => displayChart(vegaEmbed));\n",
              "    }\n",
              "  })({\"config\": {\"view\": {\"continuousWidth\": 400, \"continuousHeight\": 300}}, \"data\": {\"name\": \"data-54c0fd3b41f4bc7e8eb0bb37a8bb28ff\"}, \"mark\": \"bar\", \"encoding\": {\"x\": {\"type\": \"nominal\", \"field\": \"x\"}, \"y\": {\"type\": \"quantitative\", \"field\": \"y\"}}, \"$schema\": \"https://vega.github.io/schema/vega-lite/v4.0.2.json\", \"datasets\": {\"data-54c0fd3b41f4bc7e8eb0bb37a8bb28ff\": [{\"x\": \"A\", \"y\": 1}, {\"x\": \"B\", \"y\": 2}, {\"x\": \"C\", \"y\": 3}]}}, {\"mode\": \"vega-lite\"});\n",
              "</script>"
            ]
          },
          "metadata": {
            "tags": []
          },
          "execution_count": 8
        }
      ]
    },
    {
      "cell_type": "code",
      "metadata": {
        "id": "fdwyywQb5-TB",
        "colab_type": "code",
        "outputId": "4c9b9b87-cfbd-4dd7-d301-59bd3e349384",
        "colab": {
          "base_uri": "https://localhost:8080/",
          "height": 368
        }
      },
      "source": [
        "import altair as alt\n",
        "\n",
        "# Note that the following generator is functionally similar to\n",
        "# data = pd.DataFrame({'x': np.arange(0, 10, 0.1)})\n",
        "data = alt.sequence(0, 6, 0.1, as_='x')\n",
        "\n",
        "alt.Chart(data).transform_calculate(\n",
        "    y='sin(datum.x)'\n",
        ").mark_line().encode(\n",
        "    x='x:Q',\n",
        "    y='y:Q',\n",
        ")"
      ],
      "execution_count": 0,
      "outputs": [
        {
          "output_type": "execute_result",
          "data": {
            "text/plain": [
              "alt.Chart(...)"
            ],
            "text/html": [
              "\n",
              "<div id=\"altair-viz-ce2b7906c18e43b0afd2430b00d642e2\"></div>\n",
              "<script type=\"text/javascript\">\n",
              "  (function(spec, embedOpt){\n",
              "    const outputDiv = document.getElementById(\"altair-viz-ce2b7906c18e43b0afd2430b00d642e2\");\n",
              "    const paths = {\n",
              "      \"vega\": \"https://cdn.jsdelivr.net/npm//vega@5?noext\",\n",
              "      \"vega-lib\": \"https://cdn.jsdelivr.net/npm//vega-lib?noext\",\n",
              "      \"vega-lite\": \"https://cdn.jsdelivr.net/npm//vega-lite@4.0.2?noext\",\n",
              "      \"vega-embed\": \"https://cdn.jsdelivr.net/npm//vega-embed@6?noext\",\n",
              "    };\n",
              "\n",
              "    function loadScript(lib) {\n",
              "      return new Promise(function(resolve, reject) {\n",
              "        var s = document.createElement('script');\n",
              "        s.src = paths[lib];\n",
              "        s.async = true;\n",
              "        s.onload = () => resolve(paths[lib]);\n",
              "        s.onerror = () => reject(`Error loading script: ${paths[lib]}`);\n",
              "        document.getElementsByTagName(\"head\")[0].appendChild(s);\n",
              "      });\n",
              "    }\n",
              "\n",
              "    function showError(err) {\n",
              "      outputDiv.innerHTML = `<div class=\"error\" style=\"color:red;\">${err}</div>`;\n",
              "      throw err;\n",
              "    }\n",
              "\n",
              "    function displayChart(vegaEmbed) {\n",
              "      vegaEmbed(outputDiv, spec, embedOpt)\n",
              "        .catch(err => showError(`Javascript Error: ${err.message}<br>This usually means there's a typo in your chart specification. See the javascript console for the full traceback.`));\n",
              "    }\n",
              "\n",
              "    if(typeof define === \"function\" && define.amd) {\n",
              "      requirejs.config({paths});\n",
              "      require([\"vega-embed\"], displayChart, err => showError(`Error loading script: ${err.message}`));\n",
              "    } else if (typeof vegaEmbed === \"function\") {\n",
              "      displayChart(vegaEmbed);\n",
              "    } else {\n",
              "      loadScript(\"vega\")\n",
              "        .then(() => loadScript(\"vega-lite\"))\n",
              "        .then(() => loadScript(\"vega-embed\"))\n",
              "        .catch(showError)\n",
              "        .then(() => displayChart(vegaEmbed));\n",
              "    }\n",
              "  })({\"config\": {\"view\": {\"continuousWidth\": 400, \"continuousHeight\": 300}}, \"data\": {\"sequence\": {\"start\": 0, \"stop\": 6, \"step\": 0.1, \"as\": \"x\"}}, \"mark\": \"line\", \"encoding\": {\"x\": {\"type\": \"quantitative\", \"field\": \"x\"}, \"y\": {\"type\": \"quantitative\", \"field\": \"y\"}}, \"transform\": [{\"calculate\": \"sin(datum.x)\", \"as\": \"y\"}], \"$schema\": \"https://vega.github.io/schema/vega-lite/v4.0.2.json\"}, {\"mode\": \"vega-lite\"});\n",
              "</script>"
            ]
          },
          "metadata": {
            "tags": []
          },
          "execution_count": 14
        }
      ]
    },
    {
      "cell_type": "markdown",
      "metadata": {
        "id": "A9k2t75zCVRJ",
        "colab_type": "text"
      },
      "source": [
        "You can use also these maps:\n",
        "\n",
        "['albers', 'albersUsa', 'azimuthalEqualArea', 'azimuthalEquidistant', 'conicConformal', 'conicEqualArea', 'conicEquidistant', 'equalEarth', 'equirectangular', 'gnomonic', 'identity', 'mercator', 'naturalEarth1', 'orthographic', 'stereographic', 'transverseMercator']\n",
        "\n"
      ]
    },
    {
      "cell_type": "code",
      "metadata": {
        "id": "Fe1d2nwCPChV",
        "colab_type": "code",
        "outputId": "8f5c466c-8a98-47ba-e431-f538127561de",
        "colab": {
          "base_uri": "https://localhost:8080/",
          "height": 1000
        }
      },
      "source": [
        "import altair as alt\n",
        "from vega_datasets import data\n",
        "world = data.world_110m.url\n",
        "print(world)\n",
        "\n",
        "sphere = alt.sphere()\n",
        "graticule = alt.graticule(step=[10, 10])\n",
        "lats = alt.sequence(start=-30, stop=71, step=10, as_='lats')\n",
        "lons = alt.sequence(start=-90, stop=91, step=10, as_='lons')\n",
        "\n",
        "width = 640\n",
        "height = 480\n",
        "\n",
        "# Source of land data\n",
        "source = alt.topo_feature(data.world_110m.url, 'countries')\n",
        "\n",
        "# Layering and configuring the components \n",
        "base = alt.layer(\n",
        "    alt.Chart(sphere).mark_geoshape(fill='none'), \n",
        "    alt.Chart(graticule).mark_geoshape(stroke='gray', strokeWidth=0.5), \n",
        "    alt.Chart(source).mark_geoshape(fill='lightgray', stroke='gray')    \n",
        ").properties(width=width, height=height)\n",
        "\n",
        "projections = {\n",
        "\n",
        "    \"Equidistanc conic\": {\n",
        "        \"type\": \"conicEquidistant\",\n",
        "        \"center\": [0, 52],\n",
        "        \"rotate\": [-20, 0],        \n",
        "         \"parallels\": [35, 65],\n",
        "        \"translate\": [width/2, height/2],\n",
        "        \"scale\": 700,\n",
        "        \"precision\": 0.1        \n",
        "    },\n",
        "    \"Lambert conformal conic\": {\n",
        "        \"type\": \"conicConformal\",\n",
        "        \"center\": [0, 52],\n",
        "        \"rotate\": [-20, 0],\n",
        "         \"parallels\": [35, 65],\n",
        "        \"translate\": [width/2, height/2],\n",
        "        \"scale\": 700,\n",
        "        \"precision\": 0.1        \n",
        "    },\n",
        "    \"Albers\": {\n",
        "        \"type\": \"albers\",\n",
        "        \"center\": [0, 52],\n",
        "        \"rotate\": [-20, 0],\n",
        "        \"parallels\": [35, 65],\n",
        "        \"translate\": [width/2, height/2],\n",
        "        \"scale\": 700,\n",
        "        \"precision\": 0.1        \n",
        "    },\n",
        "    \"Lambert azimuthal equal-area projection\": {\n",
        "        \"type\": \"azimuthalEqualArea\",        \n",
        "        \"rotate\": [-20, -52],\n",
        "        \"translate\": [width/2, height/2],\n",
        "        \"scale\": 700,\n",
        "        \"precision\": 0.1        \n",
        "    }\n",
        "}\n",
        "\n",
        "charts = [base.properties(projection=projections[key], title=key) for key in projections.keys()]\n",
        "alt.concat(*charts, columns=2)\n"
      ],
      "execution_count": 0,
      "outputs": [
        {
          "output_type": "stream",
          "text": [
            "https://vega.github.io/vega-datasets/data/world-110m.json\n"
          ],
          "name": "stdout"
        },
        {
          "output_type": "execute_result",
          "data": {
            "text/plain": [
              "alt.ConcatChart(...)"
            ],
            "text/html": [
              "\n",
              "<div id=\"altair-viz-c7d6267da69842349c3d429a949ff15f\"></div>\n",
              "<script type=\"text/javascript\">\n",
              "  (function(spec, embedOpt){\n",
              "    const outputDiv = document.getElementById(\"altair-viz-c7d6267da69842349c3d429a949ff15f\");\n",
              "    const paths = {\n",
              "      \"vega\": \"https://cdn.jsdelivr.net/npm//vega@5?noext\",\n",
              "      \"vega-lib\": \"https://cdn.jsdelivr.net/npm//vega-lib?noext\",\n",
              "      \"vega-lite\": \"https://cdn.jsdelivr.net/npm//vega-lite@4.0.2?noext\",\n",
              "      \"vega-embed\": \"https://cdn.jsdelivr.net/npm//vega-embed@6?noext\",\n",
              "    };\n",
              "\n",
              "    function loadScript(lib) {\n",
              "      return new Promise(function(resolve, reject) {\n",
              "        var s = document.createElement('script');\n",
              "        s.src = paths[lib];\n",
              "        s.async = true;\n",
              "        s.onload = () => resolve(paths[lib]);\n",
              "        s.onerror = () => reject(`Error loading script: ${paths[lib]}`);\n",
              "        document.getElementsByTagName(\"head\")[0].appendChild(s);\n",
              "      });\n",
              "    }\n",
              "\n",
              "    function showError(err) {\n",
              "      outputDiv.innerHTML = `<div class=\"error\" style=\"color:red;\">${err}</div>`;\n",
              "      throw err;\n",
              "    }\n",
              "\n",
              "    function displayChart(vegaEmbed) {\n",
              "      vegaEmbed(outputDiv, spec, embedOpt)\n",
              "        .catch(err => showError(`Javascript Error: ${err.message}<br>This usually means there's a typo in your chart specification. See the javascript console for the full traceback.`));\n",
              "    }\n",
              "\n",
              "    if(typeof define === \"function\" && define.amd) {\n",
              "      requirejs.config({paths});\n",
              "      require([\"vega-embed\"], displayChart, err => showError(`Error loading script: ${err.message}`));\n",
              "    } else if (typeof vegaEmbed === \"function\") {\n",
              "      displayChart(vegaEmbed);\n",
              "    } else {\n",
              "      loadScript(\"vega\")\n",
              "        .then(() => loadScript(\"vega-lite\"))\n",
              "        .then(() => loadScript(\"vega-embed\"))\n",
              "        .catch(showError)\n",
              "        .then(() => displayChart(vegaEmbed));\n",
              "    }\n",
              "  })({\"config\": {\"view\": {\"continuousWidth\": 400, \"continuousHeight\": 300}}, \"concat\": [{\"layer\": [{\"data\": {\"sphere\": true}, \"mark\": {\"type\": \"geoshape\", \"fill\": \"none\"}}, {\"data\": {\"graticule\": {\"step\": [10, 10]}}, \"mark\": {\"type\": \"geoshape\", \"stroke\": \"gray\", \"strokeWidth\": 0.5}}, {\"data\": {\"url\": \"https://vega.github.io/vega-datasets/data/world-110m.json\", \"format\": {\"feature\": \"countries\", \"type\": \"topojson\"}}, \"mark\": {\"type\": \"geoshape\", \"fill\": \"lightgray\", \"stroke\": \"gray\"}}], \"height\": 480, \"projection\": {\"type\": \"conicEquidistant\", \"center\": [0, 52], \"rotate\": [-20, 0], \"parallels\": [35, 65], \"translate\": [320.0, 240.0], \"scale\": 700, \"precision\": 0.1}, \"title\": \"Equidistanc conic\", \"width\": 640}, {\"layer\": [{\"data\": {\"sphere\": true}, \"mark\": {\"type\": \"geoshape\", \"fill\": \"none\"}}, {\"data\": {\"graticule\": {\"step\": [10, 10]}}, \"mark\": {\"type\": \"geoshape\", \"stroke\": \"gray\", \"strokeWidth\": 0.5}}, {\"data\": {\"url\": \"https://vega.github.io/vega-datasets/data/world-110m.json\", \"format\": {\"feature\": \"countries\", \"type\": \"topojson\"}}, \"mark\": {\"type\": \"geoshape\", \"fill\": \"lightgray\", \"stroke\": \"gray\"}}], \"height\": 480, \"projection\": {\"type\": \"conicConformal\", \"center\": [0, 52], \"rotate\": [-20, 0], \"parallels\": [35, 65], \"translate\": [320.0, 240.0], \"scale\": 700, \"precision\": 0.1}, \"title\": \"Lambert conformal conic\", \"width\": 640}, {\"layer\": [{\"data\": {\"sphere\": true}, \"mark\": {\"type\": \"geoshape\", \"fill\": \"none\"}}, {\"data\": {\"graticule\": {\"step\": [10, 10]}}, \"mark\": {\"type\": \"geoshape\", \"stroke\": \"gray\", \"strokeWidth\": 0.5}}, {\"data\": {\"url\": \"https://vega.github.io/vega-datasets/data/world-110m.json\", \"format\": {\"feature\": \"countries\", \"type\": \"topojson\"}}, \"mark\": {\"type\": \"geoshape\", \"fill\": \"lightgray\", \"stroke\": \"gray\"}}], \"height\": 480, \"projection\": {\"type\": \"albers\", \"center\": [0, 52], \"rotate\": [-20, 0], \"parallels\": [35, 65], \"translate\": [320.0, 240.0], \"scale\": 700, \"precision\": 0.1}, \"title\": \"Albers\", \"width\": 640}, {\"layer\": [{\"data\": {\"sphere\": true}, \"mark\": {\"type\": \"geoshape\", \"fill\": \"none\"}}, {\"data\": {\"graticule\": {\"step\": [10, 10]}}, \"mark\": {\"type\": \"geoshape\", \"stroke\": \"gray\", \"strokeWidth\": 0.5}}, {\"data\": {\"url\": \"https://vega.github.io/vega-datasets/data/world-110m.json\", \"format\": {\"feature\": \"countries\", \"type\": \"topojson\"}}, \"mark\": {\"type\": \"geoshape\", \"fill\": \"lightgray\", \"stroke\": \"gray\"}}], \"height\": 480, \"projection\": {\"type\": \"azimuthalEqualArea\", \"rotate\": [-20, -52], \"translate\": [320.0, 240.0], \"scale\": 700, \"precision\": 0.1}, \"title\": \"Lambert azimuthal equal-area projection\", \"width\": 640}], \"columns\": 2, \"$schema\": \"https://vega.github.io/schema/vega-lite/v4.0.2.json\"}, {\"mode\": \"vega-lite\"});\n",
              "</script>"
            ]
          },
          "metadata": {
            "tags": []
          },
          "execution_count": 20
        }
      ]
    }
  ]
}