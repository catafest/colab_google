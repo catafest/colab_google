{
  "cells": [
    {
      "cell_type": "markdown",
      "metadata": {
        "id": "view-in-github",
        "colab_type": "text"
      },
      "source": [
        "<a href=\"https://colab.research.google.com/github/catafest/colab_google/blob/master/catafest_045.ipynb\" target=\"_parent\"><img src=\"https://colab.research.google.com/assets/colab-badge.svg\" alt=\"Open In Colab\"/></a>"
      ]
    },
    {
      "cell_type": "markdown",
      "metadata": {
        "id": "LZLObvG7-KaK"
      },
      "source": [
        "\n",
        "See [this webpage](https://pypi.org/project/textgenrnn/) about :\n",
        "## <font color='blue'>textgenrnn</font>.\n",
        "\n",
        "*Easily train your own text-generating neural network of any size and complexity on any text dataset with a few lines of code, or quickly train on a text using a pretrained model.*\n",
        "\n",
        "*A modern neural network architecture which utilizes new techniques as attention-weighting and skip-embedding to accelerate training and improve model quality.*\n",
        "\n",
        "*Able to train on and generate text at either the character-level or word-level.*\n",
        "\n",
        "*Able to configure RNN size, the number of RNN layers, and whether to use bidirectional RNNs.*\n",
        "\n",
        "*Able to train on any generic input text file, including large files.*\n",
        "\n",
        "*Able to train models on a GPU and then use them with a CPU.*\n",
        "\n",
        "*Able to utilize a powerful CuDNN implementation of RNNs when trained on the GPU, which massively speeds up training time as opposed to normal LSTM implementations.*\n",
        "\n",
        "*Able to train the model using contextual labels, allowing it to learn faster and produce better results in some cases.*\n",
        "\n",
        "*Able to generate text interactively for customized stories.*"
      ]
    },
    {
      "cell_type": "markdown",
      "metadata": {
        "id": "g4ly98vc75C5"
      },
      "source": [
        "Clean up data files from previous runs."
      ]
    },
    {
      "cell_type": "code",
      "execution_count": 1,
      "metadata": {
        "id": "AiPX9tGI733L"
      },
      "outputs": [],
      "source": [
        "!rm * -rf\n",
        "!ls"
      ]
    },
    {
      "cell_type": "code",
      "execution_count": 2,
      "metadata": {
        "id": "Jx3pqXdFVpOV"
      },
      "outputs": [],
      "source": [
        "import os"
      ]
    },
    {
      "cell_type": "markdown",
      "metadata": {
        "id": "Zn2l47z_8F8D"
      },
      "source": [
        "<font color='red'>NOTE</font> : Install **textgenrnn** only if exist."
      ]
    },
    {
      "cell_type": "code",
      "execution_count": null,
      "metadata": {
        "id": "0OAl6iIk-I3f"
      },
      "outputs": [],
      "source": [
        "import importlib\n",
        "\n",
        "package_name_exist = \"textgenrnn\"\n",
        "\n",
        "try:\n",
        "    importlib.import_module(package_name_exist)\n",
        "    print(f\"Pachetul {package_name_exist} este deja instalat.\")\n",
        "except ImportError:\n",
        "    print(f\"Pachetul {package_name_exist} nu este instalat.\")\n",
        "    !pip3 install git+https://github.com/minimaxir/textgenrnn.git#v1.5.0"
      ]
    },
    {
      "cell_type": "markdown",
      "metadata": {
        "id": "6XXHpEHV9CT7"
      },
      "source": [
        "Get the input text file for training the RNN artificial intelligence.\n",
        "\n",
        "I used the text file from [this webpage](https://ro.wikisource.org/wiki/%C3%8Endrept%C4%83ri) - Indreptari.\n",
        "\n",
        "Exported from Wikisource on 12 august 2023."
      ]
    },
    {
      "cell_type": "code",
      "execution_count": 4,
      "metadata": {
        "colab": {
          "base_uri": "https://localhost:8080/",
          "height": 74
        },
        "id": "Mz-BGQoN0_iC",
        "outputId": "0bedfa98-62f4-40b6-fae1-22685d2d8628"
      },
      "outputs": [
        {
          "output_type": "display_data",
          "data": {
            "text/plain": [
              "<IPython.core.display.HTML object>"
            ],
            "text/html": [
              "\n",
              "     <input type=\"file\" id=\"files-60105f53-7750-4fc7-8a8f-70be0a16c985\" name=\"files[]\" multiple disabled\n",
              "        style=\"border:none\" />\n",
              "     <output id=\"result-60105f53-7750-4fc7-8a8f-70be0a16c985\">\n",
              "      Upload widget is only available when the cell has been executed in the\n",
              "      current browser session. Please rerun this cell to enable.\n",
              "      </output>\n",
              "      <script>// Copyright 2017 Google LLC\n",
              "//\n",
              "// Licensed under the Apache License, Version 2.0 (the \"License\");\n",
              "// you may not use this file except in compliance with the License.\n",
              "// You may obtain a copy of the License at\n",
              "//\n",
              "//      http://www.apache.org/licenses/LICENSE-2.0\n",
              "//\n",
              "// Unless required by applicable law or agreed to in writing, software\n",
              "// distributed under the License is distributed on an \"AS IS\" BASIS,\n",
              "// WITHOUT WARRANTIES OR CONDITIONS OF ANY KIND, either express or implied.\n",
              "// See the License for the specific language governing permissions and\n",
              "// limitations under the License.\n",
              "\n",
              "/**\n",
              " * @fileoverview Helpers for google.colab Python module.\n",
              " */\n",
              "(function(scope) {\n",
              "function span(text, styleAttributes = {}) {\n",
              "  const element = document.createElement('span');\n",
              "  element.textContent = text;\n",
              "  for (const key of Object.keys(styleAttributes)) {\n",
              "    element.style[key] = styleAttributes[key];\n",
              "  }\n",
              "  return element;\n",
              "}\n",
              "\n",
              "// Max number of bytes which will be uploaded at a time.\n",
              "const MAX_PAYLOAD_SIZE = 100 * 1024;\n",
              "\n",
              "function _uploadFiles(inputId, outputId) {\n",
              "  const steps = uploadFilesStep(inputId, outputId);\n",
              "  const outputElement = document.getElementById(outputId);\n",
              "  // Cache steps on the outputElement to make it available for the next call\n",
              "  // to uploadFilesContinue from Python.\n",
              "  outputElement.steps = steps;\n",
              "\n",
              "  return _uploadFilesContinue(outputId);\n",
              "}\n",
              "\n",
              "// This is roughly an async generator (not supported in the browser yet),\n",
              "// where there are multiple asynchronous steps and the Python side is going\n",
              "// to poll for completion of each step.\n",
              "// This uses a Promise to block the python side on completion of each step,\n",
              "// then passes the result of the previous step as the input to the next step.\n",
              "function _uploadFilesContinue(outputId) {\n",
              "  const outputElement = document.getElementById(outputId);\n",
              "  const steps = outputElement.steps;\n",
              "\n",
              "  const next = steps.next(outputElement.lastPromiseValue);\n",
              "  return Promise.resolve(next.value.promise).then((value) => {\n",
              "    // Cache the last promise value to make it available to the next\n",
              "    // step of the generator.\n",
              "    outputElement.lastPromiseValue = value;\n",
              "    return next.value.response;\n",
              "  });\n",
              "}\n",
              "\n",
              "/**\n",
              " * Generator function which is called between each async step of the upload\n",
              " * process.\n",
              " * @param {string} inputId Element ID of the input file picker element.\n",
              " * @param {string} outputId Element ID of the output display.\n",
              " * @return {!Iterable<!Object>} Iterable of next steps.\n",
              " */\n",
              "function* uploadFilesStep(inputId, outputId) {\n",
              "  const inputElement = document.getElementById(inputId);\n",
              "  inputElement.disabled = false;\n",
              "\n",
              "  const outputElement = document.getElementById(outputId);\n",
              "  outputElement.innerHTML = '';\n",
              "\n",
              "  const pickedPromise = new Promise((resolve) => {\n",
              "    inputElement.addEventListener('change', (e) => {\n",
              "      resolve(e.target.files);\n",
              "    });\n",
              "  });\n",
              "\n",
              "  const cancel = document.createElement('button');\n",
              "  inputElement.parentElement.appendChild(cancel);\n",
              "  cancel.textContent = 'Cancel upload';\n",
              "  const cancelPromise = new Promise((resolve) => {\n",
              "    cancel.onclick = () => {\n",
              "      resolve(null);\n",
              "    };\n",
              "  });\n",
              "\n",
              "  // Wait for the user to pick the files.\n",
              "  const files = yield {\n",
              "    promise: Promise.race([pickedPromise, cancelPromise]),\n",
              "    response: {\n",
              "      action: 'starting',\n",
              "    }\n",
              "  };\n",
              "\n",
              "  cancel.remove();\n",
              "\n",
              "  // Disable the input element since further picks are not allowed.\n",
              "  inputElement.disabled = true;\n",
              "\n",
              "  if (!files) {\n",
              "    return {\n",
              "      response: {\n",
              "        action: 'complete',\n",
              "      }\n",
              "    };\n",
              "  }\n",
              "\n",
              "  for (const file of files) {\n",
              "    const li = document.createElement('li');\n",
              "    li.append(span(file.name, {fontWeight: 'bold'}));\n",
              "    li.append(span(\n",
              "        `(${file.type || 'n/a'}) - ${file.size} bytes, ` +\n",
              "        `last modified: ${\n",
              "            file.lastModifiedDate ? file.lastModifiedDate.toLocaleDateString() :\n",
              "                                    'n/a'} - `));\n",
              "    const percent = span('0% done');\n",
              "    li.appendChild(percent);\n",
              "\n",
              "    outputElement.appendChild(li);\n",
              "\n",
              "    const fileDataPromise = new Promise((resolve) => {\n",
              "      const reader = new FileReader();\n",
              "      reader.onload = (e) => {\n",
              "        resolve(e.target.result);\n",
              "      };\n",
              "      reader.readAsArrayBuffer(file);\n",
              "    });\n",
              "    // Wait for the data to be ready.\n",
              "    let fileData = yield {\n",
              "      promise: fileDataPromise,\n",
              "      response: {\n",
              "        action: 'continue',\n",
              "      }\n",
              "    };\n",
              "\n",
              "    // Use a chunked sending to avoid message size limits. See b/62115660.\n",
              "    let position = 0;\n",
              "    do {\n",
              "      const length = Math.min(fileData.byteLength - position, MAX_PAYLOAD_SIZE);\n",
              "      const chunk = new Uint8Array(fileData, position, length);\n",
              "      position += length;\n",
              "\n",
              "      const base64 = btoa(String.fromCharCode.apply(null, chunk));\n",
              "      yield {\n",
              "        response: {\n",
              "          action: 'append',\n",
              "          file: file.name,\n",
              "          data: base64,\n",
              "        },\n",
              "      };\n",
              "\n",
              "      let percentDone = fileData.byteLength === 0 ?\n",
              "          100 :\n",
              "          Math.round((position / fileData.byteLength) * 100);\n",
              "      percent.textContent = `${percentDone}% done`;\n",
              "\n",
              "    } while (position < fileData.byteLength);\n",
              "  }\n",
              "\n",
              "  // All done.\n",
              "  yield {\n",
              "    response: {\n",
              "      action: 'complete',\n",
              "    }\n",
              "  };\n",
              "}\n",
              "\n",
              "scope.google = scope.google || {};\n",
              "scope.google.colab = scope.google.colab || {};\n",
              "scope.google.colab._files = {\n",
              "  _uploadFiles,\n",
              "  _uploadFilesContinue,\n",
              "};\n",
              "})(self);\n",
              "</script> "
            ]
          },
          "metadata": {}
        },
        {
          "output_type": "stream",
          "name": "stdout",
          "text": [
            "Saving Îndreptări.txt to Îndreptări.txt\n"
          ]
        }
      ],
      "source": [
        "from google.colab import files\n",
        "input_txt_file = files.upload()\n",
        "#input_txt_file"
      ]
    },
    {
      "cell_type": "markdown",
      "metadata": {
        "id": "_HtRCYii-TiK"
      },
      "source": [
        "Use warning to avoid this error:\n",
        "```\n",
        "# This is formatted as code\n",
        "WARNING:absl:`lr` is deprecated in Keras optimizer, please use `learning_rate`\n",
        " or use the legacy optimizer, e.g.,tf.keras.optimizers.legacy.Adam.\n",
        "```\n",
        "\n"
      ]
    },
    {
      "cell_type": "code",
      "execution_count": 5,
      "metadata": {
        "colab": {
          "base_uri": "https://localhost:8080/"
        },
        "id": "uIjOi1zf-9Ik",
        "outputId": "ad15810d-3cc3-45e1-bd5e-214ae298375f"
      },
      "outputs": [
        {
          "output_type": "stream",
          "name": "stderr",
          "text": [
            "WARNING:absl:`lr` is deprecated in Keras optimizer, please use `learning_rate` or use the legacy optimizer, e.g.,tf.keras.optimizers.legacy.Adam.\n"
          ]
        }
      ],
      "source": [
        "import warnings\n",
        "\n",
        "with warnings.catch_warnings():\n",
        "    warnings.simplefilter(\"ignore\")\n",
        "    from textgenrnn import textgenrnn\n",
        "    textgen = textgenrnn()\n",
        "\n",
        "\n"
      ]
    },
    {
      "cell_type": "code",
      "execution_count": 6,
      "metadata": {
        "id": "EDNTbIrUI_0x"
      },
      "outputs": [],
      "source": [
        "\n",
        "model_cfg = {\n",
        "    'word_level': True,   # set to True if want to train a word-level model (requires more data and smaller max_length)\n",
        "    'rnn_size': 128,   # number of LSTM cells of each layer (128/256 recommended)\n",
        "    'rnn_layers': 4,   # number of LSTM layers (>=2 recommended)\n",
        "    'rnn_bidirectional': False,   # consider text both forwards and backward, can give a training boost\n",
        "    'max_length': 3,   # number of tokens to consider before predicting the next (20-40 for characters, 5-10 for words recommended)\n",
        "    'max_words': 10000,   # maximum number of words to model; the rest will be ignored (word-level model only)\n",
        "}\n",
        "\n",
        "train_cfg = {\n",
        "    'line_delimited': True,   # set to True if each text has its own line in the source file\n",
        "    'num_epochs': 60,   # set higher to train the model for longer\n",
        "    'gen_epochs': 5,   # generates sample text from model after given number of epochs\n",
        "    'train_size': 0.8,   # proportion of input data to train on: setting < 1.0 limits model from learning perfectly\n",
        "    'dropout': 0.0,   # ignore a random proportion of source tokens each epoch, allowing model to generalize better\n",
        "    'validation': False,   # If train__size < 1.0, test on holdout dataset; will make overall training slower\n",
        "    'is_csv': False   # set to True if file is a CSV exported from Excel/BigQuery/pandas\n",
        "}"
      ]
    },
    {
      "cell_type": "markdown",
      "source": [
        "You can use for model_conf and train_cfg something like this and you have **better responses** ... :\n",
        "```\n",
        "# This is formatted as code\n",
        "textgen = textgenrnn(name=model_name)\n",
        "\n",
        "train_function = textgen.train_from_file if train_cfg['line_delimited'] else textgen.train_from_largetext_file\n",
        "\n",
        "train_function(\n",
        "    file_path=file_name,\n",
        "    new_model=True,\n",
        "    num_epochs=train_cfg['num_epochs'],\n",
        "    gen_epochs=train_cfg['gen_epochs'],\n",
        "    batch_size=1024,\n",
        "    train_size=train_cfg['train_size'],\n",
        "    dropout=train_cfg['dropout'],\n",
        "    validation=train_cfg['validation'],\n",
        "    is_csv=train_cfg['is_csv'],\n",
        "    rnn_layers=model_cfg['rnn_layers'],\n",
        "    rnn_size=model_cfg['rnn_size'],\n",
        "    rnn_bidirectional=model_cfg['rnn_bidirectional'],\n",
        "    max_length=model_cfg['max_length'],\n",
        "    dim_embeddings=100,\n",
        "    word_level=model_cfg['word_level'])\n",
        "```\n",
        "But I used in the easy way for this demo:\n"
      ],
      "metadata": {
        "id": "GP7RgryMcuzL"
      }
    },
    {
      "cell_type": "code",
      "execution_count": null,
      "metadata": {
        "id": "VCoX-dfF5AsS"
      },
      "outputs": [],
      "source": [
        "\n",
        "filename = next(iter(input_txt_file))\n",
        "print(filename)\n",
        "modelname, file_extension = os.path.splitext(filename)\n",
        "with open(filename, \"r\") as input_txt:\n",
        "    textgen.train_from_file(filename,\n",
        "                                new_model=True,\n",
        "                                rnn_bidirectional=True,\n",
        "                                rnn_size=64,\n",
        "                                dim_embeddings=300,\n",
        "                                num_epochs=1)\n",
        "print(\"Model summary is this : \")\n",
        "print(textgen.model.summary())\n"
      ]
    },
    {
      "cell_type": "markdown",
      "source": [
        "Let's see files , and where is stored."
      ],
      "metadata": {
        "id": "w9CvXGKXcq0u"
      }
    },
    {
      "cell_type": "code",
      "execution_count": 8,
      "metadata": {
        "colab": {
          "base_uri": "https://localhost:8080/"
        },
        "id": "Dh3EjJ4q7k_7",
        "outputId": "7a9658b4-3963-4931-b519-a7eb6377770e"
      },
      "outputs": [
        {
          "output_type": "stream",
          "name": "stdout",
          "text": [
            "Îndreptări.txt\t\ttextgenrnn_vocab.json\n",
            "textgenrnn_config.json\ttextgenrnn_weights.hdf5\n"
          ]
        }
      ],
      "source": [
        "!ls"
      ]
    },
    {
      "cell_type": "code",
      "execution_count": 9,
      "metadata": {
        "colab": {
          "base_uri": "https://localhost:8080/"
        },
        "id": "zcwQJ2dJYsRl",
        "outputId": "cbf3680a-a00f-4cba-ef4c-1ba6f82f6997"
      },
      "outputs": [
        {
          "output_type": "stream",
          "name": "stdout",
          "text": [
            "/content\n"
          ]
        }
      ],
      "source": [
        "!pwd"
      ]
    },
    {
      "cell_type": "markdown",
      "source": [
        "This source code just show how to use weights ..."
      ],
      "metadata": {
        "id": "HrypEKSKdLrq"
      }
    },
    {
      "cell_type": "code",
      "execution_count": null,
      "metadata": {
        "id": "cT0Ns0ONW2oK"
      },
      "outputs": [],
      "source": [
        "textgen = textgenrnn(weights_path='textgenrnn_weights.hdf5',\n",
        "                       vocab_path='textgenrnn_vocab.json',\n",
        "                       config_path='textgenrnn_config.json')\n",
        "\n",
        "textgen.generate_samples(max_gen_length=150)\n",
        "textgen.generate_to_file('textgenrnn_texts.txt', max_gen_length=150)"
      ]
    },
    {
      "cell_type": "markdown",
      "source": [
        "Let try an response ..."
      ],
      "metadata": {
        "id": "D5ztRcgjdSeB"
      }
    },
    {
      "cell_type": "code",
      "execution_count": null,
      "metadata": {
        "id": "XkwNAXIfbbLI"
      },
      "outputs": [],
      "source": [
        "responses = textgen.generate(6, return_as_list=True, temperature=0.9)"
      ]
    },
    {
      "cell_type": "markdown",
      "source": [
        "If you want better responses then need to fix by settings for input data and training settings on *model_conf* and *train_cfg* ..."
      ],
      "metadata": {
        "id": "jm2FERMddzCp"
      }
    },
    {
      "cell_type": "code",
      "execution_count": 12,
      "metadata": {
        "colab": {
          "base_uri": "https://localhost:8080/"
        },
        "id": "inkWmUUN6mey",
        "outputId": "da859abb-a3f9-4451-b6ca-5b9b7006be45"
      },
      "outputs": [
        {
          "output_type": "stream",
          "name": "stdout",
          "text": [
            " ===== the new alien language!\n",
            "Chatbot: — ’alel aduli.\n",
            "Chatbot: \n",
            "Chatbot: — In mii. Coante. Une orid întator du-, îngând părânde.\n",
            "Chatbot: \n",
            "Chatbot: \n",
            "Chatbot: \n"
          ]
        }
      ],
      "source": [
        "print(\" ===== the new alien language!\")\n",
        "for response in responses:\n",
        "    print(\"Chatbot:\", response)"
      ]
    },
    {
      "cell_type": "markdown",
      "metadata": {
        "id": "ig-KVgkCDCKD"
      },
      "source": [
        "If the notebook has errors (e.g. GPU Sync Fail), force-kill the Colaboratory virtual machine and restart it with the command below:\n",
        "\n",
        "\n",
        "\n",
        "```\n",
        "# This is formatted as code\n",
        "!kill -9 -1\n",
        "```\n",
        "\n"
      ]
    }
  ],
  "metadata": {
    "accelerator": "TPU",
    "colab": {
      "provenance": [],
      "authorship_tag": "ABX9TyP1V+q9PKcZzfQf482uggGr",
      "include_colab_link": true
    },
    "kernelspec": {
      "display_name": "Python 3",
      "name": "python3"
    },
    "language_info": {
      "name": "python"
    }
  },
  "nbformat": 4,
  "nbformat_minor": 0
}