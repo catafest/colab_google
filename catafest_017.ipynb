{
  "nbformat": 4,
  "nbformat_minor": 0,
  "metadata": {
    "colab": {
      "name": "catafest_017.ipynb",
      "provenance": [],
      "authorship_tag": "ABX9TyPFPWN+5cZXXbwrzdwbmEdV",
      "include_colab_link": true
    },
    "kernelspec": {
      "name": "python3",
      "display_name": "Python 3"
    },
    "language_info": {
      "name": "python"
    }
  },
  "cells": [
    {
      "cell_type": "markdown",
      "metadata": {
        "id": "view-in-github",
        "colab_type": "text"
      },
      "source": [
        "<a href=\"https://colab.research.google.com/github/catafest/colab_google/blob/master/catafest_017.ipynb\" target=\"_parent\"><img src=\"https://colab.research.google.com/assets/colab-badge.svg\" alt=\"Open In Colab\"/></a>"
      ]
    },
    {
      "cell_type": "code",
      "metadata": {
        "id": "Eug8bD0N2eWd"
      },
      "source": [
        "Enable_GPU = True #@param {type:\"boolean\"}\n",
        "Enable_CPU = False #@param {type:\"boolean\"}\n"
      ],
      "execution_count": 48,
      "outputs": []
    },
    {
      "cell_type": "code",
      "metadata": {
        "id": "ASRJef2y3GtB"
      },
      "source": [
        "script = \"import os\\n\"+\\\n",
        "\"os_info = os.uname()\\n\"+\\\n",
        "\"print(os_info)\\n\"+\\\n",
        "\"print(\"+str(Enable_GPU)+\")\\n\"+\\\n",
        "\"print(\"+str(Enable_CPU)+\")\"\n"
      ],
      "execution_count": 49,
      "outputs": []
    },
    {
      "cell_type": "code",
      "metadata": {
        "id": "CieQbYuL3FaE"
      },
      "source": [
        "with open('setgpu.py', 'w') as f:\n",
        "    f.write(script)"
      ],
      "execution_count": 46,
      "outputs": []
    },
    {
      "cell_type": "code",
      "metadata": {
        "colab": {
          "base_uri": "https://localhost:8080/"
        },
        "id": "KVCWRoZS3nLq",
        "outputId": "bd81fb65-4690-44b6-87ad-f9450916c0e5"
      },
      "source": [
        "!sudo python3 setgpu.py"
      ],
      "execution_count": 47,
      "outputs": [
        {
          "output_type": "stream",
          "text": [
            "posix.uname_result(sysname='Linux', nodename='cdcbe6fa6960', release='5.4.104+', version='#1 SMP Sat Jun 5 09:50:34 PDT 2021', machine='x86_64')\n",
            "True\n",
            "False\n"
          ],
          "name": "stdout"
        }
      ]
    }
  ]
}