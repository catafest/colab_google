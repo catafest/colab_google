{
  "nbformat": 4,
  "nbformat_minor": 0,
  "metadata": {
    "colab": {
      "provenance": [],
      "authorship_tag": "ABX9TyND2vcv3EafFbm5rqNMgvXf",
      "include_colab_link": true
    },
    "kernelspec": {
      "name": "python3",
      "display_name": "Python 3"
    },
    "language_info": {
      "name": "python"
    }
  },
  "cells": [
    {
      "cell_type": "markdown",
      "metadata": {
        "id": "view-in-github",
        "colab_type": "text"
      },
      "source": [
        "<a href=\"https://colab.research.google.com/github/catafest/colab_google/blob/master/catafest_033.ipynb\" target=\"_parent\"><img src=\"https://colab.research.google.com/assets/colab-badge.svg\" alt=\"Open In Colab\"/></a>"
      ]
    },
    {
      "cell_type": "markdown",
      "source": [
        "In this notebook I will show you how to use Google custom search engine A.P.I.\n",
        "You need a google project set with Custom Search API library, see next steps:\n",
        "\n",
        "Use your YOUR_API_KEY and YOUR_SEARCH_ENGINE_ID with your API key and search engine ID \n",
        "YOUR_API_KEY, you can use the Get a Key button from https://developers.google.com/custom-search/v1/introduction \n",
        "YOUR_API_KEY is set by your google project \n",
        "YOUR_SEARCH_ENGINE_ID from https://programmablesearchengine.google.com/controlpanel/create\n",
        "\n",
        "in this python script \n",
        "\n",
        "api_key is YOUR_API_KEY\n",
        "\n",
        "custom_search_id is YOUR_API_KEY\n"
      ],
      "metadata": {
        "id": "Vy_9xc1kmYjM"
      }
    },
    {
      "cell_type": "code",
      "execution_count": 40,
      "metadata": {
        "colab": {
          "base_uri": "https://localhost:8080/"
        },
        "id": "1L4Am0QATgOc",
        "outputId": "2919cb7d-bab3-42cf-a566-bf969a3500f9"
      },
      "outputs": [
        {
          "output_type": "stream",
          "name": "stdout",
          "text": [
            "Python 3.8.16\n"
          ]
        }
      ],
      "source": [
        "!python --version"
      ]
    },
    {
      "cell_type": "code",
      "source": [
        "import requests\n",
        "\n",
        "# Set the search query and API key\n",
        "query = 'large image'\n",
        "# FILL with your data from google project.\n",
        "api_key = ''\n",
        "custom_search_id = ''\n",
        "size = 'large'\n",
        "# Send the request to the Google Images Search API\n",
        "response = requests.get(f'https://www.googleapis.com/customsearch/v1?key={api_key}&cx={custom_search_id}&q={query}&imgSize={size}&searchType=image')\n",
        "# Check the status code to make sure the request was successful\n",
        "if response.status_code == 200:\n",
        "  # Get the list of image URLs from the response\n",
        "  image_urls = response.json()['items']\n",
        "  print(image_urls)\n",
        "  # Print the image URLs\n",
        "  for url in image_urls:\n",
        "    print(url['link'])\n",
        "else:\n",
        "  print('An error occurred:', response.status_code)"
      ],
      "metadata": {
        "colab": {
          "base_uri": "https://localhost:8080/"
        },
        "id": "XSbb8h-niNu-",
        "outputId": "df506213-055a-4ed4-eac1-18a3870cbbe3"
      },
      "execution_count": 39,
      "outputs": [
        {
          "output_type": "stream",
          "name": "stdout",
          "text": [
            "[{'kind': 'customsearch#result', 'title': 'Large exoplanet could have the right conditions for life ...', 'htmlTitle': '<b>Large</b> exoplanet could have the right conditions for life ...', 'link': 'https://www.cam.ac.uk/sites/www.cam.ac.uk/files/styles/content-885x432/public/news/research/news/crop_178.jpg?itok=JwCQEISd', 'displayLink': 'www.cam.ac.uk', 'snippet': 'Large exoplanet could have the right conditions for life ...', 'htmlSnippet': '<b>Large</b> exoplanet could have the right conditions for life ...', 'mime': 'image/jpeg', 'fileFormat': 'image/jpeg', 'image': {'contextLink': 'https://www.cam.ac.uk/research/news/large-exoplanet-could-have-the-right-conditions-for-life', 'height': 432, 'width': 885, 'byteSize': 21581, 'thumbnailLink': 'https://encrypted-tbn0.gstatic.com/images?q=tbn:ANd9GcScNfPPqr4A1gizcaSI13OUCuOMyQ1f0cHnWSO8WoaBIT5nIy5OGl3B6g&s', 'thumbnailHeight': 71, 'thumbnailWidth': 146}}, {'kind': 'customsearch#result', 'title': '5,186,850 Large Images, Stock Photos & Vectors | Shutterstock', 'htmlTitle': '5,186,850 <b>Large</b> Images, Stock Photos &amp; Vectors | Shutterstock', 'link': 'https://www.shutterstock.com/image-photo/big-bass-large-mouth-fishing-260nw-1707212593.jpg', 'displayLink': 'www.shutterstock.com', 'snippet': '5,186,850 Large Images, Stock Photos & Vectors | Shutterstock', 'htmlSnippet': '5,186,850 <b>Large</b> Images, Stock Photos &amp; Vectors | Shutterstock', 'mime': 'image/jpeg', 'fileFormat': 'image/jpeg', 'image': {'contextLink': 'https://www.shutterstock.com/search/large', 'height': 280, 'width': 462, 'byteSize': 39855, 'thumbnailLink': 'https://encrypted-tbn0.gstatic.com/images?q=tbn:ANd9GcQqKYzUP5E9N3c0vXH7sgXb91sec9w99kuoLr7o22hlJj2AnNtd9FtLzw&s', 'thumbnailHeight': 78, 'thumbnailWidth': 128}}, {'kind': 'customsearch#result', 'title': '420,852 Large Business Stock Photos, Pictures & Royalty-Free ...', 'htmlTitle': '420,852 <b>Large</b> Business Stock Photos, Pictures &amp; Royalty-Free ...', 'link': 'https://media.istockphoto.com/id/178447404/photo/modern-business-buildings.jpg?s=612x612&w=0&k=20&c=MOG9lvRz7WjsVyW3IiQ0srEzpaBPDcc7qxYsBCvAUJs=', 'displayLink': 'www.istockphoto.com', 'snippet': '420,852 Large Business Stock Photos, Pictures & Royalty-Free ...', 'htmlSnippet': '420,852 <b>Large</b> Business Stock Photos, Pictures &amp; Royalty-Free ...', 'mime': 'image/jpeg', 'fileFormat': 'image/jpeg', 'image': {'contextLink': 'https://www.istockphoto.com/photos/large-business', 'height': 459, 'width': 612, 'byteSize': 132662, 'thumbnailLink': 'https://encrypted-tbn0.gstatic.com/images?q=tbn:ANd9GcSr4KV737augDZJ99a5tMyZO_nGtV7rImfQw_8oFx8PkR00L2Ui3mBndA&s', 'thumbnailHeight': 102, 'thumbnailWidth': 136}}, {'kind': 'customsearch#result', 'title': 'How to Move a Very Large WordPress Site - Snap Creek Software', 'htmlTitle': 'How to Move a Very <b>Large</b> WordPress Site - Snap Creek Software', 'link': 'https://snapcreek.com/wp-content/uploads/blog-large-site-dinosaur.jpg', 'displayLink': 'snapcreek.com', 'snippet': 'How to Move a Very Large WordPress Site - Snap Creek Software', 'htmlSnippet': 'How to Move a Very <b>Large</b> WordPress Site - Snap Creek Software', 'mime': 'image/jpeg', 'fileFormat': 'image/jpeg', 'image': {'contextLink': 'https://snapcreek.com/blog/wordpress/techniques/how-move-very-large-site-duplicator-pro/', 'height': 350, 'width': 525, 'byteSize': 131388, 'thumbnailLink': 'https://encrypted-tbn0.gstatic.com/images?q=tbn:ANd9GcSizxpgN62I7lPuBbTCcLrVm5_adGaYWBWevnUXUa9ec2aGutspCRLJ2A&s', 'thumbnailHeight': 88, 'thumbnailWidth': 132}}, {'kind': 'customsearch#result', 'title': 'Large intestine (colon): MedlinePlus Medical Encyclopedia Image', 'htmlTitle': '<b>Large</b> intestine (colon): MedlinePlus Medical Encyclopedia Image', 'link': 'https://medlineplus.gov/ency/images/ency/fullsize/19220.jpg', 'displayLink': 'medlineplus.gov', 'snippet': 'Large intestine (colon): MedlinePlus Medical Encyclopedia Image', 'htmlSnippet': '<b>Large</b> intestine (colon): MedlinePlus Medical Encyclopedia Image', 'mime': 'image/jpeg', 'fileFormat': 'image/jpeg', 'image': {'contextLink': 'https://medlineplus.gov/ency/imagepages/19220.htm', 'height': 320, 'width': 400, 'byteSize': 88795, 'thumbnailLink': 'https://encrypted-tbn0.gstatic.com/images?q=tbn:ANd9GcTAOHuyGshauSfVSA-3QXUySmx1r5tg1NHzW91jauSLg0-a4Ig6v9v9YA&s', 'thumbnailHeight': 99, 'thumbnailWidth': 124}}, {'kind': 'customsearch#result', 'title': 'Slide show: See how your digestive system works - Mayo Clinic', 'htmlTitle': 'Slide show: See how your digestive system works - Mayo Clinic', 'link': 'https://www.mayoclinic.org/-/media/kcms/gbs/patient-consumer/images/2013/11/19/10/08/dg00021-large-intestine.jpg', 'displayLink': 'www.mayoclinic.org', 'snippet': 'Slide show: See how your digestive system works - Mayo Clinic', 'htmlSnippet': 'Slide show: See how your digestive system works - Mayo Clinic', 'mime': 'image/jpeg', 'fileFormat': 'image/jpeg', 'image': {'contextLink': 'https://www.mayoclinic.org/digestive-system/sls-20076373?s=7', 'height': 263, 'width': 468, 'byteSize': 19356, 'thumbnailLink': 'https://encrypted-tbn0.gstatic.com/images?q=tbn:ANd9GcTk8yu0Lcx9oajIOBmwX9ESCqrXC1RXH5gQgwVh-hDqPn8zwnNQ46kcxgE&s', 'thumbnailHeight': 72, 'thumbnailWidth': 128}}, {'kind': 'customsearch#result', 'title': \"Opinion | How a 'Golden Era for Large Cities' Might Be Turning ...\", 'htmlTitle': 'Opinion | How a &#39;Golden Era for <b>Large</b> Cities&#39; Might Be Turning ...', 'link': 'https://static01.nyt.com/images/2022/11/30/multimedia/30edsall-topart-1-7631/30edsall-topart-1-7631-articleLarge.jpg?quality=75&auto=webp&disable=upscale', 'displayLink': 'www.nytimes.com', 'snippet': \"Opinion | How a 'Golden Era for Large Cities' Might Be Turning ...\", 'htmlSnippet': 'Opinion | How a &#39;Golden Era for <b>Large</b> Cities&#39; Might Be Turning ...', 'mime': 'image/jpeg', 'fileFormat': 'image/jpeg', 'image': {'contextLink': 'https://www.nytimes.com/2022/11/30/opinion/covid-pandemic-cities-future.html', 'height': 750, 'width': 600, 'byteSize': 59081, 'thumbnailLink': 'https://encrypted-tbn0.gstatic.com/images?q=tbn:ANd9GcRrEK2_kzr1DMBT7AcKNH8uZL11nWh7T3Ke-2N7S67FnSHVikdsmcfT9g&s', 'thumbnailHeight': 141, 'thumbnailWidth': 113}}, {'kind': 'customsearch#result', 'title': '45 Best Large Dog Breeds - Top Big Dogs List and Pictures', 'htmlTitle': '45 Best <b>Large</b> Dog Breeds - Top Big Dogs List and Pictures', 'link': 'https://hips.hearstapps.com/hmg-prod.s3.amazonaws.com/images/golden-retriever-royalty-free-image-506756303-1560962726.jpg?crop=0.672xw:1.00xh;0.166xw,0&resize=640:*', 'displayLink': 'www.goodhousekeeping.com', 'snippet': '45 Best Large Dog Breeds - Top Big Dogs List and Pictures', 'htmlSnippet': '45 Best <b>Large</b> Dog Breeds - Top Big Dogs List and Pictures', 'mime': 'image/jpeg', 'fileFormat': 'image/jpeg', 'image': {'contextLink': 'https://www.goodhousekeeping.com/life/pets/advice/g1921/large-dog-breeds/', 'height': 635, 'width': 640, 'byteSize': 80459, 'thumbnailLink': 'https://encrypted-tbn0.gstatic.com/images?q=tbn:ANd9GcQG7i9mg-RYzBKrVzYM6QCz1qkDDClyKVd4Tad2sxqo9hjcjKj73VWU2EOE&s', 'thumbnailHeight': 136, 'thumbnailWidth': 137}}, {'kind': 'customsearch#result', 'title': 'Large intestine | Definition, Location, Anatomy, Length, Function ...', 'htmlTitle': '<b>Large</b> intestine | Definition, Location, Anatomy, Length, Function ...', 'link': 'https://cdn.britannica.com/19/74319-050-A0139604/intestine-rectum-Structures-human-crypts-mucosa-anus.jpg?w=400&h=300&c=crop', 'displayLink': 'www.britannica.com', 'snippet': 'Large intestine | Definition, Location, Anatomy, Length, Function ...', 'htmlSnippet': '<b>Large</b> intestine | Definition, Location, Anatomy, Length, Function ...', 'mime': 'image/jpeg', 'fileFormat': 'image/jpeg', 'image': {'contextLink': 'https://www.britannica.com/science/large-intestine', 'height': 300, 'width': 400, 'byteSize': 29157, 'thumbnailLink': 'https://encrypted-tbn0.gstatic.com/images?q=tbn:ANd9GcQTv4U9DA9_OXBIQiCZCGKR7YGIuwj_xstT65FxibeSkxfqj0d5btEQfg&s', 'thumbnailHeight': 93, 'thumbnailWidth': 124}}, {'kind': 'customsearch#result', 'title': \"Funding boost for ESO's Extremely Large Telescope | ESO\", 'htmlTitle': 'Funding boost for ESO&#39;s Extremely <b>Large</b> Telescope | ESO', 'link': 'https://cdn.eso.org/images/newsfeature/ELT4k-4-comp-Open.jpg', 'displayLink': 'www.eso.org', 'snippet': \"Funding boost for ESO's Extremely Large Telescope | ESO\", 'htmlSnippet': 'Funding boost for ESO&#39;s Extremely <b>Large</b> Telescope | ESO', 'mime': 'image/jpeg', 'fileFormat': 'image/jpeg', 'image': {'contextLink': 'https://www.eso.org/public/announcements/ann20034/', 'height': 300, 'width': 733, 'byteSize': 95270, 'thumbnailLink': 'https://encrypted-tbn0.gstatic.com/images?q=tbn:ANd9GcTWnRC9qXWjioDRQj4hVMXfkUrYaA8cXIb-rbkhygC3GCvZd5xUZ65sZvM&s', 'thumbnailHeight': 58, 'thumbnailWidth': 141}}]\n",
            "https://www.cam.ac.uk/sites/www.cam.ac.uk/files/styles/content-885x432/public/news/research/news/crop_178.jpg?itok=JwCQEISd\n",
            "https://www.shutterstock.com/image-photo/big-bass-large-mouth-fishing-260nw-1707212593.jpg\n",
            "https://media.istockphoto.com/id/178447404/photo/modern-business-buildings.jpg?s=612x612&w=0&k=20&c=MOG9lvRz7WjsVyW3IiQ0srEzpaBPDcc7qxYsBCvAUJs=\n",
            "https://snapcreek.com/wp-content/uploads/blog-large-site-dinosaur.jpg\n",
            "https://medlineplus.gov/ency/images/ency/fullsize/19220.jpg\n",
            "https://www.mayoclinic.org/-/media/kcms/gbs/patient-consumer/images/2013/11/19/10/08/dg00021-large-intestine.jpg\n",
            "https://static01.nyt.com/images/2022/11/30/multimedia/30edsall-topart-1-7631/30edsall-topart-1-7631-articleLarge.jpg?quality=75&auto=webp&disable=upscale\n",
            "https://hips.hearstapps.com/hmg-prod.s3.amazonaws.com/images/golden-retriever-royalty-free-image-506756303-1560962726.jpg?crop=0.672xw:1.00xh;0.166xw,0&resize=640:*\n",
            "https://cdn.britannica.com/19/74319-050-A0139604/intestine-rectum-Structures-human-crypts-mucosa-anus.jpg?w=400&h=300&c=crop\n",
            "https://cdn.eso.org/images/newsfeature/ELT4k-4-comp-Open.jpg\n"
          ]
        }
      ]
    }
  ]
}