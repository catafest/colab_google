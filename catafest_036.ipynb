{
  "nbformat": 4,
  "nbformat_minor": 0,
  "metadata": {
    "colab": {
      "provenance": [],
      "authorship_tag": "ABX9TyPsrhaA95SlNKfsd76XId5r",
      "include_colab_link": true
    },
    "kernelspec": {
      "name": "python3",
      "display_name": "Python 3"
    },
    "language_info": {
      "name": "python"
    }
  },
  "cells": [
    {
      "cell_type": "markdown",
      "metadata": {
        "id": "view-in-github",
        "colab_type": "text"
      },
      "source": [
        "<a href=\"https://colab.research.google.com/github/catafest/colab_google/blob/master/catafest_036.ipynb\" target=\"_parent\"><img src=\"https://colab.research.google.com/assets/colab-badge.svg\" alt=\"Open In Colab\"/></a>"
      ]
    },
    {
      "cell_type": "code",
      "source": [
        "!pip install ipython ipykernel --upgrade"
      ],
      "metadata": {
        "colab": {
          "base_uri": "https://localhost:8080/"
        },
        "id": "hC79C0U5Heb7",
        "outputId": "1e56845c-6d5e-4745-8c8b-1acbbc3ac840"
      },
      "execution_count": null,
      "outputs": [
        {
          "output_type": "stream",
          "name": "stdout",
          "text": [
            "Looking in indexes: https://pypi.org/simple, https://us-python.pkg.dev/colab-wheels/public/simple/\n",
            "Requirement already satisfied: ipython in /usr/local/lib/python3.8/dist-packages (8.10.0)\n",
            "Requirement already satisfied: ipykernel in /usr/local/lib/python3.8/dist-packages (6.21.2)\n",
            "Requirement already satisfied: traitlets>=5 in /usr/local/lib/python3.8/dist-packages (from ipython) (5.7.1)\n",
            "Requirement already satisfied: pickleshare in /usr/local/lib/python3.8/dist-packages (from ipython) (0.7.5)\n",
            "Requirement already satisfied: jedi>=0.16 in /usr/local/lib/python3.8/dist-packages (from ipython) (0.18.2)\n",
            "Requirement already satisfied: stack-data in /usr/local/lib/python3.8/dist-packages (from ipython) (0.6.2)\n",
            "Requirement already satisfied: pexpect>4.3 in /usr/local/lib/python3.8/dist-packages (from ipython) (4.8.0)\n",
            "Requirement already satisfied: decorator in /usr/local/lib/python3.8/dist-packages (from ipython) (4.4.2)\n",
            "Requirement already satisfied: matplotlib-inline in /usr/local/lib/python3.8/dist-packages (from ipython) (0.1.6)\n",
            "Requirement already satisfied: backcall in /usr/local/lib/python3.8/dist-packages (from ipython) (0.2.0)\n",
            "Requirement already satisfied: pygments>=2.4.0 in /usr/local/lib/python3.8/dist-packages (from ipython) (2.6.1)\n",
            "Requirement already satisfied: prompt-toolkit<3.1.0,>=3.0.30 in /usr/local/lib/python3.8/dist-packages (from ipython) (3.0.37)\n",
            "Requirement already satisfied: nest-asyncio in /usr/local/lib/python3.8/dist-packages (from ipykernel) (1.5.6)\n",
            "Requirement already satisfied: jupyter-core!=5.0.*,>=4.12 in /usr/local/lib/python3.8/dist-packages (from ipykernel) (5.2.0)\n",
            "Requirement already satisfied: psutil in /usr/local/lib/python3.8/dist-packages (from ipykernel) (5.4.8)\n",
            "Requirement already satisfied: jupyter-client>=6.1.12 in /usr/local/lib/python3.8/dist-packages (from ipykernel) (6.1.12)\n",
            "Requirement already satisfied: pyzmq>=20 in /usr/local/lib/python3.8/dist-packages (from ipykernel) (23.2.1)\n",
            "Requirement already satisfied: tornado>=6.1 in /usr/local/lib/python3.8/dist-packages (from ipykernel) (6.2)\n",
            "Requirement already satisfied: comm>=0.1.1 in /usr/local/lib/python3.8/dist-packages (from ipykernel) (0.1.2)\n",
            "Requirement already satisfied: packaging in /usr/local/lib/python3.8/dist-packages (from ipykernel) (23.0)\n",
            "Requirement already satisfied: debugpy>=1.6.5 in /usr/local/lib/python3.8/dist-packages (from ipykernel) (1.6.6)\n",
            "Requirement already satisfied: parso<0.9.0,>=0.8.0 in /usr/local/lib/python3.8/dist-packages (from jedi>=0.16->ipython) (0.8.3)\n",
            "Requirement already satisfied: python-dateutil>=2.1 in /usr/local/lib/python3.8/dist-packages (from jupyter-client>=6.1.12->ipykernel) (2.8.2)\n",
            "Requirement already satisfied: platformdirs>=2.5 in /usr/local/lib/python3.8/dist-packages (from jupyter-core!=5.0.*,>=4.12->ipykernel) (3.0.0)\n",
            "Requirement already satisfied: ptyprocess>=0.5 in /usr/local/lib/python3.8/dist-packages (from pexpect>4.3->ipython) (0.7.0)\n",
            "Requirement already satisfied: wcwidth in /usr/local/lib/python3.8/dist-packages (from prompt-toolkit<3.1.0,>=3.0.30->ipython) (0.2.6)\n",
            "Requirement already satisfied: asttokens>=2.1.0 in /usr/local/lib/python3.8/dist-packages (from stack-data->ipython) (2.2.1)\n",
            "Requirement already satisfied: executing>=1.2.0 in /usr/local/lib/python3.8/dist-packages (from stack-data->ipython) (1.2.0)\n",
            "Requirement already satisfied: pure-eval in /usr/local/lib/python3.8/dist-packages (from stack-data->ipython) (0.2.2)\n",
            "Requirement already satisfied: six in /usr/local/lib/python3.8/dist-packages (from asttokens>=2.1.0->stack-data->ipython) (1.15.0)\n"
          ]
        }
      ]
    },
    {
      "cell_type": "code",
      "execution_count": null,
      "metadata": {
        "colab": {
          "base_uri": "https://localhost:8080/"
        },
        "id": "hDsLCL4wDLeu",
        "outputId": "06d4419e-85e9-4b7b-9fe1-57a3b1141439"
      },
      "outputs": [
        {
          "output_type": "stream",
          "name": "stdout",
          "text": [
            "Looking in indexes: https://pypi.org/simple, https://us-python.pkg.dev/colab-wheels/public/simple/\n",
            "Requirement already satisfied: opencv-python in /usr/local/lib/python3.8/dist-packages (4.6.0.66)\n",
            "Requirement already satisfied: numpy>=1.14.5 in /usr/local/lib/python3.8/dist-packages (from opencv-python) (1.22.4)\n"
          ]
        }
      ],
      "source": [
        "!pip install opencv-python"
      ]
    },
    {
      "cell_type": "code",
      "source": [
        "!pip install PyTikTokAPI"
      ],
      "metadata": {
        "colab": {
          "base_uri": "https://localhost:8080/"
        },
        "id": "hR0iOFrgEpxw",
        "outputId": "c09495b4-1c78-4b76-d98d-fb7d9842f5fd"
      },
      "execution_count": null,
      "outputs": [
        {
          "output_type": "stream",
          "name": "stdout",
          "text": [
            "Looking in indexes: https://pypi.org/simple, https://us-python.pkg.dev/colab-wheels/public/simple/\n",
            "Requirement already satisfied: PyTikTokAPI in /usr/local/lib/python3.8/dist-packages (0.0.5)\n",
            "Requirement already satisfied: requests in /usr/local/lib/python3.8/dist-packages (from PyTikTokAPI) (2.25.1)\n",
            "Requirement already satisfied: pyppeteer in /usr/local/lib/python3.8/dist-packages (from PyTikTokAPI) (1.0.2)\n",
            "Requirement already satisfied: pyppeteer-stealth in /usr/local/lib/python3.8/dist-packages (from PyTikTokAPI) (2.7.4)\n",
            "Requirement already satisfied: pyee<9.0.0,>=8.1.0 in /usr/local/lib/python3.8/dist-packages (from pyppeteer->PyTikTokAPI) (8.2.2)\n",
            "Requirement already satisfied: certifi>=2021 in /usr/local/lib/python3.8/dist-packages (from pyppeteer->PyTikTokAPI) (2022.12.7)\n",
            "Requirement already satisfied: importlib-metadata>=1.4 in /usr/local/lib/python3.8/dist-packages (from pyppeteer->PyTikTokAPI) (6.0.0)\n",
            "Requirement already satisfied: appdirs<2.0.0,>=1.4.3 in /usr/local/lib/python3.8/dist-packages (from pyppeteer->PyTikTokAPI) (1.4.4)\n",
            "Requirement already satisfied: urllib3<2.0.0,>=1.25.8 in /usr/local/lib/python3.8/dist-packages (from pyppeteer->PyTikTokAPI) (1.26.14)\n",
            "Requirement already satisfied: websockets<11.0,>=10.0 in /usr/local/lib/python3.8/dist-packages (from pyppeteer->PyTikTokAPI) (10.4)\n",
            "Requirement already satisfied: tqdm<5.0.0,>=4.42.1 in /usr/local/lib/python3.8/dist-packages (from pyppeteer->PyTikTokAPI) (4.64.1)\n",
            "Requirement already satisfied: idna<3,>=2.5 in /usr/local/lib/python3.8/dist-packages (from requests->PyTikTokAPI) (2.10)\n",
            "Requirement already satisfied: chardet<5,>=3.0.2 in /usr/local/lib/python3.8/dist-packages (from requests->PyTikTokAPI) (4.0.0)\n",
            "Requirement already satisfied: zipp>=0.5 in /usr/local/lib/python3.8/dist-packages (from importlib-metadata>=1.4->pyppeteer->PyTikTokAPI) (3.14.0)\n"
          ]
        }
      ]
    },
    {
      "cell_type": "markdown",
      "source": [
        "Get your keys from Cookie. You can get them from the Applications tab in Chrome developer console, just press F12 to open.\n",
        "By default it used hardcoded values which may not work after some time.\n"
      ],
      "metadata": {
        "id": "XplOQMZWROnA"
      }
    },
    {
      "cell_type": "code",
      "source": [
        "from TikTokAPI import TikTokAPI\n",
        "cookie = {\n",
        "  \"s_v_web_id\": \"cookie_web_id\",\n",
        "  \"tt_webid\": \"cookie_data_webid\"\n",
        "}"
      ],
      "metadata": {
        "id": "1bRMS7NYEyMj"
      },
      "execution_count": null,
      "outputs": []
    },
    {
      "cell_type": "code",
      "source": [
        "api = TikTokAPI(cookie=cookie)\n",
        "print(dir(api))\n"
      ],
      "metadata": {
        "colab": {
          "base_uri": "https://localhost:8080/"
        },
        "id": "RocX7p0LM6cM",
        "outputId": "a00110ec-574a-4a2d-be11-64e0d7206bff"
      },
      "execution_count": null,
      "outputs": [
        {
          "output_type": "stream",
          "name": "stdout",
          "text": [
            "['__class__', '__delattr__', '__dict__', '__dir__', '__doc__', '__eq__', '__format__', '__ge__', '__getattribute__', '__gt__', '__hash__', '__init__', '__init_subclass__', '__le__', '__lt__', '__module__', '__ne__', '__new__', '__reduce__', '__reduce_ex__', '__repr__', '__setattr__', '__sizeof__', '__str__', '__subclasshook__', '__weakref__', 'base_url', 'browser_lang', 'default_params', 'did_key', 'downloadVideoById', 'downloadVideoByIdNoWatermark', 'getHashTag', 'getLikesByUserName', 'getMusic', 'getTrending', 'getUserByName', 'getVideoById', 'getVideosByHashTag', 'getVideosByMusic', 'getVideosByUserName', 'headers', 'language', 'region', 'send_get_request', 'signature_key', 'tiktok_browser', 'timezone', 'tt_webid', 'user_agent', 'verifyFp']\n"
          ]
        }
      ]
    },
    {
      "cell_type": "code",
      "source": [
        "import nest_asyncio\n",
        "nest_asyncio.apply()"
      ],
      "metadata": {
        "id": "Jne9dg8pN1w0"
      },
      "execution_count": null,
      "outputs": []
    },
    {
      "cell_type": "code",
      "source": [
        "api = TikTokAPI(cookie=cookie)\n",
        "\n",
        "TrendingVideos = api.getTrending(count=5)\n",
        "for i in TrendingVideos:\n",
        "  print(TrendingVideos[i])"
      ],
      "metadata": {
        "colab": {
          "base_uri": "https://localhost:8080/"
        },
        "id": "e00KLPFNNZOg",
        "outputId": "40b0f3d3-a147-4d84-d30c-58d091446fc0"
      },
      "execution_count": null,
      "outputs": [
        {
          "output_type": "stream",
          "name": "stdout",
          "text": [
            "{'fatal_item_ids': [], 'logid': '20230223215830386E910FCB1E600A6829', 'now': 1677189511000}\n",
            "False\n",
            "[{'BAInfo': '', 'adAuthorization': False, 'adLabelVersion': 0, 'author': {'avatarLarger': 'https://p16-sign-va.tiktokcdn.com/tos-maliva-avt-0068/1971e99be0d67160f34f39fb1d66a0e5~c5_1080x1080.jpeg?x-expires=1677358800&x-signature=tJHhzTkR8Ga1LVGUwxpkaX9A70I%3D', 'avatarMedium': 'https://p16-sign-va.tiktokcdn.com/tos-maliva-avt-0068/1971e99be0d67160f34f39fb1d66a0e5~c5_720x720.jpeg?x-expires=1677358800&x-signature=UZZFFvFeteP%2B3FKmPQhRQrtg0YM%3D', 'avatarThumb': 'https://p16-sign-va.tiktokcdn.com/tos-maliva-avt-0068/1971e99be0d67160f34f39fb1d66a0e5~c5_100x100.jpeg?x-expires=1677358800&x-signature=jWA3FgBVVHywz3fGWSgvlS0ffKI%3D', 'commentSetting': 0, 'downloadSetting': 0, 'duetSetting': 0, 'ftc': False, 'id': '107955', 'isADVirtual': False, 'isEmbedBanned': False, 'nickname': 'TikTok', 'openFavorite': False, 'privateAccount': False, 'relation': 0, 'secUid': 'MS4wLjABAAAAv7iSuuXDJGDvJkmH_vz1qkDZYo1apxgzaxdBSeIuPiM', 'secret': False, 'signature': 'the 🕰️ app', 'stitchSetting': 0, 'ttSeller': False, 'uniqueId': 'tiktok', 'verified': True}, 'authorStats': {'diggCount': 1027, 'followerCount': 68200000, 'followingCount': 575, 'heart': 286400000, 'heartCount': 286400000, 'videoCount': 584}, 'challenges': [{'coverLarger': '', 'coverMedium': '', 'coverThumb': '', 'desc': 'Celebrating women and their stories.', 'id': '804176', 'isCommerce': False, 'profileLarger': 'https://p16-amd-va.tiktokcdn.com/obj/musically-maliva-obj/62691542a0311e32210fa1a801776720', 'profileMedium': 'https://p16-amd-va.tiktokcdn.com/obj/musically-maliva-obj/62691542a0311e32210fa1a801776720', 'profileThumb': 'https://p16-amd-va.tiktokcdn.com/obj/musically-maliva-obj/62691542a0311e32210fa1a801776720', 'stats': {'videoCount': 0, 'viewCount': 0}, 'title': 'herstory'}], 'contents': [{'desc': 'Challenge the Game discussed mental health, equality and love for the game! Celebrate all women in sports using #HerStory', 'textExtra': [{'awemeId': '', 'end': 121, 'hashtagId': '804176', 'hashtagName': 'herstory', 'isCommerce': False, 'secUid': '', 'start': 112, 'subType': 0, 'type': 1, 'userId': '', 'userUniqueId': ''}]}], 'createTime': 1616708220, 'desc': 'Challenge the Game discussed mental health, equality and love for the game! Celebrate all women in sports using #HerStory', 'digged': False, 'duetDisplay': 0, 'duetEnabled': True, 'duetInfo': {'duetFromId': '0'}, 'forFriend': False, 'id': '6943708918040366341', 'isAd': False, 'itemCommentStatus': 0, 'itemMute': False, 'music': {'album': '', 'authorName': 'TikTok', 'coverLarge': 'https://p16-sign-va.tiktokcdn.com/tos-maliva-avt-0068/1971e99be0d67160f34f39fb1d66a0e5~c5_1080x1080.jpeg?x-expires=1677358800&x-signature=tJHhzTkR8Ga1LVGUwxpkaX9A70I%3D', 'coverMedium': 'https://p16-sign-va.tiktokcdn.com/tos-maliva-avt-0068/1971e99be0d67160f34f39fb1d66a0e5~c5_720x720.jpeg?x-expires=1677358800&x-signature=UZZFFvFeteP%2B3FKmPQhRQrtg0YM%3D', 'coverThumb': 'https://p16-sign-va.tiktokcdn.com/tos-maliva-avt-0068/1971e99be0d67160f34f39fb1d66a0e5~c5_100x100.jpeg?x-expires=1677358800&x-signature=jWA3FgBVVHywz3fGWSgvlS0ffKI%3D', 'duration': 59, 'id': '6943708750427491077', 'original': True, 'playUrl': 'https://sf16-ies-music-va.tiktokcdn.com/obj/musically-maliva-obj/6943708919738944261.mp3', 'title': 'original sound'}, 'officalItem': False, 'originalItem': False, 'privateItem': False, 'secret': False, 'shareEnabled': True, 'showNotPass': False, 'stats': {'commentCount': 17900, 'diggCount': 107000, 'playCount': 2500000, 'shareCount': 1664}, 'stitchDisplay': 0, 'stitchEnabled': True, 'textExtra': [{'awemeId': '', 'end': 121, 'hashtagId': '804176', 'hashtagName': 'herstory', 'isCommerce': False, 'secUid': '', 'start': 112, 'subType': 0, 'type': 1, 'userId': '', 'userUniqueId': ''}], 'video': {'bitrate': 914964, 'bitrateInfo': [{'Bitrate': 914964, 'CodecType': 'h264', 'GearName': 'normal_720_0', 'PlayAddr': {'DataSize': 6766390, 'FileCs': 'c:0-47490-9b53', 'FileHash': '53d9851d3be9f14e87a9482684d178c3', 'Uri': 'v09044650000c1eg4npu0r9tbsj5vgdg', 'UrlKey': 'v09044650000c1eg4npu0r9tbsj5vgdg_h264_720p_914964', 'UrlList': ['https://v16-webapp-prime.tiktok.com/video/tos/useast2a/tos-useast2a-ve-0068c004/e496f63f715e408aa11eb91298365924/?a=1988&ch=0&cr=0&dr=0&lr=tiktok_m&cd=0%7C0%7C1%7C0&cv=1&br=1786&bt=893&cs=0&ds=3&ft=4fUEKMzm8Zmo0rRiM64jVdGhjpWrKsdm&mime_type=video_mp4&qs=0&rc=O2k5aTw6N2RmaTkzNTYzN0Bpamo4dnd1eHFqNDMzODczM0BiMDEuYzQzXjAxMjQzNWE0YSNhc2dfNi1tMWJgLS0zMTZzcw%3D%3D&btag=80000&expire=1677211170&l=20230223215830386E910FCB1E600A6829&ply_type=2&policy=2&signature=92e465a6cff125ee0b9b02b6b6bef0a6&tk=tt_chain_token', 'https://v19-webapp-prime.tiktok.com/video/tos/useast2a/tos-useast2a-ve-0068c004/e496f63f715e408aa11eb91298365924/?a=1988&ch=0&cr=0&dr=0&lr=tiktok_m&cd=0%7C0%7C1%7C0&cv=1&br=1786&bt=893&cs=0&ds=3&ft=4fUEKMzm8Zmo0rRiM64jVdGhjpWrKsdm&mime_type=video_mp4&qs=0&rc=O2k5aTw6N2RmaTkzNTYzN0Bpamo4dnd1eHFqNDMzODczM0BiMDEuYzQzXjAxMjQzNWE0YSNhc2dfNi1tMWJgLS0zMTZzcw%3D%3D&btag=80000&expire=1677211170&l=20230223215830386E910FCB1E600A6829&ply_type=2&policy=2&signature=92e465a6cff125ee0b9b02b6b6bef0a6&tk=tt_chain_token']}, 'QualityType': 10}], 'codecType': 'h264', 'cover': 'https://p16-sign-va.tiktokcdn.com/obj/tos-maliva-p-0068/ccd1a979d4f244b7b40d75b5022cd9bc_1616708225?x-expires=1677207600&x-signature=iGHtF0FfbmhrwGzoojUC6xb3CMA%3D', 'definition': '720p', 'downloadAddr': 'https://v16-webapp-prime.tiktok.com/video/tos/useast2a/tos-useast2a-ve-0068c004/e496f63f715e408aa11eb91298365924/?a=1988&ch=0&cr=0&dr=0&lr=tiktok_m&cd=0%7C0%7C1%7C0&cv=1&br=1786&bt=893&cs=0&ds=3&ft=4fUEKMzm8Zmo0rRiM64jVdGhjpWrKsdm&mime_type=video_mp4&qs=0&rc=O2k5aTw6N2RmaTkzNTYzN0Bpamo4dnd1eHFqNDMzODczM0BiMDEuYzQzXjAxMjQzNWE0YSNhc2dfNi1tMWJgLS0zMTZzcw%3D%3D&btag=80000&expire=1677211170&l=20230223215830386E910FCB1E600A6829&ply_type=2&policy=2&signature=92e465a6cff125ee0b9b02b6b6bef0a6&tk=tt_chain_token', 'duration': 59, 'dynamicCover': 'https://p16-sign-va.tiktokcdn.com/obj/tos-maliva-p-0068/bd9c7b30e18c45b185e188a065d67381_1616708234?x-expires=1677207600&x-signature=e0uBTQ3Xm3UeOuQABlkiPdraKiY%3D', 'encodeUserTag': '', 'encodedType': 'normal', 'format': 'mp4', 'height': 1024, 'id': '6943708918040366341', 'originCover': 'https://p16-sign-va.tiktokcdn.com/obj/tos-maliva-p-0068/a733fa60d2314561b6fa698ccf24ca33_1616708234?x-expires=1677207600&x-signature=QttwQi%2FqBp2vLyvzCztBHLb1dFw%3D', 'playAddr': 'https://v16-webapp-prime.tiktok.com/video/tos/useast2a/tos-useast2a-ve-0068c004/e496f63f715e408aa11eb91298365924/?a=1988&ch=0&cr=0&dr=0&lr=tiktok_m&cd=0%7C0%7C1%7C0&cv=1&br=1786&bt=893&cs=0&ds=3&ft=4fUEKMzm8Zmo0rRiM64jVdGhjpWrKsdm&mime_type=video_mp4&qs=0&rc=O2k5aTw6N2RmaTkzNTYzN0Bpamo4dnd1eHFqNDMzODczM0BiMDEuYzQzXjAxMjQzNWE0YSNhc2dfNi1tMWJgLS0zMTZzcw%3D%3D&btag=80000&expire=1677211170&l=20230223215830386E910FCB1E600A6829&ply_type=2&policy=2&signature=92e465a6cff125ee0b9b02b6b6bef0a6&tk=tt_chain_token', 'ratio': '720p', 'reflowCover': 'https://p16-sign-va.tiktokcdn.com/obj/tos-maliva-p-0068/ccd1a979d4f244b7b40d75b5022cd9bc_1616708225?x-expires=1677207600&x-signature=iGHtF0FfbmhrwGzoojUC6xb3CMA%3D', 'shareCover': ['', 'https://p16-sign-va.tiktokcdn.com/tos-maliva-p-0068/a733fa60d2314561b6fa698ccf24ca33_1616708234~tplv-tiktok-play.jpeg?x-expires=1677790800&x-signature=k0Gl7QMnJ8AjQGXgci9IJPhlqdw%3D', 'https://p16-sign-va.tiktokcdn.com/tos-maliva-p-0068/a733fa60d2314561b6fa698ccf24ca33_1616708234~tplv-tiktokx-share-play.jpeg?x-expires=1677790800&x-signature=peuWg%2BbwnTaZdP1fxWfIfJw4qSE%3D'], 'size': 6766390, 'videoQuality': 'normal', 'volumeInfo': {'Loudness': -23.7, 'Peak': 0.50699}, 'width': 576, 'zoomCover': {'240': 'https://p16-sign-va.tiktokcdn.com/tos-maliva-p-0068/ccd1a979d4f244b7b40d75b5022cd9bc_1616708225~tplv-f5insbecw7-1:240:240.jpeg?x-expires=1677207600&x-signature=QB%2F5twEI6RsxP8il%2BUaXSc8BCyE%3D', '480': 'https://p16-sign-va.tiktokcdn.com/tos-maliva-p-0068/ccd1a979d4f244b7b40d75b5022cd9bc_1616708225~tplv-f5insbecw7-1:480:480.jpeg?x-expires=1677207600&x-signature=Ypk0dsYtKyI7nBZ6iIBQVTuQcbY%3D', '720': 'https://p16-sign-va.tiktokcdn.com/tos-maliva-p-0068/ccd1a979d4f244b7b40d75b5022cd9bc_1616708225~tplv-f5insbecw7-1:720:720.jpeg?x-expires=1677207600&x-signature=SKJNWoxJJOUBh%2Bj670hyMbfnUUo%3D', '960': 'https://p16-sign-va.tiktokcdn.com/tos-maliva-p-0068/ccd1a979d4f244b7b40d75b5022cd9bc_1616708225~tplv-f5insbecw7-1:960:960.jpeg?x-expires=1677207600&x-signature=Nbs1M2qe5GMDv9kl4rXzAL7bEa4%3D'}}, 'vl1': False}, {'BAInfo': '', 'adAuthorization': True, 'adLabelVersion': 0, 'author': {'avatarLarger': 'https://p16-sign-va.tiktokcdn.com/tos-maliva-avt-0068/1971e99be0d67160f34f39fb1d66a0e5~c5_1080x1080.jpeg?x-expires=1677358800&x-signature=tJHhzTkR8Ga1LVGUwxpkaX9A70I%3D', 'avatarMedium': 'https://p16-sign-va.tiktokcdn.com/tos-maliva-avt-0068/1971e99be0d67160f34f39fb1d66a0e5~c5_720x720.jpeg?x-expires=1677358800&x-signature=UZZFFvFeteP%2B3FKmPQhRQrtg0YM%3D', 'avatarThumb': 'https://p16-sign-va.tiktokcdn.com/tos-maliva-avt-0068/1971e99be0d67160f34f39fb1d66a0e5~c5_100x100.jpeg?x-expires=1677358800&x-signature=jWA3FgBVVHywz3fGWSgvlS0ffKI%3D', 'commentSetting': 0, 'downloadSetting': 0, 'duetSetting': 0, 'ftc': False, 'id': '107955', 'isADVirtual': False, 'isEmbedBanned': False, 'nickname': 'TikTok', 'openFavorite': False, 'privateAccount': False, 'relation': 0, 'secUid': 'MS4wLjABAAAAv7iSuuXDJGDvJkmH_vz1qkDZYo1apxgzaxdBSeIuPiM', 'secret': False, 'signature': 'the 🕰️ app', 'stitchSetting': 0, 'ttSeller': False, 'uniqueId': 'tiktok', 'verified': True}, 'authorStats': {'diggCount': 1027, 'followerCount': 68200000, 'followingCount': 575, 'heart': 286400000, 'heartCount': 286400000, 'videoCount': 584}, 'contents': [{'desc': 'Check out our new tutorial on going LIVE!'}], 'createTime': 1599847750, 'desc': 'Check out our new tutorial on going LIVE!', 'digged': False, 'duetDisplay': 0, 'duetEnabled': True, 'duetInfo': {'duetFromId': '0'}, 'forFriend': False, 'id': '6871293709275630854', 'isAd': False, 'itemCommentStatus': 0, 'itemMute': False, 'music': {'album': '', 'authorName': 'TikTok', 'coverLarge': 'https://p16-sign-va.tiktokcdn.com/tos-maliva-avt-0068/1971e99be0d67160f34f39fb1d66a0e5~c5_1080x1080.jpeg?x-expires=1677358800&x-signature=tJHhzTkR8Ga1LVGUwxpkaX9A70I%3D', 'coverMedium': 'https://p16-sign-va.tiktokcdn.com/tos-maliva-avt-0068/1971e99be0d67160f34f39fb1d66a0e5~c5_720x720.jpeg?x-expires=1677358800&x-signature=UZZFFvFeteP%2B3FKmPQhRQrtg0YM%3D', 'coverThumb': 'https://p16-sign-va.tiktokcdn.com/tos-maliva-avt-0068/1971e99be0d67160f34f39fb1d66a0e5~c5_100x100.jpeg?x-expires=1677358800&x-signature=jWA3FgBVVHywz3fGWSgvlS0ffKI%3D', 'duration': 48, 'id': '6871293607782009606', 'original': True, 'playUrl': 'https://sf16-ies-music-va.tiktokcdn.com/obj/musically-maliva-obj/6871293439439309573.mp3', 'title': 'original sound'}, 'officalItem': False, 'originalItem': False, 'privateItem': False, 'secret': False, 'shareEnabled': True, 'showNotPass': False, 'stats': {'commentCount': 28100, 'diggCount': 334000, 'playCount': 3900000, 'shareCount': 5418}, 'stitchDisplay': 0, 'stitchEnabled': True, 'video': {'bitrate': 946174, 'bitrateInfo': [{'Bitrate': 946174, 'CodecType': 'h264', 'GearName': 'normal_720_0', 'PlayAddr': {'DataSize': 5706617, 'FileCs': 'c:0-53418-004c', 'FileHash': 'c50f73959d4d43e40f679857cf8e6c17', 'Uri': 'v09044310000btdrq9go4qnl2r7mbi6g', 'UrlKey': 'v09044310000btdrq9go4qnl2r7mbi6g_h264_720p_946174', 'UrlList': ['https://v16-webapp-prime.tiktok.com/video/tos/useast2a/tos-useast2a-ve-0068c002/83544bba141244d291ae0582ad883769/?a=1988&ch=0&cr=0&dr=0&lr=tiktok_m&cd=0%7C0%7C1%7C0&cv=1&br=1846&bt=923&cs=0&ds=3&ft=4fUEKMzm8Zmo0rRiM64jVdGhjpWrKsdm&mime_type=video_mp4&qs=0&rc=ZWc1OWZnZGloNzlnNmZkNEBpamxwdW90cjx1dzMzNDczM0BeMTI2X2FgNmMxNGMwMmJfYSMzXzQvazFkbmFfLS0wMTZzcw%3D%3D&btag=80000&expire=1677211159&l=20230223215830386E910FCB1E600A6829&ply_type=2&policy=2&signature=7cd326c405249a81991e792d2842402b&tk=tt_chain_token', 'https://v19-webapp-prime.tiktok.com/video/tos/useast2a/tos-useast2a-ve-0068c002/83544bba141244d291ae0582ad883769/?a=1988&ch=0&cr=0&dr=0&lr=tiktok_m&cd=0%7C0%7C1%7C0&cv=1&br=1846&bt=923&cs=0&ds=3&ft=4fUEKMzm8Zmo0rRiM64jVdGhjpWrKsdm&mime_type=video_mp4&qs=0&rc=ZWc1OWZnZGloNzlnNmZkNEBpamxwdW90cjx1dzMzNDczM0BeMTI2X2FgNmMxNGMwMmJfYSMzXzQvazFkbmFfLS0wMTZzcw%3D%3D&btag=80000&expire=1677211159&l=20230223215830386E910FCB1E600A6829&ply_type=2&policy=2&signature=7cd326c405249a81991e792d2842402b&tk=tt_chain_token']}, 'QualityType': 10}], 'codecType': 'h264', 'cover': 'https://p16-sign-va.tiktokcdn.com/obj/tos-maliva-p-0068/5ba44c38c0aa4c98ab85225ebd3ea0b6?x-expires=1677207600&x-signature=L4wV9mnCQDgS6jWjiiYIXKzeh%2FU%3D', 'definition': '720p', 'downloadAddr': 'https://v16-webapp-prime.tiktok.com/video/tos/useast2a/tos-useast2a-ve-0068c002/83544bba141244d291ae0582ad883769/?a=1988&ch=0&cr=0&dr=0&lr=tiktok_m&cd=0%7C0%7C1%7C0&cv=1&br=1846&bt=923&cs=0&ds=3&ft=4fUEKMzm8Zmo0rRiM64jVdGhjpWrKsdm&mime_type=video_mp4&qs=0&rc=ZWc1OWZnZGloNzlnNmZkNEBpamxwdW90cjx1dzMzNDczM0BeMTI2X2FgNmMxNGMwMmJfYSMzXzQvazFkbmFfLS0wMTZzcw%3D%3D&btag=80000&expire=1677211159&l=20230223215830386E910FCB1E600A6829&ply_type=2&policy=2&signature=7cd326c405249a81991e792d2842402b&tk=tt_chain_token', 'duration': 48, 'dynamicCover': 'https://p16-sign-va.tiktokcdn.com/obj/tos-maliva-p-0068/2ae767950cf54230a7b77f42af21338e_1599847752?x-expires=1677207600&x-signature=iWmj%2BZgCR0kDkxwwSoL4xG7RT%2FU%3D', 'encodeUserTag': '', 'encodedType': 'normal', 'format': 'mp4', 'height': 1024, 'id': '6871293709275630854', 'originCover': 'https://p16-sign-va.tiktokcdn.com/obj/tos-maliva-p-0068/0600b6a66e32423d97ea238c1e643e39_1599847751?x-expires=1677207600&x-signature=VPrceL6Do7oYmemNXOKjdGZhebw%3D', 'playAddr': 'https://v16-webapp-prime.tiktok.com/video/tos/useast2a/tos-useast2a-ve-0068c002/83544bba141244d291ae0582ad883769/?a=1988&ch=0&cr=0&dr=0&lr=tiktok_m&cd=0%7C0%7C1%7C0&cv=1&br=1846&bt=923&cs=0&ds=3&ft=4fUEKMzm8Zmo0rRiM64jVdGhjpWrKsdm&mime_type=video_mp4&qs=0&rc=ZWc1OWZnZGloNzlnNmZkNEBpamxwdW90cjx1dzMzNDczM0BeMTI2X2FgNmMxNGMwMmJfYSMzXzQvazFkbmFfLS0wMTZzcw%3D%3D&btag=80000&expire=1677211159&l=20230223215830386E910FCB1E600A6829&ply_type=2&policy=2&signature=7cd326c405249a81991e792d2842402b&tk=tt_chain_token', 'ratio': '720p', 'reflowCover': 'https://p16-sign-va.tiktokcdn.com/obj/tos-maliva-p-0068/5ba44c38c0aa4c98ab85225ebd3ea0b6?x-expires=1677207600&x-signature=L4wV9mnCQDgS6jWjiiYIXKzeh%2FU%3D', 'shareCover': ['', 'https://p16-sign-va.tiktokcdn.com/tos-maliva-p-0068/0600b6a66e32423d97ea238c1e643e39_1599847751~tplv-tiktok-play.jpeg?x-expires=1677790800&x-signature=IPMZdysSAdc4cKy9EjNsddMD%2Be4%3D', 'https://p16-sign-va.tiktokcdn.com/tos-maliva-p-0068/0600b6a66e32423d97ea238c1e643e39_1599847751~tplv-tiktokx-share-play.jpeg?x-expires=1677790800&x-signature=gh4a24535PdBPxl9FhsHXYWSZQE%3D'], 'size': 5706617, 'videoQuality': 'normal', 'volumeInfo': {}, 'width': 576, 'zoomCover': {'240': 'https://p16-sign-va.tiktokcdn.com/tos-maliva-p-0068/5ba44c38c0aa4c98ab85225ebd3ea0b6~tplv-f5insbecw7-1:240:240.jpeg?x-expires=1677207600&x-signature=yFIAcSWlmXu%2Ba4jSaD3hzEbca3Q%3D', '480': 'https://p16-sign-va.tiktokcdn.com/tos-maliva-p-0068/5ba44c38c0aa4c98ab85225ebd3ea0b6~tplv-f5insbecw7-1:480:480.jpeg?x-expires=1677207600&x-signature=4rho0JquR51y2wIG6FGJYKuvfno%3D', '720': 'https://p16-sign-va.tiktokcdn.com/tos-maliva-p-0068/5ba44c38c0aa4c98ab85225ebd3ea0b6~tplv-f5insbecw7-1:720:720.jpeg?x-expires=1677207600&x-signature=ele%2B6en6PQel%2Bb%2BUSOj%2BK2zUSRM%3D', '960': 'https://p16-sign-va.tiktokcdn.com/tos-maliva-p-0068/5ba44c38c0aa4c98ab85225ebd3ea0b6~tplv-f5insbecw7-1:960:960.jpeg?x-expires=1677207600&x-signature=Ujuo0EaOA%2BL2hXSSiFZyhEa0zZ4%3D'}}, 'vl1': False}, {'BAInfo': '', 'adAuthorization': False, 'adLabelVersion': 0, 'author': {'avatarLarger': 'https://p16-sign-va.tiktokcdn.com/tos-maliva-avt-0068/1971e99be0d67160f34f39fb1d66a0e5~c5_1080x1080.jpeg?x-expires=1677358800&x-signature=tJHhzTkR8Ga1LVGUwxpkaX9A70I%3D', 'avatarMedium': 'https://p16-sign-va.tiktokcdn.com/tos-maliva-avt-0068/1971e99be0d67160f34f39fb1d66a0e5~c5_720x720.jpeg?x-expires=1677358800&x-signature=UZZFFvFeteP%2B3FKmPQhRQrtg0YM%3D', 'avatarThumb': 'https://p16-sign-va.tiktokcdn.com/tos-maliva-avt-0068/1971e99be0d67160f34f39fb1d66a0e5~c5_100x100.jpeg?x-expires=1677358800&x-signature=jWA3FgBVVHywz3fGWSgvlS0ffKI%3D', 'commentSetting': 0, 'downloadSetting': 0, 'duetSetting': 0, 'ftc': False, 'id': '107955', 'isADVirtual': False, 'isEmbedBanned': False, 'nickname': 'TikTok', 'openFavorite': False, 'privateAccount': False, 'relation': 0, 'secUid': 'MS4wLjABAAAAv7iSuuXDJGDvJkmH_vz1qkDZYo1apxgzaxdBSeIuPiM', 'secret': False, 'signature': 'the 🕰️ app', 'stitchSetting': 0, 'ttSeller': False, 'uniqueId': 'tiktok', 'verified': True}, 'authorStats': {'diggCount': 1027, 'followerCount': 68200000, 'followingCount': 575, 'heart': 286400000, 'heartCount': 286400000, 'videoCount': 584}, 'contents': [{'desc': 'You can now ask and answer any questions on LIVE with the new Q&A feature. Check it out now!'}], 'createTime': 1614801856, 'desc': 'You can now ask and answer any questions on LIVE with the new Q&A feature. Check it out now!', 'digged': False, 'duetDisplay': 0, 'duetEnabled': True, 'duetInfo': {'duetFromId': '0'}, 'forFriend': False, 'id': '6935521116114914566', 'isAd': False, 'itemCommentStatus': 0, 'itemMute': False, 'music': {'album': '', 'authorName': 'TikTok', 'coverLarge': 'https://p16-sign-va.tiktokcdn.com/tos-maliva-avt-0068/1971e99be0d67160f34f39fb1d66a0e5~c5_1080x1080.jpeg?x-expires=1677358800&x-signature=tJHhzTkR8Ga1LVGUwxpkaX9A70I%3D', 'coverMedium': 'https://p16-sign-va.tiktokcdn.com/tos-maliva-avt-0068/1971e99be0d67160f34f39fb1d66a0e5~c5_720x720.jpeg?x-expires=1677358800&x-signature=UZZFFvFeteP%2B3FKmPQhRQrtg0YM%3D', 'coverThumb': 'https://p16-sign-va.tiktokcdn.com/tos-maliva-avt-0068/1971e99be0d67160f34f39fb1d66a0e5~c5_100x100.jpeg?x-expires=1677358800&x-signature=jWA3FgBVVHywz3fGWSgvlS0ffKI%3D', 'duration': 40, 'id': '6935521097647688453', 'original': True, 'playUrl': 'https://sf16-ies-music-va.tiktokcdn.com/obj/musically-maliva-obj/6935779980668373766.mp3', 'title': 'original sound'}, 'officalItem': False, 'originalItem': False, 'privateItem': False, 'secret': False, 'shareEnabled': True, 'showNotPass': False, 'stats': {'commentCount': 23300, 'diggCount': 131800, 'playCount': 2400000, 'shareCount': 3624}, 'stitchDisplay': 0, 'stitchEnabled': True, 'video': {'bitrate': 692215, 'bitrateInfo': [{'Bitrate': 692215, 'CodecType': 'h264', 'GearName': 'normal_720_0', 'PlayAddr': {'DataSize': 3507800, 'FileCs': 'c:0-32470-ad0d', 'FileHash': '6f92c6eefd6c246de317b61e0e59b048', 'Uri': 'v090448e0000c0vunb0n9jt5e9hl7hsg', 'UrlKey': 'v090448e0000c0vunb0n9jt5e9hl7hsg_h264_720p_692215', 'UrlList': ['https://v16-webapp-prime.tiktok.com/video/tos/useast2a/tos-useast2a-ve-0068c001/f0d5b54b914e4e038c89c92946137f85/?a=1988&ch=0&cr=0&dr=0&lr=tiktok_m&cd=0%7C0%7C1%7C0&cv=1&br=1350&bt=675&cs=0&ds=3&ft=4fUEKMzm8Zmo0rRiM64jVdGhjpWrKsdm&mime_type=video_mp4&qs=0&rc=M2dpPGQ8NjZmOmQ5OGc3M0BpamtvPDhtcWV4MzMzaDczM0AuMmNiMC8uNi8xXi8xYGI0YSNwNGVicTYta3NgLS01MTZzcw%3D%3D&btag=80000&expire=1677211151&l=20230223215830386E910FCB1E600A6829&ply_type=2&policy=2&signature=0d9cfa1d5e04eaa710905cf5caadd4bd&tk=tt_chain_token', 'https://v19-webapp-prime.tiktok.com/video/tos/useast2a/tos-useast2a-ve-0068c001/f0d5b54b914e4e038c89c92946137f85/?a=1988&ch=0&cr=0&dr=0&lr=tiktok_m&cd=0%7C0%7C1%7C0&cv=1&br=1350&bt=675&cs=0&ds=3&ft=4fUEKMzm8Zmo0rRiM64jVdGhjpWrKsdm&mime_type=video_mp4&qs=0&rc=M2dpPGQ8NjZmOmQ5OGc3M0BpamtvPDhtcWV4MzMzaDczM0AuMmNiMC8uNi8xXi8xYGI0YSNwNGVicTYta3NgLS01MTZzcw%3D%3D&btag=80000&expire=1677211151&l=20230223215830386E910FCB1E600A6829&ply_type=2&policy=2&signature=0d9cfa1d5e04eaa710905cf5caadd4bd&tk=tt_chain_token']}, 'QualityType': 10}], 'codecType': 'h264', 'cover': 'https://p16-sign-va.tiktokcdn.com/obj/tos-maliva-p-0068/f59461a19e8b41a3b473310433ba5cb7_1614801858?x-expires=1677207600&x-signature=8E5STmgZivx%2BSOWatjLh2vzOIYk%3D', 'definition': '720p', 'downloadAddr': 'https://v16-webapp-prime.tiktok.com/video/tos/useast2a/tos-useast2a-ve-0068c001/f0d5b54b914e4e038c89c92946137f85/?a=1988&ch=0&cr=0&dr=0&lr=tiktok_m&cd=0%7C0%7C1%7C0&cv=1&br=1350&bt=675&cs=0&ds=3&ft=4fUEKMzm8Zmo0rRiM64jVdGhjpWrKsdm&mime_type=video_mp4&qs=0&rc=M2dpPGQ8NjZmOmQ5OGc3M0BpamtvPDhtcWV4MzMzaDczM0AuMmNiMC8uNi8xXi8xYGI0YSNwNGVicTYta3NgLS01MTZzcw%3D%3D&btag=80000&expire=1677211151&l=20230223215830386E910FCB1E600A6829&ply_type=2&policy=2&signature=0d9cfa1d5e04eaa710905cf5caadd4bd&tk=tt_chain_token', 'duration': 40, 'dynamicCover': 'https://p16-sign-va.tiktokcdn.com/obj/tos-maliva-p-0068/09619009afe4437794770324608773aa_1614863603?x-expires=1677207600&x-signature=MGrmPdPhPvHjZTUUEg4Zd9JWy4s%3D', 'encodeUserTag': '', 'encodedType': 'normal', 'format': 'mp4', 'height': 1024, 'id': '6935521116114914566', 'originCover': 'https://p16-sign-va.tiktokcdn.com/obj/tos-maliva-p-0068/fa395485fd2c48668efab96011356baf_1614801858?x-expires=1677207600&x-signature=taHELShcJvsCKPn8UP8Q4qn3heI%3D', 'playAddr': 'https://v16-webapp-prime.tiktok.com/video/tos/useast2a/tos-useast2a-ve-0068c001/f0d5b54b914e4e038c89c92946137f85/?a=1988&ch=0&cr=0&dr=0&lr=tiktok_m&cd=0%7C0%7C1%7C0&cv=1&br=1350&bt=675&cs=0&ds=3&ft=4fUEKMzm8Zmo0rRiM64jVdGhjpWrKsdm&mime_type=video_mp4&qs=0&rc=M2dpPGQ8NjZmOmQ5OGc3M0BpamtvPDhtcWV4MzMzaDczM0AuMmNiMC8uNi8xXi8xYGI0YSNwNGVicTYta3NgLS01MTZzcw%3D%3D&btag=80000&expire=1677211151&l=20230223215830386E910FCB1E600A6829&ply_type=2&policy=2&signature=0d9cfa1d5e04eaa710905cf5caadd4bd&tk=tt_chain_token', 'ratio': '720p', 'reflowCover': 'https://p16-sign-va.tiktokcdn.com/obj/tos-maliva-p-0068/f59461a19e8b41a3b473310433ba5cb7_1614801858?x-expires=1677207600&x-signature=8E5STmgZivx%2BSOWatjLh2vzOIYk%3D', 'shareCover': ['', 'https://p16-sign-va.tiktokcdn.com/tos-maliva-p-0068/fa395485fd2c48668efab96011356baf_1614801858~tplv-tiktok-play.jpeg?x-expires=1677790800&x-signature=a7Wi%2FQhUJPbdZ6ldySwbeHRaymc%3D', 'https://p16-sign-va.tiktokcdn.com/tos-maliva-p-0068/fa395485fd2c48668efab96011356baf_1614801858~tplv-tiktokx-share-play.jpeg?x-expires=1677790800&x-signature=IUYqnfBQ6XOCvhma8IqdSXS%2B6lQ%3D'], 'size': 3507800, 'videoQuality': 'normal', 'volumeInfo': {}, 'width': 576, 'zoomCover': {'240': 'https://p16-sign-va.tiktokcdn.com/tos-maliva-p-0068/f59461a19e8b41a3b473310433ba5cb7_1614801858~tplv-f5insbecw7-1:240:240.jpeg?x-expires=1677207600&x-signature=HMoovvO6XEfYzN0A37uap9vXxJA%3D', '480': 'https://p16-sign-va.tiktokcdn.com/tos-maliva-p-0068/f59461a19e8b41a3b473310433ba5cb7_1614801858~tplv-f5insbecw7-1:480:480.jpeg?x-expires=1677207600&x-signature=C5FHuE5b8W6WeBpFpZmNWWcL8lk%3D', '720': 'https://p16-sign-va.tiktokcdn.com/tos-maliva-p-0068/f59461a19e8b41a3b473310433ba5cb7_1614801858~tplv-f5insbecw7-1:720:720.jpeg?x-expires=1677207600&x-signature=bahUaBfZAImWz9DT%2F9%2F8w9Z15kE%3D', '960': 'https://p16-sign-va.tiktokcdn.com/tos-maliva-p-0068/f59461a19e8b41a3b473310433ba5cb7_1614801858~tplv-f5insbecw7-1:960:960.jpeg?x-expires=1677207600&x-signature=iXbmhXwX4nzsXXycaiZHacpyzac%3D'}}, 'vl1': False}, {'BAInfo': '', 'adAuthorization': False, 'adLabelVersion': 0, 'author': {'avatarLarger': 'https://p16-sign-va.tiktokcdn.com/tos-maliva-avt-0068/1971e99be0d67160f34f39fb1d66a0e5~c5_1080x1080.jpeg?x-expires=1677358800&x-signature=tJHhzTkR8Ga1LVGUwxpkaX9A70I%3D', 'avatarMedium': 'https://p16-sign-va.tiktokcdn.com/tos-maliva-avt-0068/1971e99be0d67160f34f39fb1d66a0e5~c5_720x720.jpeg?x-expires=1677358800&x-signature=UZZFFvFeteP%2B3FKmPQhRQrtg0YM%3D', 'avatarThumb': 'https://p16-sign-va.tiktokcdn.com/tos-maliva-avt-0068/1971e99be0d67160f34f39fb1d66a0e5~c5_100x100.jpeg?x-expires=1677358800&x-signature=jWA3FgBVVHywz3fGWSgvlS0ffKI%3D', 'commentSetting': 0, 'downloadSetting': 0, 'duetSetting': 0, 'ftc': False, 'id': '107955', 'isADVirtual': False, 'isEmbedBanned': False, 'nickname': 'TikTok', 'openFavorite': False, 'privateAccount': False, 'relation': 0, 'secUid': 'MS4wLjABAAAAv7iSuuXDJGDvJkmH_vz1qkDZYo1apxgzaxdBSeIuPiM', 'secret': False, 'signature': 'the 🕰️ app', 'stitchSetting': 0, 'ttSeller': False, 'uniqueId': 'tiktok', 'verified': True}, 'authorStats': {'diggCount': 1027, 'followerCount': 68200000, 'followingCount': 575, 'heart': 286400000, 'heartCount': 286400000, 'videoCount': 584}, 'challenges': [{'coverLarger': 'https://p16-amd-va.tiktokcdn.com/obj/musically-maliva-obj/dff7a84f4a6523e32f92b9a79b1e4d34', 'coverMedium': 'https://p16-amd-va.tiktokcdn.com/obj/musically-maliva-obj/dff7a84f4a6523e32f92b9a79b1e4d34', 'coverThumb': 'https://p16-amd-va.tiktokcdn.com/obj/musically-maliva-obj/dff7a84f4a6523e32f92b9a79b1e4d34', 'desc': 'Two is always better than one, so show us your perfect #Duet.', 'id': '30496', 'isCommerce': False, 'profileLarger': 'https://p16-amd-va.tiktokcdn.com/obj/musically-maliva-obj/680309ca50366879089ebf712c1ec89e.png', 'profileMedium': 'https://p16-amd-va.tiktokcdn.com/obj/musically-maliva-obj/680309ca50366879089ebf712c1ec89e.png', 'profileThumb': 'https://p16-amd-va.tiktokcdn.com/obj/musically-maliva-obj/680309ca50366879089ebf712c1ec89e.png', 'stats': {'videoCount': 0, 'viewCount': 0}, 'title': 'duet'}, {'coverLarger': '', 'coverMedium': '', 'coverThumb': '', 'desc': 'Videolarını bir üst seviyeye taşımanın zamanı geldi. İşte yaratıcılığına ilham verebilecek bazı ipuçları.', 'id': '1669593581503493', 'isCommerce': False, 'profileLarger': 'https://p16-amd-va.tiktokcdn.com/obj/musically-maliva-obj/f968ce7eb6cfc529baeb4524d8a411bb', 'profileMedium': 'https://p16-amd-va.tiktokcdn.com/obj/musically-maliva-obj/f968ce7eb6cfc529baeb4524d8a411bb', 'profileThumb': 'https://p16-amd-va.tiktokcdn.com/obj/musically-maliva-obj/f968ce7eb6cfc529baeb4524d8a411bb', 'stats': {'videoCount': 0, 'viewCount': 0}, 'title': 'mükemmeliçerik'}], 'contents': [{'desc': '🚨New feature alert!🚨more #Duet  layouts are now available. Try them out now!', 'textExtra': [{'awemeId': '', 'end': 32, 'hashtagId': '30496', 'hashtagName': 'duet', 'isCommerce': False, 'secUid': '', 'start': 27, 'subType': 0, 'type': 1, 'userId': '', 'userUniqueId': ''}]}], 'createTime': 1601517318, 'desc': '🚨New feature alert!🚨more #Duet  layouts are now available. Try them out now!', 'digged': False, 'duetDisplay': 0, 'duetEnabled': True, 'duetInfo': {'duetFromId': '0'}, 'forFriend': False, 'id': '6878464336357084422', 'isAd': False, 'itemCommentStatus': 0, 'itemMute': False, 'music': {'album': '', 'authorName': 'TikTok', 'coverLarge': 'https://p16-sign-va.tiktokcdn.com/tos-maliva-avt-0068/1971e99be0d67160f34f39fb1d66a0e5~c5_1080x1080.jpeg?x-expires=1677358800&x-signature=tJHhzTkR8Ga1LVGUwxpkaX9A70I%3D', 'coverMedium': 'https://p16-sign-va.tiktokcdn.com/tos-maliva-avt-0068/1971e99be0d67160f34f39fb1d66a0e5~c5_720x720.jpeg?x-expires=1677358800&x-signature=UZZFFvFeteP%2B3FKmPQhRQrtg0YM%3D', 'coverThumb': 'https://p16-sign-va.tiktokcdn.com/tos-maliva-avt-0068/1971e99be0d67160f34f39fb1d66a0e5~c5_100x100.jpeg?x-expires=1677358800&x-signature=jWA3FgBVVHywz3fGWSgvlS0ffKI%3D', 'duration': 44, 'id': '6878464417869138694', 'original': True, 'playUrl': 'https://sf16-ies-music-va.tiktokcdn.com/obj/musically-maliva-obj/6878464294875319046.mp3', 'title': 'original sound'}, 'officalItem': False, 'originalItem': False, 'privateItem': False, 'secret': False, 'shareEnabled': True, 'showNotPass': False, 'stats': {'commentCount': 18900, 'diggCount': 528900, 'playCount': 8200000, 'shareCount': 12500}, 'stitchDisplay': 0, 'stitchEnabled': True, 'textExtra': [{'awemeId': '', 'end': 32, 'hashtagId': '30496', 'hashtagName': 'duet', 'isCommerce': False, 'secUid': '', 'start': 27, 'subType': 0, 'type': 1, 'userId': '', 'userUniqueId': ''}], 'video': {'bitrate': 588273, 'bitrateInfo': [{'Bitrate': 588273, 'CodecType': 'h264', 'GearName': 'normal_720_0', 'PlayAddr': {'DataSize': 3252640, 'FileCs': 'c:0-49378-d58a', 'FileHash': 'ef7a7bf33775759cc8dd96531e3d6324', 'Uri': 'v09044ce0000btqjdrrrspql4e521dbg', 'UrlKey': 'v09044ce0000btqjdrrrspql4e521dbg_h264_720p_588273', 'UrlList': ['https://v16-webapp-prime.tiktok.com/video/tos/useast2a/tos-useast2a-pve-0068/758d1bae4a7c4db3bb07e4db23d81b04/?a=1988&ch=0&cr=0&dr=0&lr=tiktok_m&cd=0%7C0%7C1%7C0&cv=1&br=1148&bt=574&cs=0&ds=3&ft=4fUEKMzm8Zmo0rRiM64jVdGhjpWrKsdm&mime_type=video_mp4&qs=0&rc=MzNmaDc0M2Y1PDVmNDZlaUBpamc1aG9zdXVtdzMzaDczM0BiXjUwMF9iNjUxMC00MzJfYSNfLjIxbnBvYW5fLS1gMTZzcw%3D%3D&btag=80000&expire=1677211155&l=20230223215830386E910FCB1E600A6829&ply_type=2&policy=2&signature=00d6e636c0a9821756e35de074dd54dc&tk=tt_chain_token', 'https://v19-webapp-prime.tiktok.com/video/tos/useast2a/tos-useast2a-pve-0068/758d1bae4a7c4db3bb07e4db23d81b04/?a=1988&ch=0&cr=0&dr=0&lr=tiktok_m&cd=0%7C0%7C1%7C0&cv=1&br=1148&bt=574&cs=0&ds=3&ft=4fUEKMzm8Zmo0rRiM64jVdGhjpWrKsdm&mime_type=video_mp4&qs=0&rc=MzNmaDc0M2Y1PDVmNDZlaUBpamc1aG9zdXVtdzMzaDczM0BiXjUwMF9iNjUxMC00MzJfYSNfLjIxbnBvYW5fLS1gMTZzcw%3D%3D&btag=80000&expire=1677211155&l=20230223215830386E910FCB1E600A6829&ply_type=2&policy=2&signature=00d6e636c0a9821756e35de074dd54dc&tk=tt_chain_token']}, 'QualityType': 10}], 'codecType': 'h264', 'cover': 'https://p16-sign-va.tiktokcdn.com/obj/tos-maliva-p-0068/7cae04de5de247f3a8668e5ab47f9e68_1601517319?x-expires=1677207600&x-signature=iXrF3DpiTuUQStTSTPa6ITqYN%2Fk%3D', 'definition': '720p', 'downloadAddr': 'https://v16-webapp-prime.tiktok.com/video/tos/useast2a/tos-useast2a-pve-0068/758d1bae4a7c4db3bb07e4db23d81b04/?a=1988&ch=0&cr=0&dr=0&lr=tiktok_m&cd=0%7C0%7C1%7C0&cv=1&br=1148&bt=574&cs=0&ds=3&ft=4fUEKMzm8Zmo0rRiM64jVdGhjpWrKsdm&mime_type=video_mp4&qs=0&rc=MzNmaDc0M2Y1PDVmNDZlaUBpamc1aG9zdXVtdzMzaDczM0BiXjUwMF9iNjUxMC00MzJfYSNfLjIxbnBvYW5fLS1gMTZzcw%3D%3D&btag=80000&expire=1677211155&l=20230223215830386E910FCB1E600A6829&ply_type=2&policy=2&signature=00d6e636c0a9821756e35de074dd54dc&tk=tt_chain_token', 'duration': 44, 'dynamicCover': 'https://p16-sign-va.tiktokcdn.com/obj/tos-maliva-p-0068/92ec317146154db9a5ad4fafb6bf9024_1601517320?x-expires=1677207600&x-signature=L4Wk67DKN5zIj6YbeS3CU44Gxnk%3D', 'encodeUserTag': '', 'encodedType': 'normal', 'format': 'mp4', 'height': 1024, 'id': '6878464336357084422', 'originCover': 'https://p16-sign-va.tiktokcdn.com/obj/tos-maliva-p-0068/e69ff6cb69c94dc98965e543659c006d_1601517319?x-expires=1677207600&x-signature=pGveNEQZyM0QS8uHuUs0hoOCCnw%3D', 'playAddr': 'https://v16-webapp-prime.tiktok.com/video/tos/useast2a/tos-useast2a-pve-0068/758d1bae4a7c4db3bb07e4db23d81b04/?a=1988&ch=0&cr=0&dr=0&lr=tiktok_m&cd=0%7C0%7C1%7C0&cv=1&br=1148&bt=574&cs=0&ds=3&ft=4fUEKMzm8Zmo0rRiM64jVdGhjpWrKsdm&mime_type=video_mp4&qs=0&rc=MzNmaDc0M2Y1PDVmNDZlaUBpamc1aG9zdXVtdzMzaDczM0BiXjUwMF9iNjUxMC00MzJfYSNfLjIxbnBvYW5fLS1gMTZzcw%3D%3D&btag=80000&expire=1677211155&l=20230223215830386E910FCB1E600A6829&ply_type=2&policy=2&signature=00d6e636c0a9821756e35de074dd54dc&tk=tt_chain_token', 'ratio': '720p', 'reflowCover': 'https://p16-sign-va.tiktokcdn.com/obj/tos-maliva-p-0068/7cae04de5de247f3a8668e5ab47f9e68_1601517319?x-expires=1677207600&x-signature=iXrF3DpiTuUQStTSTPa6ITqYN%2Fk%3D', 'shareCover': ['', 'https://p16-sign-va.tiktokcdn.com/tos-maliva-p-0068/e69ff6cb69c94dc98965e543659c006d_1601517319~tplv-tiktok-play.jpeg?x-expires=1677790800&x-signature=Xt0NEUCEsNYvVT0bsSA61iBCAaQ%3D', 'https://p16-sign-va.tiktokcdn.com/tos-maliva-p-0068/e69ff6cb69c94dc98965e543659c006d_1601517319~tplv-tiktokx-share-play.jpeg?x-expires=1677790800&x-signature=QoPLH8lHmYcdZvMpsaZia5SFkbM%3D'], 'size': 3252640, 'videoQuality': 'normal', 'volumeInfo': {}, 'width': 576, 'zoomCover': {'240': 'https://p16-sign-va.tiktokcdn.com/tos-maliva-p-0068/7cae04de5de247f3a8668e5ab47f9e68_1601517319~tplv-f5insbecw7-1:240:240.jpeg?x-expires=1677207600&x-signature=JEShHBqyUH4wmxbgE09UZWCAQKE%3D', '480': 'https://p16-sign-va.tiktokcdn.com/tos-maliva-p-0068/7cae04de5de247f3a8668e5ab47f9e68_1601517319~tplv-f5insbecw7-1:480:480.jpeg?x-expires=1677207600&x-signature=%2BSWXLVDJTOVFY0qtxXDwTtrsNgg%3D', '720': 'https://p16-sign-va.tiktokcdn.com/tos-maliva-p-0068/7cae04de5de247f3a8668e5ab47f9e68_1601517319~tplv-f5insbecw7-1:720:720.jpeg?x-expires=1677207600&x-signature=Bvu%2FheBY2XvaqoxmvM%2FJHnQ3WIs%3D', '960': 'https://p16-sign-va.tiktokcdn.com/tos-maliva-p-0068/7cae04de5de247f3a8668e5ab47f9e68_1601517319~tplv-f5insbecw7-1:960:960.jpeg?x-expires=1677207600&x-signature=9qRgUoUMvw2JnnjtnTCJbZx54UM%3D'}}, 'vl1': False}, {'BAInfo': '', 'adAuthorization': False, 'adLabelVersion': 0, 'author': {'avatarLarger': 'https://p16-sign-va.tiktokcdn.com/tos-maliva-avt-0068/1971e99be0d67160f34f39fb1d66a0e5~c5_1080x1080.jpeg?x-expires=1677358800&x-signature=tJHhzTkR8Ga1LVGUwxpkaX9A70I%3D', 'avatarMedium': 'https://p16-sign-va.tiktokcdn.com/tos-maliva-avt-0068/1971e99be0d67160f34f39fb1d66a0e5~c5_720x720.jpeg?x-expires=1677358800&x-signature=UZZFFvFeteP%2B3FKmPQhRQrtg0YM%3D', 'avatarThumb': 'https://p16-sign-va.tiktokcdn.com/tos-maliva-avt-0068/1971e99be0d67160f34f39fb1d66a0e5~c5_100x100.jpeg?x-expires=1677358800&x-signature=jWA3FgBVVHywz3fGWSgvlS0ffKI%3D', 'commentSetting': 0, 'downloadSetting': 0, 'duetSetting': 0, 'ftc': False, 'id': '107955', 'isADVirtual': False, 'isEmbedBanned': False, 'nickname': 'TikTok', 'openFavorite': False, 'privateAccount': False, 'relation': 0, 'secUid': 'MS4wLjABAAAAv7iSuuXDJGDvJkmH_vz1qkDZYo1apxgzaxdBSeIuPiM', 'secret': False, 'signature': 'the 🕰️ app', 'stitchSetting': 0, 'ttSeller': False, 'uniqueId': 'tiktok', 'verified': True}, 'authorStats': {'diggCount': 1027, 'followerCount': 68200000, 'followingCount': 575, 'heart': 286400000, 'heartCount': 286400000, 'videoCount': 584}, 'challenges': [{'coverLarger': 'https://p16-amd-va.tiktokcdn.com/obj/musically-maliva-obj/a7edf3200385b1060776e3d8a6612840', 'coverMedium': 'https://p16-amd-va.tiktokcdn.com/obj/musically-maliva-obj/a7edf3200385b1060776e3d8a6612840', 'coverThumb': 'https://p16-amd-va.tiktokcdn.com/obj/musically-maliva-obj/a7edf3200385b1060776e3d8a6612840', 'desc': 'Make the ultimate collab with your fav creators with our brand new feature, #STITCH! Just find a TikTok video you love, press share, and send it to Stitch.', 'id': '8288', 'isCommerce': False, 'profileLarger': 'https://p16-amd-va.tiktokcdn.com/obj/musically-maliva-obj/6659e09f069c8d2a278f9054d961fb0a', 'profileMedium': 'https://p16-amd-va.tiktokcdn.com/obj/musically-maliva-obj/6659e09f069c8d2a278f9054d961fb0a', 'profileThumb': 'https://p16-amd-va.tiktokcdn.com/obj/musically-maliva-obj/6659e09f069c8d2a278f9054d961fb0a', 'stats': {'videoCount': 0, 'viewCount': 0}, 'title': 'stitch'}], 'contents': [{'desc': 'Now Introducing: STITCH! Make the ultimate collab with your fav creators 🎬'}], 'createTime': 1599072465, 'desc': 'Now Introducing: STITCH! Make the ultimate collab with your fav creators 🎬', 'digged': False, 'duetDisplay': 0, 'duetEnabled': True, 'duetInfo': {'duetFromId': '0'}, 'forFriend': False, 'id': '6867963867230653702', 'isAd': False, 'itemCommentStatus': 0, 'itemMute': False, 'music': {'album': '', 'authorName': 'TikTok', 'coverLarge': 'https://p16-sign-va.tiktokcdn.com/tos-maliva-avt-0068/1971e99be0d67160f34f39fb1d66a0e5~c5_1080x1080.jpeg?x-expires=1677358800&x-signature=tJHhzTkR8Ga1LVGUwxpkaX9A70I%3D', 'coverMedium': 'https://p16-sign-va.tiktokcdn.com/tos-maliva-avt-0068/1971e99be0d67160f34f39fb1d66a0e5~c5_720x720.jpeg?x-expires=1677358800&x-signature=UZZFFvFeteP%2B3FKmPQhRQrtg0YM%3D', 'coverThumb': 'https://p16-sign-va.tiktokcdn.com/tos-maliva-avt-0068/1971e99be0d67160f34f39fb1d66a0e5~c5_100x100.jpeg?x-expires=1677358800&x-signature=jWA3FgBVVHywz3fGWSgvlS0ffKI%3D', 'duration': 43, 'id': '6867963893873003270', 'original': True, 'playUrl': 'https://sf16-ies-music-va.tiktokcdn.com/obj/musically-maliva-obj/6867963855469939461.mp3', 'title': 'original sound'}, 'officalItem': False, 'originalItem': False, 'privateItem': False, 'secret': False, 'shareEnabled': True, 'showNotPass': False, 'stats': {'commentCount': 32100, 'diggCount': 519800, 'playCount': 7700000, 'shareCount': 13400}, 'stitchDisplay': 0, 'stitchEnabled': True, 'video': {'bitrate': 648794, 'bitrateInfo': [{'Bitrate': 648794, 'CodecType': 'h264', 'GearName': 'normal_720_0', 'PlayAddr': {'DataSize': 3543961, 'FileCs': 'c:0-48680-87e1', 'FileHash': 'c67f8c793250f88a92466541f0b238a2', 'Uri': 'v09044120000bt7uhh5ve7m2b2tkjp2g', 'UrlKey': 'v09044120000bt7uhh5ve7m2b2tkjp2g_h264_720p_648794', 'UrlList': ['https://v16-webapp-prime.tiktok.com/video/tos/useast2a/tos-useast2a-ve-0068c003/dde84d5a37f1481888f2cd95d2e03d98/?a=1988&ch=0&cr=0&dr=0&lr=tiktok_m&cd=0%7C0%7C1%7C0&cv=1&br=1266&bt=633&cs=0&ds=3&ft=4fUEKMzm8Zmo0rRiM64jVdGhjpWrKsdm&mime_type=video_mp4&qs=0&rc=ZmQ4NGg5aWg7NWQ3NTY7OUBpanNuNTU6eWt4dzMzNTczM0AxMGNfLS9fNl8xY18xYmEtYSMvZ3FfamIyZTRfLS0uMTZzcw%3D%3D&btag=80000&expire=1677211154&l=20230223215830386E910FCB1E600A6829&ply_type=2&policy=2&signature=a945c3d72c1a2a6da6500da9f6f239f6&tk=tt_chain_token', 'https://v19-webapp-prime.tiktok.com/video/tos/useast2a/tos-useast2a-ve-0068c003/dde84d5a37f1481888f2cd95d2e03d98/?a=1988&ch=0&cr=0&dr=0&lr=tiktok_m&cd=0%7C0%7C1%7C0&cv=1&br=1266&bt=633&cs=0&ds=3&ft=4fUEKMzm8Zmo0rRiM64jVdGhjpWrKsdm&mime_type=video_mp4&qs=0&rc=ZmQ4NGg5aWg7NWQ3NTY7OUBpanNuNTU6eWt4dzMzNTczM0AxMGNfLS9fNl8xY18xYmEtYSMvZ3FfamIyZTRfLS0uMTZzcw%3D%3D&btag=80000&expire=1677211154&l=20230223215830386E910FCB1E600A6829&ply_type=2&policy=2&signature=a945c3d72c1a2a6da6500da9f6f239f6&tk=tt_chain_token']}, 'QualityType': 10}], 'codecType': 'h264', 'cover': 'https://p16-sign-va.tiktokcdn.com/obj/tos-maliva-p-0068/a2a8b3b5e26241ea92a448f6690aa0dc_1599072467?x-expires=1677207600&x-signature=KrnDtPwBKCuMYNs8Wm0yyVjUVV0%3D', 'definition': '720p', 'downloadAddr': 'https://v16-webapp-prime.tiktok.com/video/tos/useast2a/tos-useast2a-ve-0068c003/dde84d5a37f1481888f2cd95d2e03d98/?a=1988&ch=0&cr=0&dr=0&lr=tiktok_m&cd=0%7C0%7C1%7C0&cv=1&br=1266&bt=633&cs=0&ds=3&ft=4fUEKMzm8Zmo0rRiM64jVdGhjpWrKsdm&mime_type=video_mp4&qs=0&rc=ZmQ4NGg5aWg7NWQ3NTY7OUBpanNuNTU6eWt4dzMzNTczM0AxMGNfLS9fNl8xY18xYmEtYSMvZ3FfamIyZTRfLS0uMTZzcw%3D%3D&btag=80000&expire=1677211154&l=20230223215830386E910FCB1E600A6829&ply_type=2&policy=2&signature=a945c3d72c1a2a6da6500da9f6f239f6&tk=tt_chain_token', 'duration': 43, 'dynamicCover': 'https://p16-sign-va.tiktokcdn.com/obj/tos-maliva-p-0068/f908274bb2db4380aedc8dde065e3efa_1599072467?x-expires=1677207600&x-signature=Ei7sC7h2bbzTxCgbilAP%2B10HpmQ%3D', 'encodeUserTag': '', 'encodedType': 'normal', 'format': 'mp4', 'height': 1024, 'id': '6867963867230653702', 'originCover': 'https://p16-sign-va.tiktokcdn.com/obj/tos-maliva-p-0068/bcae780572b64af5a19d40c3e0db9b3d_1599072466?x-expires=1677207600&x-signature=FFiS0E7Vr1b2dWXOSiu25PsH1Ms%3D', 'playAddr': 'https://v16-webapp-prime.tiktok.com/video/tos/useast2a/tos-useast2a-ve-0068c003/dde84d5a37f1481888f2cd95d2e03d98/?a=1988&ch=0&cr=0&dr=0&lr=tiktok_m&cd=0%7C0%7C1%7C0&cv=1&br=1266&bt=633&cs=0&ds=3&ft=4fUEKMzm8Zmo0rRiM64jVdGhjpWrKsdm&mime_type=video_mp4&qs=0&rc=ZmQ4NGg5aWg7NWQ3NTY7OUBpanNuNTU6eWt4dzMzNTczM0AxMGNfLS9fNl8xY18xYmEtYSMvZ3FfamIyZTRfLS0uMTZzcw%3D%3D&btag=80000&expire=1677211154&l=20230223215830386E910FCB1E600A6829&ply_type=2&policy=2&signature=a945c3d72c1a2a6da6500da9f6f239f6&tk=tt_chain_token', 'ratio': '720p', 'reflowCover': 'https://p16-sign-va.tiktokcdn.com/obj/tos-maliva-p-0068/a2a8b3b5e26241ea92a448f6690aa0dc_1599072467?x-expires=1677207600&x-signature=KrnDtPwBKCuMYNs8Wm0yyVjUVV0%3D', 'shareCover': ['', 'https://p16-sign-va.tiktokcdn.com/tos-maliva-p-0068/bcae780572b64af5a19d40c3e0db9b3d_1599072466~tplv-tiktok-play.jpeg?x-expires=1677790800&x-signature=iEcPgC4gGpvbG%2BYoi2gOQEr8%2Bm8%3D', 'https://p16-sign-va.tiktokcdn.com/tos-maliva-p-0068/bcae780572b64af5a19d40c3e0db9b3d_1599072466~tplv-tiktokx-share-play.jpeg?x-expires=1677790800&x-signature=EeFIfqHy2SCwz6fmGHbMnkvQ4Gs%3D'], 'size': 3543961, 'videoQuality': 'normal', 'volumeInfo': {}, 'width': 576, 'zoomCover': {'240': 'https://p16-sign-va.tiktokcdn.com/tos-maliva-p-0068/a2a8b3b5e26241ea92a448f6690aa0dc_1599072467~tplv-f5insbecw7-1:240:240.jpeg?x-expires=1677207600&x-signature=gG3%2BaG035Vk0rq%2FlwlT4kN3%2FRJQ%3D', '480': 'https://p16-sign-va.tiktokcdn.com/tos-maliva-p-0068/a2a8b3b5e26241ea92a448f6690aa0dc_1599072467~tplv-f5insbecw7-1:480:480.jpeg?x-expires=1677207600&x-signature=KAsWhbwKt2wMgcTSCsLMoDPx0Pk%3D', '720': 'https://p16-sign-va.tiktokcdn.com/tos-maliva-p-0068/a2a8b3b5e26241ea92a448f6690aa0dc_1599072467~tplv-f5insbecw7-1:720:720.jpeg?x-expires=1677207600&x-signature=hFpsw%2BJVkM20WLGH6oLf%2FzqRRj4%3D', '960': 'https://p16-sign-va.tiktokcdn.com/tos-maliva-p-0068/a2a8b3b5e26241ea92a448f6690aa0dc_1599072467~tplv-f5insbecw7-1:960:960.jpeg?x-expires=1677207600&x-signature=fAdT6mReqqLOx5UGHorG9ryvlKs%3D'}}, 'vl1': False}]\n",
            "{'impr_id': '20230223215830386E910FCB1E600A6829'}\n",
            "0\n",
            "0\n",
            "10404\n",
            "0\n"
          ]
        }
      ]
    },
    {
      "cell_type": "code",
      "source": [
        "!ls"
      ],
      "metadata": {
        "colab": {
          "base_uri": "https://localhost:8080/"
        },
        "id": "W-NXKlv0GVPg",
        "outputId": "0484c629-8b0f-4822-d09e-09547b6004d1"
      },
      "execution_count": null,
      "outputs": [
        {
          "output_type": "stream",
          "name": "stdout",
          "text": [
            "sample_data  tmp\n"
          ]
        }
      ]
    },
    {
      "cell_type": "code",
      "source": [
        "import cv2 as cv"
      ],
      "metadata": {
        "id": "2w1o_ANiDd8Y"
      },
      "execution_count": null,
      "outputs": []
    },
    {
      "cell_type": "code",
      "source": [
        "import numpy as np "
      ],
      "metadata": {
        "id": "ulXFXAdyDjuW"
      },
      "execution_count": null,
      "outputs": []
    },
    {
      "cell_type": "code",
      "source": [
        "height = 480 \n",
        "width = 640\n",
        "imageDefault = np.zeros((height,width,3), np.uint8)"
      ],
      "metadata": {
        "id": "u-dwndMIDtSD"
      },
      "execution_count": null,
      "outputs": []
    },
    {
      "cell_type": "code",
      "source": [
        "from google.colab.patches import cv2_imshow\n",
        "cv2_imshow(imageDefault)"
      ],
      "metadata": {
        "colab": {
          "base_uri": "https://localhost:8080/",
          "height": 497
        },
        "id": "C6XmDK28D9Vh",
        "outputId": "6023c945-4b3d-474e-df02-5769a6c213ce"
      },
      "execution_count": null,
      "outputs": [
        {
          "output_type": "display_data",
          "data": {
            "text/plain": [
              "<PIL.Image.Image image mode=RGB size=640x480 at 0x7F38C1FC18B0>"
            ],
            "image/png": "[encoded data removed]"
          },
          "metadata": {}
        }
      ]
    }
  ]
}