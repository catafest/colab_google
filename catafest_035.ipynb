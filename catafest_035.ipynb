{
  "cells": [
    {
      "cell_type": "markdown",
      "metadata": {
        "id": "view-in-github",
        "colab_type": "text"
      },
      "source": [
        "<a href=\"https://colab.research.google.com/github/catafest/colab_google/blob/master/catafest_035.ipynb\" target=\"_parent\"><img src=\"https://colab.research.google.com/assets/colab-badge.svg\" alt=\"Open In Colab\"/></a>"
      ]
    },
    {
      "cell_type": "markdown",
      "source": [
        "These are some magic colab features. You will se I will use %%python because the cells use the iron python."
      ],
      "metadata": {
        "id": "V9jt-6L7R-Fj"
      }
    },
    {
      "cell_type": "markdown",
      "source": [
        "%%bash: execute the contents of the cell as bash commands\n",
        "\n",
        "%%ruby: execute the contents of the cell as Ruby code\n",
        "\n",
        "%%perl: execute the contents of the cell as Perl code\n",
        "\n",
        "%%html: render the cell as HTML\n",
        "\n",
        "%%javascript: execute the contents of the cell as JavaScript\n",
        "\n",
        "%%python2: execute the contents of the cell as Python 2 code\n",
        "\n",
        "%%python3: execute the contents of the cell as Python 3 code\n",
        "\n",
        "%%pypy: execute the contents of the cell as PyPy code\n",
        "\n",
        "%%scala: execute the contents of the cell as Scala code\n",
        "\n",
        "%%sql: execute the contents of the cell as SQL code\n",
        "\n",
        "%%bigquery: execute the contents of the cell as a BigQuery SQL query\n",
        "\n",
        "%%R: execute the contents of the cell as R code\n",
        "\n",
        "%%octave: execute the contents of the cell as Octave code\n",
        "\n",
        "%%bash: execute the contents of the cell as bash commands"
      ],
      "metadata": {
        "id": "MW9FGraQ_687"
      }
    },
    {
      "cell_type": "markdown",
      "source": [
        "Let's test some features:\n",
        "1. check GPU then use this:"
      ],
      "metadata": {
        "id": "mzefi8PS3y1L"
      }
    },
    {
      "cell_type": "code",
      "source": [
        "gpu = !nvidia-smi -L\n",
        "print(gpu[0])"
      ],
      "metadata": {
        "colab": {
          "base_uri": "https://localhost:8080/"
        },
        "id": "qs14JnkZ3yBW",
        "outputId": "af6efb9c-284e-494b-d426-0a7b1c5529aa"
      },
      "execution_count": 35,
      "outputs": [
        {
          "output_type": "stream",
          "name": "stdout",
          "text": [
            "GPU 0: Tesla T4 (UUID: GPU-008f9d86-d010-fba3-03bd-a38289e8d0ce)\n"
          ]
        }
      ]
    },
    {
      "cell_type": "markdown",
      "source": [
        "2. show python "
      ],
      "metadata": {
        "id": "Dx_-at3dQzi9"
      }
    },
    {
      "cell_type": "code",
      "source": [
        "!which python"
      ],
      "metadata": {
        "colab": {
          "base_uri": "https://localhost:8080/"
        },
        "id": "szN6WaFg-saE",
        "outputId": "c19a68b3-fdd4-4d2d-a97b-d61f92808ae6"
      },
      "execution_count": 36,
      "outputs": [
        {
          "output_type": "stream",
          "name": "stdout",
          "text": [
            "/usr/local/bin/python\n"
          ]
        }
      ]
    },
    {
      "cell_type": "markdown",
      "metadata": {
        "id": "SAIcbe7yxf63"
      },
      "source": [
        "Let's test **whisper** python module. https://openai.com/blog/whisper/"
      ]
    },
    {
      "cell_type": "code",
      "execution_count": 37,
      "metadata": {
        "colab": {
          "base_uri": "https://localhost:8080/"
        },
        "id": "YTIG1IxHjOnE",
        "outputId": "e407d5a7-4a9c-4c32-bcd5-6ce017b118f0"
      },
      "outputs": [
        {
          "output_type": "stream",
          "name": "stdout",
          "text": [
            "Looking in indexes: https://pypi.org/simple, https://us-python.pkg.dev/colab-wheels/public/simple/\n",
            "Collecting git+https://github.com/openai/whisper.git\n",
            "  Cloning https://github.com/openai/whisper.git to /tmp/pip-req-build-s88gefle\n",
            "  Running command git clone --filter=blob:none --quiet https://github.com/openai/whisper.git /tmp/pip-req-build-s88gefle\n",
            "  Resolved https://github.com/openai/whisper.git to commit 7858aa9c08d98f75575035ecd6481f462d66ca27\n",
            "  Preparing metadata (setup.py) ... \u001b[?25l\u001b[?25hdone\n",
            "Requirement already satisfied: numpy in /usr/local/lib/python3.8/dist-packages (from openai-whisper==20230124) (1.21.6)\n",
            "Requirement already satisfied: torch in /usr/local/lib/python3.8/dist-packages (from openai-whisper==20230124) (1.13.1+cu116)\n",
            "Requirement already satisfied: tqdm in /usr/local/lib/python3.8/dist-packages (from openai-whisper==20230124) (4.64.1)\n",
            "Requirement already satisfied: more-itertools in /usr/local/lib/python3.8/dist-packages (from openai-whisper==20230124) (9.0.0)\n",
            "Requirement already satisfied: transformers>=4.19.0 in /root/.local/lib/python3.8/site-packages (from openai-whisper==20230124) (4.26.1)\n",
            "Requirement already satisfied: ffmpeg-python==0.2.0 in /root/.local/lib/python3.8/site-packages (from openai-whisper==20230124) (0.2.0)\n",
            "Requirement already satisfied: future in /usr/local/lib/python3.8/dist-packages (from ffmpeg-python==0.2.0->openai-whisper==20230124) (0.16.0)\n",
            "Requirement already satisfied: huggingface-hub<1.0,>=0.11.0 in /root/.local/lib/python3.8/site-packages (from transformers>=4.19.0->openai-whisper==20230124) (0.12.1)\n",
            "Requirement already satisfied: requests in /usr/local/lib/python3.8/dist-packages (from transformers>=4.19.0->openai-whisper==20230124) (2.25.1)\n",
            "Requirement already satisfied: pyyaml>=5.1 in /usr/local/lib/python3.8/dist-packages (from transformers>=4.19.0->openai-whisper==20230124) (6.0)\n",
            "Requirement already satisfied: regex!=2019.12.17 in /usr/local/lib/python3.8/dist-packages (from transformers>=4.19.0->openai-whisper==20230124) (2022.6.2)\n",
            "Requirement already satisfied: filelock in /usr/local/lib/python3.8/dist-packages (from transformers>=4.19.0->openai-whisper==20230124) (3.9.0)\n",
            "Requirement already satisfied: packaging>=20.0 in /usr/local/lib/python3.8/dist-packages (from transformers>=4.19.0->openai-whisper==20230124) (23.0)\n",
            "Requirement already satisfied: tokenizers!=0.11.3,<0.14,>=0.11.1 in /root/.local/lib/python3.8/site-packages (from transformers>=4.19.0->openai-whisper==20230124) (0.13.2)\n",
            "Requirement already satisfied: typing-extensions in /usr/local/lib/python3.8/dist-packages (from torch->openai-whisper==20230124) (4.5.0)\n",
            "Requirement already satisfied: certifi>=2017.4.17 in /usr/local/lib/python3.8/dist-packages (from requests->transformers>=4.19.0->openai-whisper==20230124) (2022.12.7)\n",
            "Requirement already satisfied: chardet<5,>=3.0.2 in /usr/local/lib/python3.8/dist-packages (from requests->transformers>=4.19.0->openai-whisper==20230124) (4.0.0)\n",
            "Requirement already satisfied: urllib3<1.27,>=1.21.1 in /usr/local/lib/python3.8/dist-packages (from requests->transformers>=4.19.0->openai-whisper==20230124) (1.24.3)\n",
            "Requirement already satisfied: idna<3,>=2.5 in /usr/local/lib/python3.8/dist-packages (from requests->transformers>=4.19.0->openai-whisper==20230124) (2.10)\n"
          ]
        }
      ],
      "source": [
        "!pip install git+https://github.com/openai/whisper.git --user"
      ]
    },
    {
      "cell_type": "markdown",
      "source": [
        "Let's test some commands ..."
      ],
      "metadata": {
        "id": "WrQulb8zQ-r9"
      }
    },
    {
      "cell_type": "code",
      "execution_count": 38,
      "metadata": {
        "id": "AgUXdkaqix5l",
        "colab": {
          "base_uri": "https://localhost:8080/"
        },
        "outputId": "50288aad-503a-4f25-9ff0-9b4ebf0cf232"
      },
      "outputs": [
        {
          "output_type": "stream",
          "name": "stdout",
          "text": [
            "openai-whisper                20230124\n"
          ]
        }
      ],
      "source": [
        "!pip3 list | grep whisper"
      ]
    },
    {
      "cell_type": "code",
      "execution_count": 39,
      "metadata": {
        "id": "yjTDPiYhtWjO",
        "colab": {
          "base_uri": "https://localhost:8080/"
        },
        "outputId": "26d3b8a6-0adc-4dc0-d4e8-5d34ce5ccda7"
      },
      "outputs": [
        {
          "output_type": "stream",
          "name": "stdout",
          "text": [
            "Looking in indexes: https://pypi.org/simple, https://us-python.pkg.dev/colab-wheels/public/simple/\n",
            "Requirement already satisfied: pytube3 in /root/.local/lib/python3.8/site-packages (9.6.4)\n",
            "Requirement already satisfied: typing-extensions in /usr/local/lib/python3.8/dist-packages (from pytube3) (4.5.0)\n"
          ]
        }
      ],
      "source": [
        "!pip3 install pytube3 --upgrade --user"
      ]
    },
    {
      "cell_type": "code",
      "execution_count": 40,
      "metadata": {
        "id": "fMuiwPVYvQbj",
        "colab": {
          "base_uri": "https://localhost:8080/"
        },
        "outputId": "561869ef-2e31-42ba-af73-0565f029e821"
      },
      "outputs": [
        {
          "output_type": "stream",
          "name": "stdout",
          "text": [
            "pytube                        12.1.2\n",
            "pytube3                       9.6.4\n"
          ]
        }
      ],
      "source": [
        "!pip3 list | grep tube"
      ]
    },
    {
      "cell_type": "markdown",
      "metadata": {
        "id": "kfLb2HN-xG7M"
      },
      "source": [
        "You cam use the default linux command : python with help() and modules to see if the pytube is install. Yes, is there but not working ... let't fix this install with the python command that works. "
      ]
    },
    {
      "cell_type": "markdown",
      "metadata": {
        "id": "aI6y-Jfgx5ka"
      },
      "source": [
        "Let's see the linux version "
      ]
    },
    {
      "cell_type": "markdown",
      "metadata": {
        "id": "Zt3tdXNFx9WW"
      },
      "source": [
        "This can fix the install with **pip tool** using the **python command** :"
      ]
    },
    {
      "cell_type": "code",
      "execution_count": 41,
      "metadata": {
        "colab": {
          "base_uri": "https://localhost:8080/"
        },
        "id": "X57TT2tnw28P",
        "outputId": "8c91c5ae-f467-4741-f51b-c7f61f6bdd27"
      },
      "outputs": [
        {
          "output_type": "stream",
          "name": "stdout",
          "text": [
            "Looking in indexes: https://pypi.org/simple, https://us-python.pkg.dev/colab-wheels/public/simple/\n",
            "Requirement already satisfied: pytube in /usr/local/lib/python3.8/dist-packages (12.1.2)\n"
          ]
        }
      ],
      "source": [
        "!python -m pip install --upgrade pytube"
      ]
    },
    {
      "cell_type": "markdown",
      "metadata": {
        "id": "9aRXOMHMyHMT"
      },
      "source": [
        "Now this python package works"
      ]
    },
    {
      "cell_type": "code",
      "execution_count": 42,
      "metadata": {
        "id": "cE4uCPxxxBgb"
      },
      "outputs": [],
      "source": [
        "import pytube"
      ]
    },
    {
      "cell_type": "markdown",
      "metadata": {
        "id": "2UBiK4xSyNHH"
      },
      "source": [
        "Let's download an mp3 file from youtube :"
      ]
    },
    {
      "cell_type": "code",
      "execution_count": 43,
      "metadata": {
        "id": "lXStGZL7yMd5"
      },
      "outputs": [],
      "source": [
        "from pytube import *"
      ]
    },
    {
      "cell_type": "code",
      "execution_count": 44,
      "metadata": {
        "id": "Vaz1AQOq0By7"
      },
      "outputs": [],
      "source": [
        "youtube_videos = pytube.YouTube('https://www.youtube.com/watch?v=OKzcuEzVOnQ');"
      ]
    },
    {
      "cell_type": "code",
      "execution_count": 45,
      "metadata": {
        "colab": {
          "base_uri": "https://localhost:8080/"
        },
        "id": "7cv9oEBQ1FF-",
        "outputId": "4fa61590-8582-4384-f140-d9a551132de6"
      },
      "outputs": [
        {
          "output_type": "stream",
          "name": "stdout",
          "text": [
            "Ant-Man and The Wasp: Quantumania | Time Trailer\n"
          ]
        }
      ],
      "source": [
        "print(youtube_videos.title)"
      ]
    },
    {
      "cell_type": "code",
      "execution_count": 46,
      "metadata": {
        "colab": {
          "base_uri": "https://localhost:8080/"
        },
        "id": "AWuMU7g41OhL",
        "outputId": "65151ae0-7ba0-45b6-d571-15404ff914ca"
      },
      "outputs": [
        {
          "output_type": "stream",
          "name": "stdout",
          "text": [
            "https://i.ytimg.com/vi/OKzcuEzVOnQ/sddefault.jpg\n"
          ]
        }
      ],
      "source": [
        "print(youtube_videos.thumbnail_url)"
      ]
    },
    {
      "cell_type": "markdown",
      "metadata": {
        "id": "r-XWev7d1dHw"
      },
      "source": [
        "Let's see some features:"
      ]
    },
    {
      "cell_type": "code",
      "execution_count": 47,
      "metadata": {
        "colab": {
          "base_uri": "https://localhost:8080/"
        },
        "id": "5dVlA44l1Wcc",
        "outputId": "e0d1989b-bd95-4811-a8d8-5aa15b7c6d25"
      },
      "outputs": [
        {
          "output_type": "stream",
          "name": "stdout",
          "text": [
            "[<Stream: itag=\"139\" mime_type=\"audio/mp4\" abr=\"48kbps\" acodec=\"mp4a.40.5\" progressive=\"False\" type=\"audio\">, <Stream: itag=\"140\" mime_type=\"audio/mp4\" abr=\"128kbps\" acodec=\"mp4a.40.2\" progressive=\"False\" type=\"audio\">, <Stream: itag=\"249\" mime_type=\"audio/webm\" abr=\"50kbps\" acodec=\"opus\" progressive=\"False\" type=\"audio\">, <Stream: itag=\"250\" mime_type=\"audio/webm\" abr=\"70kbps\" acodec=\"opus\" progressive=\"False\" type=\"audio\">, <Stream: itag=\"251\" mime_type=\"audio/webm\" abr=\"160kbps\" acodec=\"opus\" progressive=\"False\" type=\"audio\">]\n"
          ]
        },
        {
          "output_type": "stream",
          "name": "stderr",
          "text": [
            "<ipython-input-47-122d4dde9b1c>:2: DeprecationWarning: Call to deprecated function all (This object can be treated as a list, all() is useless).\n",
            "  print(youtube_videos.streams.filter(only_audio=True).all())\n"
          ]
        }
      ],
      "source": [
        " stream = youtube_videos.streams.first()\n",
        " print(youtube_videos.streams.filter(only_audio=True).all())\n",
        "\n"
      ]
    },
    {
      "cell_type": "markdown",
      "metadata": {
        "id": "SUsEsQny2bJh"
      },
      "source": [
        "Let's see all version for the audio file type mp4."
      ]
    },
    {
      "cell_type": "code",
      "execution_count": 48,
      "metadata": {
        "colab": {
          "base_uri": "https://localhost:8080/"
        },
        "id": "siH9WqAP2X6K",
        "outputId": "3f2472a0-008e-4205-d2e2-ffdc9255a530"
      },
      "outputs": [
        {
          "output_type": "stream",
          "name": "stderr",
          "text": [
            "<ipython-input-48-42f69ff095fe>:1: DeprecationWarning: Call to deprecated function all (This object can be treated as a list, all() is useless).\n",
            "  youtube_videos.streams.filter(file_extension='mp4').all()\n"
          ]
        },
        {
          "output_type": "execute_result",
          "data": {
            "text/plain": [
              "[<Stream: itag=\"18\" mime_type=\"video/mp4\" res=\"360p\" fps=\"24fps\" vcodec=\"avc1.42001E\" acodec=\"mp4a.40.2\" progressive=\"True\" type=\"video\">,\n",
              " <Stream: itag=\"22\" mime_type=\"video/mp4\" res=\"720p\" fps=\"24fps\" vcodec=\"avc1.64001F\" acodec=\"mp4a.40.2\" progressive=\"True\" type=\"video\">,\n",
              " <Stream: itag=\"137\" mime_type=\"video/mp4\" res=\"1080p\" fps=\"24fps\" vcodec=\"avc1.640028\" progressive=\"False\" type=\"video\">,\n",
              " <Stream: itag=\"136\" mime_type=\"video/mp4\" res=\"720p\" fps=\"24fps\" vcodec=\"avc1.64001f\" progressive=\"False\" type=\"video\">,\n",
              " <Stream: itag=\"135\" mime_type=\"video/mp4\" res=\"480p\" fps=\"24fps\" vcodec=\"avc1.4d401e\" progressive=\"False\" type=\"video\">,\n",
              " <Stream: itag=\"134\" mime_type=\"video/mp4\" res=\"360p\" fps=\"24fps\" vcodec=\"avc1.4d4015\" progressive=\"False\" type=\"video\">,\n",
              " <Stream: itag=\"133\" mime_type=\"video/mp4\" res=\"240p\" fps=\"24fps\" vcodec=\"avc1.4d400d\" progressive=\"False\" type=\"video\">,\n",
              " <Stream: itag=\"160\" mime_type=\"video/mp4\" res=\"144p\" fps=\"24fps\" vcodec=\"avc1.4d400b\" progressive=\"False\" type=\"video\">,\n",
              " <Stream: itag=\"139\" mime_type=\"audio/mp4\" abr=\"48kbps\" acodec=\"mp4a.40.5\" progressive=\"False\" type=\"audio\">,\n",
              " <Stream: itag=\"140\" mime_type=\"audio/mp4\" abr=\"128kbps\" acodec=\"mp4a.40.2\" progressive=\"False\" type=\"audio\">]"
            ]
          },
          "metadata": {},
          "execution_count": 48
        }
      ],
      "source": [
        " youtube_videos.streams.filter(file_extension='mp4').all()"
      ]
    },
    {
      "cell_type": "code",
      "execution_count": 49,
      "metadata": {
        "colab": {
          "base_uri": "https://localhost:8080/"
        },
        "id": "Uimnr3Ra4Edk",
        "outputId": "578134ae-dcbc-4668-ff0c-fecd451962cd"
      },
      "outputs": [
        {
          "output_type": "execute_result",
          "data": {
            "text/plain": [
              "<Stream: itag=\"137\" mime_type=\"video/mp4\" res=\"1080p\" fps=\"24fps\" vcodec=\"avc1.640028\" progressive=\"False\" type=\"video\">"
            ]
          },
          "metadata": {},
          "execution_count": 49
        }
      ],
      "source": [
        "youtube_videos.streams.filter(file_extension='mp4').order_by('resolution')[-1]"
      ]
    },
    {
      "cell_type": "markdown",
      "metadata": {
        "id": "hzz_6AIg2iS4"
      },
      "source": [
        "Let's download it:"
      ]
    },
    {
      "cell_type": "code",
      "execution_count": 50,
      "metadata": {
        "id": "B41Wm0NG2G0X"
      },
      "outputs": [],
      "source": [
        " file  = stream.download()"
      ]
    },
    {
      "cell_type": "code",
      "execution_count": 51,
      "metadata": {
        "colab": {
          "base_uri": "https://localhost:8080/"
        },
        "id": "RFAK-6-Y2rEX",
        "outputId": "6bda1543-9f47-41b8-d983-f3365feddd7c"
      },
      "outputs": [
        {
          "output_type": "stream",
          "name": "stdout",
          "text": [
            "/content/Ant-Man and The Wasp Quantumania  Time Trailer.3gpp\n"
          ]
        }
      ],
      "source": [
        "print(file)"
      ]
    },
    {
      "cell_type": "code",
      "execution_count": 52,
      "metadata": {
        "id": "-zpzMK093PsT"
      },
      "outputs": [],
      "source": [
        "def extract_filename(path):\n",
        "    return path.split(\"/\")[-1]"
      ]
    },
    {
      "cell_type": "code",
      "execution_count": 53,
      "metadata": {
        "id": "KRNdn1Kj3g-J"
      },
      "outputs": [],
      "source": [
        "filename = extract_filename(file)"
      ]
    },
    {
      "cell_type": "code",
      "execution_count": 54,
      "metadata": {
        "colab": {
          "base_uri": "https://localhost:8080/"
        },
        "id": "tOg4TUW_j6n-",
        "outputId": "9168b329-e4b3-40c1-9e6d-72965d3dcc4a"
      },
      "outputs": [
        {
          "output_type": "stream",
          "name": "stdout",
          "text": [
            "filename is : Ant-Man and The Wasp Quantumania  Time Trailer.3gpp\n"
          ]
        }
      ],
      "source": [
        "print(\"filename is :\", filename);"
      ]
    },
    {
      "cell_type": "code",
      "execution_count": 55,
      "metadata": {
        "colab": {
          "base_uri": "https://localhost:8080/"
        },
        "id": "65tH1SuHlolQ",
        "outputId": "0024d518-56b6-476e-fa23-2a3999e06665"
      },
      "outputs": [
        {
          "output_type": "stream",
          "name": "stdout",
          "text": [
            "Python 3.8.10\n"
          ]
        }
      ],
      "source": [
        "!python --version"
      ]
    },
    {
      "cell_type": "code",
      "execution_count": 56,
      "metadata": {
        "colab": {
          "base_uri": "https://localhost:8080/"
        },
        "id": "KVJ9v_gVoADW",
        "outputId": "fceca04f-2071-4de9-b239-2ff1ab6568ad"
      },
      "outputs": [
        {
          "output_type": "stream",
          "name": "stdout",
          "text": [
            "There is only one alternative in link group python3 (providing /usr/bin/python3): /usr/bin/python3.8\n",
            "Nothing to configure.\n"
          ]
        }
      ],
      "source": [
        "!sudo update-alternatives --config python3"
      ]
    },
    {
      "cell_type": "code",
      "execution_count": 57,
      "metadata": {
        "id": "GBk-9pYHlNy0"
      },
      "outputs": [],
      "source": [
        "import os"
      ]
    },
    {
      "cell_type": "code",
      "execution_count": 58,
      "metadata": {
        "id": "sf9L57eLoFXF"
      },
      "outputs": [],
      "source": [
        "!python -c \"import whisper\""
      ]
    },
    {
      "cell_type": "markdown",
      "source": [
        "To avoid error : \"TF-TRT Warning: Cannot dlopen some TensorRT libraries. If you would like to use Nvidia GPU with TensorRT, please make sure the missing libraries mentioned above are installed properly.\""
      ],
      "metadata": {
        "id": "PmMLl-kbTjEJ"
      }
    },
    {
      "cell_type": "code",
      "source": [
        "import os\n",
        "os.environ['TF_CPP_MIN_LOG_LEVEL'] = '2'"
      ],
      "metadata": {
        "id": "Kf06MPIiCA19"
      },
      "execution_count": 59,
      "outputs": []
    },
    {
      "cell_type": "markdown",
      "source": [
        "Because I used %%python like a second script , I need to put the name of the file and not use the filename from the code run on the top."
      ],
      "metadata": {
        "id": "aG7GM9GqRnut"
      }
    },
    {
      "cell_type": "code",
      "source": [
        "!ls"
      ],
      "metadata": {
        "colab": {
          "base_uri": "https://localhost:8080/"
        },
        "id": "JWTi3KPAUAYn",
        "outputId": "11a1b440-0482-4896-c638-972e3186c25c"
      },
      "execution_count": 60,
      "outputs": [
        {
          "output_type": "stream",
          "name": "stdout",
          "text": [
            "'Ant-Man and The Wasp Quantumania  Time Trailer.3gpp'   sample_data\n"
          ]
        }
      ]
    },
    {
      "cell_type": "code",
      "execution_count": 63,
      "metadata": {
        "id": "G3AXoww4lPph",
        "colab": {
          "base_uri": "https://localhost:8080/"
        },
        "outputId": "3f88e26b-902f-4c84-85dd-a203f485bdfd"
      },
      "outputs": [
        {
          "output_type": "stream",
          "name": "stdout",
          "text": [
            "{'text': \" Who are you? I'm the man who can give you the one thing you want. What's that? Time. Time. Time. Time. Let me make this easy for you. You will bring me what I need. Or everything you call a life will end. I can shatter timelines. I don't care who this guy is. I just lost so much. You can give us a second chance. Displace. It is not your thing. You may not want her to watch this. We had a deal. I'm sorry, Kazzy. You thought you could win?\", 'segments': [{'id': 0, 'seek': 0, 'start': 0.0, 'end': 2.0, 'text': ' Who are you?', 'tokens': [2102, 366, 291, 30], 'temperature': 0.0, 'avg_logprob': -0.5723108208697775, 'compression_ratio': 1.2911392405063291, 'no_speech_prob': 0.20667561888694763}, {'id': 1, 'seek': 0, 'start': 2.0, 'end': 7.0, 'text': \" I'm the man who can give you the one thing you want.\", 'tokens': [286, 478, 264, 587, 567, 393, 976, 291, 264, 472, 551, 291, 528, 13], 'temperature': 0.0, 'avg_logprob': -0.5723108208697775, 'compression_ratio': 1.2911392405063291, 'no_speech_prob': 0.20667561888694763}, {'id': 2, 'seek': 0, 'start': 7.0, 'end': 10.0, 'text': \" What's that?\", 'tokens': [708, 311, 300, 30], 'temperature': 0.0, 'avg_logprob': -0.5723108208697775, 'compression_ratio': 1.2911392405063291, 'no_speech_prob': 0.20667561888694763}, {'id': 3, 'seek': 0, 'start': 10.0, 'end': 14.0, 'text': ' Time.', 'tokens': [6161, 13], 'temperature': 0.0, 'avg_logprob': -0.5723108208697775, 'compression_ratio': 1.2911392405063291, 'no_speech_prob': 0.20667561888694763}, {'id': 4, 'seek': 0, 'start': 14.0, 'end': 18.0, 'text': ' Time.', 'tokens': [6161, 13], 'temperature': 0.0, 'avg_logprob': -0.5723108208697775, 'compression_ratio': 1.2911392405063291, 'no_speech_prob': 0.20667561888694763}, {'id': 5, 'seek': 0, 'start': 18.0, 'end': 22.0, 'text': ' Time.', 'tokens': [6161, 13], 'temperature': 0.0, 'avg_logprob': -0.5723108208697775, 'compression_ratio': 1.2911392405063291, 'no_speech_prob': 0.20667561888694763}, {'id': 6, 'seek': 0, 'start': 22.0, 'end': 26.0, 'text': ' Time.', 'tokens': [6161, 13], 'temperature': 0.0, 'avg_logprob': -0.5723108208697775, 'compression_ratio': 1.2911392405063291, 'no_speech_prob': 0.20667561888694763}, {'id': 7, 'seek': 2600, 'start': 26.0, 'end': 33.0, 'text': ' Let me make this easy for you.', 'tokens': [961, 385, 652, 341, 1858, 337, 291, 13], 'temperature': 0.0, 'avg_logprob': -0.21770387429457444, 'compression_ratio': 1.3, 'no_speech_prob': 0.0012835812522098422}, {'id': 8, 'seek': 2600, 'start': 33.0, 'end': 37.0, 'text': ' You will bring me what I need.', 'tokens': [509, 486, 1565, 385, 437, 286, 643, 13], 'temperature': 0.0, 'avg_logprob': -0.21770387429457444, 'compression_ratio': 1.3, 'no_speech_prob': 0.0012835812522098422}, {'id': 9, 'seek': 2600, 'start': 37.0, 'end': 45.0, 'text': ' Or everything you call a life will end.', 'tokens': [1610, 1203, 291, 818, 257, 993, 486, 917, 13], 'temperature': 0.0, 'avg_logprob': -0.21770387429457444, 'compression_ratio': 1.3, 'no_speech_prob': 0.0012835812522098422}, {'id': 10, 'seek': 2600, 'start': 45.0, 'end': 50.0, 'text': ' I can shatter timelines.', 'tokens': [286, 393, 402, 1161, 45886, 13], 'temperature': 0.0, 'avg_logprob': -0.21770387429457444, 'compression_ratio': 1.3, 'no_speech_prob': 0.0012835812522098422}, {'id': 11, 'seek': 2600, 'start': 50.0, 'end': 54.0, 'text': \" I don't care who this guy is.\", 'tokens': [286, 500, 380, 1127, 567, 341, 2146, 307, 13], 'temperature': 0.0, 'avg_logprob': -0.21770387429457444, 'compression_ratio': 1.3, 'no_speech_prob': 0.0012835812522098422}, {'id': 12, 'seek': 5400, 'start': 54.0, 'end': 57.0, 'text': ' I just lost so much.', 'tokens': [286, 445, 2731, 370, 709, 13], 'temperature': 0.0, 'avg_logprob': -0.19487761027777373, 'compression_ratio': 1.2836879432624113, 'no_speech_prob': 0.0003079398302361369}, {'id': 13, 'seek': 5400, 'start': 57.0, 'end': 63.0, 'text': ' You can give us a second chance.', 'tokens': [509, 393, 976, 505, 257, 1150, 2931, 13], 'temperature': 0.0, 'avg_logprob': -0.19487761027777373, 'compression_ratio': 1.2836879432624113, 'no_speech_prob': 0.0003079398302361369}, {'id': 14, 'seek': 5400, 'start': 63.0, 'end': 65.0, 'text': ' Displace.', 'tokens': [4208, 6742, 13], 'temperature': 0.0, 'avg_logprob': -0.19487761027777373, 'compression_ratio': 1.2836879432624113, 'no_speech_prob': 0.0003079398302361369}, {'id': 15, 'seek': 5400, 'start': 65.0, 'end': 69.0, 'text': ' It is not your thing.', 'tokens': [467, 307, 406, 428, 551, 13], 'temperature': 0.0, 'avg_logprob': -0.19487761027777373, 'compression_ratio': 1.2836879432624113, 'no_speech_prob': 0.0003079398302361369}, {'id': 16, 'seek': 5400, 'start': 69.0, 'end': 72.0, 'text': ' You may not want her to watch this.', 'tokens': [509, 815, 406, 528, 720, 281, 1159, 341, 13], 'temperature': 0.0, 'avg_logprob': -0.19487761027777373, 'compression_ratio': 1.2836879432624113, 'no_speech_prob': 0.0003079398302361369}, {'id': 17, 'seek': 5400, 'start': 72.0, 'end': 75.0, 'text': ' We had a deal.', 'tokens': [492, 632, 257, 2028, 13], 'temperature': 0.0, 'avg_logprob': -0.19487761027777373, 'compression_ratio': 1.2836879432624113, 'no_speech_prob': 0.0003079398302361369}, {'id': 18, 'seek': 5400, 'start': 75.0, 'end': 78.0, 'text': \" I'm sorry, Kazzy.\", 'tokens': [286, 478, 2597, 11, 16264, 1229, 13], 'temperature': 0.0, 'avg_logprob': -0.19487761027777373, 'compression_ratio': 1.2836879432624113, 'no_speech_prob': 0.0003079398302361369}, {'id': 19, 'seek': 7800, 'start': 78.0, 'end': 87.0, 'text': ' You thought you could win?', 'tokens': [50364, 509, 1194, 291, 727, 1942, 30, 50814], 'temperature': 0.0, 'avg_logprob': -0.3881682554880778, 'compression_ratio': 0.8125, 'no_speech_prob': 0.019194673746824265}], 'language': 'en'}\n"
          ]
        }
      ],
      "source": [
        "%%python\n",
        "import whisper\n",
        "\n",
        "model = whisper.load_model(\"base\")\n",
        "result = model.transcribe(\"Ant-Man and The Wasp Quantumania  Time Trailer.3gpp\")\n",
        "print(result)\n"
      ]
    }
  ],
  "metadata": {
    "colab": {
      "provenance": [],
      "authorship_tag": "ABX9TyNnSPcJ4QbgEisYqcttf8Mp",
      "include_colab_link": true
    },
    "gpuClass": "standard",
    "kernelspec": {
      "display_name": "Python 3",
      "name": "python3"
    },
    "language_info": {
      "name": "python"
    },
    "accelerator": "GPU"
  },
  "nbformat": 4,
  "nbformat_minor": 0
}