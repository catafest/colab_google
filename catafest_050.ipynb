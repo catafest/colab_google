{
  "nbformat": 4,
  "nbformat_minor": 0,
  "metadata": {
    "colab": {
      "provenance": [],
      "authorship_tag": "ABX9TyPWntQwXfYWL+Ee/PnWLRiP",
      "include_colab_link": true
    },
    "kernelspec": {
      "name": "python3",
      "display_name": "Python 3"
    },
    "language_info": {
      "name": "python"
    }
  },
  "cells": [
    {
      "cell_type": "markdown",
      "metadata": {
        "id": "view-in-github",
        "colab_type": "text"
      },
      "source": [
        "<a href=\"https://colab.research.google.com/github/catafest/colab_google/blob/master/catafest_050.ipynb\" target=\"_parent\"><img src=\"https://colab.research.google.com/assets/colab-badge.svg\" alt=\"Open In Colab\"/></a>"
      ]
    },
    {
      "cell_type": "code",
      "source": [
        "!pip3 install IMDbPY"
      ],
      "metadata": {
        "colab": {
          "base_uri": "https://localhost:8080/"
        },
        "id": "ZWitKuH606je",
        "outputId": "0a24c46a-de13-47c7-8f4a-16a97e2fca5d"
      },
      "execution_count": 102,
      "outputs": [
        {
          "output_type": "stream",
          "name": "stdout",
          "text": [
            "Requirement already satisfied: IMDbPY in /usr/local/lib/python3.10/dist-packages (2022.7.9)\n",
            "Requirement already satisfied: cinemagoer in /usr/local/lib/python3.10/dist-packages (from IMDbPY) (2023.5.1)\n",
            "Requirement already satisfied: SQLAlchemy in /usr/local/lib/python3.10/dist-packages (from cinemagoer->IMDbPY) (2.0.22)\n",
            "Requirement already satisfied: lxml in /usr/local/lib/python3.10/dist-packages (from cinemagoer->IMDbPY) (4.9.3)\n",
            "Requirement already satisfied: typing-extensions>=4.2.0 in /usr/local/lib/python3.10/dist-packages (from SQLAlchemy->cinemagoer->IMDbPY) (4.5.0)\n",
            "Requirement already satisfied: greenlet!=0.4.17 in /usr/local/lib/python3.10/dist-packages (from SQLAlchemy->cinemagoer->IMDbPY) (3.0.0)\n"
          ]
        }
      ]
    },
    {
      "cell_type": "code",
      "source": [
        "import re"
      ],
      "metadata": {
        "id": "d46gENcf_U4g"
      },
      "execution_count": 103,
      "outputs": []
    },
    {
      "cell_type": "code",
      "source": [
        "from bs4 import BeautifulSoup"
      ],
      "metadata": {
        "id": "V8AlsKiW2kCB"
      },
      "execution_count": 104,
      "outputs": []
    },
    {
      "cell_type": "code",
      "execution_count": 105,
      "metadata": {
        "id": "G3hAElRawlDA"
      },
      "outputs": [],
      "source": [
        "import urllib3"
      ]
    },
    {
      "cell_type": "markdown",
      "source": [
        "add name of the actor/actress."
      ],
      "metadata": {
        "id": "qgJ53xcTzdcf"
      }
    },
    {
      "cell_type": "code",
      "source": [
        "nume_artist = 'Margot Robbie' #@param {type:\"string\"}"
      ],
      "metadata": {
        "id": "TaniebwPy8rS"
      },
      "execution_count": 106,
      "outputs": []
    },
    {
      "cell_type": "code",
      "source": [
        "print(nume_artist)"
      ],
      "metadata": {
        "colab": {
          "base_uri": "https://localhost:8080/"
        },
        "id": "c5xLofpqzoOJ",
        "outputId": "e30acf51-67fb-41d8-db74-7b5e999117e4"
      },
      "execution_count": 107,
      "outputs": [
        {
          "output_type": "stream",
          "name": "stdout",
          "text": [
            "Margot Robbie\n"
          ]
        }
      ]
    },
    {
      "cell_type": "code",
      "source": [
        "from imdb import IMDb\n",
        "\n",
        "# Creează un obiect IMDb\n",
        "ia = IMDb()\n",
        "# Caută artistul\n",
        "rezultate_cautare = ia.search_person(nume_artist)\n",
        "\n",
        "# Verifică dacă există rezultate și obține primul ID IMDb\n",
        "if rezultate_cautare:\n",
        "    id_imdb = rezultate_cautare[0].getID()\n",
        "    print(f\"ID IMDb al artistului '{nume_artist}': {id_imdb}\")\n",
        "else:\n",
        "    print(f\"Nu s-au găsit rezultate pentru '{nume_artist}'\")"
      ],
      "metadata": {
        "colab": {
          "base_uri": "https://localhost:8080/"
        },
        "id": "e9LkYKs70pHf",
        "outputId": "dbdf328c-ca13-4a6a-8827-ae114772adad"
      },
      "execution_count": 108,
      "outputs": [
        {
          "output_type": "stream",
          "name": "stdout",
          "text": [
            "ID IMDb al artistului 'Margot Robbie': 3053338\n"
          ]
        }
      ]
    },
    {
      "cell_type": "code",
      "source": [
        "# Construiește URL-ul pentru pagina artistului\n",
        "url = f'https://www.imdb.com/name/nm{id_imdb}/mediaindex/?ref_=nm_mv_smgrid'\n",
        "\n",
        "# Inițializare conexiune urllib3\n",
        "http = urllib3.PoolManager()\n",
        "\n",
        "# Realizarea unei cereri GET la URL\n",
        "r = http.request('GET', url)\n",
        "\n",
        "# Verifică dacă cererea a fost cu succes (status HTTP 200)\n",
        "if r.status == 200:\n",
        "    # Parsarea paginii HTML cu BeautifulSoup\n",
        "    soup = BeautifulSoup(r.data, 'html.parser')\n",
        "\n",
        "    # Găsește div-ul cu id-ul specificat\n",
        "    div_imagini = soup.find('div', {'id': 'media_index_thumbnail_grid'})\n",
        "\n",
        "    if div_imagini:\n",
        "        # Găsiți toate ancorele care conțin imagini\n",
        "        image_anchors = div_imagini.find_all('a', href=True)\n",
        "\n",
        "        for anchor in image_anchors:\n",
        "            img_src = anchor.find('img')['src']\n",
        "\n",
        "            # Expresia regulată pentru a găsi URL-urile corecte\n",
        "            pattern = r'(https:\\/\\/.+?([^.]+)\\.jpg)'\n",
        "\n",
        "            # Găsirea potrivirilor în URL-ul img_src\n",
        "            matches = re.findall(pattern, img_src)\n",
        "\n",
        "            # Afișarea rezultatelor\n",
        "            for match in matches:\n",
        "                url_curat = match[0]  # Ia primul grup din potrivire\n",
        "                diferență = match[1]  # Ia al doilea grup din potrivire\n",
        "                rezultat = url_curat.replace(diferență, '')  # Eliminați diferența din URL\n",
        "\n",
        "                #print(\"URL curat:\", rezultat,diferență,url_curat)\n",
        "                print(\"URL curat:\", rezultat)\n",
        "    else:\n",
        "        print(\"Nu s-au găsit imagini.\")\n",
        "\n",
        "else:\n",
        "    print(f\"Eroare la accesarea URL-ului: {r.status}\")\n",
        "\n",
        "# Deconectare\n",
        "http.clear()"
      ],
      "metadata": {
        "colab": {
          "base_uri": "https://localhost:8080/"
        },
        "id": "ZZhRsfQD2giD",
        "outputId": "540cbd75-71ec-46e2-97e9-17e69136620c"
      },
      "execution_count": 113,
      "outputs": [
        {
          "output_type": "stream",
          "name": "stdout",
          "text": [
            "URL curat: https://m.media-amazon.com/images/M/MV5BNWJlYjIyNzEtMGZhNy00YWExLWFmYzctZDFmMDgwYzQ0NjliXkEyXkFqcGdeQXVyMTUzMTg2ODkz..jpg\n",
            "URL curat: https://m.media-amazon.com/images/M/MV5BNmYyYTg2OGEtMGE3NC00MGI3LTk4MjAtMzMxYzAxNzU5MGIzXkEyXkFqcGdeQXVyMTUzMTg2ODkz..jpg\n",
            "URL curat: https://m.media-amazon.com/images/M/MV5BOTVhMzJhY2UtNzk1My00MGY5LThhOTQtMGY2NWRjY2QzYzlmXkEyXkFqcGdeQXVyMTUzMTg2ODkz..jpg\n",
            "URL curat: https://m.media-amazon.com/images/M/MV5BMTAyODU5YzAtZmJlZC00NDFjLWIwZDYtY2VmNDk1NzNlODQxXkEyXkFqcGdeQXVyMTUzMTg2ODkz..jpg\n",
            "URL curat: https://m.media-amazon.com/images/M/MV5BY2YxYmEzMzgtNzExNS00NjY2LWJhYWYtMDMxMTA3MTM4MDRhXkEyXkFqcGdeQXVyMTUzMTg2ODkz..jpg\n",
            "URL curat: https://m.media-amazon.com/images/M/MV5BMjNjMDA4YTgtMGJjZS00ZmVmLThlYWEtMjhmYTY1MmRiNjJjXkEyXkFqcGdeQXVyMTkxNjUyNQ@@..jpg\n",
            "URL curat: https://m.media-amazon.com/images/M/MV5BNzBkOGQwNDktN2Y3Yy00NWU1LWEyOTYtZTU5ZDRiYWViYjBmXkEyXkFqcGdeQXVyMTkxNjUyNQ@@..jpg\n",
            "URL curat: https://m.media-amazon.com/images/M/MV5BMzUyZDg1YTItODYxNy00Y2EyLWFhZTgtNWIyZDE3OGZjNTU4XkEyXkFqcGdeQXVyMTkxNjUyNQ@@..jpg\n",
            "URL curat: https://m.media-amazon.com/images/M/MV5BZTM1NzVmZTItYmU0Zi00ODVmLWE4MWQtZTFlMzRiZmMxN2I4XkEyXkFqcGdeQXVyMTkxNjUyNQ@@..jpg\n",
            "URL curat: https://m.media-amazon.com/images/M/MV5BZjU3ZWFhMDYtMDUyZi00YzA2LThmNmUtNmJlMGE3MGM3ZDczXkEyXkFqcGdeQXVyMTkxNjUyNQ@@..jpg\n",
            "URL curat: https://m.media-amazon.com/images/M/MV5BZTY4YmU5NWYtMDE3YS00ZmM3LTg2NzUtZTdiNjM0YWI3NGZlXkEyXkFqcGdeQXVyMTkxNjUyNQ@@..jpg\n",
            "URL curat: https://m.media-amazon.com/images/M/MV5BMjVkN2EwMmEtMmMzNy00ZWExLTlhNjktN2RlMTVkNzM5NWNhXkEyXkFqcGdeQXVyMTkxNjUyNQ@@..jpg\n",
            "URL curat: https://m.media-amazon.com/images/M/MV5BZThhZTUwZGMtMzdhYS00YTUwLTg0YTQtYTM5YzMxNWY5OGZlXkEyXkFqcGdeQXVyMTkxNjUyNQ@@..jpg\n",
            "URL curat: https://m.media-amazon.com/images/M/MV5BM2Q3MzlkNDItODhmMS00NmFiLWIzZjctOGRlZDhjMTgyNzZjXkEyXkFqcGdeQXVyMTkxNjUyNQ@@..jpg\n",
            "URL curat: https://m.media-amazon.com/images/M/MV5BYjZmMjFiYmUtZTRjZi00NTI2LThjZTYtNjg4NDIwNDc1ZTAwXkEyXkFqcGdeQXVyMjk3NTUyOTc@..jpg\n",
            "URL curat: https://m.media-amazon.com/images/M/MV5BNjk0ZWQ5ZDMtZDliOS00NjZlLThjODQtMTU4YzVjMDZlOTczXkEyXkFqcGdeQXVyMjk3NTUyOTc@..jpg\n",
            "URL curat: https://m.media-amazon.com/images/M/MV5BMTNjMzA0MGItNTU4YS00NWYxLWI3OGYtZjFiNTU1MjcyZTI0XkEyXkFqcGdeQXVyMjk3NTUyOTc@..jpg\n",
            "URL curat: https://m.media-amazon.com/images/M/MV5BODRhOWFkNzYtM2UxYS00NzQwLWFjNDgtYjE4NTYwNmFkODJmXkEyXkFqcGdeQXVyMjk3NTUyOTc@..jpg\n",
            "URL curat: https://m.media-amazon.com/images/M/MV5BYzlmMjg5YmUtN2RjMC00YmIwLWIzZDYtY2JmYjczNjNkN2Q0XkEyXkFqcGdeQXVyMjk3NTUyOTc@..jpg\n",
            "URL curat: https://m.media-amazon.com/images/M/MV5BODE2M2VlNmItZWIyNC00MTA5LTkwNzUtNTI0MWUzODM4ZmU4XkEyXkFqcGdeQXVyMjk3NTUyOTc@..jpg\n",
            "URL curat: https://m.media-amazon.com/images/M/MV5BNGM1OGRlOTQtYWQ0Ny00Nzk5LWJiYzctMmEyYTJlOTYwYjdkXkEyXkFqcGdeQXVyMjk3NTUyOTc@..jpg\n",
            "URL curat: https://m.media-amazon.com/images/M/MV5BNGY0NTVhZDctYzliNy00YWE2LThjMDQtY2QyYzdlYzc4ZjAzXkEyXkFqcGdeQXVyMTUzMTg2ODkz..jpg\n",
            "URL curat: https://m.media-amazon.com/images/M/MV5BZWQwY2RlYTAtNGZiNC00NzU3LTlhM2ItNTNhMTNhYTA0NTRlXkEyXkFqcGdeQXVyMTUzMTg2ODkz..jpg\n",
            "URL curat: https://m.media-amazon.com/images/M/MV5BMDBkODkxMzYtZmZlOS00YjJmLWI1MDctNmRiNzZmOWQ2OTFjXkEyXkFqcGdeQXVyMTkxNjUyNQ@@..jpg\n",
            "URL curat: https://m.media-amazon.com/images/M/MV5BMzk4NzBhZmYtZmMxNy00N2YwLWI0MzgtZTI0ZDhjZjAwMzI3XkEyXkFqcGdeQXVyMjk3NTUyOTc@..jpg\n",
            "URL curat: https://m.media-amazon.com/images/M/MV5BYjU2YzJlZDctNDY3YS00ZGViLTlmZjYtZWM2NDUwNTdjZmRmXkEyXkFqcGdeQXVyMjk3NTUyOTc@..jpg\n",
            "URL curat: https://m.media-amazon.com/images/M/MV5BYWIzN2I1YTQtYTQ3Zi00YjY1LWI5MTMtYjczZWMzNmU2YWI3XkEyXkFqcGdeQXVyMjk3NTUyOTc@..jpg\n",
            "URL curat: https://m.media-amazon.com/images/M/MV5BNGUzNzE4ZTYtNGZmNC00NDZhLTgwZTItY2M4YjIyYjg5OWNiXkEyXkFqcGdeQXVyMTUzMTg2ODkz..jpg\n",
            "URL curat: https://m.media-amazon.com/images/M/MV5BYTdkZjAwNDItMDg1MC00NTc2LWI0NDYtZGRlYTk1YTY5ZWY1XkEyXkFqcGdeQXVyMTUzMTg2ODkz..jpg\n",
            "URL curat: https://m.media-amazon.com/images/M/MV5BZTAyZDE5MmQtMzNiOC00ZjUyLWI4NDMtNTNmMzhkMTVjYjIzXkEyXkFqcGdeQXVyMTUzMTg2ODkz..jpg\n",
            "URL curat: https://m.media-amazon.com/images/M/MV5BZTA1ZTBmYjQtYjRhOS00NWVlLWI2YWItYTE3YmQyOTYyYTAyXkEyXkFqcGdeQXVyMTUzMTg2ODkz..jpg\n",
            "URL curat: https://m.media-amazon.com/images/M/MV5BN2I0ZGNjY2MtZjE1OS00NTI5LTk0NzUtYzNhMjdiOTQ1MGQ0XkEyXkFqcGdeQXVyMDM2NDM2MQ@@..jpg\n",
            "URL curat: https://m.media-amazon.com/images/M/MV5BNzQzOTBjOTUtNGI1Yi00NTdiLWJjMzYtMTEwOThhOTA3NGFhXkEyXkFqcGdeQXVyMjQwMDg0Ng@@..jpg\n",
            "URL curat: https://m.media-amazon.com/images/M/MV5BY2JlOTIwMTUtNDgwNC00MjQzLTgzNTItZmQ1MDc0MWI2MWY3XkEyXkFqcGdeQXVyMDM2NDM2MQ@@..jpg\n",
            "URL curat: https://m.media-amazon.com/images/M/MV5BMjA3NDg5M2QtYjU5OS00MTNiLWI0ZWUtZmM1OTI2ZmI2NTRhXkEyXkFqcGdeQXVyMDM2NDM2MQ@@..jpg\n",
            "URL curat: https://m.media-amazon.com/images/M/MV5BZmI2YWE0ZWQtZjk4Ny00OTY5LWFiNDgtNzBjMjUwYzI2MzJjXkEyXkFqcGdeQXVyMDM2NDM2MQ@@..jpg\n",
            "URL curat: https://m.media-amazon.com/images/M/MV5BYzJjYmQzM2QtMDIyMy00ZWE2LWI4NzUtNTRlNTZkODE4ODJiXkEyXkFqcGdeQXVyMDM2NDM2MQ@@..jpg\n",
            "URL curat: https://m.media-amazon.com/images/M/MV5BNGM5MTQ3NzAtYzA2ZS00ZDk3LTkwZjUtNzYwZDk1YzA2NGI4XkEyXkFqcGdeQXVyMDM2NDM2MQ@@..jpg\n",
            "URL curat: https://m.media-amazon.com/images/M/MV5BYzU3ZDYyNDAtMGU5My00ZGY5LWFhMGYtMWQ1NzQ3YWJhNzYwXkEyXkFqcGdeQXVyMDM2NDM2MQ@@..jpg\n",
            "URL curat: https://m.media-amazon.com/images/M/MV5BZTgyMDJkOTEtODBlMi00MzBiLTlmMmYtNjkzNmU2YWVlN2I0XkEyXkFqcGdeQXVyMDM2NDM2MQ@@..jpg\n",
            "URL curat: https://m.media-amazon.com/images/M/MV5BZTkzZDBlMjUtYWFlNy00ZDI0LWE2MTAtNTY5NjVhYWU3YTQzXkEyXkFqcGdeQXVyMDM2NDM2MQ@@..jpg\n",
            "URL curat: https://m.media-amazon.com/images/M/MV5BNTgyOGQyMGEtMGViOS00NDA3LWE3YzEtZjVmNGU3YTI5NTNjXkEyXkFqcGdeQXVyMTEyMjM2NDc2..jpg\n",
            "URL curat: https://m.media-amazon.com/images/M/MV5BYWQ5NzE2MGMtNmY2Yi00YzZlLWI5OGQtMWJlNWJjY2IyMjA1XkEyXkFqcGdeQXVyMDM2NDM2MQ@@..jpg\n",
            "URL curat: https://m.media-amazon.com/images/M/MV5BMjU1M2VlM2QtYjE5My00N2M4LWJjNGEtZGUyOTY4ZGZlYzcwXkEyXkFqcGdeQXVyMDM2NDM2MQ@@..jpg\n",
            "URL curat: https://m.media-amazon.com/images/M/MV5BZDM4OGZhMDctMGNjOS00NmZhLTlmNzktOWFiMzk3NmMxMmMwXkEyXkFqcGdeQXVyMDM2NDM2MQ@@..jpg\n",
            "URL curat: https://m.media-amazon.com/images/M/MV5BOWZkMTc5NjktZThlMi00MzRlLThkMTAtNGY1MzMzMmIyYjkzXkEyXkFqcGdeQXVyMDM2NDM2MQ@@..jpg\n",
            "URL curat: https://m.media-amazon.com/images/M/MV5BNWMwMDM4NzUtNTkzMC00OGI3LWFhNWMtODRhMGNhZmIzZDE2XkEyXkFqcGdeQXVyMDM2NDM2MQ@@..jpg\n",
            "URL curat: https://m.media-amazon.com/images/M/MV5BODc5ODA0MWQtNzA5ZS00Mjk5LTg0YzQtYzE5NmMwMGM5YWJiXkEyXkFqcGdeQXVyMDM2NDM2MQ@@..jpg\n"
          ]
        }
      ]
    }
  ]
}