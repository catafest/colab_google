{
  "nbformat": 4,
  "nbformat_minor": 0,
  "metadata": {
    "colab": {
      "provenance": [],
      "authorship_tag": "ABX9TyNks6a8lifzha7ZSnlfSq4C",
      "include_colab_link": true
    },
    "kernelspec": {
      "name": "python3",
      "display_name": "Python 3"
    },
    "language_info": {
      "name": "python"
    }
  },
  "cells": [
    {
      "cell_type": "markdown",
      "metadata": {
        "id": "view-in-github",
        "colab_type": "text"
      },
      "source": [
        "<a href=\"https://colab.research.google.com/github/catafest/colab_google/blob/master/catafest_054.ipynb\" target=\"_parent\"><img src=\"https://colab.research.google.com/assets/colab-badge.svg\" alt=\"Open In Colab\"/></a>"
      ]
    },
    {
      "cell_type": "markdown",
      "source": [
        "*SymPy is a Python library for symbolic mathematics. It aims to become a full-featured computer algebra system (CAS) while keeping the code as simple as possible in order to be comprehensible and easily extensible. SymPy is written entirely in Python.*\n",
        "\n",
        "Read more on [the official website](https://www.sympy.org/en/index.html)."
      ],
      "metadata": {
        "id": "W4tv3MUPb7rg"
      }
    },
    {
      "cell_type": "markdown",
      "source": [
        "The install is easy with **pip** tool."
      ],
      "metadata": {
        "id": "6E49l_ancNPe"
      }
    },
    {
      "cell_type": "code",
      "execution_count": 1,
      "metadata": {
        "colab": {
          "base_uri": "https://localhost:8080/"
        },
        "id": "oHJcpTujZUKA",
        "outputId": "1c5721c7-1e1b-4094-9f80-7ec5e7feb18d"
      },
      "outputs": [
        {
          "output_type": "stream",
          "name": "stdout",
          "text": [
            "Requirement already satisfied: sympy in /usr/local/lib/python3.10/dist-packages (1.12)\n",
            "Requirement already satisfied: mpmath>=0.19 in /usr/local/lib/python3.10/dist-packages (from sympy) (1.3.0)\n"
          ]
        }
      ],
      "source": [
        "!pip install sympy"
      ]
    },
    {
      "cell_type": "markdown",
      "source": [
        "Let's test with some examples:"
      ],
      "metadata": {
        "id": "K5Bby6MTcRYP"
      }
    },
    {
      "cell_type": "code",
      "source": [
        " import sympy as sym"
      ],
      "metadata": {
        "id": "OWnmGgqdZ9Id"
      },
      "execution_count": 2,
      "outputs": []
    },
    {
      "cell_type": "code",
      "source": [
        "from sympy import Symbol, S, Add, simplify, diff, Expr, Dummy, Matrix, shape"
      ],
      "metadata": {
        "id": "K51nfV0taG-j"
      },
      "execution_count": 8,
      "outputs": []
    },
    {
      "cell_type": "markdown",
      "source": [
        "The electromagnetic wave equation is a second-order partial differential equation that describes the propagation of electromagnetic waves through a medium or in a vacuum. See [wikipedia](https://en.wikipedia.org/wiki/Electromagnetic_wave_equation).\n",
        "\n",
        "Here is a function\n",
        "\n",
        "Partial differentiation for math function: *f = 3*x**2 + 4*y**2 + 5*x*y*"
      ],
      "metadata": {
        "id": "tMZkoMQxbkcq"
      }
    },
    {
      "cell_type": "code",
      "source": [
        "from sympy import symbols, diff\n",
        "\n",
        "x, y = symbols('x y')\n",
        "f = 3*x**2 + 4*y**2 + 5*x*y\n",
        "f_partial_x = diff(f, x)\n",
        "f_partial_y = diff(f, y)\n",
        "print(f_partial_x)\n",
        "print(f_partial_y)"
      ],
      "metadata": {
        "colab": {
          "base_uri": "https://localhost:8080/"
        },
        "id": "b8siOqYWbkzX",
        "outputId": "b5471824-4b05-45d8-b991-afe8bea7b8d5"
      },
      "execution_count": 10,
      "outputs": [
        {
          "output_type": "stream",
          "name": "stdout",
          "text": [
            "6*x + 5*y\n",
            "5*x + 8*y\n"
          ]
        }
      ]
    }
  ]
}