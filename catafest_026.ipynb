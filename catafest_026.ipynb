{
  "nbformat": 4,
  "nbformat_minor": 0,
  "metadata": {
    "colab": {
      "name": "catafest_026.ipynb",
      "provenance": [],
      "collapsed_sections": [],
      "authorship_tag": "ABX9TyPTGnAuk/kzHMhFpCbGzasn",
      "include_colab_link": true
    },
    "kernelspec": {
      "name": "python3",
      "display_name": "Python 3"
    },
    "language_info": {
      "name": "python"
    }
  },
  "cells": [
    {
      "cell_type": "markdown",
      "metadata": {
        "id": "view-in-github",
        "colab_type": "text"
      },
      "source": [
        "<a href=\"https://colab.research.google.com/github/catafest/colab_google/blob/master/catafest_026.ipynb\" target=\"_parent\"><img src=\"https://colab.research.google.com/assets/colab-badge.svg\" alt=\"Open In Colab\"/></a>"
      ]
    },
    {
      "cell_type": "markdown",
      "source": [
        "A Python library for automating interaction with websites. MechanicalSoup automatically stores and sends cookies, follows redirects, and can follow links and submit forms. It doesn't do JavaScript.\n",
        "\n",
        "MechanicalSoup was created by M Hickford, who was a fond user of the Mechanize library."
      ],
      "metadata": {
        "id": "6BGeppu_uzUw"
      }
    },
    {
      "cell_type": "code",
      "source": [
        "pip install git+https://github.com/MechanicalSoup/MechanicalSoup"
      ],
      "metadata": {
        "colab": {
          "base_uri": "https://localhost:8080/"
        },
        "id": "LZHTnx-sexyW",
        "outputId": "c4800f8b-a769-476d-d273-2ab3830bfe9c"
      },
      "execution_count": null,
      "outputs": [
        {
          "output_type": "stream",
          "name": "stdout",
          "text": [
            "Collecting git+https://github.com/MechanicalSoup/MechanicalSoup\n",
            "  Cloning https://github.com/MechanicalSoup/MechanicalSoup to /tmp/pip-req-build-buzypdpl\n",
            "  Running command git clone -q https://github.com/MechanicalSoup/MechanicalSoup /tmp/pip-req-build-buzypdpl\n",
            "Requirement already satisfied: requests>=2.22.0 in /usr/local/lib/python3.7/dist-packages (from MechanicalSoup==1.2.0.dev0) (2.23.0)\n",
            "Collecting beautifulsoup4>=4.7\n",
            "  Downloading beautifulsoup4-4.10.0-py3-none-any.whl (97 kB)\n",
            "\u001b[K     |████████████████████████████████| 97 kB 3.0 MB/s \n",
            "\u001b[?25hRequirement already satisfied: lxml in /usr/local/lib/python3.7/dist-packages (from MechanicalSoup==1.2.0.dev0) (4.2.6)\n",
            "Collecting soupsieve>1.2\n",
            "  Downloading soupsieve-2.3.1-py3-none-any.whl (37 kB)\n",
            "Requirement already satisfied: idna<3,>=2.5 in /usr/local/lib/python3.7/dist-packages (from requests>=2.22.0->MechanicalSoup==1.2.0.dev0) (2.10)\n",
            "Requirement already satisfied: urllib3!=1.25.0,!=1.25.1,<1.26,>=1.21.1 in /usr/local/lib/python3.7/dist-packages (from requests>=2.22.0->MechanicalSoup==1.2.0.dev0) (1.24.3)\n",
            "Requirement already satisfied: chardet<4,>=3.0.2 in /usr/local/lib/python3.7/dist-packages (from requests>=2.22.0->MechanicalSoup==1.2.0.dev0) (3.0.4)\n",
            "Requirement already satisfied: certifi>=2017.4.17 in /usr/local/lib/python3.7/dist-packages (from requests>=2.22.0->MechanicalSoup==1.2.0.dev0) (2021.10.8)\n",
            "Building wheels for collected packages: MechanicalSoup\n",
            "  Building wheel for MechanicalSoup (setup.py) ... \u001b[?25l\u001b[?25hdone\n",
            "  Created wheel for MechanicalSoup: filename=MechanicalSoup-1.2.0.dev0-py3-none-any.whl size=19351 sha256=581b0812acc84345d6cf742b91a111e00d068fb0629e5dfaabb1dc7a7e8c8c1b\n",
            "  Stored in directory: /tmp/pip-ephem-wheel-cache-lvfyrwaq/wheels/20/62/8a/d46ce7ed8f22eccafaf63a92a5e7f0b750680e807f6b9cf153\n",
            "Successfully built MechanicalSoup\n",
            "Installing collected packages: soupsieve, beautifulsoup4, MechanicalSoup\n",
            "  Attempting uninstall: beautifulsoup4\n",
            "    Found existing installation: beautifulsoup4 4.6.3\n",
            "    Uninstalling beautifulsoup4-4.6.3:\n",
            "      Successfully uninstalled beautifulsoup4-4.6.3\n",
            "Successfully installed MechanicalSoup-1.2.0.dev0 beautifulsoup4-4.10.0 soupsieve-2.3.1\n"
          ]
        }
      ]
    },
    {
      "cell_type": "markdown",
      "source": [
        "Test with Google to search my nickname: catafest "
      ],
      "metadata": {
        "id": "7Onnh7jemJOj"
      }
    },
    {
      "cell_type": "code",
      "source": [
        "import re\n",
        "import mechanicalsoup\n",
        "# Connect to Google\n",
        "browser = mechanicalsoup.StatefulBrowser()\n",
        "browser.open(\"https://www.google.com/\")\n",
        "\n",
        "# Fill-in the form\n",
        "browser.select_form('form[action=\"/search\"]')\n",
        "browser[\"q\"] = \"catafest\"\n",
        "# Note: the button name is btnK in the content served to actual\n",
        "# browsers, but btnG for bots.\n",
        "browser.submit_selected(btnName=\"btnG\")\n",
        "\n",
        "# Display links\n",
        "for link in browser.links():\n",
        "    target = link.attrs['href']\n",
        "    # Filter-out unrelated links and extract actual URL from Google's\n",
        "    # click-tracking.\n",
        "    if (target.startswith('/url?') and not\n",
        "            target.startswith(\"/url?q=http://webcache.googleusercontent.com\")):\n",
        "        target = re.sub(r\"^/url\\?q=([^&]*)&.*\", r\"\\1\", target)\n",
        "        print(target)"
      ],
      "metadata": {
        "colab": {
          "base_uri": "https://localhost:8080/"
        },
        "id": "JbJwt3oqlp47",
        "outputId": "94661295-9b8b-4250-c148-2f2824a22551"
      },
      "execution_count": null,
      "outputs": [
        {
          "output_type": "stream",
          "name": "stdout",
          "text": [
            "https://www.eventbrite.com.ar/e/catafest-tickets-216954214897\n",
            "https://twitter.com/catafest%3Flang%3Den\n",
            "https://twitter.com/catafest\n",
            "https://github.com/catafest\n",
            "https://sketchfab.com/catafest\n",
            "https://www.youtube.com/playlist%3Flist%3DPL16sS1eNT2qDcRHx7MbSs29biBhUt5gXM\n",
            "https://www.deviantart.com/catafest\n",
            "https://www.deviantart.com/catafest/gallery\n",
            "https://www.shadertoy.com/user/catafest\n",
            "https://www.shadertoy.com/user/catafest/sort%3Dnewest\n",
            "https://no.pinterest.com/catafest/\n",
            "https://support.google.com/websearch%3Fp%3Dws_settings_location%26hl%3Den\n",
            "https://accounts.google.com/ServiceLogin%3Fcontinue%3Dhttps://www.google.com/search%253Fie%253DISO-8859-1%2526hl%253Den%2526source%253Dhp%2526q%253Dcatafest%2526btnG%253DGoogle%252BSearch%2526iflsig%253DALs-wAMAAAAAYbfUVtz0Hz-BkCNHsDEq-v3kJzkcHmE5%2526gbv%253D1%26hl%3Den\n"
          ]
        }
      ]
    },
    {
      "cell_type": "markdown",
      "source": [
        "Serch images with google !\n"
      ],
      "metadata": {
        "id": "xCth3x8v4ntF"
      }
    },
    {
      "cell_type": "code",
      "source": [
        "import mechanicalsoup\n",
        "\n",
        "browser = mechanicalsoup.StatefulBrowser()\n",
        "url = \"https://www.google.com/imghp?hl=en\"\n",
        "\n",
        "browser.open(url)\n",
        "#print(browser.get_url())\n",
        "\n",
        "#to select the form in the current page\n",
        "browser.select_form()\n",
        "\n",
        "#search item\n",
        "search_term = 'catafest'\n",
        "\n",
        "#assigning it to q\n",
        "browser[\"q\"] = search_term \n",
        "\n",
        "#storing the submitted search item\n",
        "response = browser.submit_selected()\n",
        "\n",
        "#open URL\n",
        "new_url = browser.get_url()\n",
        "browser.open(new_url)\n",
        "\n",
        "#get HTML code\n",
        "page = browser.get_current_page()\n",
        "all_images = page.find_all('img')\n",
        "\n",
        "#storing image links into array\n",
        "image_source = []\n",
        "for image in all_images:\n",
        "    image = image.get('src')\n",
        "    image_source.append(image)\n",
        "\n",
        "#Storing the images links which starts with only http\n",
        "image_source = [image for image in image_source if image.startswith('http')]\n",
        "for i in image_source:\n",
        "  print(i)"
      ],
      "metadata": {
        "colab": {
          "base_uri": "https://localhost:8080/"
        },
        "id": "kvRImNxBnArR",
        "outputId": "88e0fcc7-fbb8-4427-d5a5-15bdbc2e6954"
      },
      "execution_count": null,
      "outputs": [
        {
          "output_type": "stream",
          "name": "stdout",
          "text": [
            "https://encrypted-tbn0.gstatic.com/images?q=tbn:ANd9GcSxToh8qxkPjSa4AVOvrPl7p42_QoVbzRTrj63VpPeXZZa_w6DR20Xle5AxKA&s\n",
            "https://encrypted-tbn0.gstatic.com/images?q=tbn:ANd9GcQNYIUI6mnE5LCT64a2k1bcHjTzdvORFK2TpOzTLPI3UvRBGrS5Nsb1LjS3vLo&s\n",
            "https://encrypted-tbn0.gstatic.com/images?q=tbn:ANd9GcSrXV1u3YzdhtNSRIMzygnzeVLoEw9QaPozVzN56h1uoN9BiDcWbUeZQzQxiHg&s\n",
            "https://encrypted-tbn0.gstatic.com/images?q=tbn:ANd9GcRASqCPPS5ZCnDRJEqSMa59n6i163-7pP54h-QGSXaEcbjI4MiCQTPPuJtgYg&s\n",
            "https://encrypted-tbn0.gstatic.com/images?q=tbn:ANd9GcS-M7FvbB0QxuFqS_FIgTn9D82Hzmw3dCNLO-BbafGC07JdPv7Yg1qUVuQb2jU&s\n",
            "https://encrypted-tbn0.gstatic.com/images?q=tbn:ANd9GcRo_B5tXVuIhRg-R_GdPgbqKYPmF8NM9S_H24Tl1DVSSbii9_-LS6f3KcWKeQ&s\n",
            "https://encrypted-tbn0.gstatic.com/images?q=tbn:ANd9GcTb3OOF5cLTyYy6C6kfEoXcX1Be1n7ahsS5A584HWT9uQlt3kRD3iFtcCawiQ&s\n",
            "https://encrypted-tbn0.gstatic.com/images?q=tbn:ANd9GcTlazhLunWHlwy6bpV-F4odqOUf47K28UJJ9uM_717yvtBAlp8pwAk9plHroDk&s\n",
            "https://encrypted-tbn0.gstatic.com/images?q=tbn:ANd9GcTOB75m9owIBHY0L_pE-xjDa2WreO5611iwZEB8i69xNp5ixxZZZF5y5ssyaLI&s\n",
            "https://encrypted-tbn0.gstatic.com/images?q=tbn:ANd9GcR88Qvquo438iXnpOpldxqnUduRWQkFqmUfGHMkByWw4qx0AzNHb5f9QNkKfAo&s\n",
            "https://encrypted-tbn0.gstatic.com/images?q=tbn:ANd9GcSnfiiidWAzGPpkyUo6flNXItxmuA3viewfAa7uXBbAl4KjjFG43uLyW2yt8A&s\n",
            "https://encrypted-tbn0.gstatic.com/images?q=tbn:ANd9GcQHcpJu5wcRFLrI4Yd_SO02NnnBHE7169iRp6GYiASOgn-tDsjry4IQkHvfuMU&s\n",
            "https://encrypted-tbn0.gstatic.com/images?q=tbn:ANd9GcRIiBW5UxPD7KFDp2tJ0R1WK5nmyGnv7NGk4BeEMbdcybbYCEgoWGWAYW-0E1M&s\n",
            "https://encrypted-tbn0.gstatic.com/images?q=tbn:ANd9GcRf3Rs6nD7P_biUitG_4ZBhs1zT_Ugn6NdIWRziN06KYuED0qvRKHqdpZF3sxo&s\n",
            "https://encrypted-tbn0.gstatic.com/images?q=tbn:ANd9GcSMZqule7-SGoY-vSpSEGAkScyzCGvHpx9yhl9Ea_lRjAgM6Q_OSn8kV3Jlqw&s\n",
            "https://encrypted-tbn0.gstatic.com/images?q=tbn:ANd9GcQqr3PXYoKrGec4qHxCt99CPzhXcgPz0sESzPpKXqqkGd4dnJH613jgqt8ETN8&s\n",
            "https://encrypted-tbn0.gstatic.com/images?q=tbn:ANd9GcTmmUx1QJ3UxXmCmeiVphEtyg-0gkQh6HUZGYc3mQKBOFG5AU3GYVDxtIkOrc0&s\n",
            "https://encrypted-tbn0.gstatic.com/images?q=tbn:ANd9GcQ8m4Nwq1020Vuai-zDe1mG0dx6-o7SWwKqBn9vQo2vLBTF4U1ahSR4PNVig2Y&s\n",
            "https://encrypted-tbn0.gstatic.com/images?q=tbn:ANd9GcRvN7DFPItJCBJL7E3C8_UJ3KD5LZgKKJ6ffe1-Jdyn74gsvuPcSMwhGNewM-k&s\n",
            "https://encrypted-tbn0.gstatic.com/images?q=tbn:ANd9GcSh7FsSSgdhYkTLoqM794kmRVxq72rtfeIL2j1vVmE6TfsdzKUJbmKnU7RzmA&s\n"
          ]
        }
      ]
    }
  ]
}