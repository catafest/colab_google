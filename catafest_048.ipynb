{
  "nbformat": 4,
  "nbformat_minor": 0,
  "metadata": {
    "colab": {
      "provenance": [],
      "gpuType": "T4",
      "authorship_tag": "ABX9TyOf2oeRtNQLJZkzWA3MUfne",
      "include_colab_link": true
    },
    "kernelspec": {
      "name": "python3",
      "display_name": "Python 3"
    },
    "language_info": {
      "name": "python"
    },
    "accelerator": "GPU"
  },
  "cells": [
    {
      "cell_type": "markdown",
      "metadata": {
        "id": "view-in-github",
        "colab_type": "text"
      },
      "source": [
        "<a href=\"https://colab.research.google.com/github/catafest/colab_google/blob/master/catafest_048.ipynb\" target=\"_parent\"><img src=\"https://colab.research.google.com/assets/colab-badge.svg\" alt=\"Open In Colab\"/></a>"
      ]
    },
    {
      "cell_type": "markdown",
      "source": [
        "SeamlessM4T is designed to provide high quality translation, allowing people from different linguistic communities to communicate effortlessly through speech and text.\n",
        "\n",
        "*SeamlessM4T covers:*\n",
        "\n",
        "*101 languages for speech input.*\n",
        "\n",
        "*96 Languages for text input/output.*\n",
        "\n",
        "*35 languages for speech output.*\n",
        "\n",
        "This unified model enables multiple tasks without relying on multiple separate models:\n",
        "\n",
        "*Speech-to-speech translation - S2ST*\n",
        "\n",
        "*Speech-to-text translation - S2TT*\n",
        "\n",
        "*Text-to-speech translation - T2ST*\n",
        "\n",
        "*Text-to-text translation - T2TT*\n",
        "\n",
        "*Automatic speech recognition - ASR*\n",
        "\n",
        "\n",
        "You can test the on [this demo webpage from huggingface.co](https://huggingface.co/spaces/facebook/seamless_m4t).\n",
        "\n",
        "Puteti folosi codul sursa al aplicatiei de acolo : https://huggingface.co/spaces/facebook/seamless_m4t/blob/main/app.py\n",
        "\n",
        "Aici aveti codul sursa pentru colab fara erori"
      ],
      "metadata": {
        "id": "yv8wGF-cBhR5"
      }
    },
    {
      "cell_type": "code",
      "source": [
        "!pip show torch"
      ],
      "metadata": {
        "colab": {
          "base_uri": "https://localhost:8080/"
        },
        "id": "MP89VREQASGu",
        "outputId": "3676a0ae-78a1-4efc-c96e-74b9026a8238"
      },
      "execution_count": 3,
      "outputs": [
        {
          "output_type": "stream",
          "name": "stdout",
          "text": [
            "Name: torch\n",
            "Version: 2.0.1+cu118\n",
            "Summary: Tensors and Dynamic neural networks in Python with strong GPU acceleration\n",
            "Home-page: https://pytorch.org/\n",
            "Author: PyTorch Team\n",
            "Author-email: packages@pytorch.org\n",
            "License: BSD-3\n",
            "Location: /usr/local/lib/python3.10/dist-packages\n",
            "Requires: filelock, jinja2, networkx, sympy, triton, typing-extensions\n",
            "Required-by: fastai, torchaudio, torchdata, torchtext, torchvision, triton\n"
          ]
        }
      ]
    },
    {
      "cell_type": "code",
      "source": [
        "!git clone https://github.com/facebookresearch/seamless_communication.git"
      ],
      "metadata": {
        "colab": {
          "base_uri": "https://localhost:8080/"
        },
        "id": "IWp_dzXNAWZf",
        "outputId": "0c0be3b9-19ce-43b9-a722-02f622a5a1ad"
      },
      "execution_count": 4,
      "outputs": [
        {
          "output_type": "stream",
          "name": "stdout",
          "text": [
            "Cloning into 'seamless_communication'...\n",
            "remote: Enumerating objects: 776, done.\u001b[K\n",
            "remote: Counting objects: 100% (247/247), done.\u001b[K\n",
            "remote: Compressing objects: 100% (120/120), done.\u001b[K\n",
            "remote: Total 776 (delta 108), reused 213 (delta 100), pack-reused 529\u001b[K\n",
            "Receiving objects: 100% (776/776), 577.73 KiB | 23.11 MiB/s, done.\n",
            "Resolving deltas: 100% (360/360), done.\n"
          ]
        }
      ]
    },
    {
      "cell_type": "markdown",
      "source": [
        "some linux commands need to run with % symbol"
      ],
      "metadata": {
        "id": "LICV0Qw0BB_i"
      }
    },
    {
      "cell_type": "code",
      "source": [
        "%cd seamless_communication\n",
        "!pip install ."
      ],
      "metadata": {
        "colab": {
          "base_uri": "https://localhost:8080/"
        },
        "id": "ItKJi4CWAxJ7",
        "outputId": "ff518931-9927-432f-8fbb-2ca3f6df6eb0"
      },
      "execution_count": 5,
      "outputs": [
        {
          "output_type": "stream",
          "name": "stdout",
          "text": [
            "/content/seamless_communication\n",
            "Processing /content/seamless_communication\n",
            "  Preparing metadata (setup.py) ... \u001b[?25l\u001b[?25hdone\n",
            "Collecting pre-commit (from seamless-communication==1.0.0)\n",
            "  Downloading pre_commit-3.3.3-py2.py3-none-any.whl (202 kB)\n",
            "\u001b[2K     \u001b[90m━━━━━━━━━━━━━━━━━━━━━━━━━━━━━━━━━━━━━━━\u001b[0m \u001b[32m202.8/202.8 kB\u001b[0m \u001b[31m4.5 MB/s\u001b[0m eta \u001b[36m0:00:00\u001b[0m\n",
            "\u001b[?25hCollecting datasets (from seamless-communication==1.0.0)\n",
            "  Downloading datasets-2.14.4-py3-none-any.whl (519 kB)\n",
            "\u001b[2K     \u001b[90m━━━━━━━━━━━━━━━━━━━━━━━━━━━━━━━━━━━━━━\u001b[0m \u001b[32m519.3/519.3 kB\u001b[0m \u001b[31m42.3 MB/s\u001b[0m eta \u001b[36m0:00:00\u001b[0m\n",
            "\u001b[?25hRequirement already satisfied: torchaudio in /usr/local/lib/python3.10/dist-packages (from seamless-communication==1.0.0) (2.0.2+cu118)\n",
            "Requirement already satisfied: soundfile in /usr/local/lib/python3.10/dist-packages (from seamless-communication==1.0.0) (0.12.1)\n",
            "Requirement already satisfied: librosa in /usr/local/lib/python3.10/dist-packages (from seamless-communication==1.0.0) (0.10.1)\n",
            "Collecting fairseq2==0.1.0 (from seamless-communication==1.0.0)\n",
            "  Downloading fairseq2-0.1.0-py3-none-any.whl (162 kB)\n",
            "\u001b[2K     \u001b[90m━━━━━━━━━━━━━━━━━━━━━━━━━━━━━━━━━━━━━━\u001b[0m \u001b[32m162.3/162.3 kB\u001b[0m \u001b[31m19.2 MB/s\u001b[0m eta \u001b[36m0:00:00\u001b[0m\n",
            "\u001b[?25hCollecting fairseq2n==0.1.0 (from fairseq2==0.1.0->seamless-communication==1.0.0)\n",
            "  Downloading fairseq2n-0.1.0-cp310-cp310-manylinux_2_17_x86_64.whl (2.3 MB)\n",
            "\u001b[2K     \u001b[90m━━━━━━━━━━━━━━━━━━━━━━━━━━━━━━━━━━━━━━━━\u001b[0m \u001b[32m2.3/2.3 MB\u001b[0m \u001b[31m72.1 MB/s\u001b[0m eta \u001b[36m0:00:00\u001b[0m\n",
            "\u001b[?25hCollecting jiwer~=3.0 (from fairseq2==0.1.0->seamless-communication==1.0.0)\n",
            "  Downloading jiwer-3.0.2-py3-none-any.whl (21 kB)\n",
            "Requirement already satisfied: numpy~=1.23 in /usr/local/lib/python3.10/dist-packages (from fairseq2==0.1.0->seamless-communication==1.0.0) (1.23.5)\n",
            "Collecting overrides~=7.3 (from fairseq2==0.1.0->seamless-communication==1.0.0)\n",
            "  Downloading overrides-7.4.0-py3-none-any.whl (17 kB)\n",
            "Requirement already satisfied: packaging~=23.1 in /usr/local/lib/python3.10/dist-packages (from fairseq2==0.1.0->seamless-communication==1.0.0) (23.1)\n",
            "Requirement already satisfied: pyyaml~=6.0 in /usr/local/lib/python3.10/dist-packages (from fairseq2==0.1.0->seamless-communication==1.0.0) (6.0.1)\n",
            "Collecting sacrebleu~=2.3 (from fairseq2==0.1.0->seamless-communication==1.0.0)\n",
            "  Downloading sacrebleu-2.3.1-py3-none-any.whl (118 kB)\n",
            "\u001b[2K     \u001b[90m━━━━━━━━━━━━━━━━━━━━━━━━━━━━━━━━━━━━━━\u001b[0m \u001b[32m118.9/118.9 kB\u001b[0m \u001b[31m21.1 MB/s\u001b[0m eta \u001b[36m0:00:00\u001b[0m\n",
            "\u001b[?25hRequirement already satisfied: torch>=1.12.1 in /usr/local/lib/python3.10/dist-packages (from fairseq2==0.1.0->seamless-communication==1.0.0) (2.0.1+cu118)\n",
            "Collecting torcheval~=0.0.6 (from fairseq2==0.1.0->seamless-communication==1.0.0)\n",
            "  Downloading torcheval-0.0.7-py3-none-any.whl (179 kB)\n",
            "\u001b[2K     \u001b[90m━━━━━━━━━━━━━━━━━━━━━━━━━━━━━━━━━━━━━━\u001b[0m \u001b[32m179.2/179.2 kB\u001b[0m \u001b[31m29.5 MB/s\u001b[0m eta \u001b[36m0:00:00\u001b[0m\n",
            "\u001b[?25hCollecting tbb==2021.8 (from fairseq2n==0.1.0->fairseq2==0.1.0->seamless-communication==1.0.0)\n",
            "  Downloading tbb-2021.8.0-py2.py3-none-manylinux1_x86_64.whl (4.0 MB)\n",
            "\u001b[2K     \u001b[90m━━━━━━━━━━━━━━━━━━━━━━━━━━━━━━━━━━━━━━━━\u001b[0m \u001b[32m4.0/4.0 MB\u001b[0m \u001b[31m107.2 MB/s\u001b[0m eta \u001b[36m0:00:00\u001b[0m\n",
            "\u001b[?25hRequirement already satisfied: filelock in /usr/local/lib/python3.10/dist-packages (from torch>=1.12.1->fairseq2==0.1.0->seamless-communication==1.0.0) (3.12.2)\n",
            "Requirement already satisfied: typing-extensions in /usr/local/lib/python3.10/dist-packages (from torch>=1.12.1->fairseq2==0.1.0->seamless-communication==1.0.0) (4.7.1)\n",
            "Requirement already satisfied: sympy in /usr/local/lib/python3.10/dist-packages (from torch>=1.12.1->fairseq2==0.1.0->seamless-communication==1.0.0) (1.12)\n",
            "Requirement already satisfied: networkx in /usr/local/lib/python3.10/dist-packages (from torch>=1.12.1->fairseq2==0.1.0->seamless-communication==1.0.0) (3.1)\n",
            "Requirement already satisfied: jinja2 in /usr/local/lib/python3.10/dist-packages (from torch>=1.12.1->fairseq2==0.1.0->seamless-communication==1.0.0) (3.1.2)\n",
            "Requirement already satisfied: triton==2.0.0 in /usr/local/lib/python3.10/dist-packages (from torch>=1.12.1->fairseq2==0.1.0->seamless-communication==1.0.0) (2.0.0)\n",
            "Requirement already satisfied: cmake in /usr/local/lib/python3.10/dist-packages (from triton==2.0.0->torch>=1.12.1->fairseq2==0.1.0->seamless-communication==1.0.0) (3.27.2)\n",
            "Requirement already satisfied: lit in /usr/local/lib/python3.10/dist-packages (from triton==2.0.0->torch>=1.12.1->fairseq2==0.1.0->seamless-communication==1.0.0) (16.0.6)\n",
            "Requirement already satisfied: pyarrow>=8.0.0 in /usr/local/lib/python3.10/dist-packages (from datasets->seamless-communication==1.0.0) (9.0.0)\n",
            "Collecting dill<0.3.8,>=0.3.0 (from datasets->seamless-communication==1.0.0)\n",
            "  Downloading dill-0.3.7-py3-none-any.whl (115 kB)\n",
            "\u001b[2K     \u001b[90m━━━━━━━━━━━━━━━━━━━━━━━━━━━━━━━━━━━━━━\u001b[0m \u001b[32m115.3/115.3 kB\u001b[0m \u001b[31m19.4 MB/s\u001b[0m eta \u001b[36m0:00:00\u001b[0m\n",
            "\u001b[?25hRequirement already satisfied: pandas in /usr/local/lib/python3.10/dist-packages (from datasets->seamless-communication==1.0.0) (1.5.3)\n",
            "Requirement already satisfied: requests>=2.19.0 in /usr/local/lib/python3.10/dist-packages (from datasets->seamless-communication==1.0.0) (2.31.0)\n",
            "Requirement already satisfied: tqdm>=4.62.1 in /usr/local/lib/python3.10/dist-packages (from datasets->seamless-communication==1.0.0) (4.66.1)\n",
            "Collecting xxhash (from datasets->seamless-communication==1.0.0)\n",
            "  Downloading xxhash-3.3.0-cp310-cp310-manylinux_2_17_x86_64.manylinux2014_x86_64.whl (194 kB)\n",
            "\u001b[2K     \u001b[90m━━━━━━━━━━━━━━━━━━━━━━━━━━━━━━━━━━━━━━\u001b[0m \u001b[32m194.1/194.1 kB\u001b[0m \u001b[31m31.5 MB/s\u001b[0m eta \u001b[36m0:00:00\u001b[0m\n",
            "\u001b[?25hCollecting multiprocess (from datasets->seamless-communication==1.0.0)\n",
            "  Downloading multiprocess-0.70.15-py310-none-any.whl (134 kB)\n",
            "\u001b[2K     \u001b[90m━━━━━━━━━━━━━━━━━━━━━━━━━━━━━━━━━━━━━━\u001b[0m \u001b[32m134.8/134.8 kB\u001b[0m \u001b[31m23.3 MB/s\u001b[0m eta \u001b[36m0:00:00\u001b[0m\n",
            "\u001b[?25hRequirement already satisfied: fsspec[http]>=2021.11.1 in /usr/local/lib/python3.10/dist-packages (from datasets->seamless-communication==1.0.0) (2023.6.0)\n",
            "Requirement already satisfied: aiohttp in /usr/local/lib/python3.10/dist-packages (from datasets->seamless-communication==1.0.0) (3.8.5)\n",
            "Collecting huggingface-hub<1.0.0,>=0.14.0 (from datasets->seamless-communication==1.0.0)\n",
            "  Downloading huggingface_hub-0.16.4-py3-none-any.whl (268 kB)\n",
            "\u001b[2K     \u001b[90m━━━━━━━━━━━━━━━━━━━━━━━━━━━━━━━━━━━━━━\u001b[0m \u001b[32m268.8/268.8 kB\u001b[0m \u001b[31m40.0 MB/s\u001b[0m eta \u001b[36m0:00:00\u001b[0m\n",
            "\u001b[?25hRequirement already satisfied: audioread>=2.1.9 in /usr/local/lib/python3.10/dist-packages (from librosa->seamless-communication==1.0.0) (3.0.0)\n",
            "Requirement already satisfied: scipy>=1.2.0 in /usr/local/lib/python3.10/dist-packages (from librosa->seamless-communication==1.0.0) (1.10.1)\n",
            "Requirement already satisfied: scikit-learn>=0.20.0 in /usr/local/lib/python3.10/dist-packages (from librosa->seamless-communication==1.0.0) (1.2.2)\n",
            "Requirement already satisfied: joblib>=0.14 in /usr/local/lib/python3.10/dist-packages (from librosa->seamless-communication==1.0.0) (1.3.2)\n",
            "Requirement already satisfied: decorator>=4.3.0 in /usr/local/lib/python3.10/dist-packages (from librosa->seamless-communication==1.0.0) (4.4.2)\n",
            "Requirement already satisfied: numba>=0.51.0 in /usr/local/lib/python3.10/dist-packages (from librosa->seamless-communication==1.0.0) (0.56.4)\n",
            "Requirement already satisfied: pooch>=1.0 in /usr/local/lib/python3.10/dist-packages (from librosa->seamless-communication==1.0.0) (1.7.0)\n",
            "Requirement already satisfied: soxr>=0.3.2 in /usr/local/lib/python3.10/dist-packages (from librosa->seamless-communication==1.0.0) (0.3.6)\n",
            "Requirement already satisfied: lazy-loader>=0.1 in /usr/local/lib/python3.10/dist-packages (from librosa->seamless-communication==1.0.0) (0.3)\n",
            "Requirement already satisfied: msgpack>=1.0 in /usr/local/lib/python3.10/dist-packages (from librosa->seamless-communication==1.0.0) (1.0.5)\n",
            "Requirement already satisfied: cffi>=1.0 in /usr/local/lib/python3.10/dist-packages (from soundfile->seamless-communication==1.0.0) (1.15.1)\n",
            "Collecting cfgv>=2.0.0 (from pre-commit->seamless-communication==1.0.0)\n",
            "  Downloading cfgv-3.4.0-py2.py3-none-any.whl (7.2 kB)\n",
            "Collecting identify>=1.0.0 (from pre-commit->seamless-communication==1.0.0)\n",
            "  Downloading identify-2.5.27-py2.py3-none-any.whl (98 kB)\n",
            "\u001b[2K     \u001b[90m━━━━━━━━━━━━━━━━━━━━━━━━━━━━━━━━━━━━━━━━\u001b[0m \u001b[32m98.8/98.8 kB\u001b[0m \u001b[31m18.1 MB/s\u001b[0m eta \u001b[36m0:00:00\u001b[0m\n",
            "\u001b[?25hCollecting nodeenv>=0.11.1 (from pre-commit->seamless-communication==1.0.0)\n",
            "  Downloading nodeenv-1.8.0-py2.py3-none-any.whl (22 kB)\n",
            "Collecting virtualenv>=20.10.0 (from pre-commit->seamless-communication==1.0.0)\n",
            "  Downloading virtualenv-20.24.3-py3-none-any.whl (3.0 MB)\n",
            "\u001b[2K     \u001b[90m━━━━━━━━━━━━━━━━━━━━━━━━━━━━━━━━━━━━━━━━\u001b[0m \u001b[32m3.0/3.0 MB\u001b[0m \u001b[31m78.8 MB/s\u001b[0m eta \u001b[36m0:00:00\u001b[0m\n",
            "\u001b[?25hRequirement already satisfied: pycparser in /usr/local/lib/python3.10/dist-packages (from cffi>=1.0->soundfile->seamless-communication==1.0.0) (2.21)\n",
            "Requirement already satisfied: attrs>=17.3.0 in /usr/local/lib/python3.10/dist-packages (from aiohttp->datasets->seamless-communication==1.0.0) (23.1.0)\n",
            "Requirement already satisfied: charset-normalizer<4.0,>=2.0 in /usr/local/lib/python3.10/dist-packages (from aiohttp->datasets->seamless-communication==1.0.0) (3.2.0)\n",
            "Requirement already satisfied: multidict<7.0,>=4.5 in /usr/local/lib/python3.10/dist-packages (from aiohttp->datasets->seamless-communication==1.0.0) (6.0.4)\n",
            "Requirement already satisfied: async-timeout<5.0,>=4.0.0a3 in /usr/local/lib/python3.10/dist-packages (from aiohttp->datasets->seamless-communication==1.0.0) (4.0.3)\n",
            "Requirement already satisfied: yarl<2.0,>=1.0 in /usr/local/lib/python3.10/dist-packages (from aiohttp->datasets->seamless-communication==1.0.0) (1.9.2)\n",
            "Requirement already satisfied: frozenlist>=1.1.1 in /usr/local/lib/python3.10/dist-packages (from aiohttp->datasets->seamless-communication==1.0.0) (1.4.0)\n",
            "Requirement already satisfied: aiosignal>=1.1.2 in /usr/local/lib/python3.10/dist-packages (from aiohttp->datasets->seamless-communication==1.0.0) (1.3.1)\n",
            "Requirement already satisfied: click<9.0.0,>=8.1.3 in /usr/local/lib/python3.10/dist-packages (from jiwer~=3.0->fairseq2==0.1.0->seamless-communication==1.0.0) (8.1.7)\n",
            "Collecting rapidfuzz==2.13.7 (from jiwer~=3.0->fairseq2==0.1.0->seamless-communication==1.0.0)\n",
            "  Downloading rapidfuzz-2.13.7-cp310-cp310-manylinux_2_17_x86_64.manylinux2014_x86_64.whl (2.2 MB)\n",
            "\u001b[2K     \u001b[90m━━━━━━━━━━━━━━━━━━━━━━━━━━━━━━━━━━━━━━━━\u001b[0m \u001b[32m2.2/2.2 MB\u001b[0m \u001b[31m89.4 MB/s\u001b[0m eta \u001b[36m0:00:00\u001b[0m\n",
            "\u001b[?25hRequirement already satisfied: setuptools in /usr/local/lib/python3.10/dist-packages (from nodeenv>=0.11.1->pre-commit->seamless-communication==1.0.0) (67.7.2)\n",
            "Requirement already satisfied: llvmlite<0.40,>=0.39.0dev0 in /usr/local/lib/python3.10/dist-packages (from numba>=0.51.0->librosa->seamless-communication==1.0.0) (0.39.1)\n",
            "Requirement already satisfied: platformdirs>=2.5.0 in /usr/local/lib/python3.10/dist-packages (from pooch>=1.0->librosa->seamless-communication==1.0.0) (3.10.0)\n",
            "Requirement already satisfied: idna<4,>=2.5 in /usr/local/lib/python3.10/dist-packages (from requests>=2.19.0->datasets->seamless-communication==1.0.0) (3.4)\n",
            "Requirement already satisfied: urllib3<3,>=1.21.1 in /usr/local/lib/python3.10/dist-packages (from requests>=2.19.0->datasets->seamless-communication==1.0.0) (2.0.4)\n",
            "Requirement already satisfied: certifi>=2017.4.17 in /usr/local/lib/python3.10/dist-packages (from requests>=2.19.0->datasets->seamless-communication==1.0.0) (2023.7.22)\n",
            "Collecting portalocker (from sacrebleu~=2.3->fairseq2==0.1.0->seamless-communication==1.0.0)\n",
            "  Downloading portalocker-2.7.0-py2.py3-none-any.whl (15 kB)\n",
            "Requirement already satisfied: regex in /usr/local/lib/python3.10/dist-packages (from sacrebleu~=2.3->fairseq2==0.1.0->seamless-communication==1.0.0) (2023.6.3)\n",
            "Requirement already satisfied: tabulate>=0.8.9 in /usr/local/lib/python3.10/dist-packages (from sacrebleu~=2.3->fairseq2==0.1.0->seamless-communication==1.0.0) (0.9.0)\n",
            "Collecting colorama (from sacrebleu~=2.3->fairseq2==0.1.0->seamless-communication==1.0.0)\n",
            "  Downloading colorama-0.4.6-py2.py3-none-any.whl (25 kB)\n",
            "Requirement already satisfied: lxml in /usr/local/lib/python3.10/dist-packages (from sacrebleu~=2.3->fairseq2==0.1.0->seamless-communication==1.0.0) (4.9.3)\n",
            "Requirement already satisfied: threadpoolctl>=2.0.0 in /usr/local/lib/python3.10/dist-packages (from scikit-learn>=0.20.0->librosa->seamless-communication==1.0.0) (3.2.0)\n",
            "Collecting distlib<1,>=0.3.7 (from virtualenv>=20.10.0->pre-commit->seamless-communication==1.0.0)\n",
            "  Downloading distlib-0.3.7-py2.py3-none-any.whl (468 kB)\n",
            "\u001b[2K     \u001b[90m━━━━━━━━━━━━━━━━━━━━━━━━━━━━━━━━━━━━━━\u001b[0m \u001b[32m468.9/468.9 kB\u001b[0m \u001b[31m48.2 MB/s\u001b[0m eta \u001b[36m0:00:00\u001b[0m\n",
            "\u001b[?25hRequirement already satisfied: python-dateutil>=2.8.1 in /usr/local/lib/python3.10/dist-packages (from pandas->datasets->seamless-communication==1.0.0) (2.8.2)\n",
            "Requirement already satisfied: pytz>=2020.1 in /usr/local/lib/python3.10/dist-packages (from pandas->datasets->seamless-communication==1.0.0) (2023.3)\n",
            "Requirement already satisfied: six>=1.5 in /usr/local/lib/python3.10/dist-packages (from python-dateutil>=2.8.1->pandas->datasets->seamless-communication==1.0.0) (1.16.0)\n",
            "Requirement already satisfied: MarkupSafe>=2.0 in /usr/local/lib/python3.10/dist-packages (from jinja2->torch>=1.12.1->fairseq2==0.1.0->seamless-communication==1.0.0) (2.1.3)\n",
            "Requirement already satisfied: mpmath>=0.19 in /usr/local/lib/python3.10/dist-packages (from sympy->torch>=1.12.1->fairseq2==0.1.0->seamless-communication==1.0.0) (1.3.0)\n",
            "Building wheels for collected packages: seamless-communication\n",
            "  Building wheel for seamless-communication (setup.py) ... \u001b[?25l\u001b[?25hdone\n",
            "  Created wheel for seamless-communication: filename=seamless_communication-1.0.0-py3-none-any.whl size=65999 sha256=9917aae2c61b8e3d053ed98e9b3a4cd43a3e8995ca79702721489c895a9bd594\n",
            "  Stored in directory: /tmp/pip-ephem-wheel-cache-f0kf0dbe/wheels/0d/03/a0/2b6d1d60347a4c85e46a41076b242484b426247d73d1cf27a2\n",
            "Successfully built seamless-communication\n",
            "Installing collected packages: tbb, distlib, xxhash, virtualenv, torcheval, rapidfuzz, portalocker, overrides, nodeenv, identify, dill, colorama, cfgv, sacrebleu, pre-commit, multiprocess, jiwer, huggingface-hub, datasets, fairseq2n, fairseq2, seamless-communication\n",
            "  Attempting uninstall: tbb\n",
            "    Found existing installation: tbb 2021.10.0\n",
            "    Uninstalling tbb-2021.10.0:\n",
            "      Successfully uninstalled tbb-2021.10.0\n",
            "Successfully installed cfgv-3.4.0 colorama-0.4.6 datasets-2.14.4 dill-0.3.7 distlib-0.3.7 fairseq2-0.1.0 fairseq2n-0.1.0 huggingface-hub-0.16.4 identify-2.5.27 jiwer-3.0.2 multiprocess-0.70.15 nodeenv-1.8.0 overrides-7.4.0 portalocker-2.7.0 pre-commit-3.3.3 rapidfuzz-2.13.7 sacrebleu-2.3.1 seamless-communication-1.0.0 tbb-2021.8.0 torcheval-0.0.7 virtualenv-20.24.3 xxhash-3.3.0\n"
          ]
        }
      ]
    },
    {
      "cell_type": "code",
      "source": [
        "!pip show seamless_communication"
      ],
      "metadata": {
        "colab": {
          "base_uri": "https://localhost:8080/"
        },
        "id": "yz6XohjCBOD5",
        "outputId": "5b673407-bab1-4efd-e438-5998141198f6"
      },
      "execution_count": 6,
      "outputs": [
        {
          "output_type": "stream",
          "name": "stdout",
          "text": [
            "Name: seamless-communication\n",
            "Version: 1.0.0\n",
            "Summary: SeamlessM4T -- Massively Multilingual & Multimodal Machine Translation Model\n",
            "Home-page: https://github.com/facebookresearch/seamless_communication\n",
            "Author: Fundamental AI Research (FAIR) at Meta\n",
            "Author-email: \n",
            "License: Creative Commons\n",
            "Location: /usr/local/lib/python3.10/dist-packages\n",
            "Requires: datasets, fairseq2, librosa, pre-commit, soundfile, torchaudio\n",
            "Required-by: \n"
          ]
        }
      ]
    },
    {
      "cell_type": "markdown",
      "source": [
        "Let's import and test these python packages"
      ],
      "metadata": {
        "id": "oWfo5dkBBVTJ"
      }
    },
    {
      "cell_type": "code",
      "execution_count": 7,
      "metadata": {
        "colab": {
          "base_uri": "https://localhost:8080/"
        },
        "id": "1OJ20L15nC0d",
        "outputId": "67eae1ba-458f-470b-c55d-55f6718d9693"
      },
      "outputs": [
        {
          "output_type": "execute_result",
          "data": {
            "text/plain": [
              "['T_destination',\n",
              " '__annotations__',\n",
              " '__call__',\n",
              " '__class__',\n",
              " '__delattr__',\n",
              " '__dict__',\n",
              " '__dir__',\n",
              " '__doc__',\n",
              " '__eq__',\n",
              " '__format__',\n",
              " '__ge__',\n",
              " '__getattr__',\n",
              " '__getattribute__',\n",
              " '__gt__',\n",
              " '__hash__',\n",
              " '__init__',\n",
              " '__init_subclass__',\n",
              " '__le__',\n",
              " '__lt__',\n",
              " '__module__',\n",
              " '__ne__',\n",
              " '__new__',\n",
              " '__reduce__',\n",
              " '__reduce_ex__',\n",
              " '__repr__',\n",
              " '__setattr__',\n",
              " '__setstate__',\n",
              " '__sizeof__',\n",
              " '__str__',\n",
              " '__subclasshook__',\n",
              " '__weakref__',\n",
              " '_apply',\n",
              " '_call_impl',\n",
              " '_get_backward_hooks',\n",
              " '_get_backward_pre_hooks',\n",
              " '_get_name',\n",
              " '_load_from_state_dict',\n",
              " '_maybe_warn_non_full_backward_hook',\n",
              " '_named_members',\n",
              " '_register_load_state_dict_pre_hook',\n",
              " '_register_state_dict_hook',\n",
              " '_replicate_for_data_parallel',\n",
              " '_save_to_state_dict',\n",
              " '_slow_forward',\n",
              " '_version',\n",
              " 'add_module',\n",
              " 'apply',\n",
              " 'bfloat16',\n",
              " 'buffers',\n",
              " 'call_super_init',\n",
              " 'children',\n",
              " 'cpu',\n",
              " 'cuda',\n",
              " 'double',\n",
              " 'dump_patches',\n",
              " 'eval',\n",
              " 'extra_repr',\n",
              " 'float',\n",
              " 'forward',\n",
              " 'get_buffer',\n",
              " 'get_extra_state',\n",
              " 'get_modalities_from_task',\n",
              " 'get_parameter',\n",
              " 'get_prediction',\n",
              " 'get_submodule',\n",
              " 'half',\n",
              " 'ipu',\n",
              " 'load_model_for_inference',\n",
              " 'load_state_dict',\n",
              " 'modules',\n",
              " 'named_buffers',\n",
              " 'named_children',\n",
              " 'named_modules',\n",
              " 'named_parameters',\n",
              " 'parameters',\n",
              " 'predict',\n",
              " 'register_backward_hook',\n",
              " 'register_buffer',\n",
              " 'register_forward_hook',\n",
              " 'register_forward_pre_hook',\n",
              " 'register_full_backward_hook',\n",
              " 'register_full_backward_pre_hook',\n",
              " 'register_load_state_dict_post_hook',\n",
              " 'register_module',\n",
              " 'register_parameter',\n",
              " 'register_state_dict_pre_hook',\n",
              " 'requires_grad_',\n",
              " 'set_extra_state',\n",
              " 'share_memory',\n",
              " 'state_dict',\n",
              " 'to',\n",
              " 'to_empty',\n",
              " 'train',\n",
              " 'type',\n",
              " 'xpu',\n",
              " 'zero_grad']"
            ]
          },
          "metadata": {},
          "execution_count": 7
        }
      ],
      "source": [
        "import torch\n",
        "import seamless_communication\n",
        "from seamless_communication.models.inference import Translator\n",
        "dir(Translator)"
      ]
    },
    {
      "cell_type": "markdown",
      "source": [],
      "metadata": {
        "id": "eQwH3x3gBfAA"
      }
    },
    {
      "cell_type": "code",
      "source": [
        "device = torch.device(\"cuda:0\" if torch.cuda.is_available() else \"cpu\")\n"
      ],
      "metadata": {
        "id": "FPPa8JuuoW_c"
      },
      "execution_count": 8,
      "outputs": []
    },
    {
      "cell_type": "markdown",
      "source": [],
      "metadata": {
        "id": "Kq4T9Y5nqH_h"
      }
    },
    {
      "cell_type": "code",
      "source": [
        "translator = Translator(\n",
        "    model_name_or_card=\"seamlessM4T_large\",\n",
        "    vocoder_name_or_card=\"vocoder_36langs\",\n",
        "    device=device,\n",
        "    dtype=torch.float32\n",
        ")"
      ],
      "metadata": {
        "colab": {
          "base_uri": "https://localhost:8080/"
        },
        "id": "OrGxqmiZqIU-",
        "outputId": "22521550-dd4c-48f2-9e65-b3b08855291c"
      },
      "execution_count": 9,
      "outputs": [
        {
          "output_type": "stream",
          "name": "stderr",
          "text": [
            "Downloading the checkpoint of the model 'seamlessM4T_large'...\n",
            "100%|██████████| 10.7G/10.7G [00:52<00:00, 216MB/s]\n",
            "Downloading the tokenizer of the model 'seamlessM4T_large'...\n",
            "100%|██████████| 4.93M/4.93M [00:00<00:00, 116MB/s]\n",
            "Downloading the checkpoint of the model 'vocoder_36langs'...\n",
            "100%|██████████| 160M/160M [00:00<00:00, 308MB/s]\n"
          ]
        }
      ]
    },
    {
      "cell_type": "code",
      "source": [
        "!pip install pytube"
      ],
      "metadata": {
        "colab": {
          "base_uri": "https://localhost:8080/"
        },
        "id": "FfNGoo6vBQ5c",
        "outputId": "b3da3687-3dda-4adc-b148-a2b57c1c7597"
      },
      "execution_count": 10,
      "outputs": [
        {
          "output_type": "stream",
          "name": "stdout",
          "text": [
            "Collecting pytube\n",
            "  Downloading pytube-15.0.0-py3-none-any.whl (57 kB)\n",
            "\u001b[?25l     \u001b[90m━━━━━━━━━━━━━━━━━━━━━━━━━━━━━━━━━━━━━━━━\u001b[0m \u001b[32m0.0/57.6 kB\u001b[0m \u001b[31m?\u001b[0m eta \u001b[36m-:--:--\u001b[0m\r\u001b[2K     \u001b[91m━━━━━━━━━━━━━━━━━━━━\u001b[0m\u001b[91m╸\u001b[0m\u001b[90m━━━━━━━━━━━━━━━━━━\u001b[0m \u001b[32m30.7/57.6 kB\u001b[0m \u001b[31m658.8 kB/s\u001b[0m eta \u001b[36m0:00:01\u001b[0m\r\u001b[2K     \u001b[90m━━━━━━━━━━━━━━━━━━━━━━━━━━━━━━━━━━━━━━━\u001b[0m \u001b[32m57.6/57.6 kB\u001b[0m \u001b[31m984.9 kB/s\u001b[0m eta \u001b[36m0:00:00\u001b[0m\n",
            "\u001b[?25hInstalling collected packages: pytube\n",
            "Successfully installed pytube-15.0.0\n"
          ]
        }
      ]
    },
    {
      "cell_type": "code",
      "source": [
        "import os\n",
        "from pytube import YouTube\n",
        "\n",
        "link=[\n",
        "  \"https://www.youtube.com/watch?v=rgxzE3iA0wg\",\n",
        "]\n",
        "\n",
        "for i in link:\n",
        "  s = YouTube(i)\n",
        "  filename=s.streams.filter(only_audio=True).first().download()\n",
        "  print(filename)"
      ],
      "metadata": {
        "colab": {
          "base_uri": "https://localhost:8080/"
        },
        "id": "ItLflTVtBglZ",
        "outputId": "e94062a6-5524-4d32-f416-61dc7ca10824"
      },
      "execution_count": 11,
      "outputs": [
        {
          "output_type": "stream",
          "name": "stdout",
          "text": [
            "/content/seamless_communication/Un nou muzeu se deschide în București.mp4\n"
          ]
        }
      ]
    },
    {
      "cell_type": "markdown",
      "source": [
        "These linux commands are used to convert into wav file and delete mp4 files.\n",
        "\n",
        "Can be done in python , but time resource is limited"
      ],
      "metadata": {
        "id": "yu0dbMOHKDHa"
      }
    },
    {
      "cell_type": "code",
      "source": [
        "!rm *.wav\n",
        "!ffmpeg -i *.mp4 test.wav\n",
        "!rm *.mp4\n",
        "!ls -l *.wav"
      ],
      "metadata": {
        "colab": {
          "base_uri": "https://localhost:8080/"
        },
        "id": "fYyoPdPqHhRt",
        "outputId": "20e0cc1d-e271-4c34-c0d5-61d13f6e8687"
      },
      "execution_count": 12,
      "outputs": [
        {
          "output_type": "stream",
          "name": "stdout",
          "text": [
            "rm: cannot remove '*.wav': No such file or directory\n",
            "ffmpeg version 4.4.2-0ubuntu0.22.04.1 Copyright (c) 2000-2021 the FFmpeg developers\n",
            "  built with gcc 11 (Ubuntu 11.2.0-19ubuntu1)\n",
            "  configuration: --prefix=/usr --extra-version=0ubuntu0.22.04.1 --toolchain=hardened --libdir=/usr/lib/x86_64-linux-gnu --incdir=/usr/include/x86_64-linux-gnu --arch=amd64 --enable-gpl --disable-stripping --enable-gnutls --enable-ladspa --enable-libaom --enable-libass --enable-libbluray --enable-libbs2b --enable-libcaca --enable-libcdio --enable-libcodec2 --enable-libdav1d --enable-libflite --enable-libfontconfig --enable-libfreetype --enable-libfribidi --enable-libgme --enable-libgsm --enable-libjack --enable-libmp3lame --enable-libmysofa --enable-libopenjpeg --enable-libopenmpt --enable-libopus --enable-libpulse --enable-librabbitmq --enable-librubberband --enable-libshine --enable-libsnappy --enable-libsoxr --enable-libspeex --enable-libsrt --enable-libssh --enable-libtheora --enable-libtwolame --enable-libvidstab --enable-libvorbis --enable-libvpx --enable-libwebp --enable-libx265 --enable-libxml2 --enable-libxvid --enable-libzimg --enable-libzmq --enable-libzvbi --enable-lv2 --enable-omx --enable-openal --enable-opencl --enable-opengl --enable-sdl2 --enable-pocketsphinx --enable-librsvg --enable-libmfx --enable-libdc1394 --enable-libdrm --enable-libiec61883 --enable-chromaprint --enable-frei0r --enable-libx264 --enable-shared\n",
            "  libavutil      56. 70.100 / 56. 70.100\n",
            "  libavcodec     58.134.100 / 58.134.100\n",
            "  libavformat    58. 76.100 / 58. 76.100\n",
            "  libavdevice    58. 13.100 / 58. 13.100\n",
            "  libavfilter     7.110.100 /  7.110.100\n",
            "  libswscale      5.  9.100 /  5.  9.100\n",
            "  libswresample   3.  9.100 /  3.  9.100\n",
            "  libpostproc    55.  9.100 / 55.  9.100\n",
            "Input #0, mov,mp4,m4a,3gp,3g2,mj2, from 'Un nou muzeu se deschide în București.mp4':\n",
            "  Metadata:\n",
            "    major_brand     : dash\n",
            "    minor_version   : 0\n",
            "    compatible_brands: iso6mp41\n",
            "    creation_time   : 2023-08-24T20:31:42.000000Z\n",
            "  Duration: 00:01:23.36, start: 0.000000, bitrate: 48 kb/s\n",
            "  Stream #0:0(eng): Audio: aac (HE-AAC) (mp4a / 0x6134706D), 44100 Hz, stereo, fltp, 5 kb/s (default)\n",
            "    Metadata:\n",
            "      creation_time   : 2023-08-24T20:31:42.000000Z\n",
            "      handler_name    : ISO Media file produced by Google Inc.\n",
            "      vendor_id       : [0][0][0][0]\n",
            "Stream mapping:\n",
            "  Stream #0:0 -> #0:0 (aac (native) -> pcm_s16le (native))\n",
            "Press [q] to stop, [?] for help\n",
            "Output #0, wav, to 'test.wav':\n",
            "  Metadata:\n",
            "    major_brand     : dash\n",
            "    minor_version   : 0\n",
            "    compatible_brands: iso6mp41\n",
            "    ISFT            : Lavf58.76.100\n",
            "  Stream #0:0(eng): Audio: pcm_s16le ([1][0][0][0] / 0x0001), 44100 Hz, stereo, s16, 1411 kb/s (default)\n",
            "    Metadata:\n",
            "      creation_time   : 2023-08-24T20:31:42.000000Z\n",
            "      handler_name    : ISO Media file produced by Google Inc.\n",
            "      vendor_id       : [0][0][0][0]\n",
            "      encoder         : Lavc58.134.100 pcm_s16le\n",
            "size=   14360kB time=00:01:23.31 bitrate=1412.0kbits/s speed= 523x    \n",
            "video:0kB audio:14360kB subtitle:0kB other streams:0kB global headers:0kB muxing overhead: 0.000530%\n",
            "-rw-r--r-- 1 root root 14704718 Aug 25 03:37 test.wav\n"
          ]
        }
      ]
    },
    {
      "cell_type": "code",
      "source": [
        "!pip install gradio"
      ],
      "metadata": {
        "colab": {
          "base_uri": "https://localhost:8080/"
        },
        "id": "k4MZkZ8Tz2iK",
        "outputId": "2a4c584e-97c1-4e2b-b0eb-55f6008f928a"
      },
      "execution_count": 46,
      "outputs": [
        {
          "output_type": "stream",
          "name": "stdout",
          "text": [
            "Collecting gradio\n",
            "  Downloading gradio-3.41.1-py3-none-any.whl (20.1 MB)\n",
            "\u001b[2K     \u001b[90m━━━━━━━━━━━━━━━━━━━━━━━━━━━━━━━━━━━━━━━━\u001b[0m \u001b[32m20.1/20.1 MB\u001b[0m \u001b[31m59.1 MB/s\u001b[0m eta \u001b[36m0:00:00\u001b[0m\n",
            "\u001b[?25hCollecting aiofiles<24.0,>=22.0 (from gradio)\n",
            "  Downloading aiofiles-23.2.1-py3-none-any.whl (15 kB)\n",
            "Requirement already satisfied: altair<6.0,>=4.2.0 in /usr/local/lib/python3.10/dist-packages (from gradio) (4.2.2)\n",
            "Collecting fastapi (from gradio)\n",
            "  Downloading fastapi-0.101.1-py3-none-any.whl (65 kB)\n",
            "\u001b[2K     \u001b[90m━━━━━━━━━━━━━━━━━━━━━━━━━━━━━━━━━━━━━━━━\u001b[0m \u001b[32m65.8/65.8 kB\u001b[0m \u001b[31m11.4 MB/s\u001b[0m eta \u001b[36m0:00:00\u001b[0m\n",
            "\u001b[?25hCollecting ffmpy (from gradio)\n",
            "  Downloading ffmpy-0.3.1.tar.gz (5.5 kB)\n",
            "  Preparing metadata (setup.py) ... \u001b[?25l\u001b[?25hdone\n",
            "Collecting gradio-client==0.5.0 (from gradio)\n",
            "  Downloading gradio_client-0.5.0-py3-none-any.whl (298 kB)\n",
            "\u001b[2K     \u001b[90m━━━━━━━━━━━━━━━━━━━━━━━━━━━━━━━━━━━━━━\u001b[0m \u001b[32m298.2/298.2 kB\u001b[0m \u001b[31m41.4 MB/s\u001b[0m eta \u001b[36m0:00:00\u001b[0m\n",
            "\u001b[?25hCollecting httpx (from gradio)\n",
            "  Downloading httpx-0.24.1-py3-none-any.whl (75 kB)\n",
            "\u001b[2K     \u001b[90m━━━━━━━━━━━━━━━━━━━━━━━━━━━━━━━━━━━━━━━━\u001b[0m \u001b[32m75.4/75.4 kB\u001b[0m \u001b[31m14.1 MB/s\u001b[0m eta \u001b[36m0:00:00\u001b[0m\n",
            "\u001b[?25hRequirement already satisfied: huggingface-hub>=0.14.0 in /usr/local/lib/python3.10/dist-packages (from gradio) (0.16.4)\n",
            "Requirement already satisfied: importlib-resources<7.0,>=1.3 in /usr/local/lib/python3.10/dist-packages (from gradio) (6.0.1)\n",
            "Requirement already satisfied: jinja2<4.0 in /usr/local/lib/python3.10/dist-packages (from gradio) (3.1.2)\n",
            "Requirement already satisfied: markupsafe~=2.0 in /usr/local/lib/python3.10/dist-packages (from gradio) (2.1.3)\n",
            "Requirement already satisfied: matplotlib~=3.0 in /usr/local/lib/python3.10/dist-packages (from gradio) (3.7.1)\n",
            "Requirement already satisfied: numpy~=1.0 in /usr/local/lib/python3.10/dist-packages (from gradio) (1.23.5)\n",
            "Collecting orjson~=3.0 (from gradio)\n",
            "  Downloading orjson-3.9.5-cp310-cp310-manylinux_2_17_x86_64.manylinux2014_x86_64.whl (139 kB)\n",
            "\u001b[2K     \u001b[90m━━━━━━━━━━━━━━━━━━━━━━━━━━━━━━━━━━━━━━\u001b[0m \u001b[32m139.9/139.9 kB\u001b[0m \u001b[31m23.8 MB/s\u001b[0m eta \u001b[36m0:00:00\u001b[0m\n",
            "\u001b[?25hRequirement already satisfied: packaging in /usr/local/lib/python3.10/dist-packages (from gradio) (23.1)\n",
            "Requirement already satisfied: pandas<3.0,>=1.0 in /usr/local/lib/python3.10/dist-packages (from gradio) (1.5.3)\n",
            "Requirement already satisfied: pillow<11.0,>=8.0 in /usr/local/lib/python3.10/dist-packages (from gradio) (9.4.0)\n",
            "Requirement already satisfied: pydantic!=1.8,!=1.8.1,!=2.0.0,!=2.0.1,<3.0.0,>=1.7.4 in /usr/local/lib/python3.10/dist-packages (from gradio) (2.2.0)\n",
            "Collecting pydub (from gradio)\n",
            "  Downloading pydub-0.25.1-py2.py3-none-any.whl (32 kB)\n",
            "Collecting python-multipart (from gradio)\n",
            "  Downloading python_multipart-0.0.6-py3-none-any.whl (45 kB)\n",
            "\u001b[2K     \u001b[90m━━━━━━━━━━━━━━━━━━━━━━━━━━━━━━━━━━━━━━━━\u001b[0m \u001b[32m45.7/45.7 kB\u001b[0m \u001b[31m7.6 MB/s\u001b[0m eta \u001b[36m0:00:00\u001b[0m\n",
            "\u001b[?25hRequirement already satisfied: pyyaml<7.0,>=5.0 in /usr/local/lib/python3.10/dist-packages (from gradio) (6.0.1)\n",
            "Requirement already satisfied: requests~=2.0 in /usr/local/lib/python3.10/dist-packages (from gradio) (2.31.0)\n",
            "Collecting semantic-version~=2.0 (from gradio)\n",
            "  Downloading semantic_version-2.10.0-py2.py3-none-any.whl (15 kB)\n",
            "Requirement already satisfied: typing-extensions~=4.0 in /usr/local/lib/python3.10/dist-packages (from gradio) (4.7.1)\n",
            "Collecting uvicorn>=0.14.0 (from gradio)\n",
            "  Downloading uvicorn-0.23.2-py3-none-any.whl (59 kB)\n",
            "\u001b[2K     \u001b[90m━━━━━━━━━━━━━━━━━━━━━━━━━━━━━━━━━━━━━━━━\u001b[0m \u001b[32m59.5/59.5 kB\u001b[0m \u001b[31m9.8 MB/s\u001b[0m eta \u001b[36m0:00:00\u001b[0m\n",
            "\u001b[?25hCollecting websockets<12.0,>=10.0 (from gradio)\n",
            "  Downloading websockets-11.0.3-cp310-cp310-manylinux_2_5_x86_64.manylinux1_x86_64.manylinux_2_17_x86_64.manylinux2014_x86_64.whl (129 kB)\n",
            "\u001b[2K     \u001b[90m━━━━━━━━━━━━━━━━━━━━━━━━━━━━━━━━━━━━━━\u001b[0m \u001b[32m129.9/129.9 kB\u001b[0m \u001b[31m23.1 MB/s\u001b[0m eta \u001b[36m0:00:00\u001b[0m\n",
            "\u001b[?25hRequirement already satisfied: fsspec in /usr/local/lib/python3.10/dist-packages (from gradio-client==0.5.0->gradio) (2023.6.0)\n",
            "Requirement already satisfied: entrypoints in /usr/local/lib/python3.10/dist-packages (from altair<6.0,>=4.2.0->gradio) (0.4)\n",
            "Requirement already satisfied: jsonschema>=3.0 in /usr/local/lib/python3.10/dist-packages (from altair<6.0,>=4.2.0->gradio) (4.19.0)\n",
            "Requirement already satisfied: toolz in /usr/local/lib/python3.10/dist-packages (from altair<6.0,>=4.2.0->gradio) (0.12.0)\n",
            "Requirement already satisfied: filelock in /usr/local/lib/python3.10/dist-packages (from huggingface-hub>=0.14.0->gradio) (3.12.2)\n",
            "Requirement already satisfied: tqdm>=4.42.1 in /usr/local/lib/python3.10/dist-packages (from huggingface-hub>=0.14.0->gradio) (4.66.1)\n",
            "Requirement already satisfied: contourpy>=1.0.1 in /usr/local/lib/python3.10/dist-packages (from matplotlib~=3.0->gradio) (1.1.0)\n",
            "Requirement already satisfied: cycler>=0.10 in /usr/local/lib/python3.10/dist-packages (from matplotlib~=3.0->gradio) (0.11.0)\n",
            "Requirement already satisfied: fonttools>=4.22.0 in /usr/local/lib/python3.10/dist-packages (from matplotlib~=3.0->gradio) (4.42.0)\n",
            "Requirement already satisfied: kiwisolver>=1.0.1 in /usr/local/lib/python3.10/dist-packages (from matplotlib~=3.0->gradio) (1.4.4)\n",
            "Requirement already satisfied: pyparsing>=2.3.1 in /usr/local/lib/python3.10/dist-packages (from matplotlib~=3.0->gradio) (3.1.1)\n",
            "Requirement already satisfied: python-dateutil>=2.7 in /usr/local/lib/python3.10/dist-packages (from matplotlib~=3.0->gradio) (2.8.2)\n",
            "Requirement already satisfied: pytz>=2020.1 in /usr/local/lib/python3.10/dist-packages (from pandas<3.0,>=1.0->gradio) (2023.3)\n",
            "Requirement already satisfied: annotated-types>=0.4.0 in /usr/local/lib/python3.10/dist-packages (from pydantic!=1.8,!=1.8.1,!=2.0.0,!=2.0.1,<3.0.0,>=1.7.4->gradio) (0.5.0)\n",
            "Requirement already satisfied: pydantic-core==2.6.0 in /usr/local/lib/python3.10/dist-packages (from pydantic!=1.8,!=1.8.1,!=2.0.0,!=2.0.1,<3.0.0,>=1.7.4->gradio) (2.6.0)\n",
            "Requirement already satisfied: charset-normalizer<4,>=2 in /usr/local/lib/python3.10/dist-packages (from requests~=2.0->gradio) (3.2.0)\n",
            "Requirement already satisfied: idna<4,>=2.5 in /usr/local/lib/python3.10/dist-packages (from requests~=2.0->gradio) (3.4)\n",
            "Requirement already satisfied: urllib3<3,>=1.21.1 in /usr/local/lib/python3.10/dist-packages (from requests~=2.0->gradio) (2.0.4)\n",
            "Requirement already satisfied: certifi>=2017.4.17 in /usr/local/lib/python3.10/dist-packages (from requests~=2.0->gradio) (2023.7.22)\n",
            "Requirement already satisfied: click>=7.0 in /usr/local/lib/python3.10/dist-packages (from uvicorn>=0.14.0->gradio) (8.1.7)\n",
            "Collecting h11>=0.8 (from uvicorn>=0.14.0->gradio)\n",
            "  Downloading h11-0.14.0-py3-none-any.whl (58 kB)\n",
            "\u001b[2K     \u001b[90m━━━━━━━━━━━━━━━━━━━━━━━━━━━━━━━━━━━━━━━━\u001b[0m \u001b[32m58.3/58.3 kB\u001b[0m \u001b[31m9.2 MB/s\u001b[0m eta \u001b[36m0:00:00\u001b[0m\n",
            "\u001b[?25hCollecting starlette<0.28.0,>=0.27.0 (from fastapi->gradio)\n",
            "  Downloading starlette-0.27.0-py3-none-any.whl (66 kB)\n",
            "\u001b[2K     \u001b[90m━━━━━━━━━━━━━━━━━━━━━━━━━━━━━━━━━━━━━━━━\u001b[0m \u001b[32m67.0/67.0 kB\u001b[0m \u001b[31m12.3 MB/s\u001b[0m eta \u001b[36m0:00:00\u001b[0m\n",
            "\u001b[?25hCollecting httpcore<0.18.0,>=0.15.0 (from httpx->gradio)\n",
            "  Downloading httpcore-0.17.3-py3-none-any.whl (74 kB)\n",
            "\u001b[2K     \u001b[90m━━━━━━━━━━━━━━━━━━━━━━━━━━━━━━━━━━━━━━━━\u001b[0m \u001b[32m74.5/74.5 kB\u001b[0m \u001b[31m15.0 MB/s\u001b[0m eta \u001b[36m0:00:00\u001b[0m\n",
            "\u001b[?25hRequirement already satisfied: sniffio in /usr/local/lib/python3.10/dist-packages (from httpx->gradio) (1.3.0)\n",
            "Requirement already satisfied: anyio<5.0,>=3.0 in /usr/local/lib/python3.10/dist-packages (from httpcore<0.18.0,>=0.15.0->httpx->gradio) (3.7.1)\n",
            "Requirement already satisfied: attrs>=22.2.0 in /usr/local/lib/python3.10/dist-packages (from jsonschema>=3.0->altair<6.0,>=4.2.0->gradio) (23.1.0)\n",
            "Requirement already satisfied: jsonschema-specifications>=2023.03.6 in /usr/local/lib/python3.10/dist-packages (from jsonschema>=3.0->altair<6.0,>=4.2.0->gradio) (2023.7.1)\n",
            "Requirement already satisfied: referencing>=0.28.4 in /usr/local/lib/python3.10/dist-packages (from jsonschema>=3.0->altair<6.0,>=4.2.0->gradio) (0.30.2)\n",
            "Requirement already satisfied: rpds-py>=0.7.1 in /usr/local/lib/python3.10/dist-packages (from jsonschema>=3.0->altair<6.0,>=4.2.0->gradio) (0.9.2)\n",
            "Requirement already satisfied: six>=1.5 in /usr/local/lib/python3.10/dist-packages (from python-dateutil>=2.7->matplotlib~=3.0->gradio) (1.16.0)\n",
            "Requirement already satisfied: exceptiongroup in /usr/local/lib/python3.10/dist-packages (from anyio<5.0,>=3.0->httpcore<0.18.0,>=0.15.0->httpx->gradio) (1.1.3)\n",
            "Building wheels for collected packages: ffmpy\n",
            "  Building wheel for ffmpy (setup.py) ... \u001b[?25l\u001b[?25hdone\n",
            "  Created wheel for ffmpy: filename=ffmpy-0.3.1-py3-none-any.whl size=5579 sha256=75721edf6d90babea3eebd98199598d914dedbfdc8028b5a1531629bdc7a5102\n",
            "  Stored in directory: /root/.cache/pip/wheels/01/a6/d1/1c0828c304a4283b2c1639a09ad86f83d7c487ef34c6b4a1bf\n",
            "Successfully built ffmpy\n",
            "Installing collected packages: pydub, ffmpy, websockets, semantic-version, python-multipart, orjson, h11, aiofiles, uvicorn, starlette, httpcore, httpx, fastapi, gradio-client, gradio\n",
            "Successfully installed aiofiles-23.2.1 fastapi-0.101.1 ffmpy-0.3.1 gradio-3.41.1 gradio-client-0.5.0 h11-0.14.0 httpcore-0.17.3 httpx-0.24.1 orjson-3.9.5 pydub-0.25.1 python-multipart-0.0.6 semantic-version-2.10.0 starlette-0.27.0 uvicorn-0.23.2 websockets-11.0.3\n"
          ]
        }
      ]
    },
    {
      "cell_type": "code",
      "source": [
        "import numpy as np\n",
        "import torchaudio\n",
        "import gradio as gr\n",
        "language_code_to_name = {\n",
        "    \"afr\": \"Afrikaans\",\n",
        "    \"amh\": \"Amharic\",\n",
        "    \"arb\": \"Modern Standard Arabic\",\n",
        "    \"ary\": \"Moroccan Arabic\",\n",
        "    \"arz\": \"Egyptian Arabic\",\n",
        "    \"asm\": \"Assamese\",\n",
        "    \"ast\": \"Asturian\",\n",
        "    \"azj\": \"North Azerbaijani\",\n",
        "    \"bel\": \"Belarusian\",\n",
        "    \"ben\": \"Bengali\",\n",
        "    \"bos\": \"Bosnian\",\n",
        "    \"bul\": \"Bulgarian\",\n",
        "    \"cat\": \"Catalan\",\n",
        "    \"ceb\": \"Cebuano\",\n",
        "    \"ces\": \"Czech\",\n",
        "    \"ckb\": \"Central Kurdish\",\n",
        "    \"cmn\": \"Mandarin Chinese\",\n",
        "    \"cym\": \"Welsh\",\n",
        "    \"dan\": \"Danish\",\n",
        "    \"deu\": \"German\",\n",
        "    \"ell\": \"Greek\",\n",
        "    \"eng\": \"English\",\n",
        "    \"est\": \"Estonian\",\n",
        "    \"eus\": \"Basque\",\n",
        "    \"fin\": \"Finnish\",\n",
        "    \"fra\": \"French\",\n",
        "    \"gaz\": \"West Central Oromo\",\n",
        "    \"gle\": \"Irish\",\n",
        "    \"glg\": \"Galician\",\n",
        "    \"guj\": \"Gujarati\",\n",
        "    \"heb\": \"Hebrew\",\n",
        "    \"hin\": \"Hindi\",\n",
        "    \"hrv\": \"Croatian\",\n",
        "    \"hun\": \"Hungarian\",\n",
        "    \"hye\": \"Armenian\",\n",
        "    \"ibo\": \"Igbo\",\n",
        "    \"ind\": \"Indonesian\",\n",
        "    \"isl\": \"Icelandic\",\n",
        "    \"ita\": \"Italian\",\n",
        "    \"jav\": \"Javanese\",\n",
        "    \"jpn\": \"Japanese\",\n",
        "    \"kam\": \"Kamba\",\n",
        "    \"kan\": \"Kannada\",\n",
        "    \"kat\": \"Georgian\",\n",
        "    \"kaz\": \"Kazakh\",\n",
        "    \"kea\": \"Kabuverdianu\",\n",
        "    \"khk\": \"Halh Mongolian\",\n",
        "    \"khm\": \"Khmer\",\n",
        "    \"kir\": \"Kyrgyz\",\n",
        "    \"kor\": \"Korean\",\n",
        "    \"lao\": \"Lao\",\n",
        "    \"lit\": \"Lithuanian\",\n",
        "    \"ltz\": \"Luxembourgish\",\n",
        "    \"lug\": \"Ganda\",\n",
        "    \"luo\": \"Luo\",\n",
        "    \"lvs\": \"Standard Latvian\",\n",
        "    \"mai\": \"Maithili\",\n",
        "    \"mal\": \"Malayalam\",\n",
        "    \"mar\": \"Marathi\",\n",
        "    \"mkd\": \"Macedonian\",\n",
        "    \"mlt\": \"Maltese\",\n",
        "    \"mni\": \"Meitei\",\n",
        "    \"mya\": \"Burmese\",\n",
        "    \"nld\": \"Dutch\",\n",
        "    \"nno\": \"Norwegian Nynorsk\",\n",
        "    \"nob\": \"Norwegian Bokm\\u00e5l\",\n",
        "    \"npi\": \"Nepali\",\n",
        "    \"nya\": \"Nyanja\",\n",
        "    \"oci\": \"Occitan\",\n",
        "    \"ory\": \"Odia\",\n",
        "    \"pan\": \"Punjabi\",\n",
        "    \"pbt\": \"Southern Pashto\",\n",
        "    \"pes\": \"Western Persian\",\n",
        "    \"pol\": \"Polish\",\n",
        "    \"por\": \"Portuguese\",\n",
        "    \"ron\": \"Romanian\",\n",
        "    \"rus\": \"Russian\",\n",
        "    \"slk\": \"Slovak\",\n",
        "    \"slv\": \"Slovenian\",\n",
        "    \"sna\": \"Shona\",\n",
        "    \"snd\": \"Sindhi\",\n",
        "    \"som\": \"Somali\",\n",
        "    \"spa\": \"Spanish\",\n",
        "    \"srp\": \"Serbian\",\n",
        "    \"swe\": \"Swedish\",\n",
        "    \"swh\": \"Swahili\",\n",
        "    \"tam\": \"Tamil\",\n",
        "    \"tel\": \"Telugu\",\n",
        "    \"tgk\": \"Tajik\",\n",
        "    \"tgl\": \"Tagalog\",\n",
        "    \"tha\": \"Thai\",\n",
        "    \"tur\": \"Turkish\",\n",
        "    \"ukr\": \"Ukrainian\",\n",
        "    \"urd\": \"Urdu\",\n",
        "    \"uzn\": \"Northern Uzbek\",\n",
        "    \"vie\": \"Vietnamese\",\n",
        "    \"xho\": \"Xhosa\",\n",
        "    \"yor\": \"Yoruba\",\n",
        "    \"yue\": \"Cantonese\",\n",
        "    \"zlm\": \"Colloquial Malay\",\n",
        "    \"zsm\": \"Standard Malay\",\n",
        "    \"zul\": \"Zulu\",\n",
        "}\n",
        "AUDIO_SAMPLE_RATE = 44100.0 # this need to be set according withthe wav file\n",
        "MAX_INPUT_AUDIO_LENGTH = 60  # in seconds\n",
        "DEFAULT_TARGET_LANGUAGE = \"French\"\n",
        "LANGUAGE_NAME_TO_CODE = {v: k for k, v in language_code_to_name.items()}\n",
        "def predict(\n",
        "    task_name: str,\n",
        "    audio_source: str,\n",
        "    input_audio_mic: str | None,\n",
        "    input_audio_file: str | None,\n",
        "    input_text: str | None,\n",
        "    source_language: str | None,\n",
        "    target_language: str,\n",
        ") -> tuple[tuple[int, np.ndarray] | None, str]:\n",
        "    task_name = task_name.split()[0]\n",
        "    source_language_code = LANGUAGE_NAME_TO_CODE[source_language] if source_language else None\n",
        "    target_language_code = LANGUAGE_NAME_TO_CODE[target_language]\n",
        "\n",
        "    if task_name in [\"S2ST\", \"S2TT\", \"ASR\"]:\n",
        "        if audio_source == \"microphone\":\n",
        "            input_data = input_audio_mic\n",
        "        else:\n",
        "            input_data = input_audio_file\n",
        "\n",
        "        arr, org_sr = torchaudio.load(input_data)\n",
        "        new_arr = torchaudio.functional.resample(arr, orig_freq=org_sr, new_freq=AUDIO_SAMPLE_RATE)\n",
        "        max_length = int(MAX_INPUT_AUDIO_LENGTH * AUDIO_SAMPLE_RATE)\n",
        "        if new_arr.shape[1] > max_length:\n",
        "            new_arr = new_arr[:, :max_length]\n",
        "            gr.Warning(f\"Input audio is too long. Only the first {MAX_INPUT_AUDIO_LENGTH} seconds is used.\")\n",
        "        torchaudio.save(input_data, new_arr, sample_rate=int(AUDIO_SAMPLE_RATE))\n",
        "    else:\n",
        "        input_data = input_text\n",
        "    text_out, wav, sr = translator.predict(\n",
        "        input=input_data,\n",
        "        task_str=task_name,\n",
        "        tgt_lang=target_language_code,\n",
        "        src_lang=source_language_code,\n",
        "        ngram_filtering=True,\n",
        "    )\n",
        "    if task_name in [\"S2ST\", \"T2ST\"]:\n",
        "        return (sr, wav.cpu().detach().numpy()), text_out\n",
        "    else:\n",
        "        return None, text_out"
      ],
      "metadata": {
        "id": "PV6m1Sj8x7-3"
      },
      "execution_count": 50,
      "outputs": []
    },
    {
      "cell_type": "code",
      "source": [
        "# Load the input text you want to translate\n",
        "input_data = \"How do you do?\"  # Your input text here\n",
        "max_sequence_length = 4096\n",
        "\n",
        "def process_s2st_example(input_audio_file: str, target_language: str) -> tuple[tuple[int, np.ndarray] | None, str]:\n",
        "    return predict(\n",
        "        task_name=\"S2ST\",\n",
        "        audio_source=\"file\",\n",
        "        input_audio_mic=None,\n",
        "        input_audio_file=input_audio_file,\n",
        "        input_text=None,\n",
        "        source_language=None,\n",
        "        target_language=target_language,\n",
        "    )"
      ],
      "metadata": {
        "id": "o-k-3pm_6sIq"
      },
      "execution_count": 51,
      "outputs": []
    },
    {
      "cell_type": "code",
      "source": [
        "process_s2st_example('test.wav','French')"
      ],
      "metadata": {
        "colab": {
          "base_uri": "https://localhost:8080/"
        },
        "id": "BQ0v-XMnyLEd",
        "outputId": "ef711060-54c7-4e5f-c5ff-93b29854f835"
      },
      "execution_count": 52,
      "outputs": [
        {
          "output_type": "execute_result",
          "data": {
            "text/plain": [
              "((16000,\n",
              "  array([[[-0.00118677, -0.00056464, -0.00014988, ..., -0.00241391,\n",
              "           -0.0025774 , -0.00227602]]], dtype=float32)),\n",
              " CString('Les expositions immersives, le premier espace de ce genre en Roumanie et le plus grand centre d'art de l'Europe du Sud-Est, s'ouvrent demain dans la ville de Bucarest, et un nouvel espace dédié aux enfants sera ouvert le 1er septembre.'))"
            ]
          },
          "metadata": {},
          "execution_count": 52
        }
      ]
    }
  ]
}