{
  "nbformat": 4,
  "nbformat_minor": 0,
  "metadata": {
    "colab": {
      "name": "catafest_030.ipynb",
      "provenance": [],
      "collapsed_sections": [],
      "authorship_tag": "ABX9TyPqzY+UKVdp0Lk11Dzn0oxQ",
      "include_colab_link": true
    },
    "kernelspec": {
      "name": "python3",
      "display_name": "Python 3"
    },
    "language_info": {
      "name": "python"
    }
  },
  "cells": [
    {
      "cell_type": "markdown",
      "metadata": {
        "id": "view-in-github",
        "colab_type": "text"
      },
      "source": [
        "<a href=\"https://colab.research.google.com/github/catafest/colab_google/blob/master/catafest_030.ipynb\" target=\"_parent\"><img src=\"https://colab.research.google.com/assets/colab-badge.svg\" alt=\"Open In Colab\"/></a>"
      ]
    },
    {
      "cell_type": "markdown",
      "source": [
        "This is a simple demo with *chinese language* and vosk python module.\n",
        "\n",
        "The video is \"China's Foreign Minister criticizes Canadian reporter for her question\"\n",
        "\n",
        "I don't test it all inputs from interface , but should be work."
      ],
      "metadata": {
        "id": "fKHJcwNL3NFv"
      }
    },
    {
      "cell_type": "code",
      "source": [
        "#@title Video + Playlist Downloder - Simple Mode { vertical-output: true }\n",
        "url = \"https://www.youtube.com/watch?v=qikBsQ1h4S8\" #@param {type:\"string\"}\n",
        "\n",
        "#@markdown Select language\n",
        "\n",
        "language = \"vosk-model-cn-0.22\"  #@param ['vosk-model-en-in-0.5', 'vosk-model-cn-0.22', 'vosk-model-ru-0.22']\n",
        "\n",
        "#@markdown Select time to start \n",
        "ss = \"00:38:00.00\" #@param {type:\"string\"}\n",
        "#@markdown Select duration \n",
        "t = \"02:59:00.00\" #@param {type:\"string\"}\n",
        "\n"
      ],
      "metadata": {
        "id": "mQTXKqHMziGE"
      },
      "execution_count": 128,
      "outputs": []
    },
    {
      "cell_type": "code",
      "source": [
        "!rm * -r -f\n",
        "!ls"
      ],
      "metadata": {
        "id": "cA4gHTiu171R"
      },
      "execution_count": 129,
      "outputs": []
    },
    {
      "cell_type": "code",
      "source": [
        "try: import vosk\n",
        "except:\n",
        "    !pip install vosk"
      ],
      "metadata": {
        "id": "lcGLKrnFzer0"
      },
      "execution_count": 130,
      "outputs": []
    },
    {
      "cell_type": "code",
      "source": [
        "import requests\n",
        "url = 'https://alphacephei.com/vosk/models/'+language+'.zip'\n",
        "r = requests.get(url, allow_redirects=True)\n",
        "fileZip = language+'.zip'\n",
        "open(fileZip, 'wb').write(r.content)"
      ],
      "metadata": {
        "colab": {
          "base_uri": "https://localhost:8080/"
        },
        "id": "07Cozjd24U1Z",
        "outputId": "fe194f6a-b184-4e0e-dceb-6c0450c8a5e2"
      },
      "execution_count": 131,
      "outputs": [
        {
          "output_type": "execute_result",
          "data": {
            "text/plain": [
              "1358736686"
            ]
          },
          "metadata": {},
          "execution_count": 131
        }
      ]
    },
    {
      "cell_type": "code",
      "source": [
        "import shutil\n",
        "shutil.unpack_archive(language+'.zip')"
      ],
      "metadata": {
        "id": "1OHi-TsW_TSM"
      },
      "execution_count": 132,
      "outputs": []
    },
    {
      "cell_type": "code",
      "source": [
        "!ls -l "
      ],
      "metadata": {
        "colab": {
          "base_uri": "https://localhost:8080/"
        },
        "id": "5BeXrnkS2SoI",
        "outputId": "08197d69-bfc8-4edf-f13f-4f820969ae3c"
      },
      "execution_count": 133,
      "outputs": [
        {
          "output_type": "stream",
          "name": "stdout",
          "text": [
            "total 1326900\n",
            "drwxr-xr-x 8 root root       4096 Jul 16 21:52 vosk-model-cn-0.22\n",
            "-rw-r--r-- 1 root root 1358736686 Jul 16 21:51 vosk-model-cn-0.22.zip\n"
          ]
        }
      ]
    },
    {
      "cell_type": "code",
      "source": [
        "try: import youtube_dl\n",
        "except:\n",
        "    !pip install youtube-dl"
      ],
      "metadata": {
        "id": "KgJ78TL5vCmz"
      },
      "execution_count": 134,
      "outputs": []
    },
    {
      "cell_type": "code",
      "source": [
        "import youtube_dl\n",
        "youtube_dl_options = {\n",
        "    'outtmpl':'sample.wav',\n",
        "    'format': 'bestaudio/best',\n",
        "    'postprocessors': [{\n",
        "        'key': 'FFmpegExtractAudio',\n",
        "        'preferredcodec': 'wav',\n",
        "        'preferredquality': '192',\n",
        "    }],\n",
        "    '--postprocessor-args': [{\n",
        "        '-ss': ss,\n",
        "        '-t': t\n",
        "    }],\n",
        "}\n",
        "with youtube_dl.YoutubeDL(youtube_dl_options) as ydl:\n",
        "    ydl.download(['https://www.youtube.com/watch?v=qikBsQ1h4S8'])"
      ],
      "metadata": {
        "colab": {
          "base_uri": "https://localhost:8080/"
        },
        "id": "Hh_nTHtBvgL5",
        "outputId": "9d65534d-86dd-4874-b880-b338a6ad7e60"
      },
      "execution_count": 135,
      "outputs": [
        {
          "output_type": "stream",
          "name": "stdout",
          "text": [
            "[youtube] qikBsQ1h4S8: Downloading webpage\n",
            "[download] Destination: sample.wav\n",
            "[download] 100% of 2.76MiB in 00:51\n",
            "[ffmpeg] Correcting container in \"sample.wav\"\n",
            "[ffmpeg] Post-process file sample.wav exists, skipping\n"
          ]
        }
      ]
    },
    {
      "cell_type": "code",
      "source": [
        "!ls -l"
      ],
      "metadata": {
        "colab": {
          "base_uri": "https://localhost:8080/"
        },
        "id": "QC52T84gwhlv",
        "outputId": "7b35b325-63c7-4843-dc75-9a6e856a3d9c"
      },
      "execution_count": 136,
      "outputs": [
        {
          "output_type": "stream",
          "name": "stdout",
          "text": [
            "total 1329732\n",
            "-rw-r--r-- 1 root root    2896834 Dec 16  2018 sample.wav\n",
            "drwxr-xr-x 8 root root       4096 Jul 16 21:52 vosk-model-cn-0.22\n",
            "-rw-r--r-- 1 root root 1358736686 Jul 16 21:51 vosk-model-cn-0.22.zip\n"
          ]
        }
      ]
    },
    {
      "cell_type": "code",
      "source": [
        "!ffmpeg -i sample.wav -acodec pcm_s16le -ac 1 -ar 16000 converted_sample.wav"
      ],
      "metadata": {
        "colab": {
          "base_uri": "https://localhost:8080/"
        },
        "id": "JJA5jqg87Ptk",
        "outputId": "1607ec28-e6ac-4753-b6ea-0b09dd61fab3"
      },
      "execution_count": 137,
      "outputs": [
        {
          "output_type": "stream",
          "name": "stdout",
          "text": [
            "ffmpeg version 3.4.11-0ubuntu0.1 Copyright (c) 2000-2022 the FFmpeg developers\n",
            "  built with gcc 7 (Ubuntu 7.5.0-3ubuntu1~18.04)\n",
            "  configuration: --prefix=/usr --extra-version=0ubuntu0.1 --toolchain=hardened --libdir=/usr/lib/x86_64-linux-gnu --incdir=/usr/include/x86_64-linux-gnu --enable-gpl --disable-stripping --enable-avresample --enable-avisynth --enable-gnutls --enable-ladspa --enable-libass --enable-libbluray --enable-libbs2b --enable-libcaca --enable-libcdio --enable-libflite --enable-libfontconfig --enable-libfreetype --enable-libfribidi --enable-libgme --enable-libgsm --enable-libmp3lame --enable-libmysofa --enable-libopenjpeg --enable-libopenmpt --enable-libopus --enable-libpulse --enable-librubberband --enable-librsvg --enable-libshine --enable-libsnappy --enable-libsoxr --enable-libspeex --enable-libssh --enable-libtheora --enable-libtwolame --enable-libvorbis --enable-libvpx --enable-libwavpack --enable-libwebp --enable-libx265 --enable-libxml2 --enable-libxvid --enable-libzmq --enable-libzvbi --enable-omx --enable-openal --enable-opengl --enable-sdl2 --enable-libdc1394 --enable-libdrm --enable-libiec61883 --enable-chromaprint --enable-frei0r --enable-libopencv --enable-libx264 --enable-shared\n",
            "  libavutil      55. 78.100 / 55. 78.100\n",
            "  libavcodec     57.107.100 / 57.107.100\n",
            "  libavformat    57. 83.100 / 57. 83.100\n",
            "  libavdevice    57. 10.100 / 57. 10.100\n",
            "  libavfilter     6.107.100 /  6.107.100\n",
            "  libavresample   3.  7.  0 /  3.  7.  0\n",
            "  libswscale      4.  8.100 /  4.  8.100\n",
            "  libswresample   2.  9.100 /  2.  9.100\n",
            "  libpostproc    54.  7.100 / 54.  7.100\n",
            "Input #0, mov,mp4,m4a,3gp,3g2,mj2, from 'sample.wav':\n",
            "  Metadata:\n",
            "    major_brand     : isom\n",
            "    minor_version   : 512\n",
            "    compatible_brands: isomiso2mp41\n",
            "    encoder         : Lavf57.83.100\n",
            "  Duration: 00:02:59.07, start: 0.000000, bitrate: 129 kb/s\n",
            "    Stream #0:0(und): Audio: aac (LC) (mp4a / 0x6134706D), 44100 Hz, stereo, fltp, 127 kb/s (default)\n",
            "    Metadata:\n",
            "      handler_name    : SoundHandler\n",
            "Stream mapping:\n",
            "  Stream #0:0 -> #0:0 (aac (native) -> pcm_s16le (native))\n",
            "Press [q] to stop, [?] for help\n",
            "Output #0, wav, to 'converted_sample.wav':\n",
            "  Metadata:\n",
            "    major_brand     : isom\n",
            "    minor_version   : 512\n",
            "    compatible_brands: isomiso2mp41\n",
            "    ISFT            : Lavf57.83.100\n",
            "    Stream #0:0(und): Audio: pcm_s16le ([1][0][0][0] / 0x0001), 16000 Hz, mono, s16, 256 kb/s (default)\n",
            "    Metadata:\n",
            "      handler_name    : SoundHandler\n",
            "      encoder         : Lavc57.107.100 pcm_s16le\n",
            "size=    5596kB time=00:02:59.07 bitrate= 256.0kbits/s speed= 558x    \n",
            "video:0kB audio:5596kB subtitle:0kB other streams:0kB global headers:0kB muxing overhead: 0.001361%\n"
          ]
        }
      ]
    },
    {
      "cell_type": "code",
      "source": [
        "!ls"
      ],
      "metadata": {
        "colab": {
          "base_uri": "https://localhost:8080/"
        },
        "id": "LANJVh5L7UYj",
        "outputId": "be369910-1b30-4bfd-f19f-22df2b4173e7"
      },
      "execution_count": 138,
      "outputs": [
        {
          "output_type": "stream",
          "name": "stdout",
          "text": [
            "converted_sample.wav  sample.wav  vosk-model-cn-0.22  vosk-model-cn-0.22.zip\n"
          ]
        }
      ]
    },
    {
      "cell_type": "code",
      "source": [
        "!cd vosk-model-cn-0.22"
      ],
      "metadata": {
        "id": "AFCX_ql--QZX"
      },
      "execution_count": 139,
      "outputs": []
    },
    {
      "cell_type": "code",
      "source": [
        "!ls -l"
      ],
      "metadata": {
        "colab": {
          "base_uri": "https://localhost:8080/"
        },
        "id": "a7Tniw6b-S7d",
        "outputId": "21dad84b-959f-46f2-d559-e94deca7d219"
      },
      "execution_count": 140,
      "outputs": [
        {
          "output_type": "stream",
          "name": "stdout",
          "text": [
            "total 1335332\n",
            "-rw-r--r-- 1 root root    5730392 Jul 16 21:53 converted_sample.wav\n",
            "-rw-r--r-- 1 root root    2896834 Dec 16  2018 sample.wav\n",
            "drwxr-xr-x 8 root root       4096 Jul 16 21:52 vosk-model-cn-0.22\n",
            "-rw-r--r-- 1 root root 1358736686 Jul 16 21:51 vosk-model-cn-0.22.zip\n"
          ]
        }
      ]
    },
    {
      "cell_type": "code",
      "source": [
        "!cd vosk-model-cn-0.22 && ls"
      ],
      "metadata": {
        "colab": {
          "base_uri": "https://localhost:8080/"
        },
        "id": "IdGoZ7ph-Xe_",
        "outputId": "ceff5315-09ee-4338-ea46-5d586ba19fdd"
      },
      "execution_count": 141,
      "outputs": [
        {
          "output_type": "stream",
          "name": "stdout",
          "text": [
            "am  conf  graph  ivector  README  rescore  rnnlm\n"
          ]
        }
      ]
    },
    {
      "cell_type": "code",
      "source": [
        "import wave\n",
        "\n",
        "from vosk import KaldiRecognizer, Model, SetLogLevel\n",
        "\n",
        "wf = wave.open(\"converted_sample.wav\", \"rb\")\n",
        "rec = KaldiRecognizer(\n",
        "    Model(language),\n",
        "    wf.getframerate()\n",
        ")\n",
        "rec.SetMaxAlternatives(10)\n",
        "while True:\n",
        "    data = wf.readframes(4000)\n",
        "    if len(data) == 0:\n",
        "        break\n",
        "    if rec.AcceptWaveform(data):\n",
        "       rec.FinalResult()\n",
        "rec.FinalResult()"
      ],
      "metadata": {
        "colab": {
          "base_uri": "https://localhost:8080/",
          "height": 122
        },
        "id": "7Q87eMgRwe6Y",
        "outputId": "b8838277-5905-4c41-d639-a541bc54c1dd"
      },
      "execution_count": 142,
      "outputs": [
        {
          "output_type": "execute_result",
          "data": {
            "text/plain": [
              "'{\\n  \"alternatives\" : [{\\n      \"confidence\" : 169.510605,\\n      \"text\" : \"我 按 郭润起 那 句 嘴 婶子\"\\n    }, {\\n      \"confidence\" : 169.319809,\\n      \"text\" : \"我 按 郭润起 那 句 嘴 神似\"\\n    }, {\\n      \"confidence\" : 169.209259,\\n      \"text\" : \"我 按 郭润起 那 句 嘴 生死\"\\n    }, {\\n      \"confidence\" : 169.055847,\\n      \"text\" : \"我 按 郭润起 那 句 最 生死\"\\n    }, {\\n      \"confidence\" : 168.639252,\\n      \"text\" : \"我 按 郭润起 啊 巨嘴 婶子\"\\n    }, {\\n      \"confidence\" : 168.630676,\\n      \"text\" : \"我 按 郭润起 那 句 最 神似\"\\n    }, {\\n      \"confidence\" : 168.564178,\\n      \"text\" : \"我 按 郭润起 那 句 最 深思\"\\n    }, {\\n      \"confidence\" : 168.557190,\\n      \"text\" : \"我 按 郭润起 那 句 最 神奇\"\\n    }, {\\n      \"confidence\" : 168.453094,\\n      \"text\" : \"我 按 郭润起 那 句 最 婶子\"\\n    }, {\\n      \"confidence\" : 168.419846,\\n      \"text\" : \"我 按 郭润起 啊 就 这 婶子\"\\n    }]\\n}'"
            ],
            "application/vnd.google.colaboratory.intrinsic+json": {
              "type": "string"
            }
          },
          "metadata": {},
          "execution_count": 142
        }
      ]
    }
  ]
}