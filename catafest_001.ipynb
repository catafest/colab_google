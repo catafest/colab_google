{
  "nbformat": 4,
  "nbformat_minor": 0,
  "metadata": {
    "colab": {
      "name": "catafest_001.ipynb",
      "provenance": [],
      "collapsed_sections": [],
      "authorship_tag": "ABX9TyMzMH/qI8rzLLPAAe/BPcEV",
      "include_colab_link": true
    },
    "kernelspec": {
      "name": "python3",
      "display_name": "Python 3"
    }
  },
  "cells": [
    {
      "cell_type": "markdown",
      "metadata": {
        "id": "view-in-github",
        "colab_type": "text"
      },
      "source": [
        "<a href=\"https://colab.research.google.com/github/catafest/colab_google/blob/master/catafest_001.ipynb\" target=\"_parent\"><img src=\"https://colab.research.google.com/assets/colab-badge.svg\" alt=\"Open In Colab\"/></a>"
      ]
    },
    {
      "cell_type": "markdown",
      "metadata": {
        "id": "3Cfv0cuY9Akg",
        "colab_type": "text"
      },
      "source": [
        "Today's tutorial is about the opportunity to use the online python tensorflow module without depending on your hardware resources."
      ]
    },
    {
      "cell_type": "markdown",
      "metadata": {
        "id": "4BrjvD2u-bl3",
        "colab_type": "text"
      },
      "source": [
        "This tool named Colaboratory, or “Colab” for short, is a product from Google Research.\n"
      ]
    },
    {
      "cell_type": "markdown",
      "metadata": {
        "id": "-Ya64kZ8-djV",
        "colab_type": "text"
      },
      "source": [
        "You can used free or buy with $9.99/month\n"
      ]
    },
    {
      "cell_type": "markdown",
      "metadata": {
        "id": "F7nsYZ-d-fKA",
        "colab_type": "text"
      },
      "source": [
        "Let's test a simple example:"
      ]
    },
    {
      "cell_type": "code",
      "metadata": {
        "id": "wFBCtBkQ8xpU",
        "colab_type": "code",
        "colab": {
          "base_uri": "https://localhost:8080/",
          "height": 34
        },
        "outputId": "4db8b1f3-6437-4b3b-acca-9c0474160fa0"
      },
      "source": [
        "import os\n",
        "import time\n",
        "try:\n",
        "  # %tensorflow_version only exists in Colab.\n",
        "  %tensorflow_version 2.x\n",
        "except Exception:\n",
        "  pass\n",
        "import tensorflow as tf\n"
      ],
      "execution_count": 1,
      "outputs": [
        {
          "output_type": "stream",
          "text": [
            "TensorFlow 2.x selected.\n"
          ],
          "name": "stdout"
        }
      ]
    },
    {
      "cell_type": "markdown",
      "metadata": {
        "id": "xQCsNlc58_KW",
        "colab_type": "text"
      },
      "source": [
        "Let's see the content of the tensorflow python package:"
      ]
    },
    {
      "cell_type": "code",
      "metadata": {
        "id": "JYyYRe-2-s5Y",
        "colab_type": "code",
        "colab": {
          "base_uri": "https://localhost:8080/",
          "height": 1000
        },
        "outputId": "490504f5-4510-4c8f-d753-a804606aa71a"
      },
      "source": [
        "dir(tf)"
      ],
      "execution_count": 3,
      "outputs": [
        {
          "output_type": "execute_result",
          "data": {
            "text/plain": [
              "['AggregationMethod',\n",
              " 'Assert',\n",
              " 'CriticalSection',\n",
              " 'DType',\n",
              " 'DeviceSpec',\n",
              " 'GradientTape',\n",
              " 'Graph',\n",
              " 'IndexedSlices',\n",
              " 'IndexedSlicesSpec',\n",
              " 'Module',\n",
              " 'Operation',\n",
              " 'OptionalSpec',\n",
              " 'RaggedTensor',\n",
              " 'RaggedTensorSpec',\n",
              " 'RegisterGradient',\n",
              " 'SparseTensor',\n",
              " 'SparseTensorSpec',\n",
              " 'Tensor',\n",
              " 'TensorArray',\n",
              " 'TensorArraySpec',\n",
              " 'TensorShape',\n",
              " 'TensorSpec',\n",
              " 'TypeSpec',\n",
              " 'UnconnectedGradients',\n",
              " 'Variable',\n",
              " 'VariableAggregation',\n",
              " 'VariableSynchronization',\n",
              " '_LazyLoader',\n",
              " '__builtins__',\n",
              " '__cached__',\n",
              " '__compiler_version__',\n",
              " '__cxx11_abi_flag__',\n",
              " '__doc__',\n",
              " '__file__',\n",
              " '__git_version__',\n",
              " '__loader__',\n",
              " '__monolithic_build__',\n",
              " '__name__',\n",
              " '__package__',\n",
              " '__path__',\n",
              " '__spec__',\n",
              " '__version__',\n",
              " '_absolute_import',\n",
              " '_api',\n",
              " '_division',\n",
              " '_forward_module',\n",
              " '_importlib',\n",
              " '_m',\n",
              " '_print_function',\n",
              " '_root_estimator',\n",
              " '_sys',\n",
              " '_top_level_modules',\n",
              " '_types',\n",
              " 'abs',\n",
              " 'acos',\n",
              " 'acosh',\n",
              " 'add',\n",
              " 'add_n',\n",
              " 'argmax',\n",
              " 'argmin',\n",
              " 'argsort',\n",
              " 'as_dtype',\n",
              " 'as_string',\n",
              " 'asin',\n",
              " 'asinh',\n",
              " 'assert_equal',\n",
              " 'assert_greater',\n",
              " 'assert_less',\n",
              " 'assert_rank',\n",
              " 'atan',\n",
              " 'atan2',\n",
              " 'atanh',\n",
              " 'audio',\n",
              " 'autodiff',\n",
              " 'autograph',\n",
              " 'batch_to_space',\n",
              " 'bfloat16',\n",
              " 'bitcast',\n",
              " 'bitwise',\n",
              " 'bool',\n",
              " 'boolean_mask',\n",
              " 'broadcast_dynamic_shape',\n",
              " 'broadcast_static_shape',\n",
              " 'broadcast_to',\n",
              " 'case',\n",
              " 'cast',\n",
              " 'clip_by_global_norm',\n",
              " 'clip_by_norm',\n",
              " 'clip_by_value',\n",
              " 'compat',\n",
              " 'complex',\n",
              " 'complex128',\n",
              " 'complex64',\n",
              " 'concat',\n",
              " 'cond',\n",
              " 'config',\n",
              " 'constant',\n",
              " 'constant_initializer',\n",
              " 'control_dependencies',\n",
              " 'convert_to_tensor',\n",
              " 'cos',\n",
              " 'cosh',\n",
              " 'cumsum',\n",
              " 'custom_gradient',\n",
              " 'data',\n",
              " 'debugging',\n",
              " 'device',\n",
              " 'distribute',\n",
              " 'divide',\n",
              " 'double',\n",
              " 'dtypes',\n",
              " 'dynamic_partition',\n",
              " 'dynamic_stitch',\n",
              " 'edit_distance',\n",
              " 'eig',\n",
              " 'eigvals',\n",
              " 'einsum',\n",
              " 'ensure_shape',\n",
              " 'equal',\n",
              " 'errors',\n",
              " 'estimator',\n",
              " 'examples',\n",
              " 'executing_eagerly',\n",
              " 'exp',\n",
              " 'expand_dims',\n",
              " 'experimental',\n",
              " 'extract_volume_patches',\n",
              " 'eye',\n",
              " 'feature_column',\n",
              " 'fill',\n",
              " 'fingerprint',\n",
              " 'float16',\n",
              " 'float32',\n",
              " 'float64',\n",
              " 'floor',\n",
              " 'foldl',\n",
              " 'foldr',\n",
              " 'function',\n",
              " 'gather',\n",
              " 'gather_nd',\n",
              " 'get_logger',\n",
              " 'get_static_value',\n",
              " 'grad_pass_through',\n",
              " 'gradients',\n",
              " 'graph_util',\n",
              " 'greater',\n",
              " 'greater_equal',\n",
              " 'group',\n",
              " 'guarantee_const',\n",
              " 'half',\n",
              " 'hessians',\n",
              " 'histogram_fixed_width',\n",
              " 'histogram_fixed_width_bins',\n",
              " 'identity',\n",
              " 'identity_n',\n",
              " 'image',\n",
              " 'import_graph_def',\n",
              " 'init_scope',\n",
              " 'initializers',\n",
              " 'int16',\n",
              " 'int32',\n",
              " 'int64',\n",
              " 'int8',\n",
              " 'io',\n",
              " 'is_tensor',\n",
              " 'keras',\n",
              " 'less',\n",
              " 'less_equal',\n",
              " 'linalg',\n",
              " 'linspace',\n",
              " 'lite',\n",
              " 'load_library',\n",
              " 'load_op_library',\n",
              " 'logical_and',\n",
              " 'logical_not',\n",
              " 'logical_or',\n",
              " 'lookup',\n",
              " 'losses',\n",
              " 'make_ndarray',\n",
              " 'make_tensor_proto',\n",
              " 'map_fn',\n",
              " 'math',\n",
              " 'matmul',\n",
              " 'matrix_square_root',\n",
              " 'maximum',\n",
              " 'meshgrid',\n",
              " 'metrics',\n",
              " 'minimum',\n",
              " 'mixed_precision',\n",
              " 'mlir',\n",
              " 'multiply',\n",
              " 'name_scope',\n",
              " 'negative',\n",
              " 'nest',\n",
              " 'newaxis',\n",
              " 'nn',\n",
              " 'no_gradient',\n",
              " 'no_op',\n",
              " 'nondifferentiable_batch_function',\n",
              " 'norm',\n",
              " 'not_equal',\n",
              " 'numpy_function',\n",
              " 'one_hot',\n",
              " 'ones',\n",
              " 'ones_initializer',\n",
              " 'ones_like',\n",
              " 'optimizers',\n",
              " 'pad',\n",
              " 'parallel_stack',\n",
              " 'pow',\n",
              " 'print',\n",
              " 'py_function',\n",
              " 'qint16',\n",
              " 'qint32',\n",
              " 'qint8',\n",
              " 'quantization',\n",
              " 'queue',\n",
              " 'quint16',\n",
              " 'quint8',\n",
              " 'ragged',\n",
              " 'random',\n",
              " 'random_normal_initializer',\n",
              " 'random_uniform_initializer',\n",
              " 'range',\n",
              " 'rank',\n",
              " 'raw_ops',\n",
              " 'realdiv',\n",
              " 'recompute_grad',\n",
              " 'reduce_all',\n",
              " 'reduce_any',\n",
              " 'reduce_logsumexp',\n",
              " 'reduce_max',\n",
              " 'reduce_mean',\n",
              " 'reduce_min',\n",
              " 'reduce_prod',\n",
              " 'reduce_sum',\n",
              " 'register_tensor_conversion_function',\n",
              " 'repeat',\n",
              " 'required_space_to_batch_paddings',\n",
              " 'reshape',\n",
              " 'resource',\n",
              " 'reverse',\n",
              " 'reverse_sequence',\n",
              " 'roll',\n",
              " 'round',\n",
              " 'saturate_cast',\n",
              " 'saved_model',\n",
              " 'scalar_mul',\n",
              " 'scan',\n",
              " 'scatter_nd',\n",
              " 'searchsorted',\n",
              " 'sequence_mask',\n",
              " 'sets',\n",
              " 'shape',\n",
              " 'shape_n',\n",
              " 'sigmoid',\n",
              " 'sign',\n",
              " 'signal',\n",
              " 'sin',\n",
              " 'sinh',\n",
              " 'size',\n",
              " 'slice',\n",
              " 'sort',\n",
              " 'space_to_batch',\n",
              " 'space_to_batch_nd',\n",
              " 'sparse',\n",
              " 'split',\n",
              " 'sqrt',\n",
              " 'square',\n",
              " 'squeeze',\n",
              " 'stack',\n",
              " 'stop_gradient',\n",
              " 'strided_slice',\n",
              " 'string',\n",
              " 'strings',\n",
              " 'subtract',\n",
              " 'summary',\n",
              " 'switch_case',\n",
              " 'sysconfig',\n",
              " 'tan',\n",
              " 'tanh',\n",
              " 'tensor_scatter_nd_add',\n",
              " 'tensor_scatter_nd_sub',\n",
              " 'tensor_scatter_nd_update',\n",
              " 'tensordot',\n",
              " 'test',\n",
              " 'tile',\n",
              " 'timestamp',\n",
              " 'tpu',\n",
              " 'train',\n",
              " 'transpose',\n",
              " 'truediv',\n",
              " 'truncatediv',\n",
              " 'truncatemod',\n",
              " 'tuple',\n",
              " 'uint16',\n",
              " 'uint32',\n",
              " 'uint64',\n",
              " 'uint8',\n",
              " 'unique',\n",
              " 'unique_with_counts',\n",
              " 'unravel_index',\n",
              " 'unstack',\n",
              " 'variable_creator_scope',\n",
              " 'variant',\n",
              " 'vectorized_map',\n",
              " 'version',\n",
              " 'where',\n",
              " 'while_loop',\n",
              " 'xla',\n",
              " 'zeros',\n",
              " 'zeros_initializer',\n",
              " 'zeros_like']"
            ]
          },
          "metadata": {
            "tags": []
          },
          "execution_count": 3
        }
      ]
    },
    {
      "cell_type": "markdown",
      "metadata": {
        "id": "glMeopy789Ty",
        "colab_type": "text"
      },
      "source": [
        "Let's see the all versions ..."
      ]
    },
    {
      "cell_type": "code",
      "metadata": {
        "id": "Lg_I-9m0DVTt",
        "colab_type": "code",
        "colab": {
          "base_uri": "https://localhost:8080/",
          "height": 104
        },
        "outputId": "c2cc0a08-75fc-4eb9-e4d9-3ae5f04aeb1b"
      },
      "source": [
        "import sys\n",
        "print(\"Python version\")\n",
        "print (sys.version)\n",
        "print(\"Version info.\")\n",
        "print (sys.version_info)"
      ],
      "execution_count": 4,
      "outputs": [
        {
          "output_type": "stream",
          "text": [
            "Python version\n",
            "3.6.9 (default, Nov  7 2019, 10:44:02) \n",
            "[GCC 8.3.0]\n",
            "Version info.\n",
            "sys.version_info(major=3, minor=6, micro=9, releaselevel='final', serial=0)\n"
          ],
          "name": "stdout"
        }
      ]
    }
  ]
}