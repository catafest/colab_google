{
  "nbformat": 4,
  "nbformat_minor": 0,
  "metadata": {
    "colab": {
      "provenance": [],
      "authorship_tag": "ABX9TyMp28daGyQ4AIOLd1VJ0vTC",
      "include_colab_link": true
    },
    "kernelspec": {
      "name": "python3",
      "display_name": "Python 3"
    },
    "language_info": {
      "name": "python"
    }
  },
  "cells": [
    {
      "cell_type": "markdown",
      "metadata": {
        "id": "view-in-github",
        "colab_type": "text"
      },
      "source": [
        "<a href=\"https://colab.research.google.com/github/catafest/colab_google/blob/master/catafest_070.ipynb\" target=\"_parent\"><img src=\"https://colab.research.google.com/assets/colab-badge.svg\" alt=\"Open In Colab\"/></a>"
      ]
    },
    {
      "cell_type": "markdown",
      "metadata": {
        "id": "55ed954e"
      },
      "source": [
        "# Understanding the `.proto` File Definition\n",
        "\n",
        "The **<span style=\"color:red;\">`.proto` file</span>** definition serves as a blueprint or schema for defining the structure of your data in Protocol Buffers. It plays a crucial role in ensuring data consistency and enabling efficient serialization and deserialization across different programming languages and systems.\n",
        "\n",
        "Here's a breakdown of its key functions:\n",
        "\n",
        "1.  **Defines Message Structure:**\n",
        "    *   It specifies the fields within a message.\n",
        "    *   It defines the data types for each field (e.g., `string`, `int32`, `bool`, `repeated`, nested messages).\n",
        "    *   It assigns a unique number (tag) to each field, which is used for identifying fields in the binary format.\n",
        "\n",
        "2.  **Ensures Data Consistency:**\n",
        "    *   By providing a clear and language-agnostic definition of your data structure, it helps maintain consistency when exchanging data between systems or applications written in different programming languages.\n",
        "\n",
        "3.  **Used for Code Generation:**\n",
        "    *   The `.proto` file is the input for the Protocol Buffer compiler (`protoc`).\n",
        "    *   `protoc` generates code in various programming languages (like Python, Java, C++, Go, etc.) based on the `.proto` definition.\n",
        "    *   The generated code includes classes and functions that make it easy to serialize (convert data into a binary format for storage or transmission) and deserialize (convert the binary data back into language-specific objects) your defined messages.\n",
        "\n",
        "In essence, this file, written in the Protocol Buffers language, helps organize your data efficiently for serialization and deserialization, forming the foundation for structured data exchange using Protocol Buffers."
      ]
    },
    {
      "cell_type": "code",
      "metadata": {
        "colab": {
          "base_uri": "https://localhost:8080/"
        },
        "id": "33a7d8c9",
        "outputId": "e35b8069-c00d-44c0-d2bf-8da7b4e17932"
      },
      "source": [
        "%%writefile simple.proto\n",
        "syntax = \"proto3\";\n",
        "\n",
        "message SimpleMessage {\n",
        "  string name = 1;\n",
        "  int32 id = 2;\n",
        "  bool is_valid = 3;\n",
        "}"
      ],
      "execution_count": 25,
      "outputs": [
        {
          "output_type": "stream",
          "name": "stdout",
          "text": [
            "Overwriting simple.proto\n"
          ]
        }
      ]
    },
    {
      "cell_type": "code",
      "metadata": {
        "id": "fd9ddaf1"
      },
      "source": [
        "# Compile the proto file to generate Python code\n",
        "!protoc --python_out=. simple.proto"
      ],
      "execution_count": 26,
      "outputs": []
    },
    {
      "cell_type": "code",
      "metadata": {
        "colab": {
          "base_uri": "https://localhost:8080/"
        },
        "id": "22a7080a",
        "outputId": "97c4f2c4-319b-4ee3-8ad4-1e5546c13eac"
      },
      "source": [
        "# Import the generated Python code\n",
        "import simple_pb2\n",
        "\n",
        "# Create a SimpleMessage object\n",
        "message = simple_pb2.SimpleMessage()\n",
        "message.name = \"Test Message\"\n",
        "message.id = 123\n",
        "message.is_valid = True\n",
        "\n",
        "# Serialize the message to a byte string\n",
        "serialized_message = message.SerializeToString()\n",
        "print(\"Serialized message:\")\n",
        "print(serialized_message)\n",
        "\n",
        "# Deserialize the message from the byte string\n",
        "new_message = simple_pb2.SimpleMessage()\n",
        "new_message.ParseFromString(serialized_message)\n",
        "\n",
        "# Print the deserialized message\n",
        "print(\"\\nDeserialized message:\")\n",
        "print(f\"Name: {new_message.name}\")\n",
        "print(f\"ID: {new_message.id}\")\n",
        "print(f\"Is Valid: {new_message.is_valid}\")"
      ],
      "execution_count": 27,
      "outputs": [
        {
          "output_type": "stream",
          "name": "stdout",
          "text": [
            "Serialized message:\n",
            "b'\\n\\x0cTest Message\\x10{\\x18\\x01'\n",
            "\n",
            "Deserialized message:\n",
            "Name: Test Message\n",
            "ID: 123\n",
            "Is Valid: True\n"
          ]
        }
      ]
    },
    {
      "cell_type": "code",
      "metadata": {
        "colab": {
          "base_uri": "https://localhost:8080/"
        },
        "id": "790a90d4",
        "outputId": "6306cd68-2db0-4dfe-8cc9-bb404517de58"
      },
      "source": [
        "# Display the content of the generated Python file\n",
        "!cat simple_pb2.py"
      ],
      "execution_count": 28,
      "outputs": [
        {
          "output_type": "stream",
          "name": "stdout",
          "text": [
            "# -*- coding: utf-8 -*-\n",
            "# Generated by the protocol buffer compiler.  DO NOT EDIT!\n",
            "# source: simple.proto\n",
            "\n",
            "from google.protobuf import descriptor as _descriptor\n",
            "from google.protobuf import message as _message\n",
            "from google.protobuf import reflection as _reflection\n",
            "from google.protobuf import symbol_database as _symbol_database\n",
            "# @@protoc_insertion_point(imports)\n",
            "\n",
            "_sym_db = _symbol_database.Default()\n",
            "\n",
            "\n",
            "\n",
            "\n",
            "DESCRIPTOR = _descriptor.FileDescriptor(\n",
            "  name='simple.proto',\n",
            "  package='',\n",
            "  syntax='proto3',\n",
            "  serialized_options=None,\n",
            "  create_key=_descriptor._internal_create_key,\n",
            "  serialized_pb=b'\\n\\x0csimple.proto\\\";\\n\\rSimpleMessage\\x12\\x0c\\n\\x04name\\x18\\x01 \\x01(\\t\\x12\\n\\n\\x02id\\x18\\x02 \\x01(\\x05\\x12\\x10\\n\\x08is_valid\\x18\\x03 \\x01(\\x08\\x62\\x06proto3'\n",
            ")\n",
            "\n",
            "\n",
            "\n",
            "\n",
            "_SIMPLEMESSAGE = _descriptor.Descriptor(\n",
            "  name='SimpleMessage',\n",
            "  full_name='SimpleMessage',\n",
            "  filename=None,\n",
            "  file=DESCRIPTOR,\n",
            "  containing_type=None,\n",
            "  create_key=_descriptor._internal_create_key,\n",
            "  fields=[\n",
            "    _descriptor.FieldDescriptor(\n",
            "      name='name', full_name='SimpleMessage.name', index=0,\n",
            "      number=1, type=9, cpp_type=9, label=1,\n",
            "      has_default_value=False, default_value=b\"\".decode('utf-8'),\n",
            "      message_type=None, enum_type=None, containing_type=None,\n",
            "      is_extension=False, extension_scope=None,\n",
            "      serialized_options=None, file=DESCRIPTOR,  create_key=_descriptor._internal_create_key),\n",
            "    _descriptor.FieldDescriptor(\n",
            "      name='id', full_name='SimpleMessage.id', index=1,\n",
            "      number=2, type=5, cpp_type=1, label=1,\n",
            "      has_default_value=False, default_value=0,\n",
            "      message_type=None, enum_type=None, containing_type=None,\n",
            "      is_extension=False, extension_scope=None,\n",
            "      serialized_options=None, file=DESCRIPTOR,  create_key=_descriptor._internal_create_key),\n",
            "    _descriptor.FieldDescriptor(\n",
            "      name='is_valid', full_name='SimpleMessage.is_valid', index=2,\n",
            "      number=3, type=8, cpp_type=7, label=1,\n",
            "      has_default_value=False, default_value=False,\n",
            "      message_type=None, enum_type=None, containing_type=None,\n",
            "      is_extension=False, extension_scope=None,\n",
            "      serialized_options=None, file=DESCRIPTOR,  create_key=_descriptor._internal_create_key),\n",
            "  ],\n",
            "  extensions=[\n",
            "  ],\n",
            "  nested_types=[],\n",
            "  enum_types=[\n",
            "  ],\n",
            "  serialized_options=None,\n",
            "  is_extendable=False,\n",
            "  syntax='proto3',\n",
            "  extension_ranges=[],\n",
            "  oneofs=[\n",
            "  ],\n",
            "  serialized_start=16,\n",
            "  serialized_end=75,\n",
            ")\n",
            "\n",
            "DESCRIPTOR.message_types_by_name['SimpleMessage'] = _SIMPLEMESSAGE\n",
            "_sym_db.RegisterFileDescriptor(DESCRIPTOR)\n",
            "\n",
            "SimpleMessage = _reflection.GeneratedProtocolMessageType('SimpleMessage', (_message.Message,), {\n",
            "  'DESCRIPTOR' : _SIMPLEMESSAGE,\n",
            "  '__module__' : 'simple_pb2'\n",
            "  # @@protoc_insertion_point(class_scope:SimpleMessage)\n",
            "  })\n",
            "_sym_db.RegisterMessage(SimpleMessage)\n",
            "\n",
            "\n",
            "# @@protoc_insertion_point(module_scope)\n"
          ]
        }
      ]
    },
    {
      "cell_type": "markdown",
      "source": [
        "This not work"
      ],
      "metadata": {
        "id": "en2UvWzeoHxc"
      }
    },
    {
      "cell_type": "code",
      "metadata": {
        "colab": {
          "base_uri": "https://localhost:8080/"
        },
        "id": "7a8aa796",
        "outputId": "8422167d-8291-428c-ef87-8becf7a7922d"
      },
      "source": [
        "# Compile the proto file to generate Python code with a custom name\n",
        "!protoc --python_out=./catafest_001_test.py simple.proto"
      ],
      "execution_count": 29,
      "outputs": [
        {
          "output_type": "stream",
          "name": "stdout",
          "text": [
            "./catafest_001_test.py/: Not a directory\n"
          ]
        }
      ]
    },
    {
      "cell_type": "markdown",
      "metadata": {
        "id": "21550ae5"
      },
      "source": [
        "# Task\n",
        "Generate multiple Python files from \"simple.proto\" using the best practice for organizing the output."
      ]
    },
    {
      "cell_type": "markdown",
      "metadata": {
        "id": "8352ac52"
      },
      "source": [
        "## Create output directory\n",
        "\n",
        "### Subtask:\n",
        "Create a directory where the generated Python files will be stored (e.g., `proto_out`).\n"
      ]
    },
    {
      "cell_type": "markdown",
      "metadata": {
        "id": "cab4c4a6"
      },
      "source": [
        "**Reasoning**:\n",
        "Create a directory to store the generated Python files using the `os` module.\n",
        "\n"
      ]
    },
    {
      "cell_type": "code",
      "metadata": {
        "id": "5aa61496"
      },
      "source": [
        "import os\n",
        "\n",
        "output_dir = \"proto_out\"\n",
        "os.makedirs(output_dir, exist_ok=True)"
      ],
      "execution_count": 33,
      "outputs": []
    },
    {
      "cell_type": "markdown",
      "metadata": {
        "id": "f329d410"
      },
      "source": [
        "## Compile to directory\n",
        "\n",
        "### Subtask:\n",
        "Compile the `simple.proto` file and direct the output to the created directory.\n"
      ]
    },
    {
      "cell_type": "markdown",
      "metadata": {
        "id": "2b27bc62"
      },
      "source": [
        "**Reasoning**:\n",
        "Compile the proto file and output the generated Python code to the `proto_out` directory.\n",
        "\n"
      ]
    },
    {
      "cell_type": "code",
      "metadata": {
        "id": "951e02fa"
      },
      "source": [
        "!protoc --python_out={output_dir} simple.proto"
      ],
      "execution_count": 41,
      "outputs": []
    },
    {
      "cell_type": "code",
      "metadata": {
        "id": "5b26ab63"
      },
      "source": [
        "import os\n",
        "\n",
        "output_dir = \"proto_out\"\n",
        "os.makedirs(output_dir, exist_ok=True)"
      ],
      "execution_count": 42,
      "outputs": []
    },
    {
      "cell_type": "code",
      "metadata": {
        "id": "f7e6b65b"
      },
      "source": [
        "# Compile the proto file and output to the created directory\n",
        "!protoc --python_out={output_dir} simple.proto"
      ],
      "execution_count": 43,
      "outputs": []
    },
    {
      "cell_type": "code",
      "metadata": {
        "colab": {
          "base_uri": "https://localhost:8080/"
        },
        "id": "5e1f8929",
        "outputId": "1924d1a2-c4ed-47a4-af4b-aa2f47ef8637"
      },
      "source": [
        "import sys\n",
        "import os\n",
        "\n",
        "# Add the output directory to the system path\n",
        "output_dir = \"proto_out\"\n",
        "if output_dir not in sys.path:\n",
        "    sys.path.append(output_dir)\n",
        "\n",
        "# Now you can import the generated module\n",
        "import simple_pb2\n",
        "\n",
        "# Use the generated code as before\n",
        "message = simple_pb2.SimpleMessage()\n",
        "message.name = \"Message from proto_out\"\n",
        "message.id = 456\n",
        "message.is_valid = False\n",
        "\n",
        "# Serialize and deserialize (optional, but demonstrates functionality)\n",
        "serialized_message = message.SerializeToString()\n",
        "new_message = simple_pb2.SimpleMessage()\n",
        "new_message.ParseFromString(serialized_message)\n",
        "\n",
        "print(\"Using message from proto_out:\")\n",
        "print(f\"Name: {new_message.name}\")\n",
        "print(f\"ID: {new_message.id}\")\n",
        "print(f\"Is Valid: {new_message.is_valid}\")\n",
        "\n",
        "# Clean up the path (optional, good practice if not permanently needed)\n",
        "# sys.path.remove(output_dir)"
      ],
      "execution_count": 44,
      "outputs": [
        {
          "output_type": "stream",
          "name": "stdout",
          "text": [
            "Using message from proto_out:\n",
            "Name: Message from proto_out\n",
            "ID: 456\n",
            "Is Valid: False\n"
          ]
        }
      ]
    },
    {
      "cell_type": "markdown",
      "source": [
        "You can use a new one more complex example"
      ],
      "metadata": {
        "id": "n0acXphpoJxt"
      }
    },
    {
      "cell_type": "code",
      "metadata": {
        "colab": {
          "base_uri": "https://localhost:8080/"
        },
        "id": "b030489d",
        "outputId": "50025646-c319-4537-f0dc-0c71049a10a8"
      },
      "source": [
        "%%writefile complex_001.proto\n",
        "syntax = \"proto3\";\n",
        "\n",
        "message NestedMessage {\n",
        "  string description = 1;\n",
        "  int32 value = 2;\n",
        "}\n",
        "\n",
        "message ComplexMessage {\n",
        "  string main_name = 1;\n",
        "  repeated int32 id_list = 2;\n",
        "  NestedMessage details = 3;\n",
        "  repeated NestedMessage nested_list = 4;\n",
        "}"
      ],
      "execution_count": 45,
      "outputs": [
        {
          "output_type": "stream",
          "name": "stdout",
          "text": [
            "Writing complex_001.proto\n"
          ]
        }
      ]
    },
    {
      "cell_type": "code",
      "metadata": {
        "id": "5f533075"
      },
      "source": [
        "# Compile the complex proto file and output to the created directory\n",
        "!protoc --python_out={output_dir} complex_001.proto"
      ],
      "execution_count": 47,
      "outputs": []
    },
    {
      "cell_type": "code",
      "metadata": {
        "colab": {
          "base_uri": "https://localhost:8080/"
        },
        "id": "1406b0b3",
        "outputId": "f1057add-8afc-4db6-bf70-c1bb2e501ad5"
      },
      "source": [
        "import sys\n",
        "import os\n",
        "\n",
        "# Ensure the output directory is in the system path\n",
        "output_dir = \"proto_out\"\n",
        "if output_dir not in sys.path:\n",
        "    sys.path.append(output_dir)\n",
        "\n",
        "# Import the generated Python code for complex_001.proto\n",
        "import complex_001_pb2\n",
        "\n",
        "# Create a ComplexMessage object\n",
        "complex_message = complex_001_pb2.ComplexMessage()\n",
        "complex_message.main_name = \"Main Complex Message\"\n",
        "\n",
        "# Add values to the repeated field\n",
        "complex_message.id_list.extend([101, 102, 103])\n",
        "\n",
        "# Create and populate the nested message\n",
        "complex_message.details.description = \"Details for the complex message\"\n",
        "complex_message.details.value = 99\n",
        "\n",
        "# Add multiple nested messages to the repeated nested field\n",
        "nested1 = complex_001_pb2.NestedMessage()\n",
        "nested1.description = \"First nested item\"\n",
        "nested1.value = 1\n",
        "\n",
        "nested2 = complex_001_pb2.NestedMessage()\n",
        "nested2.description = \"Second nested item\"\n",
        "nested2.value = 2\n",
        "\n",
        "complex_message.nested_list.extend([nested1, nested2])\n",
        "\n",
        "# Serialize the message\n",
        "serialized_complex_message = complex_message.SerializeToString()\n",
        "print(\"Serialized complex message:\")\n",
        "print(serialized_complex_message)\n",
        "\n",
        "# Deserialize the message\n",
        "new_complex_message = complex_001_pb2.ComplexMessage()\n",
        "new_complex_message.ParseFromString(serialized_complex_message)\n",
        "\n",
        "# Print the deserialized message\n",
        "print(\"\\nDeserialized complex message:\")\n",
        "print(f\"Main Name: {new_complex_message.main_name}\")\n",
        "print(f\"ID List: {list(new_complex_message.id_list)}\") # Convert repeated field to list for printing\n",
        "print(f\"Details Description: {new_complex_message.details.description}\")\n",
        "print(f\"Details Value: {new_complex_message.details.value}\")\n",
        "print(\"Nested List:\")\n",
        "for item in new_complex_message.nested_list:\n",
        "    print(f\"  Description: {item.description}, Value: {item.value}\")\n",
        "\n",
        "# Clean up the path (optional)\n",
        "# if output_dir in sys.path:\n",
        "#     sys.path.remove(output_dir)"
      ],
      "execution_count": 48,
      "outputs": [
        {
          "output_type": "stream",
          "name": "stdout",
          "text": [
            "Serialized complex message:\n",
            "b'\\n\\x14Main Complex Message\\x12\\x03efg\\x1a#\\n\\x1fDetails for the complex message\\x10c\"\\x15\\n\\x11First nested item\\x10\\x01\"\\x16\\n\\x12Second nested item\\x10\\x02'\n",
            "\n",
            "Deserialized complex message:\n",
            "Main Name: Main Complex Message\n",
            "ID List: [101, 102, 103]\n",
            "Details Description: Details for the complex message\n",
            "Details Value: 99\n",
            "Nested List:\n",
            "  Description: First nested item, Value: 1\n",
            "  Description: Second nested item, Value: 2\n"
          ]
        }
      ]
    },
    {
      "cell_type": "markdown",
      "metadata": {
        "id": "fe745097"
      },
      "source": [
        "# Task\n",
        "Generate a Python script that uses the `simple_pb2` module located in the `proto_out` directory and demonstrate how to execute this script from a shell command within a notebook cell."
      ]
    },
    {
      "cell_type": "markdown",
      "metadata": {
        "id": "ce05a297"
      },
      "source": [
        "## Create a python script\n",
        "\n",
        "### Subtask:\n",
        "Write a Python script that imports and uses the generated `simple_pb2` module from the `proto_out` directory.\n"
      ]
    },
    {
      "cell_type": "markdown",
      "metadata": {
        "id": "b8aefa5b"
      },
      "source": [
        "**Reasoning**:\n",
        "Write a Python script that imports and uses the `simple_pb2` module from the `proto_out` directory, then save it to a file.\n",
        "\n"
      ]
    },
    {
      "cell_type": "code",
      "metadata": {
        "colab": {
          "base_uri": "https://localhost:8080/"
        },
        "id": "34ebe2ef",
        "outputId": "72de9d42-2d10-46ed-ae9b-814b8b19be78"
      },
      "source": [
        "script_content = \"\"\"\n",
        "import sys\n",
        "import os\n",
        "\n",
        "# Add the proto_out directory to the system path to find simple_pb2\n",
        "output_dir = \"proto_out\"\n",
        "if output_dir not in sys.path:\n",
        "    sys.path.append(output_dir)\n",
        "\n",
        "try:\n",
        "    import simple_pb2\n",
        "\n",
        "    # Create a SimpleMessage object\n",
        "    message = simple_pb2.SimpleMessage()\n",
        "    message.name = \"Message from script\"\n",
        "    message.id = 789\n",
        "    message.is_valid = False\n",
        "\n",
        "    # Print the message details\n",
        "    print(\"Using SimpleMessage from script:\")\n",
        "    print(f\"Name: {message.name}\")\n",
        "    print(f\"ID: {message.id}\")\n",
        "    print(f\"Is Valid: {message.is_valid}\")\n",
        "\n",
        "except ImportError as e:\n",
        "    print(f\"Error importing simple_pb2: {e}\")\n",
        "    print(\"Please ensure that simple.proto has been compiled and the 'proto_out' directory exists and is in the system path.\")\n",
        "\n",
        "finally:\n",
        "    # Optional: Clean up the path if not permanently needed\n",
        "    if output_dir in sys.path:\n",
        "        sys.path.remove(output_dir)\n",
        "\"\"\"\n",
        "\n",
        "with open(\"use_simple_proto.py\", \"w\") as f:\n",
        "    f.write(script_content)\n",
        "\n",
        "print(\"Python script 'use_simple_proto.py' created.\")"
      ],
      "execution_count": 50,
      "outputs": [
        {
          "output_type": "stream",
          "name": "stdout",
          "text": [
            "Python script 'use_simple_proto.py' created.\n"
          ]
        }
      ]
    },
    {
      "cell_type": "markdown",
      "metadata": {
        "id": "ce653eb7"
      },
      "source": [
        "## Execute the script in shell\n",
        "\n",
        "### Subtask:\n",
        "Use a shell command (`!python`) in a notebook cell to run the Python script created in the previous step.\n"
      ]
    },
    {
      "cell_type": "markdown",
      "metadata": {
        "id": "ba2375ce"
      },
      "source": [
        "**Reasoning**:\n",
        "Use a shell command to execute the generated Python script.\n",
        "\n"
      ]
    },
    {
      "cell_type": "code",
      "metadata": {
        "colab": {
          "base_uri": "https://localhost:8080/"
        },
        "id": "b04f066d",
        "outputId": "c5658800-afdc-459e-9ac2-cde394dfd2e3"
      },
      "source": [
        "!python use_simple_proto.py"
      ],
      "execution_count": 52,
      "outputs": [
        {
          "output_type": "stream",
          "name": "stdout",
          "text": [
            "Using SimpleMessage from script:\n",
            "Name: Message from script\n",
            "ID: 789\n",
            "Is Valid: False\n"
          ]
        }
      ]
    },
    {
      "cell_type": "markdown",
      "metadata": {
        "id": "04a95980"
      },
      "source": [
        "## Explain the process\n",
        "\n",
        "### Subtask:\n",
        "Briefly explain what was done and how it allows using the generated code from a shell context.\n"
      ]
    },
    {
      "cell_type": "markdown",
      "metadata": {
        "id": "06a93203"
      },
      "source": [
        "**Reasoning**:\n",
        "Explain how the previous steps created a Python script that uses the generated Protocol Buffers code and how it was executed using a shell command within the notebook.\n",
        "\n"
      ]
    },
    {
      "cell_type": "code",
      "metadata": {
        "colab": {
          "base_uri": "https://localhost:8080/",
          "height": 215
        },
        "id": "c4e26f89",
        "outputId": "1209699a-baef-4493-9787-4acac9105f0c"
      },
      "source": [
        "%%markdown\n",
        "This step involved creating a Python script named `use_simple_proto.py`. This script was designed to demonstrate how to import and utilize the `simple_pb2` module, which was generated from the `simple.proto` file and placed in the `proto_out` directory during previous steps.\n",
        "\n",
        "To make the generated module available to the script, the `proto_out` directory was added to Python's system path (`sys.path`) within the script itself.\n",
        "\n",
        "We then executed this script directly from a notebook cell using the `!python use_simple_proto.py` shell command. This command invokes the Python interpreter to run the specified script, and its output is displayed within the notebook, effectively demonstrating how to leverage generated code from a separate script and execute it within the notebook environment using shell commands."
      ],
      "execution_count": 54,
      "outputs": [
        {
          "output_type": "display_data",
          "data": {
            "text/plain": [
              "<IPython.core.display.Markdown object>"
            ],
            "text/markdown": "This step involved creating a Python script named `use_simple_proto.py`. This script was designed to demonstrate how to import and utilize the `simple_pb2` module, which was generated from the `simple.proto` file and placed in the `proto_out` directory during previous steps.\n\nTo make the generated module available to the script, the `proto_out` directory was added to Python's system path (`sys.path`) within the script itself.\n\nWe then executed this script directly from a notebook cell using the `!python use_simple_proto.py` shell command. This command invokes the Python interpreter to run the specified script, and its output is displayed within the notebook, effectively demonstrating how to leverage generated code from a separate script and execute it within the notebook environment using shell commands.\n"
          },
          "metadata": {}
        }
      ]
    },
    {
      "cell_type": "markdown",
      "metadata": {
        "id": "a0a23e92"
      },
      "source": [
        "## Summary:\n",
        "\n",
        "### Data Analysis Key Findings\n",
        "\n",
        "*   A Python script named `use_simple_proto.py` was created to import and use the `simple_pb2` module generated from a Protocol Buffers definition.\n",
        "*   The script adds the `proto_out` directory to `sys.path` to allow Python to locate the generated module.\n",
        "*   The script demonstrates creating an instance of the `SimpleMessage` class from the `simple_pb2` module, setting its fields (`name`, `id`, `is_valid`), and printing these values.\n",
        "*   Error handling for `ImportError` is included in the script to inform the user if the `simple_pb2` module is not found.\n",
        "*   The `use_simple_proto.py` script was successfully executed directly from a notebook cell using the `!python use_simple_proto.py` shell command.\n",
        "*   Executing the script via the shell command in the notebook displayed the script's output, confirming its successful operation and the ability to use generated code from a separate script executed in this manner.\n",
        "\n",
        "### Insights or Next Steps\n",
        "\n",
        "*   This process provides a clear method for integrating generated code (like Protocol Buffers stubs) into workflows within a notebook environment, allowing for testing or utilization of such code without embedding the entire logic directly in the notebook cells.\n",
        "*   Consider including error handling in the notebook cell itself to catch potential issues during the execution of the external script, providing more robust feedback to the user.\n"
      ]
    }
  ]
}